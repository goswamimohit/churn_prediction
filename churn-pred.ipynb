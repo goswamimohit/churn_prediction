{
 "cells": [
  {
   "cell_type": "code",
   "execution_count": 1,
   "id": "a78576ef",
   "metadata": {
    "_cell_guid": "b1076dfc-b9ad-4769-8c92-a6c4dae69d19",
    "_uuid": "8f2839f25d086af736a60e9eeb907d3b93b6e0e5",
    "execution": {
     "iopub.execute_input": "2022-04-08T15:36:12.669540Z",
     "iopub.status.busy": "2022-04-08T15:36:12.668273Z",
     "iopub.status.idle": "2022-04-08T15:36:12.687967Z",
     "shell.execute_reply": "2022-04-08T15:36:12.688961Z",
     "shell.execute_reply.started": "2022-04-08T15:18:33.786517Z"
    },
    "papermill": {
     "duration": 0.077263,
     "end_time": "2022-04-08T15:36:12.689386",
     "exception": false,
     "start_time": "2022-04-08T15:36:12.612123",
     "status": "completed"
    },
    "tags": []
   },
   "outputs": [
    {
     "name": "stdout",
     "output_type": "stream",
     "text": [
      "/kaggle/input/customer-churn/Telco_customer_churn.xlsx - Telco_Churn.csv\n"
     ]
    }
   ],
   "source": [
    "# This Python 3 environment comes with many helpful analytics libraries installed\n",
    "# It is defined by the kaggle/python Docker image: https://github.com/kaggle/docker-python\n",
    "# For example, here's several helpful packages to load\n",
    "\n",
    "import numpy as np # linear algebra\n",
    "import pandas as pd # data processing, CSV file I/O (e.g. pd.read_csv)\n",
    "\n",
    "# Input data files are available in the read-only \"../input/\" directory\n",
    "# For example, running this (by clicking run or pressing Shift+Enter) will list all files under the input directory\n",
    "\n",
    "import os\n",
    "for dirname, _, filenames in os.walk('/kaggle/input'):\n",
    "    for filename in filenames:\n",
    "        print(os.path.join(dirname, filename))\n",
    "\n",
    "# You can write up to 20GB to the current directory (/kaggle/working/) that gets preserved as output when you create a version using \"Save & Run All\" \n",
    "# You can also write temporary files to /kaggle/temp/, but they won't be saved outside of the current session"
   ]
  },
  {
   "cell_type": "code",
   "execution_count": 2,
   "id": "456a2c13",
   "metadata": {
    "execution": {
     "iopub.execute_input": "2022-04-08T15:36:12.799584Z",
     "iopub.status.busy": "2022-04-08T15:36:12.798860Z",
     "iopub.status.idle": "2022-04-08T15:36:13.869692Z",
     "shell.execute_reply": "2022-04-08T15:36:13.870409Z",
     "shell.execute_reply.started": "2022-04-08T15:18:28.798184Z"
    },
    "papermill": {
     "duration": 1.128509,
     "end_time": "2022-04-08T15:36:13.870614",
     "exception": false,
     "start_time": "2022-04-08T15:36:12.742105",
     "status": "completed"
    },
    "tags": []
   },
   "outputs": [],
   "source": [
    "import matplotlib.pyplot as plt\n",
    "import seaborn as sns"
   ]
  },
  {
   "cell_type": "code",
   "execution_count": 3,
   "id": "7d474bd3",
   "metadata": {
    "execution": {
     "iopub.execute_input": "2022-04-08T15:36:13.979380Z",
     "iopub.status.busy": "2022-04-08T15:36:13.978549Z",
     "iopub.status.idle": "2022-04-08T15:36:14.060354Z",
     "shell.execute_reply": "2022-04-08T15:36:14.059783Z",
     "shell.execute_reply.started": "2022-04-08T15:18:37.930155Z"
    },
    "papermill": {
     "duration": 0.138736,
     "end_time": "2022-04-08T15:36:14.060506",
     "exception": false,
     "start_time": "2022-04-08T15:36:13.921770",
     "status": "completed"
    },
    "tags": []
   },
   "outputs": [],
   "source": [
    "filepath='/kaggle/input/customer-churn/Telco_customer_churn.xlsx - Telco_Churn.csv'\n",
    "churn=pd.read_csv(filepath)"
   ]
  },
  {
   "cell_type": "code",
   "execution_count": 4,
   "id": "bda65a65",
   "metadata": {
    "execution": {
     "iopub.execute_input": "2022-04-08T15:36:14.173923Z",
     "iopub.status.busy": "2022-04-08T15:36:14.173200Z",
     "iopub.status.idle": "2022-04-08T15:36:14.181256Z",
     "shell.execute_reply": "2022-04-08T15:36:14.180721Z",
     "shell.execute_reply.started": "2022-04-08T15:18:40.293860Z"
    },
    "papermill": {
     "duration": 0.069384,
     "end_time": "2022-04-08T15:36:14.181425",
     "exception": false,
     "start_time": "2022-04-08T15:36:14.112041",
     "status": "completed"
    },
    "tags": []
   },
   "outputs": [],
   "source": [
    "remove=['Count','Lat Long','Country','State','Churn Reason','Latitude', 'Longitude']   \n",
    "churn.drop(columns=remove,inplace=True)"
   ]
  },
  {
   "cell_type": "code",
   "execution_count": 5,
   "id": "8bc0e436",
   "metadata": {
    "execution": {
     "iopub.execute_input": "2022-04-08T15:36:14.289152Z",
     "iopub.status.busy": "2022-04-08T15:36:14.288488Z",
     "iopub.status.idle": "2022-04-08T15:36:14.291448Z",
     "shell.execute_reply": "2022-04-08T15:36:14.291900Z",
     "shell.execute_reply.started": "2022-04-08T12:07:10.301886Z"
    },
    "papermill": {
     "duration": 0.06026,
     "end_time": "2022-04-08T15:36:14.292126",
     "exception": false,
     "start_time": "2022-04-08T15:36:14.231866",
     "status": "completed"
    },
    "tags": []
   },
   "outputs": [],
   "source": [
    "churn_test=churn.copy(deep=True)"
   ]
  },
  {
   "cell_type": "code",
   "execution_count": 6,
   "id": "15c47cfa",
   "metadata": {
    "execution": {
     "iopub.execute_input": "2022-04-08T15:36:14.397014Z",
     "iopub.status.busy": "2022-04-08T15:36:14.396266Z",
     "iopub.status.idle": "2022-04-08T15:36:14.420001Z",
     "shell.execute_reply": "2022-04-08T15:36:14.420582Z",
     "shell.execute_reply.started": "2022-04-08T12:07:20.685104Z"
    },
    "papermill": {
     "duration": 0.077519,
     "end_time": "2022-04-08T15:36:14.420763",
     "exception": false,
     "start_time": "2022-04-08T15:36:14.343244",
     "status": "completed"
    },
    "tags": []
   },
   "outputs": [
    {
     "data": {
      "text/html": [
       "<div>\n",
       "<style scoped>\n",
       "    .dataframe tbody tr th:only-of-type {\n",
       "        vertical-align: middle;\n",
       "    }\n",
       "\n",
       "    .dataframe tbody tr th {\n",
       "        vertical-align: top;\n",
       "    }\n",
       "\n",
       "    .dataframe thead th {\n",
       "        text-align: right;\n",
       "    }\n",
       "</style>\n",
       "<table border=\"1\" class=\"dataframe\">\n",
       "  <thead>\n",
       "    <tr style=\"text-align: right;\">\n",
       "      <th></th>\n",
       "      <th>0</th>\n",
       "      <th>1</th>\n",
       "      <th>2</th>\n",
       "      <th>3</th>\n",
       "      <th>4</th>\n",
       "    </tr>\n",
       "  </thead>\n",
       "  <tbody>\n",
       "    <tr>\n",
       "      <th>CustomerID</th>\n",
       "      <td>3668-QPYBK</td>\n",
       "      <td>9237-HQITU</td>\n",
       "      <td>9305-CDSKC</td>\n",
       "      <td>7892-POOKP</td>\n",
       "      <td>0280-XJGEX</td>\n",
       "    </tr>\n",
       "    <tr>\n",
       "      <th>City</th>\n",
       "      <td>Los Angeles</td>\n",
       "      <td>Los Angeles</td>\n",
       "      <td>Los Angeles</td>\n",
       "      <td>Los Angeles</td>\n",
       "      <td>Los Angeles</td>\n",
       "    </tr>\n",
       "    <tr>\n",
       "      <th>Zip Code</th>\n",
       "      <td>90003</td>\n",
       "      <td>90005</td>\n",
       "      <td>90006</td>\n",
       "      <td>90010</td>\n",
       "      <td>90015</td>\n",
       "    </tr>\n",
       "    <tr>\n",
       "      <th>Gender</th>\n",
       "      <td>Male</td>\n",
       "      <td>Female</td>\n",
       "      <td>Female</td>\n",
       "      <td>Female</td>\n",
       "      <td>Male</td>\n",
       "    </tr>\n",
       "    <tr>\n",
       "      <th>Senior Citizen</th>\n",
       "      <td>No</td>\n",
       "      <td>No</td>\n",
       "      <td>No</td>\n",
       "      <td>No</td>\n",
       "      <td>No</td>\n",
       "    </tr>\n",
       "    <tr>\n",
       "      <th>Partner</th>\n",
       "      <td>No</td>\n",
       "      <td>No</td>\n",
       "      <td>No</td>\n",
       "      <td>Yes</td>\n",
       "      <td>No</td>\n",
       "    </tr>\n",
       "    <tr>\n",
       "      <th>Dependents</th>\n",
       "      <td>No</td>\n",
       "      <td>Yes</td>\n",
       "      <td>Yes</td>\n",
       "      <td>Yes</td>\n",
       "      <td>Yes</td>\n",
       "    </tr>\n",
       "    <tr>\n",
       "      <th>Tenure Months</th>\n",
       "      <td>2</td>\n",
       "      <td>2</td>\n",
       "      <td>8</td>\n",
       "      <td>28</td>\n",
       "      <td>49</td>\n",
       "    </tr>\n",
       "    <tr>\n",
       "      <th>Phone Service</th>\n",
       "      <td>Yes</td>\n",
       "      <td>Yes</td>\n",
       "      <td>Yes</td>\n",
       "      <td>Yes</td>\n",
       "      <td>Yes</td>\n",
       "    </tr>\n",
       "    <tr>\n",
       "      <th>Multiple Lines</th>\n",
       "      <td>No</td>\n",
       "      <td>No</td>\n",
       "      <td>Yes</td>\n",
       "      <td>Yes</td>\n",
       "      <td>Yes</td>\n",
       "    </tr>\n",
       "    <tr>\n",
       "      <th>Internet Service</th>\n",
       "      <td>DSL</td>\n",
       "      <td>Fiber optic</td>\n",
       "      <td>Fiber optic</td>\n",
       "      <td>Fiber optic</td>\n",
       "      <td>Fiber optic</td>\n",
       "    </tr>\n",
       "    <tr>\n",
       "      <th>Online Security</th>\n",
       "      <td>Yes</td>\n",
       "      <td>No</td>\n",
       "      <td>No</td>\n",
       "      <td>No</td>\n",
       "      <td>No</td>\n",
       "    </tr>\n",
       "    <tr>\n",
       "      <th>Online Backup</th>\n",
       "      <td>Yes</td>\n",
       "      <td>No</td>\n",
       "      <td>No</td>\n",
       "      <td>No</td>\n",
       "      <td>Yes</td>\n",
       "    </tr>\n",
       "    <tr>\n",
       "      <th>Device Protection</th>\n",
       "      <td>No</td>\n",
       "      <td>No</td>\n",
       "      <td>Yes</td>\n",
       "      <td>Yes</td>\n",
       "      <td>Yes</td>\n",
       "    </tr>\n",
       "    <tr>\n",
       "      <th>Tech Support</th>\n",
       "      <td>No</td>\n",
       "      <td>No</td>\n",
       "      <td>No</td>\n",
       "      <td>Yes</td>\n",
       "      <td>No</td>\n",
       "    </tr>\n",
       "    <tr>\n",
       "      <th>Streaming TV</th>\n",
       "      <td>No</td>\n",
       "      <td>No</td>\n",
       "      <td>Yes</td>\n",
       "      <td>Yes</td>\n",
       "      <td>Yes</td>\n",
       "    </tr>\n",
       "    <tr>\n",
       "      <th>Streaming Movies</th>\n",
       "      <td>No</td>\n",
       "      <td>No</td>\n",
       "      <td>Yes</td>\n",
       "      <td>Yes</td>\n",
       "      <td>Yes</td>\n",
       "    </tr>\n",
       "    <tr>\n",
       "      <th>Contract</th>\n",
       "      <td>Month-to-month</td>\n",
       "      <td>Month-to-month</td>\n",
       "      <td>Month-to-month</td>\n",
       "      <td>Month-to-month</td>\n",
       "      <td>Month-to-month</td>\n",
       "    </tr>\n",
       "    <tr>\n",
       "      <th>Paperless Billing</th>\n",
       "      <td>Yes</td>\n",
       "      <td>Yes</td>\n",
       "      <td>Yes</td>\n",
       "      <td>Yes</td>\n",
       "      <td>Yes</td>\n",
       "    </tr>\n",
       "    <tr>\n",
       "      <th>Payment Method</th>\n",
       "      <td>Mailed check</td>\n",
       "      <td>Electronic check</td>\n",
       "      <td>Electronic check</td>\n",
       "      <td>Electronic check</td>\n",
       "      <td>Bank transfer (automatic)</td>\n",
       "    </tr>\n",
       "    <tr>\n",
       "      <th>Monthly Charges</th>\n",
       "      <td>53.85</td>\n",
       "      <td>70.7</td>\n",
       "      <td>99.65</td>\n",
       "      <td>104.8</td>\n",
       "      <td>103.7</td>\n",
       "    </tr>\n",
       "    <tr>\n",
       "      <th>Total Charges</th>\n",
       "      <td>108.15</td>\n",
       "      <td>151.65</td>\n",
       "      <td>820.5</td>\n",
       "      <td>3046.05</td>\n",
       "      <td>5036.3</td>\n",
       "    </tr>\n",
       "    <tr>\n",
       "      <th>Churn Label</th>\n",
       "      <td>Yes</td>\n",
       "      <td>Yes</td>\n",
       "      <td>Yes</td>\n",
       "      <td>Yes</td>\n",
       "      <td>Yes</td>\n",
       "    </tr>\n",
       "    <tr>\n",
       "      <th>Churn Value</th>\n",
       "      <td>1</td>\n",
       "      <td>1</td>\n",
       "      <td>1</td>\n",
       "      <td>1</td>\n",
       "      <td>1</td>\n",
       "    </tr>\n",
       "    <tr>\n",
       "      <th>Churn Score</th>\n",
       "      <td>86</td>\n",
       "      <td>67</td>\n",
       "      <td>86</td>\n",
       "      <td>84</td>\n",
       "      <td>89</td>\n",
       "    </tr>\n",
       "    <tr>\n",
       "      <th>CLTV</th>\n",
       "      <td>3239</td>\n",
       "      <td>2701</td>\n",
       "      <td>5372</td>\n",
       "      <td>5003</td>\n",
       "      <td>5340</td>\n",
       "    </tr>\n",
       "  </tbody>\n",
       "</table>\n",
       "</div>"
      ],
      "text/plain": [
       "                                0                 1                 2  \\\n",
       "CustomerID             3668-QPYBK        9237-HQITU        9305-CDSKC   \n",
       "City                  Los Angeles       Los Angeles       Los Angeles   \n",
       "Zip Code                    90003             90005             90006   \n",
       "Gender                       Male            Female            Female   \n",
       "Senior Citizen                 No                No                No   \n",
       "Partner                        No                No                No   \n",
       "Dependents                     No               Yes               Yes   \n",
       "Tenure Months                   2                 2                 8   \n",
       "Phone Service                 Yes               Yes               Yes   \n",
       "Multiple Lines                 No                No               Yes   \n",
       "Internet Service              DSL       Fiber optic       Fiber optic   \n",
       "Online Security               Yes                No                No   \n",
       "Online Backup                 Yes                No                No   \n",
       "Device Protection              No                No               Yes   \n",
       "Tech Support                   No                No                No   \n",
       "Streaming TV                   No                No               Yes   \n",
       "Streaming Movies               No                No               Yes   \n",
       "Contract           Month-to-month    Month-to-month    Month-to-month   \n",
       "Paperless Billing             Yes               Yes               Yes   \n",
       "Payment Method       Mailed check  Electronic check  Electronic check   \n",
       "Monthly Charges             53.85              70.7             99.65   \n",
       "Total Charges              108.15            151.65             820.5   \n",
       "Churn Label                   Yes               Yes               Yes   \n",
       "Churn Value                     1                 1                 1   \n",
       "Churn Score                    86                67                86   \n",
       "CLTV                         3239              2701              5372   \n",
       "\n",
       "                                  3                          4  \n",
       "CustomerID               7892-POOKP                 0280-XJGEX  \n",
       "City                    Los Angeles                Los Angeles  \n",
       "Zip Code                      90010                      90015  \n",
       "Gender                       Female                       Male  \n",
       "Senior Citizen                   No                         No  \n",
       "Partner                         Yes                         No  \n",
       "Dependents                      Yes                        Yes  \n",
       "Tenure Months                    28                         49  \n",
       "Phone Service                   Yes                        Yes  \n",
       "Multiple Lines                  Yes                        Yes  \n",
       "Internet Service        Fiber optic                Fiber optic  \n",
       "Online Security                  No                         No  \n",
       "Online Backup                    No                        Yes  \n",
       "Device Protection               Yes                        Yes  \n",
       "Tech Support                    Yes                         No  \n",
       "Streaming TV                    Yes                        Yes  \n",
       "Streaming Movies                Yes                        Yes  \n",
       "Contract             Month-to-month             Month-to-month  \n",
       "Paperless Billing               Yes                        Yes  \n",
       "Payment Method     Electronic check  Bank transfer (automatic)  \n",
       "Monthly Charges               104.8                      103.7  \n",
       "Total Charges               3046.05                     5036.3  \n",
       "Churn Label                     Yes                        Yes  \n",
       "Churn Value                       1                          1  \n",
       "Churn Score                      84                         89  \n",
       "CLTV                           5003                       5340  "
      ]
     },
     "execution_count": 6,
     "metadata": {},
     "output_type": "execute_result"
    }
   ],
   "source": [
    "churn.head().T"
   ]
  },
  {
   "cell_type": "code",
   "execution_count": 7,
   "id": "29bd2562",
   "metadata": {
    "execution": {
     "iopub.execute_input": "2022-04-08T15:36:14.527640Z",
     "iopub.status.busy": "2022-04-08T15:36:14.526917Z",
     "iopub.status.idle": "2022-04-08T15:36:14.573261Z",
     "shell.execute_reply": "2022-04-08T15:36:14.572727Z",
     "shell.execute_reply.started": "2022-04-08T12:08:05.007754Z"
    },
    "papermill": {
     "duration": 0.099955,
     "end_time": "2022-04-08T15:36:14.573429",
     "exception": false,
     "start_time": "2022-04-08T15:36:14.473474",
     "status": "completed"
    },
    "tags": []
   },
   "outputs": [],
   "source": [
    "col_obj=['Gender', 'Senior Citizen','Partner', 'Dependents', 'Phone Service',\n",
    "       'Multiple Lines', 'Internet Service', 'Online Security',\n",
    "       'Online Backup', 'Device Protection', 'Tech Support', 'Streaming TV',\n",
    "       'Streaming Movies', 'Contract', 'Paperless Billing', 'Payment Method',\n",
    "        'Churn Label', 'Churn Value','Zip Code','City']\n",
    "\n",
    "for col in col_obj:\n",
    "    churn[col] = churn[col].astype('category')"
   ]
  },
  {
   "cell_type": "code",
   "execution_count": 8,
   "id": "ac4a6201",
   "metadata": {
    "execution": {
     "iopub.execute_input": "2022-04-08T15:36:14.687954Z",
     "iopub.status.busy": "2022-04-08T15:36:14.687246Z",
     "iopub.status.idle": "2022-04-08T15:36:14.690025Z",
     "shell.execute_reply": "2022-04-08T15:36:14.690754Z",
     "shell.execute_reply.started": "2022-04-08T12:08:17.750149Z"
    },
    "papermill": {
     "duration": 0.065879,
     "end_time": "2022-04-08T15:36:14.690971",
     "exception": false,
     "start_time": "2022-04-08T15:36:14.625092",
     "status": "completed"
    },
    "tags": []
   },
   "outputs": [],
   "source": [
    "churn['Total Charges']=pd.to_numeric(churn['Total Charges'], downcast=\"float\",errors='coerce')"
   ]
  },
  {
   "cell_type": "markdown",
   "id": "51c78540",
   "metadata": {
    "papermill": {
     "duration": 0.050493,
     "end_time": "2022-04-08T15:36:14.792592",
     "exception": false,
     "start_time": "2022-04-08T15:36:14.742099",
     "status": "completed"
    },
    "tags": []
   },
   "source": [
    "# Q1: Please read the file and explain data types statistically as well as how python is reading it. Please let us know if any data type is read wrong."
   ]
  },
  {
   "cell_type": "code",
   "execution_count": null,
   "id": "752979af",
   "metadata": {
    "papermill": {
     "duration": 0.05219,
     "end_time": "2022-04-08T15:36:14.896847",
     "exception": false,
     "start_time": "2022-04-08T15:36:14.844657",
     "status": "completed"
    },
    "tags": []
   },
   "outputs": [],
   "source": []
  },
  {
   "cell_type": "code",
   "execution_count": null,
   "id": "d52f20e3",
   "metadata": {
    "papermill": {
     "duration": 0.051569,
     "end_time": "2022-04-08T15:36:14.999355",
     "exception": false,
     "start_time": "2022-04-08T15:36:14.947786",
     "status": "completed"
    },
    "tags": []
   },
   "outputs": [],
   "source": []
  },
  {
   "cell_type": "markdown",
   "id": "8fce3a8b",
   "metadata": {
    "papermill": {
     "duration": 0.053161,
     "end_time": "2022-04-08T15:36:15.103370",
     "exception": false,
     "start_time": "2022-04-08T15:36:15.050209",
     "status": "completed"
    },
    "tags": []
   },
   "source": [
    "# Q2: Please apply appropriate statistical measures using python based on data types."
   ]
  },
  {
   "cell_type": "code",
   "execution_count": 9,
   "id": "590c457d",
   "metadata": {
    "execution": {
     "iopub.execute_input": "2022-04-08T15:36:15.211460Z",
     "iopub.status.busy": "2022-04-08T15:36:15.210778Z",
     "iopub.status.idle": "2022-04-08T15:36:15.248083Z",
     "shell.execute_reply": "2022-04-08T15:36:15.247517Z",
     "shell.execute_reply.started": "2022-04-08T14:45:27.247720Z"
    },
    "papermill": {
     "duration": 0.090997,
     "end_time": "2022-04-08T15:36:15.248246",
     "exception": false,
     "start_time": "2022-04-08T15:36:15.157249",
     "status": "completed"
    },
    "tags": []
   },
   "outputs": [
    {
     "data": {
      "text/html": [
       "<div>\n",
       "<style scoped>\n",
       "    .dataframe tbody tr th:only-of-type {\n",
       "        vertical-align: middle;\n",
       "    }\n",
       "\n",
       "    .dataframe tbody tr th {\n",
       "        vertical-align: top;\n",
       "    }\n",
       "\n",
       "    .dataframe thead th {\n",
       "        text-align: right;\n",
       "    }\n",
       "</style>\n",
       "<table border=\"1\" class=\"dataframe\">\n",
       "  <thead>\n",
       "    <tr style=\"text-align: right;\">\n",
       "      <th></th>\n",
       "      <th>Tenure Months</th>\n",
       "      <th>Monthly Charges</th>\n",
       "      <th>Total Charges</th>\n",
       "      <th>Churn Score</th>\n",
       "      <th>CLTV</th>\n",
       "    </tr>\n",
       "  </thead>\n",
       "  <tbody>\n",
       "    <tr>\n",
       "      <th>count</th>\n",
       "      <td>7043.000000</td>\n",
       "      <td>7043.000000</td>\n",
       "      <td>7032.000000</td>\n",
       "      <td>7043.000000</td>\n",
       "      <td>7043.000000</td>\n",
       "    </tr>\n",
       "    <tr>\n",
       "      <th>mean</th>\n",
       "      <td>32.371149</td>\n",
       "      <td>64.761692</td>\n",
       "      <td>2283.299561</td>\n",
       "      <td>58.699418</td>\n",
       "      <td>4400.295755</td>\n",
       "    </tr>\n",
       "    <tr>\n",
       "      <th>std</th>\n",
       "      <td>24.559481</td>\n",
       "      <td>30.090047</td>\n",
       "      <td>2266.770264</td>\n",
       "      <td>21.525131</td>\n",
       "      <td>1183.057152</td>\n",
       "    </tr>\n",
       "    <tr>\n",
       "      <th>min</th>\n",
       "      <td>0.000000</td>\n",
       "      <td>18.250000</td>\n",
       "      <td>18.799999</td>\n",
       "      <td>5.000000</td>\n",
       "      <td>2003.000000</td>\n",
       "    </tr>\n",
       "    <tr>\n",
       "      <th>25%</th>\n",
       "      <td>9.000000</td>\n",
       "      <td>35.500000</td>\n",
       "      <td>401.450012</td>\n",
       "      <td>40.000000</td>\n",
       "      <td>3469.000000</td>\n",
       "    </tr>\n",
       "    <tr>\n",
       "      <th>50%</th>\n",
       "      <td>29.000000</td>\n",
       "      <td>70.350000</td>\n",
       "      <td>1397.475098</td>\n",
       "      <td>61.000000</td>\n",
       "      <td>4527.000000</td>\n",
       "    </tr>\n",
       "    <tr>\n",
       "      <th>75%</th>\n",
       "      <td>55.000000</td>\n",
       "      <td>89.850000</td>\n",
       "      <td>3794.737549</td>\n",
       "      <td>75.000000</td>\n",
       "      <td>5380.500000</td>\n",
       "    </tr>\n",
       "    <tr>\n",
       "      <th>max</th>\n",
       "      <td>72.000000</td>\n",
       "      <td>118.750000</td>\n",
       "      <td>8684.799805</td>\n",
       "      <td>100.000000</td>\n",
       "      <td>6500.000000</td>\n",
       "    </tr>\n",
       "  </tbody>\n",
       "</table>\n",
       "</div>"
      ],
      "text/plain": [
       "       Tenure Months  Monthly Charges  Total Charges  Churn Score         CLTV\n",
       "count    7043.000000      7043.000000    7032.000000  7043.000000  7043.000000\n",
       "mean       32.371149        64.761692    2283.299561    58.699418  4400.295755\n",
       "std        24.559481        30.090047    2266.770264    21.525131  1183.057152\n",
       "min         0.000000        18.250000      18.799999     5.000000  2003.000000\n",
       "25%         9.000000        35.500000     401.450012    40.000000  3469.000000\n",
       "50%        29.000000        70.350000    1397.475098    61.000000  4527.000000\n",
       "75%        55.000000        89.850000    3794.737549    75.000000  5380.500000\n",
       "max        72.000000       118.750000    8684.799805   100.000000  6500.000000"
      ]
     },
     "execution_count": 9,
     "metadata": {},
     "output_type": "execute_result"
    }
   ],
   "source": [
    "churn.describe()"
   ]
  },
  {
   "cell_type": "code",
   "execution_count": 10,
   "id": "7a619a90",
   "metadata": {
    "execution": {
     "iopub.execute_input": "2022-04-08T15:36:15.359686Z",
     "iopub.status.busy": "2022-04-08T15:36:15.358978Z",
     "iopub.status.idle": "2022-04-08T15:36:15.413857Z",
     "shell.execute_reply": "2022-04-08T15:36:15.413248Z",
     "shell.execute_reply.started": "2022-04-08T14:45:54.104742Z"
    },
    "papermill": {
     "duration": 0.110492,
     "end_time": "2022-04-08T15:36:15.414002",
     "exception": false,
     "start_time": "2022-04-08T15:36:15.303510",
     "status": "completed"
    },
    "tags": []
   },
   "outputs": [
    {
     "data": {
      "text/html": [
       "<div>\n",
       "<style scoped>\n",
       "    .dataframe tbody tr th:only-of-type {\n",
       "        vertical-align: middle;\n",
       "    }\n",
       "\n",
       "    .dataframe tbody tr th {\n",
       "        vertical-align: top;\n",
       "    }\n",
       "\n",
       "    .dataframe thead th {\n",
       "        text-align: right;\n",
       "    }\n",
       "</style>\n",
       "<table border=\"1\" class=\"dataframe\">\n",
       "  <thead>\n",
       "    <tr style=\"text-align: right;\">\n",
       "      <th></th>\n",
       "      <th>City</th>\n",
       "      <th>Zip Code</th>\n",
       "      <th>Gender</th>\n",
       "      <th>Senior Citizen</th>\n",
       "      <th>Partner</th>\n",
       "      <th>Dependents</th>\n",
       "      <th>Phone Service</th>\n",
       "      <th>Multiple Lines</th>\n",
       "      <th>Internet Service</th>\n",
       "      <th>Online Security</th>\n",
       "      <th>Online Backup</th>\n",
       "      <th>Device Protection</th>\n",
       "      <th>Tech Support</th>\n",
       "      <th>Streaming TV</th>\n",
       "      <th>Streaming Movies</th>\n",
       "      <th>Contract</th>\n",
       "      <th>Paperless Billing</th>\n",
       "      <th>Payment Method</th>\n",
       "      <th>Churn Label</th>\n",
       "      <th>Churn Value</th>\n",
       "    </tr>\n",
       "  </thead>\n",
       "  <tbody>\n",
       "    <tr>\n",
       "      <th>count</th>\n",
       "      <td>7043</td>\n",
       "      <td>7043</td>\n",
       "      <td>7043</td>\n",
       "      <td>7043</td>\n",
       "      <td>7043</td>\n",
       "      <td>7043</td>\n",
       "      <td>7043</td>\n",
       "      <td>7043</td>\n",
       "      <td>7043</td>\n",
       "      <td>7043</td>\n",
       "      <td>7043</td>\n",
       "      <td>7043</td>\n",
       "      <td>7043</td>\n",
       "      <td>7043</td>\n",
       "      <td>7043</td>\n",
       "      <td>7043</td>\n",
       "      <td>7043</td>\n",
       "      <td>7043</td>\n",
       "      <td>7043</td>\n",
       "      <td>7043</td>\n",
       "    </tr>\n",
       "    <tr>\n",
       "      <th>unique</th>\n",
       "      <td>1129</td>\n",
       "      <td>1652</td>\n",
       "      <td>2</td>\n",
       "      <td>2</td>\n",
       "      <td>2</td>\n",
       "      <td>2</td>\n",
       "      <td>2</td>\n",
       "      <td>3</td>\n",
       "      <td>3</td>\n",
       "      <td>3</td>\n",
       "      <td>3</td>\n",
       "      <td>3</td>\n",
       "      <td>3</td>\n",
       "      <td>3</td>\n",
       "      <td>3</td>\n",
       "      <td>3</td>\n",
       "      <td>2</td>\n",
       "      <td>4</td>\n",
       "      <td>2</td>\n",
       "      <td>2</td>\n",
       "    </tr>\n",
       "    <tr>\n",
       "      <th>top</th>\n",
       "      <td>Los Angeles</td>\n",
       "      <td>90001</td>\n",
       "      <td>Male</td>\n",
       "      <td>No</td>\n",
       "      <td>No</td>\n",
       "      <td>No</td>\n",
       "      <td>Yes</td>\n",
       "      <td>No</td>\n",
       "      <td>Fiber optic</td>\n",
       "      <td>No</td>\n",
       "      <td>No</td>\n",
       "      <td>No</td>\n",
       "      <td>No</td>\n",
       "      <td>No</td>\n",
       "      <td>No</td>\n",
       "      <td>Month-to-month</td>\n",
       "      <td>Yes</td>\n",
       "      <td>Electronic check</td>\n",
       "      <td>No</td>\n",
       "      <td>0</td>\n",
       "    </tr>\n",
       "    <tr>\n",
       "      <th>freq</th>\n",
       "      <td>305</td>\n",
       "      <td>5</td>\n",
       "      <td>3555</td>\n",
       "      <td>5901</td>\n",
       "      <td>3641</td>\n",
       "      <td>5416</td>\n",
       "      <td>6361</td>\n",
       "      <td>3390</td>\n",
       "      <td>3096</td>\n",
       "      <td>3498</td>\n",
       "      <td>3088</td>\n",
       "      <td>3095</td>\n",
       "      <td>3473</td>\n",
       "      <td>2810</td>\n",
       "      <td>2785</td>\n",
       "      <td>3875</td>\n",
       "      <td>4171</td>\n",
       "      <td>2365</td>\n",
       "      <td>5174</td>\n",
       "      <td>5174</td>\n",
       "    </tr>\n",
       "  </tbody>\n",
       "</table>\n",
       "</div>"
      ],
      "text/plain": [
       "               City  Zip Code Gender Senior Citizen Partner Dependents  \\\n",
       "count          7043      7043   7043           7043    7043       7043   \n",
       "unique         1129      1652      2              2       2          2   \n",
       "top     Los Angeles     90001   Male             No      No         No   \n",
       "freq            305         5   3555           5901    3641       5416   \n",
       "\n",
       "       Phone Service Multiple Lines Internet Service Online Security  \\\n",
       "count           7043           7043             7043            7043   \n",
       "unique             2              3                3               3   \n",
       "top              Yes             No      Fiber optic              No   \n",
       "freq            6361           3390             3096            3498   \n",
       "\n",
       "       Online Backup Device Protection Tech Support Streaming TV  \\\n",
       "count           7043              7043         7043         7043   \n",
       "unique             3                 3            3            3   \n",
       "top               No                No           No           No   \n",
       "freq            3088              3095         3473         2810   \n",
       "\n",
       "       Streaming Movies        Contract Paperless Billing    Payment Method  \\\n",
       "count              7043            7043              7043              7043   \n",
       "unique                3               3                 2                 4   \n",
       "top                  No  Month-to-month               Yes  Electronic check   \n",
       "freq               2785            3875              4171              2365   \n",
       "\n",
       "       Churn Label  Churn Value  \n",
       "count         7043         7043  \n",
       "unique           2            2  \n",
       "top             No            0  \n",
       "freq          5174         5174  "
      ]
     },
     "execution_count": 10,
     "metadata": {},
     "output_type": "execute_result"
    }
   ],
   "source": [
    "churn.describe(include='category')"
   ]
  },
  {
   "cell_type": "markdown",
   "id": "620f7bac",
   "metadata": {
    "papermill": {
     "duration": 0.051893,
     "end_time": "2022-04-08T15:36:15.519881",
     "exception": false,
     "start_time": "2022-04-08T15:36:15.467988",
     "status": "completed"
    },
    "tags": []
   },
   "source": [
    "# Q3: What is the percentage of females and senior citizens in this data set? Please create appropriate plots and explain the plots."
   ]
  },
  {
   "cell_type": "code",
   "execution_count": 11,
   "id": "bff16263",
   "metadata": {
    "execution": {
     "iopub.execute_input": "2022-04-08T15:36:15.627871Z",
     "iopub.status.busy": "2022-04-08T15:36:15.627196Z",
     "iopub.status.idle": "2022-04-08T15:36:15.709153Z",
     "shell.execute_reply": "2022-04-08T15:36:15.709769Z",
     "shell.execute_reply.started": "2022-04-08T14:44:28.787613Z"
    },
    "papermill": {
     "duration": 0.137704,
     "end_time": "2022-04-08T15:36:15.709949",
     "exception": false,
     "start_time": "2022-04-08T15:36:15.572245",
     "status": "completed"
    },
    "tags": []
   },
   "outputs": [
    {
     "data": {
      "text/html": [
       "<style type=\"text/css\">\n",
       "#T_055a0_ td:hover {\n",
       "  background-color: #ffffb3;\n",
       "}\n",
       "#T_055a0_ .index_name {\n",
       "  font-style: italic;\n",
       "  color: darkgrey;\n",
       "  font-weight: normal;\n",
       "}\n",
       "#T_055a0_ th:not(.index_name) {\n",
       "  background-color: #000066;\n",
       "  color: white;\n",
       "}\n",
       "</style>\n",
       "<table id=\"T_055a0_\">\n",
       "  <thead>\n",
       "    <tr>\n",
       "      <th class=\"blank level0\" >&nbsp;</th>\n",
       "      <th class=\"col_heading level0 col0\" >No</th>\n",
       "      <th class=\"col_heading level0 col1\" >Yes</th>\n",
       "    </tr>\n",
       "    <tr>\n",
       "      <th class=\"index_name level0\" >Gender</th>\n",
       "      <th class=\"blank col0\" >&nbsp;</th>\n",
       "      <th class=\"blank col1\" >&nbsp;</th>\n",
       "    </tr>\n",
       "  </thead>\n",
       "  <tbody>\n",
       "    <tr>\n",
       "      <th id=\"T_055a0_level0_row0\" class=\"row_heading level0 row0\" >Female</th>\n",
       "      <td id=\"T_055a0_row0_col0\" class=\"data row0 col0\" >2920</td>\n",
       "      <td id=\"T_055a0_row0_col1\" class=\"data row0 col1\" >568</td>\n",
       "    </tr>\n",
       "    <tr>\n",
       "      <th id=\"T_055a0_level0_row1\" class=\"row_heading level0 row1\" >Male</th>\n",
       "      <td id=\"T_055a0_row1_col0\" class=\"data row1 col0\" >2981</td>\n",
       "      <td id=\"T_055a0_row1_col1\" class=\"data row1 col1\" >574</td>\n",
       "    </tr>\n",
       "  </tbody>\n",
       "</table>\n"
      ],
      "text/plain": [
       "<pandas.io.formats.style.Styler at 0x7fdc28ce8c10>"
      ]
     },
     "execution_count": 11,
     "metadata": {},
     "output_type": "execute_result"
    }
   ],
   "source": [
    "female_senior=churn.groupby('Gender')['Senior Citizen'].value_counts().unstack()\n",
    "cell_hover = {  # for row hover use <tr> instead of <td>\n",
    "    'selector': 'td:hover',\n",
    "    'props': [('background-color', '#ffffb3')]\n",
    "}\n",
    "index_names = {\n",
    "    'selector': '.index_name',\n",
    "    'props': 'font-style: italic; color: darkgrey; font-weight:normal;'\n",
    "}\n",
    "headers = {\n",
    "    'selector': 'th:not(.index_name)',\n",
    "    'props': 'background-color: #000066; color: white;'\n",
    "}\n",
    "female_senior.style.set_table_styles([cell_hover, index_names, headers])"
   ]
  },
  {
   "cell_type": "code",
   "execution_count": 12,
   "id": "20f29b70",
   "metadata": {
    "execution": {
     "iopub.execute_input": "2022-04-08T15:36:15.819804Z",
     "iopub.status.busy": "2022-04-08T15:36:15.819119Z",
     "iopub.status.idle": "2022-04-08T15:36:15.838693Z",
     "shell.execute_reply": "2022-04-08T15:36:15.839269Z",
     "shell.execute_reply.started": "2022-04-08T14:32:48.339752Z"
    },
    "papermill": {
     "duration": 0.075849,
     "end_time": "2022-04-08T15:36:15.839480",
     "exception": false,
     "start_time": "2022-04-08T15:36:15.763631",
     "status": "completed"
    },
    "tags": []
   },
   "outputs": [],
   "source": [
    "churn.Gender.value_counts()\n",
    "g_i=churn.Gender.value_counts().index\n",
    "g_v=churn.Gender.value_counts().values\n",
    "churn['Senior Citizen'].value_counts()\n",
    "s_i=churn['Senior Citizen'].value_counts().index\n",
    "s_v=churn['Senior Citizen'].value_counts().values\n",
    "churn[churn['Gender']=='Female']['Senior Citizen'].value_counts()\n",
    "f_s_i=churn[churn['Gender']=='Female']['Senior Citizen'].value_counts().index\n",
    "f_s_v=churn[churn['Gender']=='Female']['Senior Citizen'].value_counts().values"
   ]
  },
  {
   "cell_type": "code",
   "execution_count": 13,
   "id": "6aac9837",
   "metadata": {
    "execution": {
     "iopub.execute_input": "2022-04-08T15:36:15.952171Z",
     "iopub.status.busy": "2022-04-08T15:36:15.951461Z",
     "iopub.status.idle": "2022-04-08T15:36:16.490965Z",
     "shell.execute_reply": "2022-04-08T15:36:16.491487Z",
     "shell.execute_reply.started": "2022-04-08T14:41:32.494817Z"
    },
    "papermill": {
     "duration": 0.596926,
     "end_time": "2022-04-08T15:36:16.491663",
     "exception": false,
     "start_time": "2022-04-08T15:36:15.894737",
     "status": "completed"
    },
    "tags": []
   },
   "outputs": [
    {
     "data": {
      "image/png": "[encoded data removed]",
      "text/plain": [
       "<Figure size 1152x576 with 3 Axes>"
      ]
     },
     "metadata": {},
     "output_type": "display_data"
    }
   ],
   "source": [
    "cols = ['c', 'b', 'r', 'k']\n",
    "fig, axs = plt.subplots(1, 3, figsize=(16, 8))\n",
    "axs[0].pie(s_v, labels=s_i, colors = cols, startangle = 90, shadow = True, autopct='%1.0f%%', explode = (0.1, 0))\n",
    "axs[1].pie(g_v, labels=g_i, colors = cols, startangle = 90, shadow = True, autopct='%1.0f%%', explode = (0.1, 0))\n",
    "axs[2].pie(f_s_v, labels=f_s_i, colors = cols, startangle = 90, shadow = True, autopct='%1.0f%%', explode = (0.1, 0))\n",
    "fig.suptitle('Churn Score Payment Wise')\n",
    "axs[0].title.set_text('Proportion of Senior Citizen')\n",
    "axs[1].title.set_text('Proportion of Gender')\n",
    "axs[2].title.set_text('Proportion of Female in Senior Citizen')\n",
    "plt.tight_layout()\n",
    "plt.show()"
   ]
  },
  {
   "cell_type": "markdown",
   "id": "5c896e94",
   "metadata": {
    "papermill": {
     "duration": 0.05534,
     "end_time": "2022-04-08T15:36:16.601825",
     "exception": false,
     "start_time": "2022-04-08T15:36:16.546485",
     "status": "completed"
    },
    "tags": []
   },
   "source": [
    "# Q4:  Please create an appropriate plot to examine the distribution of the tenure month column and explain the distribution. Based on distribution, perform appropriate statistical measures. Please also explain if the variable is symmetric or skewed. Please calculate it. Explain everything as asked."
   ]
  },
  {
   "cell_type": "code",
   "execution_count": 14,
   "id": "d62b8e83",
   "metadata": {
    "execution": {
     "iopub.execute_input": "2022-04-08T15:36:16.726501Z",
     "iopub.status.busy": "2022-04-08T15:36:16.716916Z",
     "iopub.status.idle": "2022-04-08T15:36:17.004849Z",
     "shell.execute_reply": "2022-04-08T15:36:17.004159Z",
     "shell.execute_reply.started": "2022-04-08T13:39:20.666263Z"
    },
    "papermill": {
     "duration": 0.3469,
     "end_time": "2022-04-08T15:36:17.004995",
     "exception": false,
     "start_time": "2022-04-08T15:36:16.658095",
     "status": "completed"
    },
    "tags": []
   },
   "outputs": [
    {
     "data": {
      "image/png": "[encoded data removed]",
      "text/plain": [
       "<Figure size 432x288 with 1 Axes>"
      ]
     },
     "metadata": {
      "needs_background": "light"
     },
     "output_type": "display_data"
    }
   ],
   "source": [
    "ax = sns.histplot(churn['Tenure Months'],kde=True,color=\"y\",stat='percent',bins=5)"
   ]
  },
  {
   "cell_type": "markdown",
   "id": "4c74ece0",
   "metadata": {
    "papermill": {
     "duration": 0.059766,
     "end_time": "2022-04-08T15:36:17.121706",
     "exception": false,
     "start_time": "2022-04-08T15:36:17.061940",
     "status": "completed"
    },
    "tags": []
   },
   "source": [
    "['count', 'frequency', 'density', 'probability', 'proportion', 'percent']"
   ]
  },
  {
   "cell_type": "code",
   "execution_count": null,
   "id": "6839d56f",
   "metadata": {
    "papermill": {
     "duration": 0.055802,
     "end_time": "2022-04-08T15:36:17.233269",
     "exception": false,
     "start_time": "2022-04-08T15:36:17.177467",
     "status": "completed"
    },
    "tags": []
   },
   "outputs": [],
   "source": []
  },
  {
   "cell_type": "markdown",
   "id": "2fb0b42b",
   "metadata": {
    "papermill": {
     "duration": 0.058048,
     "end_time": "2022-04-08T15:36:17.347534",
     "exception": false,
     "start_time": "2022-04-08T15:36:17.289486",
     "status": "completed"
    },
    "tags": []
   },
   "source": [
    "# Q5: Please convert all binary columns into 0 and 1 using appropriate programming constructs, not one by one."
   ]
  },
  {
   "cell_type": "code",
   "execution_count": null,
   "id": "dcad5f3f",
   "metadata": {
    "papermill": {
     "duration": 0.055647,
     "end_time": "2022-04-08T15:36:17.459460",
     "exception": false,
     "start_time": "2022-04-08T15:36:17.403813",
     "status": "completed"
    },
    "tags": []
   },
   "outputs": [],
   "source": []
  },
  {
   "cell_type": "code",
   "execution_count": null,
   "id": "57e96dd4",
   "metadata": {
    "papermill": {
     "duration": 0.058019,
     "end_time": "2022-04-08T15:36:17.574259",
     "exception": false,
     "start_time": "2022-04-08T15:36:17.516240",
     "status": "completed"
    },
    "tags": []
   },
   "outputs": [],
   "source": []
  },
  {
   "cell_type": "markdown",
   "id": "a53aee5c",
   "metadata": {
    "papermill": {
     "duration": 0.055649,
     "end_time": "2022-04-08T15:36:17.686755",
     "exception": false,
     "start_time": "2022-04-08T15:36:17.631106",
     "status": "completed"
    },
    "tags": []
   },
   "source": [
    "#  Q6: Please examine the distribution of monthly charges between males and females using box plots. Please explain the results also."
   ]
  },
  {
   "cell_type": "code",
   "execution_count": 15,
   "id": "084eec49",
   "metadata": {
    "execution": {
     "iopub.execute_input": "2022-04-08T15:36:17.804077Z",
     "iopub.status.busy": "2022-04-08T15:36:17.803061Z",
     "iopub.status.idle": "2022-04-08T15:36:18.086868Z",
     "shell.execute_reply": "2022-04-08T15:36:18.087398Z",
     "shell.execute_reply.started": "2022-04-08T13:22:53.610341Z"
    },
    "papermill": {
     "duration": 0.344819,
     "end_time": "2022-04-08T15:36:18.087573",
     "exception": false,
     "start_time": "2022-04-08T15:36:17.742754",
     "status": "completed"
    },
    "tags": []
   },
   "outputs": [
    {
     "data": {
      "image/png": "[encoded data removed]",
      "text/plain": [
       "<Figure size 842.4x288 with 1 Axes>"
      ]
     },
     "metadata": {},
     "output_type": "display_data"
    }
   ],
   "source": [
    "sns.set(rc={'figure.figsize':(11.7,4)})\n",
    "box_plot = sns.boxplot(x=\"Gender\", y='Monthly Charges', data=churn)\n",
    "ax = box_plot.axes\n",
    "lines = ax.get_lines()\n",
    "categories = ax.get_xticks()\n",
    "for cat in categories:\n",
    "    # every 4th line at the interval of 6 is median line\n",
    "    # 0 -> p25 1 -> p75 2 -> lower whisker 3 -> upper whisker 4 -> p50 5 -> upper extreme value\n",
    "    y = round(lines[4+cat*6].get_ydata()[0],1) \n",
    "    ax.text(cat, y, f'{y}', \n",
    "        ha='center', va='center', fontweight='bold', size=10, color='white',bbox=dict(facecolor='#445A64'))\n",
    "box_plot.figure.tight_layout()"
   ]
  },
  {
   "cell_type": "markdown",
   "id": "0e8e2078",
   "metadata": {
    "papermill": {
     "duration": 0.058434,
     "end_time": "2022-04-08T15:36:18.205127",
     "exception": false,
     "start_time": "2022-04-08T15:36:18.146693",
     "status": "completed"
    },
    "tags": []
   },
   "source": [
    "Source=(http://stackoverflow.com/a/56879116)"
   ]
  },
  {
   "cell_type": "markdown",
   "id": "2b6444d0",
   "metadata": {
    "papermill": {
     "duration": 0.056942,
     "end_time": "2022-04-08T15:36:18.318851",
     "exception": false,
     "start_time": "2022-04-08T15:36:18.261909",
     "status": "completed"
    },
    "tags": []
   },
   "source": [
    "#  Q7: Please find what is the minimum total charges for Los Angeles city. Please find which zip code has the maximum total charges."
   ]
  },
  {
   "cell_type": "code",
   "execution_count": 16,
   "id": "dc38c1ae",
   "metadata": {
    "execution": {
     "iopub.execute_input": "2022-04-08T15:36:18.449480Z",
     "iopub.status.busy": "2022-04-08T15:36:18.448390Z",
     "iopub.status.idle": "2022-04-08T15:36:18.454911Z",
     "shell.execute_reply": "2022-04-08T15:36:18.455713Z",
     "shell.execute_reply.started": "2022-04-08T12:58:48.026881Z"
    },
    "papermill": {
     "duration": 0.073742,
     "end_time": "2022-04-08T15:36:18.455942",
     "exception": false,
     "start_time": "2022-04-08T15:36:18.382200",
     "status": "completed"
    },
    "tags": []
   },
   "outputs": [],
   "source": [
    "Los_ang=churn[churn[\"City\"]=='Los Angeles']"
   ]
  },
  {
   "cell_type": "code",
   "execution_count": 17,
   "id": "04735c71",
   "metadata": {
    "execution": {
     "iopub.execute_input": "2022-04-08T15:36:18.575030Z",
     "iopub.status.busy": "2022-04-08T15:36:18.573826Z",
     "iopub.status.idle": "2022-04-08T15:36:18.890968Z",
     "shell.execute_reply": "2022-04-08T15:36:18.890451Z",
     "shell.execute_reply.started": "2022-04-08T13:01:49.921946Z"
    },
    "papermill": {
     "duration": 0.376694,
     "end_time": "2022-04-08T15:36:18.891118",
     "exception": false,
     "start_time": "2022-04-08T15:36:18.514424",
     "status": "completed"
    },
    "tags": []
   },
   "outputs": [
    {
     "data": {
      "image/png": "[encoded data removed]",
      "text/plain": [
       "<Figure size 842.4x288 with 1 Axes>"
      ]
     },
     "metadata": {},
     "output_type": "display_data"
    }
   ],
   "source": [
    "Los_ang['Total Charges'].nsmallest(10).plot(kind='bar',title='Minimum Total Charges for Los Angeles');"
   ]
  },
  {
   "cell_type": "code",
   "execution_count": 18,
   "id": "1343b0cc",
   "metadata": {
    "execution": {
     "iopub.execute_input": "2022-04-08T15:36:19.009950Z",
     "iopub.status.busy": "2022-04-08T15:36:19.009277Z",
     "iopub.status.idle": "2022-04-08T15:36:19.022447Z",
     "shell.execute_reply": "2022-04-08T15:36:19.022976Z",
     "shell.execute_reply.started": "2022-04-08T13:10:26.019753Z"
    },
    "papermill": {
     "duration": 0.074068,
     "end_time": "2022-04-08T15:36:19.023142",
     "exception": false,
     "start_time": "2022-04-08T15:36:18.949074",
     "status": "completed"
    },
    "tags": []
   },
   "outputs": [
    {
     "data": {
      "text/plain": [
       "Zip Code\n",
       "90014    3656.250000\n",
       "90011    3487.949951\n",
       "90008    2104.550049\n",
       "90018    1873.699951\n",
       "90021    1862.900024\n",
       "90004    1840.750000\n",
       "90010    1834.949951\n",
       "90007    1301.099976\n",
       "90019    1261.000000\n",
       "90002    1185.949951\n",
       "Name: Total Charges, dtype: float32"
      ]
     },
     "execution_count": 18,
     "metadata": {},
     "output_type": "execute_result"
    }
   ],
   "source": [
    "churn.groupby('Zip Code').agg({'Total Charges':np.median})[:20]['Total Charges'].nlargest(10)"
   ]
  },
  {
   "cell_type": "code",
   "execution_count": 19,
   "id": "43e585e8",
   "metadata": {
    "execution": {
     "iopub.execute_input": "2022-04-08T15:36:19.144452Z",
     "iopub.status.busy": "2022-04-08T15:36:19.143438Z",
     "iopub.status.idle": "2022-04-08T15:36:19.157006Z",
     "shell.execute_reply": "2022-04-08T15:36:19.157505Z",
     "shell.execute_reply.started": "2022-04-08T13:09:40.655156Z"
    },
    "papermill": {
     "duration": 0.07544,
     "end_time": "2022-04-08T15:36:19.157689",
     "exception": false,
     "start_time": "2022-04-08T15:36:19.082249",
     "status": "completed"
    },
    "tags": []
   },
   "outputs": [
    {
     "data": {
      "text/plain": [
       "Zip Code\n",
       "95519    8684.799805\n",
       "95461    8672.450195\n",
       "90822    8670.099609\n",
       "92230    8594.400391\n",
       "92614    8564.750000\n",
       "95237    8547.150391\n",
       "92870    8543.250000\n",
       "93428    8529.500000\n",
       "94515    8496.700195\n",
       "92124    8477.700195\n",
       "Name: Total Charges, dtype: float32"
      ]
     },
     "execution_count": 19,
     "metadata": {},
     "output_type": "execute_result"
    }
   ],
   "source": [
    "churn.groupby('Zip Code')['Total Charges'].max().nlargest(10)"
   ]
  },
  {
   "cell_type": "code",
   "execution_count": 20,
   "id": "2bc40f37",
   "metadata": {
    "execution": {
     "iopub.execute_input": "2022-04-08T15:36:19.280521Z",
     "iopub.status.busy": "2022-04-08T15:36:19.279820Z",
     "iopub.status.idle": "2022-04-08T15:36:19.288190Z",
     "shell.execute_reply": "2022-04-08T15:36:19.288736Z",
     "shell.execute_reply.started": "2022-04-08T13:05:52.478446Z"
    },
    "papermill": {
     "duration": 0.07101,
     "end_time": "2022-04-08T15:36:19.288913",
     "exception": false,
     "start_time": "2022-04-08T15:36:19.217903",
     "status": "completed"
    },
    "tags": []
   },
   "outputs": [
    {
     "data": {
      "text/plain": [
       "90001    5\n",
       "91803    5\n",
       "91917    5\n",
       "91916    5\n",
       "91915    5\n",
       "        ..\n",
       "93705    4\n",
       "93704    4\n",
       "93703    4\n",
       "93702    4\n",
       "96161    4\n",
       "Name: Zip Code, Length: 1652, dtype: int64"
      ]
     },
     "execution_count": 20,
     "metadata": {},
     "output_type": "execute_result"
    }
   ],
   "source": [
    "churn['Zip Code'].value_counts()"
   ]
  },
  {
   "cell_type": "code",
   "execution_count": 21,
   "id": "ec81d616",
   "metadata": {
    "execution": {
     "iopub.execute_input": "2022-04-08T15:36:19.410373Z",
     "iopub.status.busy": "2022-04-08T15:36:19.409688Z",
     "iopub.status.idle": "2022-04-08T15:36:19.414350Z",
     "shell.execute_reply": "2022-04-08T15:36:19.414860Z",
     "shell.execute_reply.started": "2022-04-08T12:56:24.079054Z"
    },
    "papermill": {
     "duration": 0.066816,
     "end_time": "2022-04-08T15:36:19.415039",
     "exception": false,
     "start_time": "2022-04-08T15:36:19.348223",
     "status": "completed"
    },
    "tags": []
   },
   "outputs": [
    {
     "data": {
      "text/plain": [
       "Index(['CustomerID', 'City', 'Zip Code', 'Gender', 'Senior Citizen', 'Partner',\n",
       "       'Dependents', 'Tenure Months', 'Phone Service', 'Multiple Lines',\n",
       "       'Internet Service', 'Online Security', 'Online Backup',\n",
       "       'Device Protection', 'Tech Support', 'Streaming TV', 'Streaming Movies',\n",
       "       'Contract', 'Paperless Billing', 'Payment Method', 'Monthly Charges',\n",
       "       'Total Charges', 'Churn Label', 'Churn Value', 'Churn Score', 'CLTV'],\n",
       "      dtype='object')"
      ]
     },
     "execution_count": 21,
     "metadata": {},
     "output_type": "execute_result"
    }
   ],
   "source": [
    "churn.columns"
   ]
  },
  {
   "cell_type": "code",
   "execution_count": null,
   "id": "93424b23",
   "metadata": {
    "papermill": {
     "duration": 0.058915,
     "end_time": "2022-04-08T15:36:19.533066",
     "exception": false,
     "start_time": "2022-04-08T15:36:19.474151",
     "status": "completed"
    },
    "tags": []
   },
   "outputs": [],
   "source": []
  },
  {
   "cell_type": "markdown",
   "id": "a392501e",
   "metadata": {
    "papermill": {
     "duration": 0.062126,
     "end_time": "2022-04-08T15:36:19.655248",
     "exception": false,
     "start_time": "2022-04-08T15:36:19.593122",
     "status": "completed"
    },
    "tags": []
   },
   "source": [
    "# Q8: Please find which payment method has the highest churn score and which has the lowest churn score."
   ]
  },
  {
   "cell_type": "code",
   "execution_count": 22,
   "id": "a3a8e9ee",
   "metadata": {
    "execution": {
     "iopub.execute_input": "2022-04-08T15:36:19.781238Z",
     "iopub.status.busy": "2022-04-08T15:36:19.780514Z",
     "iopub.status.idle": "2022-04-08T15:36:19.792132Z",
     "shell.execute_reply": "2022-04-08T15:36:19.792755Z",
     "shell.execute_reply.started": "2022-04-08T12:55:24.883260Z"
    },
    "papermill": {
     "duration": 0.075969,
     "end_time": "2022-04-08T15:36:19.792949",
     "exception": false,
     "start_time": "2022-04-08T15:36:19.716980",
     "status": "completed"
    },
    "tags": []
   },
   "outputs": [
    {
     "data": {
      "text/plain": [
       "Payment Method\n",
       "Electronic check             69.0\n",
       "Mailed check                 57.0\n",
       "Bank transfer (automatic)    56.0\n",
       "Credit card (automatic)      56.0\n",
       "Name: Churn Score, dtype: float64"
      ]
     },
     "execution_count": 22,
     "metadata": {},
     "output_type": "execute_result"
    }
   ],
   "source": [
    "churn_sc_pm=churn.groupby('Payment Method').agg({'Churn Score':np.median})['Churn Score'].nlargest(4)\n",
    "churn_sc_pm"
   ]
  },
  {
   "cell_type": "code",
   "execution_count": 23,
   "id": "888109dc",
   "metadata": {
    "execution": {
     "iopub.execute_input": "2022-04-08T15:36:19.932945Z",
     "iopub.status.busy": "2022-04-08T15:36:19.932197Z",
     "iopub.status.idle": "2022-04-08T15:36:19.935805Z",
     "shell.execute_reply": "2022-04-08T15:36:19.936475Z",
     "shell.execute_reply.started": "2022-04-08T12:54:20.000842Z"
    },
    "papermill": {
     "duration": 0.076113,
     "end_time": "2022-04-08T15:36:19.936698",
     "exception": false,
     "start_time": "2022-04-08T15:36:19.860585",
     "status": "completed"
    },
    "tags": []
   },
   "outputs": [],
   "source": [
    "label1=churn_sc_pm.index\n",
    "values=churn_sc_pm.values.flatten()\n",
    "label =['Electronic check', 'Mailed check',\n",
    "                  'Bank transfer (automatic)', 'Credit card (automatic)']"
   ]
  },
  {
   "cell_type": "code",
   "execution_count": 24,
   "id": "0d671667",
   "metadata": {
    "execution": {
     "iopub.execute_input": "2022-04-08T15:36:20.066562Z",
     "iopub.status.busy": "2022-04-08T15:36:20.065534Z",
     "iopub.status.idle": "2022-04-08T15:36:20.461060Z",
     "shell.execute_reply": "2022-04-08T15:36:20.461703Z",
     "shell.execute_reply.started": "2022-04-08T12:54:37.115052Z"
    },
    "papermill": {
     "duration": 0.461251,
     "end_time": "2022-04-08T15:36:20.461890",
     "exception": false,
     "start_time": "2022-04-08T15:36:20.000639",
     "status": "completed"
    },
    "tags": []
   },
   "outputs": [
    {
     "data": {
      "image/png": "[encoded data removed]",
      "text/plain": [
       "<Figure size 1224x576 with 2 Axes>"
      ]
     },
     "metadata": {},
     "output_type": "display_data"
    }
   ],
   "source": [
    "cols = ['c', 'b', 'r', 'k']\n",
    "fig, axs = plt.subplots(1, 2, figsize=(17, 8))\n",
    "axs[0].barh(label, values,color = cols)\n",
    "axs[1].pie(values, labels=label, colors = cols, startangle = 90, shadow = True, autopct='%1.0f%%', explode = (0.1, 0, 0, 0))\n",
    "fig.suptitle('Churn Score Payment Wise')\n",
    "plt.show()"
   ]
  },
  {
   "cell_type": "markdown",
   "id": "da23b4c6",
   "metadata": {
    "papermill": {
     "duration": 0.061282,
     "end_time": "2022-04-08T15:36:20.587005",
     "exception": false,
     "start_time": "2022-04-08T15:36:20.525723",
     "status": "completed"
    },
    "tags": []
   },
   "source": [
    "# Q9: Please create an appropriate plot to check the count of payment methods and explain it."
   ]
  },
  {
   "cell_type": "code",
   "execution_count": 25,
   "id": "5dbff08b",
   "metadata": {
    "execution": {
     "iopub.execute_input": "2022-04-08T15:36:20.714470Z",
     "iopub.status.busy": "2022-04-08T15:36:20.713477Z",
     "iopub.status.idle": "2022-04-08T15:36:20.966911Z",
     "shell.execute_reply": "2022-04-08T15:36:20.966268Z",
     "shell.execute_reply.started": "2022-04-08T12:14:13.986437Z"
    },
    "papermill": {
     "duration": 0.318703,
     "end_time": "2022-04-08T15:36:20.967049",
     "exception": false,
     "start_time": "2022-04-08T15:36:20.648346",
     "status": "completed"
    },
    "tags": []
   },
   "outputs": [
    {
     "data": {
      "image/png": "[encoded data removed]",
      "text/plain": [
       "<Figure size 1080x576 with 1 Axes>"
      ]
     },
     "metadata": {},
     "output_type": "display_data"
    }
   ],
   "source": [
    "plt.figure(figsize=(15,8))\n",
    "ax=sns.countplot(x='Payment Method',data=churn,order=['Electronic check', 'Mailed check',\n",
    "                  'Bank transfer (automatic)', 'Credit card (automatic)'])\n",
    "for p in ax.patches:\n",
    "   ax.annotate('{:.1f}'.format(p.get_height()), (p.get_x()+0.25, p.get_height()+0.01))"
   ]
  },
  {
   "cell_type": "code",
   "execution_count": null,
   "id": "8a62da3d",
   "metadata": {
    "papermill": {
     "duration": 0.062347,
     "end_time": "2022-04-08T15:36:21.091951",
     "exception": false,
     "start_time": "2022-04-08T15:36:21.029604",
     "status": "completed"
    },
    "tags": []
   },
   "outputs": [],
   "source": []
  },
  {
   "cell_type": "markdown",
   "id": "4020d517",
   "metadata": {
    "papermill": {
     "duration": 0.061818,
     "end_time": "2022-04-08T15:36:21.216021",
     "exception": false,
     "start_time": "2022-04-08T15:36:21.154203",
     "status": "completed"
    },
    "tags": []
   },
   "source": [
    "# Q10: Please create an appropriate plot to see the relationship between monthly charges and total charges."
   ]
  },
  {
   "cell_type": "code",
   "execution_count": 26,
   "id": "e91bc21c",
   "metadata": {
    "execution": {
     "iopub.execute_input": "2022-04-08T15:36:21.344814Z",
     "iopub.status.busy": "2022-04-08T15:36:21.344084Z",
     "iopub.status.idle": "2022-04-08T15:36:22.703383Z",
     "shell.execute_reply": "2022-04-08T15:36:22.703882Z",
     "shell.execute_reply.started": "2022-04-08T12:13:51.358266Z"
    },
    "papermill": {
     "duration": 1.425559,
     "end_time": "2022-04-08T15:36:22.704054",
     "exception": false,
     "start_time": "2022-04-08T15:36:21.278495",
     "status": "completed"
    },
    "tags": []
   },
   "outputs": [
    {
     "data": {
      "text/plain": [
       "<seaborn.axisgrid.JointGrid at 0x7fdc28429d50>"
      ]
     },
     "execution_count": 26,
     "metadata": {},
     "output_type": "execute_result"
    },
    {
     "data": {
      "image/png": "[encoded data removed]",
      "text/plain": [
       "<Figure size 432x432 with 3 Axes>"
      ]
     },
     "metadata": {},
     "output_type": "display_data"
    }
   ],
   "source": [
    "sns.set_theme(style=\"darkgrid\")\n",
    "sns.jointplot(data=churn, y=\"Monthly Charges\", x=\"Total Charges\",\n",
    "                  kind=\"reg\",palette=\"Set2\",color='r')"
   ]
  },
  {
   "cell_type": "code",
   "execution_count": 27,
   "id": "fab278e5",
   "metadata": {
    "execution": {
     "iopub.execute_input": "2022-04-08T15:36:22.846944Z",
     "iopub.status.busy": "2022-04-08T15:36:22.845958Z",
     "iopub.status.idle": "2022-04-08T15:36:22.852138Z",
     "shell.execute_reply": "2022-04-08T15:36:22.852862Z",
     "shell.execute_reply.started": "2022-04-08T15:28:18.807240Z"
    },
    "papermill": {
     "duration": 0.083212,
     "end_time": "2022-04-08T15:36:22.853083",
     "exception": false,
     "start_time": "2022-04-08T15:36:22.769871",
     "status": "completed"
    },
    "tags": []
   },
   "outputs": [],
   "source": [
    "churn_new=churn.copy(deep=True)"
   ]
  },
  {
   "cell_type": "code",
   "execution_count": 28,
   "id": "b4b81ffa",
   "metadata": {
    "execution": {
     "iopub.execute_input": "2022-04-08T15:36:22.998949Z",
     "iopub.status.busy": "2022-04-08T15:36:22.998263Z",
     "iopub.status.idle": "2022-04-08T15:36:23.002888Z",
     "shell.execute_reply": "2022-04-08T15:36:23.003423Z",
     "shell.execute_reply.started": "2022-04-08T15:28:20.633286Z"
    },
    "papermill": {
     "duration": 0.074039,
     "end_time": "2022-04-08T15:36:23.003596",
     "exception": false,
     "start_time": "2022-04-08T15:36:22.929557",
     "status": "completed"
    },
    "tags": []
   },
   "outputs": [],
   "source": [
    "x3=churn_new['Tenure Months']"
   ]
  },
  {
   "cell_type": "code",
   "execution_count": 29,
   "id": "16d7c1fe",
   "metadata": {
    "execution": {
     "iopub.execute_input": "2022-04-08T15:36:23.138237Z",
     "iopub.status.busy": "2022-04-08T15:36:23.137647Z",
     "iopub.status.idle": "2022-04-08T15:36:23.141082Z",
     "shell.execute_reply": "2022-04-08T15:36:23.141669Z",
     "shell.execute_reply.started": "2022-04-08T15:25:13.882213Z"
    },
    "papermill": {
     "duration": 0.071796,
     "end_time": "2022-04-08T15:36:23.141865",
     "exception": false,
     "start_time": "2022-04-08T15:36:23.070069",
     "status": "completed"
    },
    "tags": []
   },
   "outputs": [],
   "source": [
    "x=churn_new['Tenure Months'].values.reshape(-1, 1)"
   ]
  },
  {
   "cell_type": "code",
   "execution_count": 30,
   "id": "e7223540",
   "metadata": {
    "execution": {
     "iopub.execute_input": "2022-04-08T15:36:23.278933Z",
     "iopub.status.busy": "2022-04-08T15:36:23.278020Z",
     "iopub.status.idle": "2022-04-08T15:36:23.281909Z",
     "shell.execute_reply": "2022-04-08T15:36:23.282425Z",
     "shell.execute_reply.started": "2022-04-08T15:26:16.048133Z"
    },
    "papermill": {
     "duration": 0.074856,
     "end_time": "2022-04-08T15:36:23.282600",
     "exception": false,
     "start_time": "2022-04-08T15:36:23.207744",
     "status": "completed"
    },
    "tags": []
   },
   "outputs": [],
   "source": [
    "x1=churn_new['Tenure Months'].values.reshape(-1, 1)"
   ]
  },
  {
   "cell_type": "code",
   "execution_count": 31,
   "id": "ce4c16c6",
   "metadata": {
    "execution": {
     "iopub.execute_input": "2022-04-08T15:36:23.419305Z",
     "iopub.status.busy": "2022-04-08T15:36:23.417390Z",
     "iopub.status.idle": "2022-04-08T15:36:23.569358Z",
     "shell.execute_reply": "2022-04-08T15:36:23.569847Z",
     "shell.execute_reply.started": "2022-04-08T15:20:53.830631Z"
    },
    "papermill": {
     "duration": 0.221436,
     "end_time": "2022-04-08T15:36:23.570023",
     "exception": false,
     "start_time": "2022-04-08T15:36:23.348587",
     "status": "completed"
    },
    "tags": []
   },
   "outputs": [],
   "source": [
    "from sklearn.preprocessing import quantile_transform\n",
    "y=quantile_transform(x, n_quantiles=10, random_state=0, copy=True)"
   ]
  },
  {
   "cell_type": "code",
   "execution_count": 32,
   "id": "9141477a",
   "metadata": {
    "execution": {
     "iopub.execute_input": "2022-04-08T15:36:23.706342Z",
     "iopub.status.busy": "2022-04-08T15:36:23.705673Z",
     "iopub.status.idle": "2022-04-08T15:36:23.708119Z",
     "shell.execute_reply": "2022-04-08T15:36:23.708635Z",
     "shell.execute_reply.started": "2022-04-08T15:21:40.720755Z"
    },
    "papermill": {
     "duration": 0.073432,
     "end_time": "2022-04-08T15:36:23.708802",
     "exception": false,
     "start_time": "2022-04-08T15:36:23.635370",
     "status": "completed"
    },
    "tags": []
   },
   "outputs": [
    {
     "data": {
      "text/plain": [
       "(7043, 1)"
      ]
     },
     "execution_count": 32,
     "metadata": {},
     "output_type": "execute_result"
    }
   ],
   "source": [
    "y.shape"
   ]
  },
  {
   "cell_type": "code",
   "execution_count": 33,
   "id": "8953eace",
   "metadata": {
    "execution": {
     "iopub.execute_input": "2022-04-08T15:36:23.845404Z",
     "iopub.status.busy": "2022-04-08T15:36:23.844757Z",
     "iopub.status.idle": "2022-04-08T15:36:24.202339Z",
     "shell.execute_reply": "2022-04-08T15:36:24.202910Z",
     "shell.execute_reply.started": "2022-04-08T15:20:59.669109Z"
    },
    "papermill": {
     "duration": 0.428672,
     "end_time": "2022-04-08T15:36:24.203095",
     "exception": false,
     "start_time": "2022-04-08T15:36:23.774423",
     "status": "completed"
    },
    "tags": []
   },
   "outputs": [
    {
     "data": {
      "image/png": "[encoded data removed]",
      "text/plain": [
       "<Figure size 842.4x288 with 1 Axes>"
      ]
     },
     "metadata": {},
     "output_type": "display_data"
    }
   ],
   "source": [
    "ax1 = sns.histplot(y,kde=True,color=\"y\",stat='percent',bins=5)"
   ]
  },
  {
   "cell_type": "code",
   "execution_count": 34,
   "id": "afdbbfcf",
   "metadata": {
    "execution": {
     "iopub.execute_input": "2022-04-08T15:36:24.349700Z",
     "iopub.status.busy": "2022-04-08T15:36:24.348296Z",
     "iopub.status.idle": "2022-04-08T15:36:24.364825Z",
     "shell.execute_reply": "2022-04-08T15:36:24.364240Z",
     "shell.execute_reply.started": "2022-04-08T15:26:41.905467Z"
    },
    "papermill": {
     "duration": 0.092518,
     "end_time": "2022-04-08T15:36:24.364999",
     "exception": false,
     "start_time": "2022-04-08T15:36:24.272481",
     "status": "completed"
    },
    "tags": []
   },
   "outputs": [],
   "source": [
    "from sklearn.preprocessing import power_transform\n",
    "box=power_transform(x1, method='yeo-johnson')"
   ]
  },
  {
   "cell_type": "code",
   "execution_count": 35,
   "id": "1412cdab",
   "metadata": {
    "execution": {
     "iopub.execute_input": "2022-04-08T15:36:24.518088Z",
     "iopub.status.busy": "2022-04-08T15:36:24.514687Z",
     "iopub.status.idle": "2022-04-08T15:36:24.931363Z",
     "shell.execute_reply": "2022-04-08T15:36:24.932016Z",
     "shell.execute_reply.started": "2022-04-08T15:27:00.031085Z"
    },
    "papermill": {
     "duration": 0.495031,
     "end_time": "2022-04-08T15:36:24.932220",
     "exception": false,
     "start_time": "2022-04-08T15:36:24.437189",
     "status": "completed"
    },
    "tags": []
   },
   "outputs": [
    {
     "data": {
      "image/png": "[encoded data removed]",
      "text/plain": [
       "<Figure size 842.4x288 with 1 Axes>"
      ]
     },
     "metadata": {},
     "output_type": "display_data"
    }
   ],
   "source": [
    "ax = sns.histplot(box,kde=True,color=\"y\",stat='percent',bins=5)"
   ]
  },
  {
   "cell_type": "code",
   "execution_count": 36,
   "id": "47ae5bf5",
   "metadata": {
    "execution": {
     "iopub.execute_input": "2022-04-08T15:36:25.080065Z",
     "iopub.status.busy": "2022-04-08T15:36:25.079379Z",
     "iopub.status.idle": "2022-04-08T15:36:25.433937Z",
     "shell.execute_reply": "2022-04-08T15:36:25.434434Z",
     "shell.execute_reply.started": "2022-04-08T15:33:57.796755Z"
    },
    "papermill": {
     "duration": 0.4312,
     "end_time": "2022-04-08T15:36:25.434628",
     "exception": false,
     "start_time": "2022-04-08T15:36:25.003428",
     "status": "completed"
    },
    "tags": []
   },
   "outputs": [
    {
     "data": {
      "image/png": "[encoded data removed]",
      "text/plain": [
       "<Figure size 842.4x288 with 1 Axes>"
      ]
     },
     "metadata": {},
     "output_type": "display_data"
    }
   ],
   "source": [
    "from scipy import stats\n",
    "\n",
    "x3=x3.replace(0,1)\n",
    "# transform training data & save lambda value\n",
    "fitted_data, fitted_lambda = stats.boxcox(x3)\n",
    "ax = sns.histplot(fitted_data,kde=True,color=\"y\",stat='percent',bins=5)"
   ]
  },
  {
   "cell_type": "code",
   "execution_count": 37,
   "id": "d141e28f",
   "metadata": {
    "execution": {
     "iopub.execute_input": "2022-04-08T15:36:25.584498Z",
     "iopub.status.busy": "2022-04-08T15:36:25.583735Z",
     "iopub.status.idle": "2022-04-08T15:36:25.586620Z",
     "shell.execute_reply": "2022-04-08T15:36:25.587134Z",
     "shell.execute_reply.started": "2022-04-08T15:31:14.973753Z"
    },
    "papermill": {
     "duration": 0.081965,
     "end_time": "2022-04-08T15:36:25.587333",
     "exception": false,
     "start_time": "2022-04-08T15:36:25.505368",
     "status": "completed"
    },
    "tags": []
   },
   "outputs": [
    {
     "data": {
      "text/plain": [
       "(7043,)"
      ]
     },
     "execution_count": 37,
     "metadata": {},
     "output_type": "execute_result"
    }
   ],
   "source": [
    "x3.shape"
   ]
  },
  {
   "cell_type": "code",
   "execution_count": null,
   "id": "55a249df",
   "metadata": {
    "execution": {
     "iopub.execute_input": "2022-04-08T15:33:34.323916Z",
     "iopub.status.busy": "2022-04-08T15:33:34.323425Z",
     "iopub.status.idle": "2022-04-08T15:33:34.328555Z",
     "shell.execute_reply": "2022-04-08T15:33:34.327949Z",
     "shell.execute_reply.started": "2022-04-08T15:33:34.323865Z"
    },
    "papermill": {
     "duration": 0.071383,
     "end_time": "2022-04-08T15:36:25.729247",
     "exception": false,
     "start_time": "2022-04-08T15:36:25.657864",
     "status": "completed"
    },
    "tags": []
   },
   "outputs": [],
   "source": []
  }
 ],
 "metadata": {
  "kernelspec": {
   "display_name": "Python 3",
   "language": "python",
   "name": "python3"
  },
  "language_info": {
   "codemirror_mode": {
    "name": "ipython",
    "version": 3
   },
   "file_extension": ".py",
   "mimetype": "text/x-python",
   "name": "python",
   "nbconvert_exporter": "python",
   "pygments_lexer": "ipython3",
   "version": "3.7.12"
  },
  "papermill": {
   "default_parameters": {},
   "duration": 24.024346,
   "end_time": "2022-04-08T15:36:26.717416",
   "environment_variables": {},
   "exception": null,
   "input_path": "__notebook__.ipynb",
   "output_path": "__notebook__.ipynb",
   "parameters": {},
   "start_time": "2022-04-08T15:36:02.693070",
   "version": "2.3.3"
  }
 },
 "nbformat": 4,
 "nbformat_minor": 5
}
