{
 "cells": [
  {
   "cell_type": "code",
   "execution_count": 1,
   "id": "92a91832",
   "metadata": {
    "_cell_guid": "b1076dfc-b9ad-4769-8c92-a6c4dae69d19",
    "_uuid": "8f2839f25d086af736a60e9eeb907d3b93b6e0e5",
    "execution": {
     "iopub.execute_input": "2022-04-08T14:47:04.754311Z",
     "iopub.status.busy": "2022-04-08T14:47:04.753198Z",
     "iopub.status.idle": "2022-04-08T14:47:04.769342Z",
     "shell.execute_reply": "2022-04-08T14:47:04.769890Z",
     "shell.execute_reply.started": "2022-04-08T12:06:31.566512Z"
    },
    "papermill": {
     "duration": 0.051143,
     "end_time": "2022-04-08T14:47:04.770173",
     "exception": false,
     "start_time": "2022-04-08T14:47:04.719030",
     "status": "completed"
    },
    "tags": []
   },
   "outputs": [
    {
     "name": "stdout",
     "output_type": "stream",
     "text": [
      "/kaggle/input/customer-churn/Telco_customer_churn.xlsx - Telco_Churn.csv\n"
     ]
    }
   ],
   "source": [
    "# This Python 3 environment comes with many helpful analytics libraries installed\n",
    "# It is defined by the kaggle/python Docker image: https://github.com/kaggle/docker-python\n",
    "# For example, here's several helpful packages to load\n",
    "\n",
    "import numpy as np # linear algebra\n",
    "import pandas as pd # data processing, CSV file I/O (e.g. pd.read_csv)\n",
    "\n",
    "# Input data files are available in the read-only \"../input/\" directory\n",
    "# For example, running this (by clicking run or pressing Shift+Enter) will list all files under the input directory\n",
    "\n",
    "import os\n",
    "for dirname, _, filenames in os.walk('/kaggle/input'):\n",
    "    for filename in filenames:\n",
    "        print(os.path.join(dirname, filename))\n",
    "\n",
    "# You can write up to 20GB to the current directory (/kaggle/working/) that gets preserved as output when you create a version using \"Save & Run All\" \n",
    "# You can also write temporary files to /kaggle/temp/, but they won't be saved outside of the current session"
   ]
  },
  {
   "cell_type": "code",
   "execution_count": 2,
   "id": "081f224d",
   "metadata": {
    "execution": {
     "iopub.execute_input": "2022-04-08T14:47:04.834443Z",
     "iopub.status.busy": "2022-04-08T14:47:04.833854Z",
     "iopub.status.idle": "2022-04-08T14:47:05.859331Z",
     "shell.execute_reply": "2022-04-08T14:47:05.859796Z",
     "shell.execute_reply.started": "2022-04-08T12:06:38.075257Z"
    },
    "papermill": {
     "duration": 1.059339,
     "end_time": "2022-04-08T14:47:05.859974",
     "exception": false,
     "start_time": "2022-04-08T14:47:04.800635",
     "status": "completed"
    },
    "tags": []
   },
   "outputs": [],
   "source": [
    "import matplotlib.pyplot as plt\n",
    "import seaborn as sns"
   ]
  },
  {
   "cell_type": "code",
   "execution_count": 3,
   "id": "e5482a91",
   "metadata": {
    "execution": {
     "iopub.execute_input": "2022-04-08T14:47:05.924376Z",
     "iopub.status.busy": "2022-04-08T14:47:05.923482Z",
     "iopub.status.idle": "2022-04-08T14:47:06.003591Z",
     "shell.execute_reply": "2022-04-08T14:47:06.004367Z",
     "shell.execute_reply.started": "2022-04-08T12:06:40.697413Z"
    },
    "papermill": {
     "duration": 0.113771,
     "end_time": "2022-04-08T14:47:06.004546",
     "exception": false,
     "start_time": "2022-04-08T14:47:05.890775",
     "status": "completed"
    },
    "tags": []
   },
   "outputs": [],
   "source": [
    "filepath='/kaggle/input/customer-churn/Telco_customer_churn.xlsx - Telco_Churn.csv'\n",
    "churn=pd.read_csv(filepath)"
   ]
  },
  {
   "cell_type": "code",
   "execution_count": 4,
   "id": "07186df1",
   "metadata": {
    "execution": {
     "iopub.execute_input": "2022-04-08T14:47:06.073418Z",
     "iopub.status.busy": "2022-04-08T14:47:06.067226Z",
     "iopub.status.idle": "2022-04-08T14:47:06.081565Z",
     "shell.execute_reply": "2022-04-08T14:47:06.082031Z",
     "shell.execute_reply.started": "2022-04-08T12:06:59.711371Z"
    },
    "papermill": {
     "duration": 0.04681,
     "end_time": "2022-04-08T14:47:06.082212",
     "exception": false,
     "start_time": "2022-04-08T14:47:06.035402",
     "status": "completed"
    },
    "tags": []
   },
   "outputs": [],
   "source": [
    "remove=['Count','Lat Long','Country','State','Churn Reason','Latitude', 'Longitude']   \n",
    "churn.drop(columns=remove,inplace=True)"
   ]
  },
  {
   "cell_type": "code",
   "execution_count": 5,
   "id": "08e258b7",
   "metadata": {
    "execution": {
     "iopub.execute_input": "2022-04-08T14:47:06.145218Z",
     "iopub.status.busy": "2022-04-08T14:47:06.144584Z",
     "iopub.status.idle": "2022-04-08T14:47:06.148754Z",
     "shell.execute_reply": "2022-04-08T14:47:06.149225Z",
     "shell.execute_reply.started": "2022-04-08T12:07:10.301886Z"
    },
    "papermill": {
     "duration": 0.03708,
     "end_time": "2022-04-08T14:47:06.149404",
     "exception": false,
     "start_time": "2022-04-08T14:47:06.112324",
     "status": "completed"
    },
    "tags": []
   },
   "outputs": [],
   "source": [
    "churn_test=churn.copy(deep=True)"
   ]
  },
  {
   "cell_type": "code",
   "execution_count": 6,
   "id": "b4b8722d",
   "metadata": {
    "execution": {
     "iopub.execute_input": "2022-04-08T14:47:06.213068Z",
     "iopub.status.busy": "2022-04-08T14:47:06.212529Z",
     "iopub.status.idle": "2022-04-08T14:47:06.231641Z",
     "shell.execute_reply": "2022-04-08T14:47:06.232027Z",
     "shell.execute_reply.started": "2022-04-08T12:07:20.685104Z"
    },
    "papermill": {
     "duration": 0.051604,
     "end_time": "2022-04-08T14:47:06.232203",
     "exception": false,
     "start_time": "2022-04-08T14:47:06.180599",
     "status": "completed"
    },
    "tags": []
   },
   "outputs": [
    {
     "data": {
      "text/html": [
       "<div>\n",
       "<style scoped>\n",
       "    .dataframe tbody tr th:only-of-type {\n",
       "        vertical-align: middle;\n",
       "    }\n",
       "\n",
       "    .dataframe tbody tr th {\n",
       "        vertical-align: top;\n",
       "    }\n",
       "\n",
       "    .dataframe thead th {\n",
       "        text-align: right;\n",
       "    }\n",
       "</style>\n",
       "<table border=\"1\" class=\"dataframe\">\n",
       "  <thead>\n",
       "    <tr style=\"text-align: right;\">\n",
       "      <th></th>\n",
       "      <th>0</th>\n",
       "      <th>1</th>\n",
       "      <th>2</th>\n",
       "      <th>3</th>\n",
       "      <th>4</th>\n",
       "    </tr>\n",
       "  </thead>\n",
       "  <tbody>\n",
       "    <tr>\n",
       "      <th>CustomerID</th>\n",
       "      <td>3668-QPYBK</td>\n",
       "      <td>9237-HQITU</td>\n",
       "      <td>9305-CDSKC</td>\n",
       "      <td>7892-POOKP</td>\n",
       "      <td>0280-XJGEX</td>\n",
       "    </tr>\n",
       "    <tr>\n",
       "      <th>City</th>\n",
       "      <td>Los Angeles</td>\n",
       "      <td>Los Angeles</td>\n",
       "      <td>Los Angeles</td>\n",
       "      <td>Los Angeles</td>\n",
       "      <td>Los Angeles</td>\n",
       "    </tr>\n",
       "    <tr>\n",
       "      <th>Zip Code</th>\n",
       "      <td>90003</td>\n",
       "      <td>90005</td>\n",
       "      <td>90006</td>\n",
       "      <td>90010</td>\n",
       "      <td>90015</td>\n",
       "    </tr>\n",
       "    <tr>\n",
       "      <th>Gender</th>\n",
       "      <td>Male</td>\n",
       "      <td>Female</td>\n",
       "      <td>Female</td>\n",
       "      <td>Female</td>\n",
       "      <td>Male</td>\n",
       "    </tr>\n",
       "    <tr>\n",
       "      <th>Senior Citizen</th>\n",
       "      <td>No</td>\n",
       "      <td>No</td>\n",
       "      <td>No</td>\n",
       "      <td>No</td>\n",
       "      <td>No</td>\n",
       "    </tr>\n",
       "    <tr>\n",
       "      <th>Partner</th>\n",
       "      <td>No</td>\n",
       "      <td>No</td>\n",
       "      <td>No</td>\n",
       "      <td>Yes</td>\n",
       "      <td>No</td>\n",
       "    </tr>\n",
       "    <tr>\n",
       "      <th>Dependents</th>\n",
       "      <td>No</td>\n",
       "      <td>Yes</td>\n",
       "      <td>Yes</td>\n",
       "      <td>Yes</td>\n",
       "      <td>Yes</td>\n",
       "    </tr>\n",
       "    <tr>\n",
       "      <th>Tenure Months</th>\n",
       "      <td>2</td>\n",
       "      <td>2</td>\n",
       "      <td>8</td>\n",
       "      <td>28</td>\n",
       "      <td>49</td>\n",
       "    </tr>\n",
       "    <tr>\n",
       "      <th>Phone Service</th>\n",
       "      <td>Yes</td>\n",
       "      <td>Yes</td>\n",
       "      <td>Yes</td>\n",
       "      <td>Yes</td>\n",
       "      <td>Yes</td>\n",
       "    </tr>\n",
       "    <tr>\n",
       "      <th>Multiple Lines</th>\n",
       "      <td>No</td>\n",
       "      <td>No</td>\n",
       "      <td>Yes</td>\n",
       "      <td>Yes</td>\n",
       "      <td>Yes</td>\n",
       "    </tr>\n",
       "    <tr>\n",
       "      <th>Internet Service</th>\n",
       "      <td>DSL</td>\n",
       "      <td>Fiber optic</td>\n",
       "      <td>Fiber optic</td>\n",
       "      <td>Fiber optic</td>\n",
       "      <td>Fiber optic</td>\n",
       "    </tr>\n",
       "    <tr>\n",
       "      <th>Online Security</th>\n",
       "      <td>Yes</td>\n",
       "      <td>No</td>\n",
       "      <td>No</td>\n",
       "      <td>No</td>\n",
       "      <td>No</td>\n",
       "    </tr>\n",
       "    <tr>\n",
       "      <th>Online Backup</th>\n",
       "      <td>Yes</td>\n",
       "      <td>No</td>\n",
       "      <td>No</td>\n",
       "      <td>No</td>\n",
       "      <td>Yes</td>\n",
       "    </tr>\n",
       "    <tr>\n",
       "      <th>Device Protection</th>\n",
       "      <td>No</td>\n",
       "      <td>No</td>\n",
       "      <td>Yes</td>\n",
       "      <td>Yes</td>\n",
       "      <td>Yes</td>\n",
       "    </tr>\n",
       "    <tr>\n",
       "      <th>Tech Support</th>\n",
       "      <td>No</td>\n",
       "      <td>No</td>\n",
       "      <td>No</td>\n",
       "      <td>Yes</td>\n",
       "      <td>No</td>\n",
       "    </tr>\n",
       "    <tr>\n",
       "      <th>Streaming TV</th>\n",
       "      <td>No</td>\n",
       "      <td>No</td>\n",
       "      <td>Yes</td>\n",
       "      <td>Yes</td>\n",
       "      <td>Yes</td>\n",
       "    </tr>\n",
       "    <tr>\n",
       "      <th>Streaming Movies</th>\n",
       "      <td>No</td>\n",
       "      <td>No</td>\n",
       "      <td>Yes</td>\n",
       "      <td>Yes</td>\n",
       "      <td>Yes</td>\n",
       "    </tr>\n",
       "    <tr>\n",
       "      <th>Contract</th>\n",
       "      <td>Month-to-month</td>\n",
       "      <td>Month-to-month</td>\n",
       "      <td>Month-to-month</td>\n",
       "      <td>Month-to-month</td>\n",
       "      <td>Month-to-month</td>\n",
       "    </tr>\n",
       "    <tr>\n",
       "      <th>Paperless Billing</th>\n",
       "      <td>Yes</td>\n",
       "      <td>Yes</td>\n",
       "      <td>Yes</td>\n",
       "      <td>Yes</td>\n",
       "      <td>Yes</td>\n",
       "    </tr>\n",
       "    <tr>\n",
       "      <th>Payment Method</th>\n",
       "      <td>Mailed check</td>\n",
       "      <td>Electronic check</td>\n",
       "      <td>Electronic check</td>\n",
       "      <td>Electronic check</td>\n",
       "      <td>Bank transfer (automatic)</td>\n",
       "    </tr>\n",
       "    <tr>\n",
       "      <th>Monthly Charges</th>\n",
       "      <td>53.85</td>\n",
       "      <td>70.7</td>\n",
       "      <td>99.65</td>\n",
       "      <td>104.8</td>\n",
       "      <td>103.7</td>\n",
       "    </tr>\n",
       "    <tr>\n",
       "      <th>Total Charges</th>\n",
       "      <td>108.15</td>\n",
       "      <td>151.65</td>\n",
       "      <td>820.5</td>\n",
       "      <td>3046.05</td>\n",
       "      <td>5036.3</td>\n",
       "    </tr>\n",
       "    <tr>\n",
       "      <th>Churn Label</th>\n",
       "      <td>Yes</td>\n",
       "      <td>Yes</td>\n",
       "      <td>Yes</td>\n",
       "      <td>Yes</td>\n",
       "      <td>Yes</td>\n",
       "    </tr>\n",
       "    <tr>\n",
       "      <th>Churn Value</th>\n",
       "      <td>1</td>\n",
       "      <td>1</td>\n",
       "      <td>1</td>\n",
       "      <td>1</td>\n",
       "      <td>1</td>\n",
       "    </tr>\n",
       "    <tr>\n",
       "      <th>Churn Score</th>\n",
       "      <td>86</td>\n",
       "      <td>67</td>\n",
       "      <td>86</td>\n",
       "      <td>84</td>\n",
       "      <td>89</td>\n",
       "    </tr>\n",
       "    <tr>\n",
       "      <th>CLTV</th>\n",
       "      <td>3239</td>\n",
       "      <td>2701</td>\n",
       "      <td>5372</td>\n",
       "      <td>5003</td>\n",
       "      <td>5340</td>\n",
       "    </tr>\n",
       "  </tbody>\n",
       "</table>\n",
       "</div>"
      ],
      "text/plain": [
       "                                0                 1                 2  \\\n",
       "CustomerID             3668-QPYBK        9237-HQITU        9305-CDSKC   \n",
       "City                  Los Angeles       Los Angeles       Los Angeles   \n",
       "Zip Code                    90003             90005             90006   \n",
       "Gender                       Male            Female            Female   \n",
       "Senior Citizen                 No                No                No   \n",
       "Partner                        No                No                No   \n",
       "Dependents                     No               Yes               Yes   \n",
       "Tenure Months                   2                 2                 8   \n",
       "Phone Service                 Yes               Yes               Yes   \n",
       "Multiple Lines                 No                No               Yes   \n",
       "Internet Service              DSL       Fiber optic       Fiber optic   \n",
       "Online Security               Yes                No                No   \n",
       "Online Backup                 Yes                No                No   \n",
       "Device Protection              No                No               Yes   \n",
       "Tech Support                   No                No                No   \n",
       "Streaming TV                   No                No               Yes   \n",
       "Streaming Movies               No                No               Yes   \n",
       "Contract           Month-to-month    Month-to-month    Month-to-month   \n",
       "Paperless Billing             Yes               Yes               Yes   \n",
       "Payment Method       Mailed check  Electronic check  Electronic check   \n",
       "Monthly Charges             53.85              70.7             99.65   \n",
       "Total Charges              108.15            151.65             820.5   \n",
       "Churn Label                   Yes               Yes               Yes   \n",
       "Churn Value                     1                 1                 1   \n",
       "Churn Score                    86                67                86   \n",
       "CLTV                         3239              2701              5372   \n",
       "\n",
       "                                  3                          4  \n",
       "CustomerID               7892-POOKP                 0280-XJGEX  \n",
       "City                    Los Angeles                Los Angeles  \n",
       "Zip Code                      90010                      90015  \n",
       "Gender                       Female                       Male  \n",
       "Senior Citizen                   No                         No  \n",
       "Partner                         Yes                         No  \n",
       "Dependents                      Yes                        Yes  \n",
       "Tenure Months                    28                         49  \n",
       "Phone Service                   Yes                        Yes  \n",
       "Multiple Lines                  Yes                        Yes  \n",
       "Internet Service        Fiber optic                Fiber optic  \n",
       "Online Security                  No                         No  \n",
       "Online Backup                    No                        Yes  \n",
       "Device Protection               Yes                        Yes  \n",
       "Tech Support                    Yes                         No  \n",
       "Streaming TV                    Yes                        Yes  \n",
       "Streaming Movies                Yes                        Yes  \n",
       "Contract             Month-to-month             Month-to-month  \n",
       "Paperless Billing               Yes                        Yes  \n",
       "Payment Method     Electronic check  Bank transfer (automatic)  \n",
       "Monthly Charges               104.8                      103.7  \n",
       "Total Charges               3046.05                     5036.3  \n",
       "Churn Label                     Yes                        Yes  \n",
       "Churn Value                       1                          1  \n",
       "Churn Score                      84                         89  \n",
       "CLTV                           5003                       5340  "
      ]
     },
     "execution_count": 6,
     "metadata": {},
     "output_type": "execute_result"
    }
   ],
   "source": [
    "churn.head().T"
   ]
  },
  {
   "cell_type": "code",
   "execution_count": 7,
   "id": "363fef38",
   "metadata": {
    "execution": {
     "iopub.execute_input": "2022-04-08T14:47:06.301428Z",
     "iopub.status.busy": "2022-04-08T14:47:06.300760Z",
     "iopub.status.idle": "2022-04-08T14:47:06.336127Z",
     "shell.execute_reply": "2022-04-08T14:47:06.335580Z",
     "shell.execute_reply.started": "2022-04-08T12:08:05.007754Z"
    },
    "papermill": {
     "duration": 0.073856,
     "end_time": "2022-04-08T14:47:06.336261",
     "exception": false,
     "start_time": "2022-04-08T14:47:06.262405",
     "status": "completed"
    },
    "tags": []
   },
   "outputs": [],
   "source": [
    "col_obj=['Gender', 'Senior Citizen','Partner', 'Dependents', 'Phone Service',\n",
    "       'Multiple Lines', 'Internet Service', 'Online Security',\n",
    "       'Online Backup', 'Device Protection', 'Tech Support', 'Streaming TV',\n",
    "       'Streaming Movies', 'Contract', 'Paperless Billing', 'Payment Method',\n",
    "        'Churn Label', 'Churn Value','Zip Code','City']\n",
    "\n",
    "for col in col_obj:\n",
    "    churn[col] = churn[col].astype('category')"
   ]
  },
  {
   "cell_type": "code",
   "execution_count": 8,
   "id": "a2cd3ef7",
   "metadata": {
    "execution": {
     "iopub.execute_input": "2022-04-08T14:47:06.406339Z",
     "iopub.status.busy": "2022-04-08T14:47:06.405642Z",
     "iopub.status.idle": "2022-04-08T14:47:06.408316Z",
     "shell.execute_reply": "2022-04-08T14:47:06.407853Z",
     "shell.execute_reply.started": "2022-04-08T12:08:17.750149Z"
    },
    "papermill": {
     "duration": 0.041708,
     "end_time": "2022-04-08T14:47:06.408458",
     "exception": false,
     "start_time": "2022-04-08T14:47:06.366750",
     "status": "completed"
    },
    "tags": []
   },
   "outputs": [],
   "source": [
    "churn['Total Charges']=pd.to_numeric(churn['Total Charges'], downcast=\"float\",errors='coerce')"
   ]
  },
  {
   "cell_type": "markdown",
   "id": "bda684a3",
   "metadata": {
    "papermill": {
     "duration": 0.030815,
     "end_time": "2022-04-08T14:47:06.469421",
     "exception": false,
     "start_time": "2022-04-08T14:47:06.438606",
     "status": "completed"
    },
    "tags": []
   },
   "source": [
    "# Q1: Please read the file and explain data types statistically as well as how python is reading it. Please let us know if any data type is read wrong."
   ]
  },
  {
   "cell_type": "code",
   "execution_count": null,
   "id": "5ab78041",
   "metadata": {
    "papermill": {
     "duration": 0.029641,
     "end_time": "2022-04-08T14:47:06.528800",
     "exception": false,
     "start_time": "2022-04-08T14:47:06.499159",
     "status": "completed"
    },
    "tags": []
   },
   "outputs": [],
   "source": []
  },
  {
   "cell_type": "code",
   "execution_count": null,
   "id": "4b094581",
   "metadata": {
    "papermill": {
     "duration": 0.02984,
     "end_time": "2022-04-08T14:47:06.588878",
     "exception": false,
     "start_time": "2022-04-08T14:47:06.559038",
     "status": "completed"
    },
    "tags": []
   },
   "outputs": [],
   "source": []
  },
  {
   "cell_type": "markdown",
   "id": "3af8171c",
   "metadata": {
    "papermill": {
     "duration": 0.029622,
     "end_time": "2022-04-08T14:47:06.648329",
     "exception": false,
     "start_time": "2022-04-08T14:47:06.618707",
     "status": "completed"
    },
    "tags": []
   },
   "source": [
    "# Q2: Please apply appropriate statistical measures using python based on data types."
   ]
  },
  {
   "cell_type": "code",
   "execution_count": 9,
   "id": "717e23e7",
   "metadata": {
    "execution": {
     "iopub.execute_input": "2022-04-08T14:47:06.713372Z",
     "iopub.status.busy": "2022-04-08T14:47:06.712763Z",
     "iopub.status.idle": "2022-04-08T14:47:06.741897Z",
     "shell.execute_reply": "2022-04-08T14:47:06.741350Z",
     "shell.execute_reply.started": "2022-04-08T14:45:27.247720Z"
    },
    "papermill": {
     "duration": 0.063748,
     "end_time": "2022-04-08T14:47:06.742020",
     "exception": false,
     "start_time": "2022-04-08T14:47:06.678272",
     "status": "completed"
    },
    "tags": []
   },
   "outputs": [
    {
     "data": {
      "text/html": [
       "<div>\n",
       "<style scoped>\n",
       "    .dataframe tbody tr th:only-of-type {\n",
       "        vertical-align: middle;\n",
       "    }\n",
       "\n",
       "    .dataframe tbody tr th {\n",
       "        vertical-align: top;\n",
       "    }\n",
       "\n",
       "    .dataframe thead th {\n",
       "        text-align: right;\n",
       "    }\n",
       "</style>\n",
       "<table border=\"1\" class=\"dataframe\">\n",
       "  <thead>\n",
       "    <tr style=\"text-align: right;\">\n",
       "      <th></th>\n",
       "      <th>Tenure Months</th>\n",
       "      <th>Monthly Charges</th>\n",
       "      <th>Total Charges</th>\n",
       "      <th>Churn Score</th>\n",
       "      <th>CLTV</th>\n",
       "    </tr>\n",
       "  </thead>\n",
       "  <tbody>\n",
       "    <tr>\n",
       "      <th>count</th>\n",
       "      <td>7043.000000</td>\n",
       "      <td>7043.000000</td>\n",
       "      <td>7032.000000</td>\n",
       "      <td>7043.000000</td>\n",
       "      <td>7043.000000</td>\n",
       "    </tr>\n",
       "    <tr>\n",
       "      <th>mean</th>\n",
       "      <td>32.371149</td>\n",
       "      <td>64.761692</td>\n",
       "      <td>2283.299561</td>\n",
       "      <td>58.699418</td>\n",
       "      <td>4400.295755</td>\n",
       "    </tr>\n",
       "    <tr>\n",
       "      <th>std</th>\n",
       "      <td>24.559481</td>\n",
       "      <td>30.090047</td>\n",
       "      <td>2266.770264</td>\n",
       "      <td>21.525131</td>\n",
       "      <td>1183.057152</td>\n",
       "    </tr>\n",
       "    <tr>\n",
       "      <th>min</th>\n",
       "      <td>0.000000</td>\n",
       "      <td>18.250000</td>\n",
       "      <td>18.799999</td>\n",
       "      <td>5.000000</td>\n",
       "      <td>2003.000000</td>\n",
       "    </tr>\n",
       "    <tr>\n",
       "      <th>25%</th>\n",
       "      <td>9.000000</td>\n",
       "      <td>35.500000</td>\n",
       "      <td>401.450012</td>\n",
       "      <td>40.000000</td>\n",
       "      <td>3469.000000</td>\n",
       "    </tr>\n",
       "    <tr>\n",
       "      <th>50%</th>\n",
       "      <td>29.000000</td>\n",
       "      <td>70.350000</td>\n",
       "      <td>1397.475098</td>\n",
       "      <td>61.000000</td>\n",
       "      <td>4527.000000</td>\n",
       "    </tr>\n",
       "    <tr>\n",
       "      <th>75%</th>\n",
       "      <td>55.000000</td>\n",
       "      <td>89.850000</td>\n",
       "      <td>3794.737549</td>\n",
       "      <td>75.000000</td>\n",
       "      <td>5380.500000</td>\n",
       "    </tr>\n",
       "    <tr>\n",
       "      <th>max</th>\n",
       "      <td>72.000000</td>\n",
       "      <td>118.750000</td>\n",
       "      <td>8684.799805</td>\n",
       "      <td>100.000000</td>\n",
       "      <td>6500.000000</td>\n",
       "    </tr>\n",
       "  </tbody>\n",
       "</table>\n",
       "</div>"
      ],
      "text/plain": [
       "       Tenure Months  Monthly Charges  Total Charges  Churn Score         CLTV\n",
       "count    7043.000000      7043.000000    7032.000000  7043.000000  7043.000000\n",
       "mean       32.371149        64.761692    2283.299561    58.699418  4400.295755\n",
       "std        24.559481        30.090047    2266.770264    21.525131  1183.057152\n",
       "min         0.000000        18.250000      18.799999     5.000000  2003.000000\n",
       "25%         9.000000        35.500000     401.450012    40.000000  3469.000000\n",
       "50%        29.000000        70.350000    1397.475098    61.000000  4527.000000\n",
       "75%        55.000000        89.850000    3794.737549    75.000000  5380.500000\n",
       "max        72.000000       118.750000    8684.799805   100.000000  6500.000000"
      ]
     },
     "execution_count": 9,
     "metadata": {},
     "output_type": "execute_result"
    }
   ],
   "source": [
    "churn.describe()"
   ]
  },
  {
   "cell_type": "code",
   "execution_count": 10,
   "id": "8e2b6487",
   "metadata": {
    "execution": {
     "iopub.execute_input": "2022-04-08T14:47:06.810207Z",
     "iopub.status.busy": "2022-04-08T14:47:06.809618Z",
     "iopub.status.idle": "2022-04-08T14:47:06.858173Z",
     "shell.execute_reply": "2022-04-08T14:47:06.857589Z",
     "shell.execute_reply.started": "2022-04-08T14:45:54.104742Z"
    },
    "papermill": {
     "duration": 0.085533,
     "end_time": "2022-04-08T14:47:06.858317",
     "exception": false,
     "start_time": "2022-04-08T14:47:06.772784",
     "status": "completed"
    },
    "tags": []
   },
   "outputs": [
    {
     "data": {
      "text/html": [
       "<div>\n",
       "<style scoped>\n",
       "    .dataframe tbody tr th:only-of-type {\n",
       "        vertical-align: middle;\n",
       "    }\n",
       "\n",
       "    .dataframe tbody tr th {\n",
       "        vertical-align: top;\n",
       "    }\n",
       "\n",
       "    .dataframe thead th {\n",
       "        text-align: right;\n",
       "    }\n",
       "</style>\n",
       "<table border=\"1\" class=\"dataframe\">\n",
       "  <thead>\n",
       "    <tr style=\"text-align: right;\">\n",
       "      <th></th>\n",
       "      <th>City</th>\n",
       "      <th>Zip Code</th>\n",
       "      <th>Gender</th>\n",
       "      <th>Senior Citizen</th>\n",
       "      <th>Partner</th>\n",
       "      <th>Dependents</th>\n",
       "      <th>Phone Service</th>\n",
       "      <th>Multiple Lines</th>\n",
       "      <th>Internet Service</th>\n",
       "      <th>Online Security</th>\n",
       "      <th>Online Backup</th>\n",
       "      <th>Device Protection</th>\n",
       "      <th>Tech Support</th>\n",
       "      <th>Streaming TV</th>\n",
       "      <th>Streaming Movies</th>\n",
       "      <th>Contract</th>\n",
       "      <th>Paperless Billing</th>\n",
       "      <th>Payment Method</th>\n",
       "      <th>Churn Label</th>\n",
       "      <th>Churn Value</th>\n",
       "    </tr>\n",
       "  </thead>\n",
       "  <tbody>\n",
       "    <tr>\n",
       "      <th>count</th>\n",
       "      <td>7043</td>\n",
       "      <td>7043</td>\n",
       "      <td>7043</td>\n",
       "      <td>7043</td>\n",
       "      <td>7043</td>\n",
       "      <td>7043</td>\n",
       "      <td>7043</td>\n",
       "      <td>7043</td>\n",
       "      <td>7043</td>\n",
       "      <td>7043</td>\n",
       "      <td>7043</td>\n",
       "      <td>7043</td>\n",
       "      <td>7043</td>\n",
       "      <td>7043</td>\n",
       "      <td>7043</td>\n",
       "      <td>7043</td>\n",
       "      <td>7043</td>\n",
       "      <td>7043</td>\n",
       "      <td>7043</td>\n",
       "      <td>7043</td>\n",
       "    </tr>\n",
       "    <tr>\n",
       "      <th>unique</th>\n",
       "      <td>1129</td>\n",
       "      <td>1652</td>\n",
       "      <td>2</td>\n",
       "      <td>2</td>\n",
       "      <td>2</td>\n",
       "      <td>2</td>\n",
       "      <td>2</td>\n",
       "      <td>3</td>\n",
       "      <td>3</td>\n",
       "      <td>3</td>\n",
       "      <td>3</td>\n",
       "      <td>3</td>\n",
       "      <td>3</td>\n",
       "      <td>3</td>\n",
       "      <td>3</td>\n",
       "      <td>3</td>\n",
       "      <td>2</td>\n",
       "      <td>4</td>\n",
       "      <td>2</td>\n",
       "      <td>2</td>\n",
       "    </tr>\n",
       "    <tr>\n",
       "      <th>top</th>\n",
       "      <td>Los Angeles</td>\n",
       "      <td>90001</td>\n",
       "      <td>Male</td>\n",
       "      <td>No</td>\n",
       "      <td>No</td>\n",
       "      <td>No</td>\n",
       "      <td>Yes</td>\n",
       "      <td>No</td>\n",
       "      <td>Fiber optic</td>\n",
       "      <td>No</td>\n",
       "      <td>No</td>\n",
       "      <td>No</td>\n",
       "      <td>No</td>\n",
       "      <td>No</td>\n",
       "      <td>No</td>\n",
       "      <td>Month-to-month</td>\n",
       "      <td>Yes</td>\n",
       "      <td>Electronic check</td>\n",
       "      <td>No</td>\n",
       "      <td>0</td>\n",
       "    </tr>\n",
       "    <tr>\n",
       "      <th>freq</th>\n",
       "      <td>305</td>\n",
       "      <td>5</td>\n",
       "      <td>3555</td>\n",
       "      <td>5901</td>\n",
       "      <td>3641</td>\n",
       "      <td>5416</td>\n",
       "      <td>6361</td>\n",
       "      <td>3390</td>\n",
       "      <td>3096</td>\n",
       "      <td>3498</td>\n",
       "      <td>3088</td>\n",
       "      <td>3095</td>\n",
       "      <td>3473</td>\n",
       "      <td>2810</td>\n",
       "      <td>2785</td>\n",
       "      <td>3875</td>\n",
       "      <td>4171</td>\n",
       "      <td>2365</td>\n",
       "      <td>5174</td>\n",
       "      <td>5174</td>\n",
       "    </tr>\n",
       "  </tbody>\n",
       "</table>\n",
       "</div>"
      ],
      "text/plain": [
       "               City  Zip Code Gender Senior Citizen Partner Dependents  \\\n",
       "count          7043      7043   7043           7043    7043       7043   \n",
       "unique         1129      1652      2              2       2          2   \n",
       "top     Los Angeles     90001   Male             No      No         No   \n",
       "freq            305         5   3555           5901    3641       5416   \n",
       "\n",
       "       Phone Service Multiple Lines Internet Service Online Security  \\\n",
       "count           7043           7043             7043            7043   \n",
       "unique             2              3                3               3   \n",
       "top              Yes             No      Fiber optic              No   \n",
       "freq            6361           3390             3096            3498   \n",
       "\n",
       "       Online Backup Device Protection Tech Support Streaming TV  \\\n",
       "count           7043              7043         7043         7043   \n",
       "unique             3                 3            3            3   \n",
       "top               No                No           No           No   \n",
       "freq            3088              3095         3473         2810   \n",
       "\n",
       "       Streaming Movies        Contract Paperless Billing    Payment Method  \\\n",
       "count              7043            7043              7043              7043   \n",
       "unique                3               3                 2                 4   \n",
       "top                  No  Month-to-month               Yes  Electronic check   \n",
       "freq               2785            3875              4171              2365   \n",
       "\n",
       "       Churn Label  Churn Value  \n",
       "count         7043         7043  \n",
       "unique           2            2  \n",
       "top             No            0  \n",
       "freq          5174         5174  "
      ]
     },
     "execution_count": 10,
     "metadata": {},
     "output_type": "execute_result"
    }
   ],
   "source": [
    "churn.describe(include='category')"
   ]
  },
  {
   "cell_type": "markdown",
   "id": "40f7df0f",
   "metadata": {
    "papermill": {
     "duration": 0.031064,
     "end_time": "2022-04-08T14:47:06.920733",
     "exception": false,
     "start_time": "2022-04-08T14:47:06.889669",
     "status": "completed"
    },
    "tags": []
   },
   "source": [
    "# Q3: What is the percentage of females and senior citizens in this data set? Please create appropriate plots and explain the plots."
   ]
  },
  {
   "cell_type": "code",
   "execution_count": 11,
   "id": "c06cc6d0",
   "metadata": {
    "execution": {
     "iopub.execute_input": "2022-04-08T14:47:06.991327Z",
     "iopub.status.busy": "2022-04-08T14:47:06.990625Z",
     "iopub.status.idle": "2022-04-08T14:47:07.071137Z",
     "shell.execute_reply": "2022-04-08T14:47:07.071630Z",
     "shell.execute_reply.started": "2022-04-08T14:44:28.787613Z"
    },
    "papermill": {
     "duration": 0.119894,
     "end_time": "2022-04-08T14:47:07.071795",
     "exception": false,
     "start_time": "2022-04-08T14:47:06.951901",
     "status": "completed"
    },
    "tags": []
   },
   "outputs": [
    {
     "data": {
      "text/html": [
       "<style type=\"text/css\">\n",
       "#T_14bc0_ td:hover {\n",
       "  background-color: #ffffb3;\n",
       "}\n",
       "#T_14bc0_ .index_name {\n",
       "  font-style: italic;\n",
       "  color: darkgrey;\n",
       "  font-weight: normal;\n",
       "}\n",
       "#T_14bc0_ th:not(.index_name) {\n",
       "  background-color: #000066;\n",
       "  color: white;\n",
       "}\n",
       "</style>\n",
       "<table id=\"T_14bc0_\">\n",
       "  <thead>\n",
       "    <tr>\n",
       "      <th class=\"blank level0\" >&nbsp;</th>\n",
       "      <th class=\"col_heading level0 col0\" >No</th>\n",
       "      <th class=\"col_heading level0 col1\" >Yes</th>\n",
       "    </tr>\n",
       "    <tr>\n",
       "      <th class=\"index_name level0\" >Gender</th>\n",
       "      <th class=\"blank col0\" >&nbsp;</th>\n",
       "      <th class=\"blank col1\" >&nbsp;</th>\n",
       "    </tr>\n",
       "  </thead>\n",
       "  <tbody>\n",
       "    <tr>\n",
       "      <th id=\"T_14bc0_level0_row0\" class=\"row_heading level0 row0\" >Female</th>\n",
       "      <td id=\"T_14bc0_row0_col0\" class=\"data row0 col0\" >2920</td>\n",
       "      <td id=\"T_14bc0_row0_col1\" class=\"data row0 col1\" >568</td>\n",
       "    </tr>\n",
       "    <tr>\n",
       "      <th id=\"T_14bc0_level0_row1\" class=\"row_heading level0 row1\" >Male</th>\n",
       "      <td id=\"T_14bc0_row1_col0\" class=\"data row1 col0\" >2981</td>\n",
       "      <td id=\"T_14bc0_row1_col1\" class=\"data row1 col1\" >574</td>\n",
       "    </tr>\n",
       "  </tbody>\n",
       "</table>\n"
      ],
      "text/plain": [
       "<pandas.io.formats.style.Styler at 0x7fd2dd0ff390>"
      ]
     },
     "execution_count": 11,
     "metadata": {},
     "output_type": "execute_result"
    }
   ],
   "source": [
    "female_senior=churn.groupby('Gender')['Senior Citizen'].value_counts().unstack()\n",
    "cell_hover = {  # for row hover use <tr> instead of <td>\n",
    "    'selector': 'td:hover',\n",
    "    'props': [('background-color', '#ffffb3')]\n",
    "}\n",
    "index_names = {\n",
    "    'selector': '.index_name',\n",
    "    'props': 'font-style: italic; color: darkgrey; font-weight:normal;'\n",
    "}\n",
    "headers = {\n",
    "    'selector': 'th:not(.index_name)',\n",
    "    'props': 'background-color: #000066; color: white;'\n",
    "}\n",
    "female_senior.style.set_table_styles([cell_hover, index_names, headers])"
   ]
  },
  {
   "cell_type": "code",
   "execution_count": 12,
   "id": "f27a9c42",
   "metadata": {
    "execution": {
     "iopub.execute_input": "2022-04-08T14:47:07.155719Z",
     "iopub.status.busy": "2022-04-08T14:47:07.154905Z",
     "iopub.status.idle": "2022-04-08T14:47:07.170042Z",
     "shell.execute_reply": "2022-04-08T14:47:07.170653Z",
     "shell.execute_reply.started": "2022-04-08T14:32:48.339752Z"
    },
    "papermill": {
     "duration": 0.056141,
     "end_time": "2022-04-08T14:47:07.170832",
     "exception": false,
     "start_time": "2022-04-08T14:47:07.114691",
     "status": "completed"
    },
    "tags": []
   },
   "outputs": [],
   "source": [
    "churn.Gender.value_counts()\n",
    "g_i=churn.Gender.value_counts().index\n",
    "g_v=churn.Gender.value_counts().values\n",
    "churn['Senior Citizen'].value_counts()\n",
    "s_i=churn['Senior Citizen'].value_counts().index\n",
    "s_v=churn['Senior Citizen'].value_counts().values\n",
    "churn[churn['Gender']=='Female']['Senior Citizen'].value_counts()\n",
    "f_s_i=churn[churn['Gender']=='Female']['Senior Citizen'].value_counts().index\n",
    "f_s_v=churn[churn['Gender']=='Female']['Senior Citizen'].value_counts().values"
   ]
  },
  {
   "cell_type": "code",
   "execution_count": 13,
   "id": "c05ef45e",
   "metadata": {
    "execution": {
     "iopub.execute_input": "2022-04-08T14:47:07.239889Z",
     "iopub.status.busy": "2022-04-08T14:47:07.239328Z",
     "iopub.status.idle": "2022-04-08T14:47:07.728098Z",
     "shell.execute_reply": "2022-04-08T14:47:07.727547Z",
     "shell.execute_reply.started": "2022-04-08T14:41:32.494817Z"
    },
    "papermill": {
     "duration": 0.524652,
     "end_time": "2022-04-08T14:47:07.728230",
     "exception": false,
     "start_time": "2022-04-08T14:47:07.203578",
     "status": "completed"
    },
    "tags": []
   },
   "outputs": [
    {
     "data": {
      "image/png": "[encoded data removed]",
      "text/plain": [
       "<Figure size 1152x576 with 3 Axes>"
      ]
     },
     "metadata": {},
     "output_type": "display_data"
    }
   ],
   "source": [
    "cols = ['c', 'b', 'r', 'k']\n",
    "fig, axs = plt.subplots(1, 3, figsize=(16, 8))\n",
    "axs[0].pie(s_v, labels=s_i, colors = cols, startangle = 90, shadow = True, autopct='%1.0f%%', explode = (0.1, 0))\n",
    "axs[1].pie(g_v, labels=g_i, colors = cols, startangle = 90, shadow = True, autopct='%1.0f%%', explode = (0.1, 0))\n",
    "axs[2].pie(f_s_v, labels=f_s_i, colors = cols, startangle = 90, shadow = True, autopct='%1.0f%%', explode = (0.1, 0))\n",
    "fig.suptitle('Churn Score Payment Wise')\n",
    "axs[0].title.set_text('Proportion of Senior Citizen')\n",
    "axs[1].title.set_text('Proportion of Gender')\n",
    "axs[2].title.set_text('Proportion of Female in Senior Citizen')\n",
    "plt.tight_layout()\n",
    "plt.show()"
   ]
  },
  {
   "cell_type": "markdown",
   "id": "0a7959ff",
   "metadata": {
    "papermill": {
     "duration": 0.032749,
     "end_time": "2022-04-08T14:47:07.794413",
     "exception": false,
     "start_time": "2022-04-08T14:47:07.761664",
     "status": "completed"
    },
    "tags": []
   },
   "source": [
    "# Q4:  Please create an appropriate plot to examine the distribution of the tenure month column and explain the distribution. Based on distribution, perform appropriate statistical measures. Please also explain if the variable is symmetric or skewed. Please calculate it. Explain everything as asked."
   ]
  },
  {
   "cell_type": "code",
   "execution_count": 14,
   "id": "601f62a7",
   "metadata": {
    "execution": {
     "iopub.execute_input": "2022-04-08T14:47:07.883360Z",
     "iopub.status.busy": "2022-04-08T14:47:07.869921Z",
     "iopub.status.idle": "2022-04-08T14:47:08.121562Z",
     "shell.execute_reply": "2022-04-08T14:47:08.122108Z",
     "shell.execute_reply.started": "2022-04-08T13:39:20.666263Z"
    },
    "papermill": {
     "duration": 0.29458,
     "end_time": "2022-04-08T14:47:08.122278",
     "exception": false,
     "start_time": "2022-04-08T14:47:07.827698",
     "status": "completed"
    },
    "tags": []
   },
   "outputs": [
    {
     "data": {
      "image/png": "[encoded data removed]",
      "text/plain": [
       "<Figure size 432x288 with 1 Axes>"
      ]
     },
     "metadata": {
      "needs_background": "light"
     },
     "output_type": "display_data"
    }
   ],
   "source": [
    "ax = sns.histplot(churn['Tenure Months'],kde=True,color=\"y\",stat='percent',bins=5)"
   ]
  },
  {
   "cell_type": "markdown",
   "id": "5b9743b2",
   "metadata": {
    "papermill": {
     "duration": 0.03414,
     "end_time": "2022-04-08T14:47:08.190542",
     "exception": false,
     "start_time": "2022-04-08T14:47:08.156402",
     "status": "completed"
    },
    "tags": []
   },
   "source": [
    "['count', 'frequency', 'density', 'probability', 'proportion', 'percent']"
   ]
  },
  {
   "cell_type": "code",
   "execution_count": null,
   "id": "9ff0269a",
   "metadata": {
    "papermill": {
     "duration": 0.033889,
     "end_time": "2022-04-08T14:47:08.258685",
     "exception": false,
     "start_time": "2022-04-08T14:47:08.224796",
     "status": "completed"
    },
    "tags": []
   },
   "outputs": [],
   "source": []
  },
  {
   "cell_type": "markdown",
   "id": "5dffee31",
   "metadata": {
    "papermill": {
     "duration": 0.033607,
     "end_time": "2022-04-08T14:47:08.326447",
     "exception": false,
     "start_time": "2022-04-08T14:47:08.292840",
     "status": "completed"
    },
    "tags": []
   },
   "source": [
    "# Q5: Please convert all binary columns into 0 and 1 using appropriate programming constructs, not one by one."
   ]
  },
  {
   "cell_type": "code",
   "execution_count": null,
   "id": "fb1b4e81",
   "metadata": {
    "papermill": {
     "duration": 0.033575,
     "end_time": "2022-04-08T14:47:08.394307",
     "exception": false,
     "start_time": "2022-04-08T14:47:08.360732",
     "status": "completed"
    },
    "tags": []
   },
   "outputs": [],
   "source": []
  },
  {
   "cell_type": "code",
   "execution_count": null,
   "id": "56f4271d",
   "metadata": {
    "papermill": {
     "duration": 0.033523,
     "end_time": "2022-04-08T14:47:08.461996",
     "exception": false,
     "start_time": "2022-04-08T14:47:08.428473",
     "status": "completed"
    },
    "tags": []
   },
   "outputs": [],
   "source": []
  },
  {
   "cell_type": "markdown",
   "id": "81da8d29",
   "metadata": {
    "papermill": {
     "duration": 0.033733,
     "end_time": "2022-04-08T14:47:08.529633",
     "exception": false,
     "start_time": "2022-04-08T14:47:08.495900",
     "status": "completed"
    },
    "tags": []
   },
   "source": [
    "#  Q6: Please examine the distribution of monthly charges between males and females using box plots. Please explain the results also."
   ]
  },
  {
   "cell_type": "code",
   "execution_count": 15,
   "id": "d4009b73",
   "metadata": {
    "execution": {
     "iopub.execute_input": "2022-04-08T14:47:08.605821Z",
     "iopub.status.busy": "2022-04-08T14:47:08.605204Z",
     "iopub.status.idle": "2022-04-08T14:47:08.857178Z",
     "shell.execute_reply": "2022-04-08T14:47:08.856619Z",
     "shell.execute_reply.started": "2022-04-08T13:22:53.610341Z"
    },
    "papermill": {
     "duration": 0.293505,
     "end_time": "2022-04-08T14:47:08.857330",
     "exception": false,
     "start_time": "2022-04-08T14:47:08.563825",
     "status": "completed"
    },
    "tags": []
   },
   "outputs": [
    {
     "data": {
      "image/png": "[encoded data removed]",
      "text/plain": [
       "<Figure size 842.4x288 with 1 Axes>"
      ]
     },
     "metadata": {},
     "output_type": "display_data"
    }
   ],
   "source": [
    "sns.set(rc={'figure.figsize':(11.7,4)})\n",
    "box_plot = sns.boxplot(x=\"Gender\", y='Monthly Charges', data=churn)\n",
    "ax = box_plot.axes\n",
    "lines = ax.get_lines()\n",
    "categories = ax.get_xticks()\n",
    "for cat in categories:\n",
    "    # every 4th line at the interval of 6 is median line\n",
    "    # 0 -> p25 1 -> p75 2 -> lower whisker 3 -> upper whisker 4 -> p50 5 -> upper extreme value\n",
    "    y = round(lines[4+cat*6].get_ydata()[0],1) \n",
    "    ax.text(cat, y, f'{y}', \n",
    "        ha='center', va='center', fontweight='bold', size=10, color='white',bbox=dict(facecolor='#445A64'))\n",
    "box_plot.figure.tight_layout()"
   ]
  },
  {
   "cell_type": "markdown",
   "id": "64fa4dc8",
   "metadata": {
    "papermill": {
     "duration": 0.035712,
     "end_time": "2022-04-08T14:47:08.928606",
     "exception": false,
     "start_time": "2022-04-08T14:47:08.892894",
     "status": "completed"
    },
    "tags": []
   },
   "source": [
    "Source=(http://stackoverflow.com/a/56879116)"
   ]
  },
  {
   "cell_type": "markdown",
   "id": "98524fbc",
   "metadata": {
    "papermill": {
     "duration": 0.034864,
     "end_time": "2022-04-08T14:47:08.999252",
     "exception": false,
     "start_time": "2022-04-08T14:47:08.964388",
     "status": "completed"
    },
    "tags": []
   },
   "source": [
    "#  Q7: Please find what is the minimum total charges for Los Angeles city. Please find which zip code has the maximum total charges."
   ]
  },
  {
   "cell_type": "code",
   "execution_count": 16,
   "id": "f6432d3e",
   "metadata": {
    "execution": {
     "iopub.execute_input": "2022-04-08T14:47:09.075510Z",
     "iopub.status.busy": "2022-04-08T14:47:09.074593Z",
     "iopub.status.idle": "2022-04-08T14:47:09.077996Z",
     "shell.execute_reply": "2022-04-08T14:47:09.078609Z",
     "shell.execute_reply.started": "2022-04-08T12:58:48.026881Z"
    },
    "papermill": {
     "duration": 0.044084,
     "end_time": "2022-04-08T14:47:09.078774",
     "exception": false,
     "start_time": "2022-04-08T14:47:09.034690",
     "status": "completed"
    },
    "tags": []
   },
   "outputs": [],
   "source": [
    "Los_ang=churn[churn[\"City\"]=='Los Angeles']"
   ]
  },
  {
   "cell_type": "code",
   "execution_count": 17,
   "id": "c2bd0254",
   "metadata": {
    "execution": {
     "iopub.execute_input": "2022-04-08T14:47:09.154776Z",
     "iopub.status.busy": "2022-04-08T14:47:09.153888Z",
     "iopub.status.idle": "2022-04-08T14:47:09.428761Z",
     "shell.execute_reply": "2022-04-08T14:47:09.428133Z",
     "shell.execute_reply.started": "2022-04-08T13:01:49.921946Z"
    },
    "papermill": {
     "duration": 0.314407,
     "end_time": "2022-04-08T14:47:09.428941",
     "exception": false,
     "start_time": "2022-04-08T14:47:09.114534",
     "status": "completed"
    },
    "tags": []
   },
   "outputs": [
    {
     "data": {
      "image/png": "[encoded data removed]",
      "text/plain": [
       "<Figure size 842.4x288 with 1 Axes>"
      ]
     },
     "metadata": {},
     "output_type": "display_data"
    }
   ],
   "source": [
    "Los_ang['Total Charges'].nsmallest(10).plot(kind='bar',title='Minimum Total Charges for Los Angeles');"
   ]
  },
  {
   "cell_type": "code",
   "execution_count": 18,
   "id": "3350e0c6",
   "metadata": {
    "execution": {
     "iopub.execute_input": "2022-04-08T14:47:09.506626Z",
     "iopub.status.busy": "2022-04-08T14:47:09.505722Z",
     "iopub.status.idle": "2022-04-08T14:47:09.519115Z",
     "shell.execute_reply": "2022-04-08T14:47:09.519775Z",
     "shell.execute_reply.started": "2022-04-08T13:10:26.019753Z"
    },
    "papermill": {
     "duration": 0.05446,
     "end_time": "2022-04-08T14:47:09.519976",
     "exception": false,
     "start_time": "2022-04-08T14:47:09.465516",
     "status": "completed"
    },
    "tags": []
   },
   "outputs": [
    {
     "data": {
      "text/plain": [
       "Zip Code\n",
       "90014    3656.250000\n",
       "90011    3487.949951\n",
       "90008    2104.550049\n",
       "90018    1873.699951\n",
       "90021    1862.900024\n",
       "90004    1840.750000\n",
       "90010    1834.949951\n",
       "90007    1301.099976\n",
       "90019    1261.000000\n",
       "90002    1185.949951\n",
       "Name: Total Charges, dtype: float32"
      ]
     },
     "execution_count": 18,
     "metadata": {},
     "output_type": "execute_result"
    }
   ],
   "source": [
    "churn.groupby('Zip Code').agg({'Total Charges':np.median})[:20]['Total Charges'].nlargest(10)"
   ]
  },
  {
   "cell_type": "code",
   "execution_count": 19,
   "id": "ee9f2524",
   "metadata": {
    "execution": {
     "iopub.execute_input": "2022-04-08T14:47:09.598054Z",
     "iopub.status.busy": "2022-04-08T14:47:09.597459Z",
     "iopub.status.idle": "2022-04-08T14:47:09.605998Z",
     "shell.execute_reply": "2022-04-08T14:47:09.606547Z",
     "shell.execute_reply.started": "2022-04-08T13:09:40.655156Z"
    },
    "papermill": {
     "duration": 0.050305,
     "end_time": "2022-04-08T14:47:09.606710",
     "exception": false,
     "start_time": "2022-04-08T14:47:09.556405",
     "status": "completed"
    },
    "tags": []
   },
   "outputs": [
    {
     "data": {
      "text/plain": [
       "Zip Code\n",
       "95519    8684.799805\n",
       "95461    8672.450195\n",
       "90822    8670.099609\n",
       "92230    8594.400391\n",
       "92614    8564.750000\n",
       "95237    8547.150391\n",
       "92870    8543.250000\n",
       "93428    8529.500000\n",
       "94515    8496.700195\n",
       "92124    8477.700195\n",
       "Name: Total Charges, dtype: float32"
      ]
     },
     "execution_count": 19,
     "metadata": {},
     "output_type": "execute_result"
    }
   ],
   "source": [
    "churn.groupby('Zip Code')['Total Charges'].max().nlargest(10)"
   ]
  },
  {
   "cell_type": "code",
   "execution_count": 20,
   "id": "2410df6c",
   "metadata": {
    "execution": {
     "iopub.execute_input": "2022-04-08T14:47:09.683830Z",
     "iopub.status.busy": "2022-04-08T14:47:09.682935Z",
     "iopub.status.idle": "2022-04-08T14:47:09.691288Z",
     "shell.execute_reply": "2022-04-08T14:47:09.691752Z",
     "shell.execute_reply.started": "2022-04-08T13:05:52.478446Z"
    },
    "papermill": {
     "duration": 0.048624,
     "end_time": "2022-04-08T14:47:09.691918",
     "exception": false,
     "start_time": "2022-04-08T14:47:09.643294",
     "status": "completed"
    },
    "tags": []
   },
   "outputs": [
    {
     "data": {
      "text/plain": [
       "90001    5\n",
       "91803    5\n",
       "91917    5\n",
       "91916    5\n",
       "91915    5\n",
       "        ..\n",
       "93705    4\n",
       "93704    4\n",
       "93703    4\n",
       "93702    4\n",
       "96161    4\n",
       "Name: Zip Code, Length: 1652, dtype: int64"
      ]
     },
     "execution_count": 20,
     "metadata": {},
     "output_type": "execute_result"
    }
   ],
   "source": [
    "churn['Zip Code'].value_counts()"
   ]
  },
  {
   "cell_type": "code",
   "execution_count": 21,
   "id": "7e8e734e",
   "metadata": {
    "execution": {
     "iopub.execute_input": "2022-04-08T14:47:09.769113Z",
     "iopub.status.busy": "2022-04-08T14:47:09.768467Z",
     "iopub.status.idle": "2022-04-08T14:47:09.773604Z",
     "shell.execute_reply": "2022-04-08T14:47:09.774154Z",
     "shell.execute_reply.started": "2022-04-08T12:56:24.079054Z"
    },
    "papermill": {
     "duration": 0.045456,
     "end_time": "2022-04-08T14:47:09.774331",
     "exception": false,
     "start_time": "2022-04-08T14:47:09.728875",
     "status": "completed"
    },
    "tags": []
   },
   "outputs": [
    {
     "data": {
      "text/plain": [
       "Index(['CustomerID', 'City', 'Zip Code', 'Gender', 'Senior Citizen', 'Partner',\n",
       "       'Dependents', 'Tenure Months', 'Phone Service', 'Multiple Lines',\n",
       "       'Internet Service', 'Online Security', 'Online Backup',\n",
       "       'Device Protection', 'Tech Support', 'Streaming TV', 'Streaming Movies',\n",
       "       'Contract', 'Paperless Billing', 'Payment Method', 'Monthly Charges',\n",
       "       'Total Charges', 'Churn Label', 'Churn Value', 'Churn Score', 'CLTV'],\n",
       "      dtype='object')"
      ]
     },
     "execution_count": 21,
     "metadata": {},
     "output_type": "execute_result"
    }
   ],
   "source": [
    "churn.columns"
   ]
  },
  {
   "cell_type": "code",
   "execution_count": null,
   "id": "d2831f3c",
   "metadata": {
    "papermill": {
     "duration": 0.036887,
     "end_time": "2022-04-08T14:47:09.848520",
     "exception": false,
     "start_time": "2022-04-08T14:47:09.811633",
     "status": "completed"
    },
    "tags": []
   },
   "outputs": [],
   "source": []
  },
  {
   "cell_type": "markdown",
   "id": "753c9e7c",
   "metadata": {
    "papermill": {
     "duration": 0.036618,
     "end_time": "2022-04-08T14:47:09.922118",
     "exception": false,
     "start_time": "2022-04-08T14:47:09.885500",
     "status": "completed"
    },
    "tags": []
   },
   "source": [
    "# Q8: Please find which payment method has the highest churn score and which has the lowest churn score."
   ]
  },
  {
   "cell_type": "code",
   "execution_count": 22,
   "id": "0befef88",
   "metadata": {
    "execution": {
     "iopub.execute_input": "2022-04-08T14:47:09.998855Z",
     "iopub.status.busy": "2022-04-08T14:47:09.998289Z",
     "iopub.status.idle": "2022-04-08T14:47:10.007920Z",
     "shell.execute_reply": "2022-04-08T14:47:10.008425Z",
     "shell.execute_reply.started": "2022-04-08T12:55:24.883260Z"
    },
    "papermill": {
     "duration": 0.049697,
     "end_time": "2022-04-08T14:47:10.008587",
     "exception": false,
     "start_time": "2022-04-08T14:47:09.958890",
     "status": "completed"
    },
    "tags": []
   },
   "outputs": [
    {
     "data": {
      "text/plain": [
       "Payment Method\n",
       "Electronic check             69.0\n",
       "Mailed check                 57.0\n",
       "Bank transfer (automatic)    56.0\n",
       "Credit card (automatic)      56.0\n",
       "Name: Churn Score, dtype: float64"
      ]
     },
     "execution_count": 22,
     "metadata": {},
     "output_type": "execute_result"
    }
   ],
   "source": [
    "churn_sc_pm=churn.groupby('Payment Method').agg({'Churn Score':np.median})['Churn Score'].nlargest(4)\n",
    "churn_sc_pm"
   ]
  },
  {
   "cell_type": "code",
   "execution_count": 23,
   "id": "70415dc7",
   "metadata": {
    "execution": {
     "iopub.execute_input": "2022-04-08T14:47:10.089360Z",
     "iopub.status.busy": "2022-04-08T14:47:10.088715Z",
     "iopub.status.idle": "2022-04-08T14:47:10.091987Z",
     "shell.execute_reply": "2022-04-08T14:47:10.092471Z",
     "shell.execute_reply.started": "2022-04-08T12:54:20.000842Z"
    },
    "papermill": {
     "duration": 0.044216,
     "end_time": "2022-04-08T14:47:10.092641",
     "exception": false,
     "start_time": "2022-04-08T14:47:10.048425",
     "status": "completed"
    },
    "tags": []
   },
   "outputs": [],
   "source": [
    "label1=churn_sc_pm.index\n",
    "values=churn_sc_pm.values.flatten()\n",
    "label =['Electronic check', 'Mailed check',\n",
    "                  'Bank transfer (automatic)', 'Credit card (automatic)']"
   ]
  },
  {
   "cell_type": "code",
   "execution_count": 24,
   "id": "44dea983",
   "metadata": {
    "execution": {
     "iopub.execute_input": "2022-04-08T14:47:10.171034Z",
     "iopub.status.busy": "2022-04-08T14:47:10.170500Z",
     "iopub.status.idle": "2022-04-08T14:47:10.515460Z",
     "shell.execute_reply": "2022-04-08T14:47:10.515884Z",
     "shell.execute_reply.started": "2022-04-08T12:54:37.115052Z"
    },
    "papermill": {
     "duration": 0.385183,
     "end_time": "2022-04-08T14:47:10.516037",
     "exception": false,
     "start_time": "2022-04-08T14:47:10.130854",
     "status": "completed"
    },
    "tags": []
   },
   "outputs": [
    {
     "data": {
      "image/png": "[encoded data removed]",
      "text/plain": [
       "<Figure size 1224x576 with 2 Axes>"
      ]
     },
     "metadata": {},
     "output_type": "display_data"
    }
   ],
   "source": [
    "cols = ['c', 'b', 'r', 'k']\n",
    "fig, axs = plt.subplots(1, 2, figsize=(17, 8))\n",
    "axs[0].barh(label, values,color = cols)\n",
    "axs[1].pie(values, labels=label, colors = cols, startangle = 90, shadow = True, autopct='%1.0f%%', explode = (0.1, 0, 0, 0))\n",
    "fig.suptitle('Churn Score Payment Wise')\n",
    "plt.show()"
   ]
  },
  {
   "cell_type": "markdown",
   "id": "267c2eca",
   "metadata": {
    "papermill": {
     "duration": 0.039614,
     "end_time": "2022-04-08T14:47:10.594998",
     "exception": false,
     "start_time": "2022-04-08T14:47:10.555384",
     "status": "completed"
    },
    "tags": []
   },
   "source": [
    "# Q9: Please create an appropriate plot to check the count of payment methods and explain it."
   ]
  },
  {
   "cell_type": "code",
   "execution_count": 25,
   "id": "fe169817",
   "metadata": {
    "execution": {
     "iopub.execute_input": "2022-04-08T14:47:10.680898Z",
     "iopub.status.busy": "2022-04-08T14:47:10.679926Z",
     "iopub.status.idle": "2022-04-08T14:47:10.906643Z",
     "shell.execute_reply": "2022-04-08T14:47:10.905815Z",
     "shell.execute_reply.started": "2022-04-08T12:14:13.986437Z"
    },
    "papermill": {
     "duration": 0.272429,
     "end_time": "2022-04-08T14:47:10.906789",
     "exception": false,
     "start_time": "2022-04-08T14:47:10.634360",
     "status": "completed"
    },
    "tags": []
   },
   "outputs": [
    {
     "data": {
      "image/png": "[encoded data removed]",
      "text/plain": [
       "<Figure size 1080x576 with 1 Axes>"
      ]
     },
     "metadata": {},
     "output_type": "display_data"
    }
   ],
   "source": [
    "plt.figure(figsize=(15,8))\n",
    "ax=sns.countplot(x='Payment Method',data=churn,order=['Electronic check', 'Mailed check',\n",
    "                  'Bank transfer (automatic)', 'Credit card (automatic)'])\n",
    "for p in ax.patches:\n",
    "   ax.annotate('{:.1f}'.format(p.get_height()), (p.get_x()+0.25, p.get_height()+0.01))"
   ]
  },
  {
   "cell_type": "code",
   "execution_count": null,
   "id": "9a738c1b",
   "metadata": {
    "papermill": {
     "duration": 0.039544,
     "end_time": "2022-04-08T14:47:10.987283",
     "exception": false,
     "start_time": "2022-04-08T14:47:10.947739",
     "status": "completed"
    },
    "tags": []
   },
   "outputs": [],
   "source": []
  },
  {
   "cell_type": "markdown",
   "id": "ed6ae8bd",
   "metadata": {
    "papermill": {
     "duration": 0.041422,
     "end_time": "2022-04-08T14:47:11.068699",
     "exception": false,
     "start_time": "2022-04-08T14:47:11.027277",
     "status": "completed"
    },
    "tags": []
   },
   "source": [
    "# Q10: Please create an appropriate plot to see the relationship between monthly charges and total charges."
   ]
  },
  {
   "cell_type": "code",
   "execution_count": 26,
   "id": "b23d9aae",
   "metadata": {
    "execution": {
     "iopub.execute_input": "2022-04-08T14:47:11.154228Z",
     "iopub.status.busy": "2022-04-08T14:47:11.153319Z",
     "iopub.status.idle": "2022-04-08T14:47:12.370631Z",
     "shell.execute_reply": "2022-04-08T14:47:12.371059Z",
     "shell.execute_reply.started": "2022-04-08T12:13:51.358266Z"
    },
    "papermill": {
     "duration": 1.261507,
     "end_time": "2022-04-08T14:47:12.371230",
     "exception": false,
     "start_time": "2022-04-08T14:47:11.109723",
     "status": "completed"
    },
    "tags": []
   },
   "outputs": [
    {
     "data": {
      "text/plain": [
       "<seaborn.axisgrid.JointGrid at 0x7fd2dce9b290>"
      ]
     },
     "execution_count": 26,
     "metadata": {},
     "output_type": "execute_result"
    },
    {
     "data": {
      "image/png": "[encoded data removed]",
      "text/plain": [
       "<Figure size 432x432 with 3 Axes>"
      ]
     },
     "metadata": {},
     "output_type": "display_data"
    }
   ],
   "source": [
    "sns.set_theme(style=\"darkgrid\")\n",
    "sns.jointplot(data=churn, y=\"Monthly Charges\", x=\"Total Charges\",\n",
    "                  kind=\"reg\",palette=\"Set2\",color='r')"
   ]
  },
  {
   "cell_type": "code",
   "execution_count": null,
   "id": "33fdaa8f",
   "metadata": {
    "papermill": {
     "duration": 0.042417,
     "end_time": "2022-04-08T14:47:12.456317",
     "exception": false,
     "start_time": "2022-04-08T14:47:12.413900",
     "status": "completed"
    },
    "tags": []
   },
   "outputs": [],
   "source": []
  },
  {
   "cell_type": "code",
   "execution_count": null,
   "id": "fe9bac31",
   "metadata": {
    "papermill": {
     "duration": 0.042621,
     "end_time": "2022-04-08T14:47:12.541032",
     "exception": false,
     "start_time": "2022-04-08T14:47:12.498411",
     "status": "completed"
    },
    "tags": []
   },
   "outputs": [],
   "source": []
  }
 ],
 "metadata": {
  "kernelspec": {
   "display_name": "Python 3",
   "language": "python",
   "name": "python3"
  },
  "language_info": {
   "codemirror_mode": {
    "name": "ipython",
    "version": 3
   },
   "file_extension": ".py",
   "mimetype": "text/x-python",
   "name": "python",
   "nbconvert_exporter": "python",
   "pygments_lexer": "ipython3",
   "version": "3.7.12"
  },
  "papermill": {
   "default_parameters": {},
   "duration": 16.678031,
   "end_time": "2022-04-08T14:47:13.295003",
   "environment_variables": {},
   "exception": null,
   "input_path": "__notebook__.ipynb",
   "output_path": "__notebook__.ipynb",
   "parameters": {},
   "start_time": "2022-04-08T14:46:56.616972",
   "version": "2.3.3"
  }
 },
 "nbformat": 4,
 "nbformat_minor": 5
}
