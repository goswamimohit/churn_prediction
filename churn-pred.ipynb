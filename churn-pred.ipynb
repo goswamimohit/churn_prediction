{
 "cells": [
  {
   "cell_type": "code",
   "execution_count": 1,
   "id": "287a9bb7",
   "metadata": {
    "_cell_guid": "b1076dfc-b9ad-4769-8c92-a6c4dae69d19",
    "_uuid": "8f2839f25d086af736a60e9eeb907d3b93b6e0e5",
    "execution": {
     "iopub.execute_input": "2022-04-11T13:00:45.459100Z",
     "iopub.status.busy": "2022-04-11T13:00:45.458019Z",
     "iopub.status.idle": "2022-04-11T13:00:46.571947Z",
     "shell.execute_reply": "2022-04-11T13:00:46.572555Z",
     "shell.execute_reply.started": "2022-04-11T11:08:50.844697Z"
    },
    "papermill": {
     "duration": 1.167199,
     "end_time": "2022-04-11T13:00:46.572835",
     "exception": false,
     "start_time": "2022-04-11T13:00:45.405636",
     "status": "completed"
    },
    "tags": []
   },
   "outputs": [
    {
     "name": "stdout",
     "output_type": "stream",
     "text": [
      "/kaggle/input/customer-churn/Telco_customer_churn.xlsx - Telco_Churn.csv\n"
     ]
    }
   ],
   "source": [
    "# This Python 3 environment comes with many helpful analytics libraries installed\n",
    "# It is defined by the kaggle/python Docker image: https://github.com/kaggle/docker-python\n",
    "# For example, here's several helpful packages to load\n",
    "\n",
    "import numpy as np # linear algebra\n",
    "import pandas as pd # data processing, CSV file I/O (e.g. pd.read_csv)\n",
    "import matplotlib.pyplot as plt\n",
    "import seaborn as sns\n",
    "\n",
    "# Input data files are available in the read-only \"../input/\" directory\n",
    "# For example, running this (by clicking run or pressing Shift+Enter) will list all files under the input directory\n",
    "\n",
    "import os\n",
    "for dirname, _, filenames in os.walk('/kaggle/input'):\n",
    "    for filename in filenames:\n",
    "        print(os.path.join(dirname, filename))\n",
    "\n",
    "# You can write up to 20GB to the current directory (/kaggle/working/) that gets preserved as output when you create a version using \"Save & Run All\" \n",
    "# You can also write temporary files to /kaggle/temp/, but they won't be saved outside of the current session"
   ]
  },
  {
   "cell_type": "markdown",
   "id": "726be397",
   "metadata": {
    "papermill": {
     "duration": 0.049969,
     "end_time": "2022-04-11T13:00:46.671287",
     "exception": false,
     "start_time": "2022-04-11T13:00:46.621318",
     "status": "completed"
    },
    "tags": []
   },
   "source": [
    "# Discription :\n",
    "\n",
    "- A fictional telco company that provided home phone and Internet services to 7043 customers in California in Quarter 3 of the fiscal year."
   ]
  },
  {
   "cell_type": "markdown",
   "id": "3f638286",
   "metadata": {
    "papermill": {
     "duration": 0.04725,
     "end_time": "2022-04-11T13:00:46.767743",
     "exception": false,
     "start_time": "2022-04-11T13:00:46.720493",
     "status": "completed"
    },
    "tags": []
   },
   "source": [
    "| # |Attribute                     |Description                                                                                                                                                                                                   |\n",
    "|---|:----------------------------:|--------------------------------------------------------------------------------------------------------------------------------------------------------------------|\n",
    "|1  |         CUSTOMERID:          |A unique ID that identifies each customer.                                                                                                                                                                    |\n",
    "|2  |            COUNT:            |A value used in reporting/dashboarding to sum up the number of customers in a filtered set.                                                                                                                   |\n",
    "|3  |           COUNTRY:           |The country of the customer’s primary residence.                                                                                                                                                              |\n",
    "|4  |            STATE:            |The state of the customer’s primary residence.                                                                                                                                                                |\n",
    "|5  |            CITY:             |The city of the customer’s primary residence.                                                                                                                                                                 |\n",
    "|6  |          ZIP CODE:           |The zip code of the customer’s primary residence.                                                                                                                                                             |\n",
    "|7  |          LAT LONG:           |The combined latitude and longitude of the customer’s primary residence.                                                                                                                                      |\n",
    "|8  |          LATITUDE:           |The latitude of the customer’s primary residence.                                                                                                                                                             |\n",
    "|9  |          LONGITUDE:          |The longitude of the customer’s primary residence.                                                                                                                                                            |\n",
    "|10 |           GENDER:            |The customer’s gender: Male, Female                                                                                                                                                                           |\n",
    "|11 |       SENIOR CITIZEN:        |Indicates if the customer is 65 or older: Yes, No                                                                                                                                                             |\n",
    "|12 |           PARTNER:           |Indicate if the customer has a partner: Yes, No                                                                                                                                                               |\n",
    "|13 |         DEPENDENTS:          |Indicates if the customer lives with any dependents: Yes, No. Dependents could be children, parents, grandparents, etc.                                                                                       |\n",
    "|14 |        TENURE MONTHS:        |Indicates the total amount of months that the customer has been with the company by the end of the quarter specified above.                                                                                   |\n",
    "|15 |        PHONE SERVICE:        |Indicates if the customer subscribes to home phone service with the company: Yes, No                                                                                                                          |\n",
    "|16 |       MULTIPLE LINES:        |Indicates if the customer subscribes to multiple telephone lines with the company: Yes, No                                                                                                                    |\n",
    "|17 |      INTERNET SERVICE:       |Indicates if the customer subscribes to Internet service with the company: No, DSL, Fiber Optic, Cable.                                                                                                       |\n",
    "|18 |       ONLINE SECURITY:       |Indicates if the customer subscribes to an additional online security service provided by the company: Yes, No                                                                                                |\n",
    "|19 |        ONLINE BACKUP:        |Indicates if the customer subscribes to an additional online backup service provided by the company: Yes, No                                                                                                  |\n",
    "|20 |      DEVICE PROTECTION:      |Indicates if the customer subscribes to an additional device protection plan for their Internet equipment provided by the company: Yes, No                                                                    |\n",
    "|21 |        TECH SUPPORT:         |Indicates if the customer subscribes to an additional technical support plan from the company with reduced wait times: Yes, No                                                                                |\n",
    "|22 |        STREAMING TV:         |Indicates if the customer uses their Internet service to stream television programing from a third party provider: Yes, No. The company does not charge an additional fee for this service.                   |\n",
    "|23 |      STREAMING MOVIES:       |Indicates if the customer uses their Internet service to stream movies from a third party provider: Yes, No. The company does not charge an additional fee for this service.                                  |\n",
    "|24 |          CONTRACT:           |Indicates the customer’s current contract type: Month-to-Month, One Year, Two Year.                                                                                                                           |\n",
    "|25 |      PAPERLESS BILLING:      |Indicates if the customer has chosen paperless billing: Yes, No                                                                                                                                               |\n",
    "|26 |       PAYMENT METHOD:        |Indicates how the customer pays their bill: Bank Withdrawal, Credit Card, Mailed Check                                                                                                                        |\n",
    "|27 |       MONTHLY CHARGE:        |Indicates the customer’s current total monthly charge for all their services from the company.                                                                                                                |\n",
    "|28 |        TOTAL CHARGES:        |Indicates the customer’s total charges, calculated to the end of the quarter specified above.                                                                                                                 |\n",
    "|29 |         CHURN LABEL:         |Yes = the customer left the company this quarter. No = the customer remained with the company. Directly related to Churn Value.                                                                               |\n",
    "|30 |         CHURN VALUE:         |1 = the customer left the company this quarter. 0 = the customer remained with the company. Directly related to Churn Label.                                                                                  |\n",
    "|31 |         CHURN SCORE:         |A value from 0-100 that is calculated using the predictive tool IBM SPSS Modeler. The model incorporates multiple factors known to cause churn. The higher the score, the more likely the customer will churn.|\n",
    "|32 |CLTV: CUSTOMER LIFETIME VALUE.|A predicted CLTV is calculated using corporate formulas and existing data. The higher the value, the more valuable the customer. High value customers should be monitored for churn.                          |\n",
    "|33 |        CHURN REASON:         |A customer’s specific reason for leaving the company. Directly related to Churn Category.                                                                                                                     |\n"
   ]
  },
  {
   "cell_type": "markdown",
   "id": "11a9fd2a",
   "metadata": {
    "papermill": {
     "duration": 0.049343,
     "end_time": "2022-04-11T13:00:46.864390",
     "exception": false,
     "start_time": "2022-04-11T13:00:46.815047",
     "status": "completed"
    },
    "tags": []
   },
   "source": [
    "# Analysis\n",
    "\n",
    "- Q1: Please read the file and explain data types statistically as well as how python is reading it. Please let us know if any data type is read wrong.\n",
    "\n",
    "- Q2: Please apply appropriate statistical measures using python based on data types.\n",
    "\n",
    "- Q3: What is the percentage of females and senior citizens in this data set? Please create appropriate plots and explain the plots.\n",
    "\n",
    "- Q4:  Please create an appropriate plot to examine the distribution of the tenure month column and explain the distribution. Based on distribution, perform appropriate statistical measures. Please also explain if the variable is symmetric or skewed. Please calculate it. Explain everything as asked.\n",
    "\n",
    "- Q5: Please convert all binary columns into 0 and 1 using appropriate programming constructs, not one by one.\n",
    "\n",
    "- Q6: Please examine the distribution of monthly charges between males and females using box plots. Please explain the results also. \n",
    "\n",
    "- Q7: Please find what is the minimum total charges for Los Angeles city. Please find which zip code has the maximum total charges.\n",
    "\n",
    "- Q8: Please find which payment method has the highest churn score and which has the lowest churn score.\n",
    "\n",
    "- Q9: Please create an appropriate plot to check the count of payment methods and explain it.\n",
    "\n",
    "- Q10: Please create an appropriate plot to see the relationship between monthly charges and total charges."
   ]
  },
  {
   "cell_type": "code",
   "execution_count": null,
   "id": "384ebde8",
   "metadata": {
    "execution": {
     "iopub.execute_input": "2022-04-11T11:08:52.019775Z",
     "iopub.status.busy": "2022-04-11T11:08:52.019530Z",
     "iopub.status.idle": "2022-04-11T11:08:52.108556Z",
     "shell.execute_reply": "2022-04-11T11:08:52.107702Z",
     "shell.execute_reply.started": "2022-04-11T11:08:52.019747Z"
    },
    "papermill": {
     "duration": 0.047571,
     "end_time": "2022-04-11T13:00:46.960097",
     "exception": false,
     "start_time": "2022-04-11T13:00:46.912526",
     "status": "completed"
    },
    "tags": []
   },
   "outputs": [],
   "source": []
  },
  {
   "cell_type": "code",
   "execution_count": null,
   "id": "e5efb3ef",
   "metadata": {
    "execution": {
     "iopub.execute_input": "2022-04-11T11:08:52.110446Z",
     "iopub.status.busy": "2022-04-11T11:08:52.110209Z",
     "iopub.status.idle": "2022-04-11T11:08:52.126113Z",
     "shell.execute_reply": "2022-04-11T11:08:52.124475Z",
     "shell.execute_reply.started": "2022-04-11T11:08:52.110419Z"
    },
    "papermill": {
     "duration": 0.050183,
     "end_time": "2022-04-11T13:00:47.060706",
     "exception": false,
     "start_time": "2022-04-11T13:00:47.010523",
     "status": "completed"
    },
    "tags": []
   },
   "outputs": [],
   "source": []
  },
  {
   "cell_type": "code",
   "execution_count": null,
   "id": "eb4ab6af",
   "metadata": {
    "execution": {
     "iopub.execute_input": "2022-04-11T11:08:52.128489Z",
     "iopub.status.busy": "2022-04-11T11:08:52.127538Z",
     "iopub.status.idle": "2022-04-11T11:08:52.140217Z",
     "shell.execute_reply": "2022-04-11T11:08:52.139435Z",
     "shell.execute_reply.started": "2022-04-11T11:08:52.128437Z"
    },
    "papermill": {
     "duration": 0.047467,
     "end_time": "2022-04-11T13:00:47.157395",
     "exception": false,
     "start_time": "2022-04-11T13:00:47.109928",
     "status": "completed"
    },
    "tags": []
   },
   "outputs": [],
   "source": []
  },
  {
   "cell_type": "code",
   "execution_count": null,
   "id": "f215650d",
   "metadata": {
    "execution": {
     "iopub.execute_input": "2022-04-11T11:08:52.142751Z",
     "iopub.status.busy": "2022-04-11T11:08:52.142055Z",
     "iopub.status.idle": "2022-04-11T11:08:52.172416Z",
     "shell.execute_reply": "2022-04-11T11:08:52.171837Z",
     "shell.execute_reply.started": "2022-04-11T11:08:52.142702Z"
    },
    "papermill": {
     "duration": 0.047118,
     "end_time": "2022-04-11T13:00:47.252601",
     "exception": false,
     "start_time": "2022-04-11T13:00:47.205483",
     "status": "completed"
    },
    "tags": []
   },
   "outputs": [],
   "source": []
  },
  {
   "cell_type": "code",
   "execution_count": null,
   "id": "e2905f70",
   "metadata": {
    "execution": {
     "iopub.execute_input": "2022-04-11T11:08:52.173808Z",
     "iopub.status.busy": "2022-04-11T11:08:52.173543Z",
     "iopub.status.idle": "2022-04-11T11:08:52.223514Z",
     "shell.execute_reply": "2022-04-11T11:08:52.222777Z",
     "shell.execute_reply.started": "2022-04-11T11:08:52.173778Z"
    },
    "papermill": {
     "duration": 0.04798,
     "end_time": "2022-04-11T13:00:47.347875",
     "exception": false,
     "start_time": "2022-04-11T13:00:47.299895",
     "status": "completed"
    },
    "tags": []
   },
   "outputs": [],
   "source": []
  },
  {
   "cell_type": "code",
   "execution_count": null,
   "id": "2728110e",
   "metadata": {
    "execution": {
     "iopub.execute_input": "2022-04-11T11:08:52.225105Z",
     "iopub.status.busy": "2022-04-11T11:08:52.224453Z",
     "iopub.status.idle": "2022-04-11T11:08:52.235299Z",
     "shell.execute_reply": "2022-04-11T11:08:52.234604Z",
     "shell.execute_reply.started": "2022-04-11T11:08:52.225064Z"
    },
    "papermill": {
     "duration": 0.048635,
     "end_time": "2022-04-11T13:00:47.444387",
     "exception": false,
     "start_time": "2022-04-11T13:00:47.395752",
     "status": "completed"
    },
    "tags": []
   },
   "outputs": [],
   "source": []
  },
  {
   "cell_type": "markdown",
   "id": "c1a53d4b",
   "metadata": {
    "papermill": {
     "duration": 0.048124,
     "end_time": "2022-04-11T13:00:47.541744",
     "exception": false,
     "start_time": "2022-04-11T13:00:47.493620",
     "status": "completed"
    },
    "tags": []
   },
   "source": [
    "# Q1: Please read the file and explain data types statistically as well as how python is reading it. Please let us know if any data type is read wrong."
   ]
  },
  {
   "cell_type": "code",
   "execution_count": 2,
   "id": "a4b77b91",
   "metadata": {
    "execution": {
     "iopub.execute_input": "2022-04-11T13:00:47.642131Z",
     "iopub.status.busy": "2022-04-11T13:00:47.641465Z",
     "iopub.status.idle": "2022-04-11T13:00:47.725334Z",
     "shell.execute_reply": "2022-04-11T13:00:47.725822Z"
    },
    "papermill": {
     "duration": 0.13637,
     "end_time": "2022-04-11T13:00:47.726013",
     "exception": false,
     "start_time": "2022-04-11T13:00:47.589643",
     "status": "completed"
    },
    "tags": []
   },
   "outputs": [],
   "source": [
    "filepath='/kaggle/input/customer-churn/Telco_customer_churn.xlsx - Telco_Churn.csv'\n",
    "churn=pd.read_csv(filepath)"
   ]
  },
  {
   "cell_type": "code",
   "execution_count": 3,
   "id": "af0e6420",
   "metadata": {
    "execution": {
     "iopub.execute_input": "2022-04-11T13:00:47.834379Z",
     "iopub.status.busy": "2022-04-11T13:00:47.833746Z",
     "iopub.status.idle": "2022-04-11T13:00:47.842889Z",
     "shell.execute_reply": "2022-04-11T13:00:47.843483Z"
    },
    "papermill": {
     "duration": 0.068761,
     "end_time": "2022-04-11T13:00:47.843660",
     "exception": false,
     "start_time": "2022-04-11T13:00:47.774899",
     "status": "completed"
    },
    "tags": []
   },
   "outputs": [],
   "source": [
    "remove=['Count','Lat Long','Country','State','Churn Reason','Latitude', 'Longitude']   \n",
    "churn.drop(columns=remove,inplace=True)"
   ]
  },
  {
   "cell_type": "code",
   "execution_count": 4,
   "id": "007247f3",
   "metadata": {
    "execution": {
     "iopub.execute_input": "2022-04-11T13:00:47.948297Z",
     "iopub.status.busy": "2022-04-11T13:00:47.947584Z",
     "iopub.status.idle": "2022-04-11T13:00:47.951746Z",
     "shell.execute_reply": "2022-04-11T13:00:47.952252Z"
    },
    "papermill": {
     "duration": 0.057762,
     "end_time": "2022-04-11T13:00:47.952436",
     "exception": false,
     "start_time": "2022-04-11T13:00:47.894674",
     "status": "completed"
    },
    "tags": []
   },
   "outputs": [],
   "source": [
    "churn_test=churn.copy(deep=True)"
   ]
  },
  {
   "cell_type": "code",
   "execution_count": 5,
   "id": "e5472417",
   "metadata": {
    "execution": {
     "iopub.execute_input": "2022-04-11T13:00:48.057408Z",
     "iopub.status.busy": "2022-04-11T13:00:48.056511Z",
     "iopub.status.idle": "2022-04-11T13:00:48.075981Z",
     "shell.execute_reply": "2022-04-11T13:00:48.076499Z"
    },
    "papermill": {
     "duration": 0.071861,
     "end_time": "2022-04-11T13:00:48.076669",
     "exception": false,
     "start_time": "2022-04-11T13:00:48.004808",
     "status": "completed"
    },
    "tags": []
   },
   "outputs": [
    {
     "data": {
      "text/html": [
       "<div>\n",
       "<style scoped>\n",
       "    .dataframe tbody tr th:only-of-type {\n",
       "        vertical-align: middle;\n",
       "    }\n",
       "\n",
       "    .dataframe tbody tr th {\n",
       "        vertical-align: top;\n",
       "    }\n",
       "\n",
       "    .dataframe thead th {\n",
       "        text-align: right;\n",
       "    }\n",
       "</style>\n",
       "<table border=\"1\" class=\"dataframe\">\n",
       "  <thead>\n",
       "    <tr style=\"text-align: right;\">\n",
       "      <th></th>\n",
       "      <th>0</th>\n",
       "      <th>1</th>\n",
       "      <th>2</th>\n",
       "      <th>3</th>\n",
       "      <th>4</th>\n",
       "    </tr>\n",
       "  </thead>\n",
       "  <tbody>\n",
       "    <tr>\n",
       "      <th>CustomerID</th>\n",
       "      <td>3668-QPYBK</td>\n",
       "      <td>9237-HQITU</td>\n",
       "      <td>9305-CDSKC</td>\n",
       "      <td>7892-POOKP</td>\n",
       "      <td>0280-XJGEX</td>\n",
       "    </tr>\n",
       "    <tr>\n",
       "      <th>City</th>\n",
       "      <td>Los Angeles</td>\n",
       "      <td>Los Angeles</td>\n",
       "      <td>Los Angeles</td>\n",
       "      <td>Los Angeles</td>\n",
       "      <td>Los Angeles</td>\n",
       "    </tr>\n",
       "    <tr>\n",
       "      <th>Zip Code</th>\n",
       "      <td>90003</td>\n",
       "      <td>90005</td>\n",
       "      <td>90006</td>\n",
       "      <td>90010</td>\n",
       "      <td>90015</td>\n",
       "    </tr>\n",
       "    <tr>\n",
       "      <th>Gender</th>\n",
       "      <td>Male</td>\n",
       "      <td>Female</td>\n",
       "      <td>Female</td>\n",
       "      <td>Female</td>\n",
       "      <td>Male</td>\n",
       "    </tr>\n",
       "    <tr>\n",
       "      <th>Senior Citizen</th>\n",
       "      <td>No</td>\n",
       "      <td>No</td>\n",
       "      <td>No</td>\n",
       "      <td>No</td>\n",
       "      <td>No</td>\n",
       "    </tr>\n",
       "    <tr>\n",
       "      <th>Partner</th>\n",
       "      <td>No</td>\n",
       "      <td>No</td>\n",
       "      <td>No</td>\n",
       "      <td>Yes</td>\n",
       "      <td>No</td>\n",
       "    </tr>\n",
       "    <tr>\n",
       "      <th>Dependents</th>\n",
       "      <td>No</td>\n",
       "      <td>Yes</td>\n",
       "      <td>Yes</td>\n",
       "      <td>Yes</td>\n",
       "      <td>Yes</td>\n",
       "    </tr>\n",
       "    <tr>\n",
       "      <th>Tenure Months</th>\n",
       "      <td>2</td>\n",
       "      <td>2</td>\n",
       "      <td>8</td>\n",
       "      <td>28</td>\n",
       "      <td>49</td>\n",
       "    </tr>\n",
       "    <tr>\n",
       "      <th>Phone Service</th>\n",
       "      <td>Yes</td>\n",
       "      <td>Yes</td>\n",
       "      <td>Yes</td>\n",
       "      <td>Yes</td>\n",
       "      <td>Yes</td>\n",
       "    </tr>\n",
       "    <tr>\n",
       "      <th>Multiple Lines</th>\n",
       "      <td>No</td>\n",
       "      <td>No</td>\n",
       "      <td>Yes</td>\n",
       "      <td>Yes</td>\n",
       "      <td>Yes</td>\n",
       "    </tr>\n",
       "    <tr>\n",
       "      <th>Internet Service</th>\n",
       "      <td>DSL</td>\n",
       "      <td>Fiber optic</td>\n",
       "      <td>Fiber optic</td>\n",
       "      <td>Fiber optic</td>\n",
       "      <td>Fiber optic</td>\n",
       "    </tr>\n",
       "    <tr>\n",
       "      <th>Online Security</th>\n",
       "      <td>Yes</td>\n",
       "      <td>No</td>\n",
       "      <td>No</td>\n",
       "      <td>No</td>\n",
       "      <td>No</td>\n",
       "    </tr>\n",
       "    <tr>\n",
       "      <th>Online Backup</th>\n",
       "      <td>Yes</td>\n",
       "      <td>No</td>\n",
       "      <td>No</td>\n",
       "      <td>No</td>\n",
       "      <td>Yes</td>\n",
       "    </tr>\n",
       "    <tr>\n",
       "      <th>Device Protection</th>\n",
       "      <td>No</td>\n",
       "      <td>No</td>\n",
       "      <td>Yes</td>\n",
       "      <td>Yes</td>\n",
       "      <td>Yes</td>\n",
       "    </tr>\n",
       "    <tr>\n",
       "      <th>Tech Support</th>\n",
       "      <td>No</td>\n",
       "      <td>No</td>\n",
       "      <td>No</td>\n",
       "      <td>Yes</td>\n",
       "      <td>No</td>\n",
       "    </tr>\n",
       "    <tr>\n",
       "      <th>Streaming TV</th>\n",
       "      <td>No</td>\n",
       "      <td>No</td>\n",
       "      <td>Yes</td>\n",
       "      <td>Yes</td>\n",
       "      <td>Yes</td>\n",
       "    </tr>\n",
       "    <tr>\n",
       "      <th>Streaming Movies</th>\n",
       "      <td>No</td>\n",
       "      <td>No</td>\n",
       "      <td>Yes</td>\n",
       "      <td>Yes</td>\n",
       "      <td>Yes</td>\n",
       "    </tr>\n",
       "    <tr>\n",
       "      <th>Contract</th>\n",
       "      <td>Month-to-month</td>\n",
       "      <td>Month-to-month</td>\n",
       "      <td>Month-to-month</td>\n",
       "      <td>Month-to-month</td>\n",
       "      <td>Month-to-month</td>\n",
       "    </tr>\n",
       "    <tr>\n",
       "      <th>Paperless Billing</th>\n",
       "      <td>Yes</td>\n",
       "      <td>Yes</td>\n",
       "      <td>Yes</td>\n",
       "      <td>Yes</td>\n",
       "      <td>Yes</td>\n",
       "    </tr>\n",
       "    <tr>\n",
       "      <th>Payment Method</th>\n",
       "      <td>Mailed check</td>\n",
       "      <td>Electronic check</td>\n",
       "      <td>Electronic check</td>\n",
       "      <td>Electronic check</td>\n",
       "      <td>Bank transfer (automatic)</td>\n",
       "    </tr>\n",
       "    <tr>\n",
       "      <th>Monthly Charges</th>\n",
       "      <td>53.85</td>\n",
       "      <td>70.7</td>\n",
       "      <td>99.65</td>\n",
       "      <td>104.8</td>\n",
       "      <td>103.7</td>\n",
       "    </tr>\n",
       "    <tr>\n",
       "      <th>Total Charges</th>\n",
       "      <td>108.15</td>\n",
       "      <td>151.65</td>\n",
       "      <td>820.5</td>\n",
       "      <td>3046.05</td>\n",
       "      <td>5036.3</td>\n",
       "    </tr>\n",
       "    <tr>\n",
       "      <th>Churn Label</th>\n",
       "      <td>Yes</td>\n",
       "      <td>Yes</td>\n",
       "      <td>Yes</td>\n",
       "      <td>Yes</td>\n",
       "      <td>Yes</td>\n",
       "    </tr>\n",
       "    <tr>\n",
       "      <th>Churn Value</th>\n",
       "      <td>1</td>\n",
       "      <td>1</td>\n",
       "      <td>1</td>\n",
       "      <td>1</td>\n",
       "      <td>1</td>\n",
       "    </tr>\n",
       "    <tr>\n",
       "      <th>Churn Score</th>\n",
       "      <td>86</td>\n",
       "      <td>67</td>\n",
       "      <td>86</td>\n",
       "      <td>84</td>\n",
       "      <td>89</td>\n",
       "    </tr>\n",
       "    <tr>\n",
       "      <th>CLTV</th>\n",
       "      <td>3239</td>\n",
       "      <td>2701</td>\n",
       "      <td>5372</td>\n",
       "      <td>5003</td>\n",
       "      <td>5340</td>\n",
       "    </tr>\n",
       "  </tbody>\n",
       "</table>\n",
       "</div>"
      ],
      "text/plain": [
       "                                0                 1                 2  \\\n",
       "CustomerID             3668-QPYBK        9237-HQITU        9305-CDSKC   \n",
       "City                  Los Angeles       Los Angeles       Los Angeles   \n",
       "Zip Code                    90003             90005             90006   \n",
       "Gender                       Male            Female            Female   \n",
       "Senior Citizen                 No                No                No   \n",
       "Partner                        No                No                No   \n",
       "Dependents                     No               Yes               Yes   \n",
       "Tenure Months                   2                 2                 8   \n",
       "Phone Service                 Yes               Yes               Yes   \n",
       "Multiple Lines                 No                No               Yes   \n",
       "Internet Service              DSL       Fiber optic       Fiber optic   \n",
       "Online Security               Yes                No                No   \n",
       "Online Backup                 Yes                No                No   \n",
       "Device Protection              No                No               Yes   \n",
       "Tech Support                   No                No                No   \n",
       "Streaming TV                   No                No               Yes   \n",
       "Streaming Movies               No                No               Yes   \n",
       "Contract           Month-to-month    Month-to-month    Month-to-month   \n",
       "Paperless Billing             Yes               Yes               Yes   \n",
       "Payment Method       Mailed check  Electronic check  Electronic check   \n",
       "Monthly Charges             53.85              70.7             99.65   \n",
       "Total Charges              108.15            151.65             820.5   \n",
       "Churn Label                   Yes               Yes               Yes   \n",
       "Churn Value                     1                 1                 1   \n",
       "Churn Score                    86                67                86   \n",
       "CLTV                         3239              2701              5372   \n",
       "\n",
       "                                  3                          4  \n",
       "CustomerID               7892-POOKP                 0280-XJGEX  \n",
       "City                    Los Angeles                Los Angeles  \n",
       "Zip Code                      90010                      90015  \n",
       "Gender                       Female                       Male  \n",
       "Senior Citizen                   No                         No  \n",
       "Partner                         Yes                         No  \n",
       "Dependents                      Yes                        Yes  \n",
       "Tenure Months                    28                         49  \n",
       "Phone Service                   Yes                        Yes  \n",
       "Multiple Lines                  Yes                        Yes  \n",
       "Internet Service        Fiber optic                Fiber optic  \n",
       "Online Security                  No                         No  \n",
       "Online Backup                    No                        Yes  \n",
       "Device Protection               Yes                        Yes  \n",
       "Tech Support                    Yes                         No  \n",
       "Streaming TV                    Yes                        Yes  \n",
       "Streaming Movies                Yes                        Yes  \n",
       "Contract             Month-to-month             Month-to-month  \n",
       "Paperless Billing               Yes                        Yes  \n",
       "Payment Method     Electronic check  Bank transfer (automatic)  \n",
       "Monthly Charges               104.8                      103.7  \n",
       "Total Charges               3046.05                     5036.3  \n",
       "Churn Label                     Yes                        Yes  \n",
       "Churn Value                       1                          1  \n",
       "Churn Score                      84                         89  \n",
       "CLTV                           5003                       5340  "
      ]
     },
     "execution_count": 5,
     "metadata": {},
     "output_type": "execute_result"
    }
   ],
   "source": [
    "churn.head().T"
   ]
  },
  {
   "cell_type": "code",
   "execution_count": 6,
   "id": "aa979772",
   "metadata": {
    "execution": {
     "iopub.execute_input": "2022-04-11T13:00:48.187370Z",
     "iopub.status.busy": "2022-04-11T13:00:48.186754Z",
     "iopub.status.idle": "2022-04-11T13:00:48.225026Z",
     "shell.execute_reply": "2022-04-11T13:00:48.224442Z"
    },
    "papermill": {
     "duration": 0.096124,
     "end_time": "2022-04-11T13:00:48.225179",
     "exception": false,
     "start_time": "2022-04-11T13:00:48.129055",
     "status": "completed"
    },
    "tags": []
   },
   "outputs": [],
   "source": [
    "col_obj=['Gender', 'Senior Citizen','Partner', 'Dependents', 'Phone Service',\n",
    "       'Multiple Lines', 'Internet Service', 'Online Security',\n",
    "       'Online Backup', 'Device Protection', 'Tech Support', 'Streaming TV',\n",
    "       'Streaming Movies', 'Contract', 'Paperless Billing', 'Payment Method',\n",
    "        'Churn Label', 'Churn Value','Zip Code','City']\n",
    "\n",
    "for col in col_obj:\n",
    "    churn[col] = churn[col].astype('category')"
   ]
  },
  {
   "cell_type": "code",
   "execution_count": 7,
   "id": "d5787479",
   "metadata": {
    "execution": {
     "iopub.execute_input": "2022-04-11T13:00:48.333891Z",
     "iopub.status.busy": "2022-04-11T13:00:48.328494Z",
     "iopub.status.idle": "2022-04-11T13:00:48.335776Z",
     "shell.execute_reply": "2022-04-11T13:00:48.336274Z"
    },
    "papermill": {
     "duration": 0.061757,
     "end_time": "2022-04-11T13:00:48.336440",
     "exception": false,
     "start_time": "2022-04-11T13:00:48.274683",
     "status": "completed"
    },
    "tags": []
   },
   "outputs": [],
   "source": [
    "churn['Total Charges']=pd.to_numeric(churn['Total Charges'], downcast=\"float\",errors='coerce')"
   ]
  },
  {
   "cell_type": "code",
   "execution_count": null,
   "id": "6bd11a42",
   "metadata": {
    "papermill": {
     "duration": 0.048493,
     "end_time": "2022-04-11T13:00:48.436529",
     "exception": false,
     "start_time": "2022-04-11T13:00:48.388036",
     "status": "completed"
    },
    "tags": []
   },
   "outputs": [],
   "source": []
  },
  {
   "cell_type": "markdown",
   "id": "b09d3fb3",
   "metadata": {
    "papermill": {
     "duration": 0.050119,
     "end_time": "2022-04-11T13:00:48.535761",
     "exception": false,
     "start_time": "2022-04-11T13:00:48.485642",
     "status": "completed"
    },
    "tags": []
   },
   "source": [
    "# Q2: Please apply appropriate statistical measures using python based on data types."
   ]
  },
  {
   "cell_type": "code",
   "execution_count": 8,
   "id": "dc46534e",
   "metadata": {
    "execution": {
     "iopub.execute_input": "2022-04-11T13:00:48.641170Z",
     "iopub.status.busy": "2022-04-11T13:00:48.640304Z",
     "iopub.status.idle": "2022-04-11T13:00:48.670147Z",
     "shell.execute_reply": "2022-04-11T13:00:48.670586Z",
     "shell.execute_reply.started": "2022-04-11T11:08:52.238510Z"
    },
    "papermill": {
     "duration": 0.0861,
     "end_time": "2022-04-11T13:00:48.670758",
     "exception": false,
     "start_time": "2022-04-11T13:00:48.584658",
     "status": "completed"
    },
    "tags": []
   },
   "outputs": [
    {
     "data": {
      "text/html": [
       "<div>\n",
       "<style scoped>\n",
       "    .dataframe tbody tr th:only-of-type {\n",
       "        vertical-align: middle;\n",
       "    }\n",
       "\n",
       "    .dataframe tbody tr th {\n",
       "        vertical-align: top;\n",
       "    }\n",
       "\n",
       "    .dataframe thead th {\n",
       "        text-align: right;\n",
       "    }\n",
       "</style>\n",
       "<table border=\"1\" class=\"dataframe\">\n",
       "  <thead>\n",
       "    <tr style=\"text-align: right;\">\n",
       "      <th></th>\n",
       "      <th>Tenure Months</th>\n",
       "      <th>Monthly Charges</th>\n",
       "      <th>Total Charges</th>\n",
       "      <th>Churn Score</th>\n",
       "      <th>CLTV</th>\n",
       "    </tr>\n",
       "  </thead>\n",
       "  <tbody>\n",
       "    <tr>\n",
       "      <th>count</th>\n",
       "      <td>7043.000000</td>\n",
       "      <td>7043.000000</td>\n",
       "      <td>7032.000000</td>\n",
       "      <td>7043.000000</td>\n",
       "      <td>7043.000000</td>\n",
       "    </tr>\n",
       "    <tr>\n",
       "      <th>mean</th>\n",
       "      <td>32.371149</td>\n",
       "      <td>64.761692</td>\n",
       "      <td>2283.299561</td>\n",
       "      <td>58.699418</td>\n",
       "      <td>4400.295755</td>\n",
       "    </tr>\n",
       "    <tr>\n",
       "      <th>std</th>\n",
       "      <td>24.559481</td>\n",
       "      <td>30.090047</td>\n",
       "      <td>2266.770264</td>\n",
       "      <td>21.525131</td>\n",
       "      <td>1183.057152</td>\n",
       "    </tr>\n",
       "    <tr>\n",
       "      <th>min</th>\n",
       "      <td>0.000000</td>\n",
       "      <td>18.250000</td>\n",
       "      <td>18.799999</td>\n",
       "      <td>5.000000</td>\n",
       "      <td>2003.000000</td>\n",
       "    </tr>\n",
       "    <tr>\n",
       "      <th>25%</th>\n",
       "      <td>9.000000</td>\n",
       "      <td>35.500000</td>\n",
       "      <td>401.450012</td>\n",
       "      <td>40.000000</td>\n",
       "      <td>3469.000000</td>\n",
       "    </tr>\n",
       "    <tr>\n",
       "      <th>50%</th>\n",
       "      <td>29.000000</td>\n",
       "      <td>70.350000</td>\n",
       "      <td>1397.475098</td>\n",
       "      <td>61.000000</td>\n",
       "      <td>4527.000000</td>\n",
       "    </tr>\n",
       "    <tr>\n",
       "      <th>75%</th>\n",
       "      <td>55.000000</td>\n",
       "      <td>89.850000</td>\n",
       "      <td>3794.737549</td>\n",
       "      <td>75.000000</td>\n",
       "      <td>5380.500000</td>\n",
       "    </tr>\n",
       "    <tr>\n",
       "      <th>max</th>\n",
       "      <td>72.000000</td>\n",
       "      <td>118.750000</td>\n",
       "      <td>8684.799805</td>\n",
       "      <td>100.000000</td>\n",
       "      <td>6500.000000</td>\n",
       "    </tr>\n",
       "  </tbody>\n",
       "</table>\n",
       "</div>"
      ],
      "text/plain": [
       "       Tenure Months  Monthly Charges  Total Charges  Churn Score         CLTV\n",
       "count    7043.000000      7043.000000    7032.000000  7043.000000  7043.000000\n",
       "mean       32.371149        64.761692    2283.299561    58.699418  4400.295755\n",
       "std        24.559481        30.090047    2266.770264    21.525131  1183.057152\n",
       "min         0.000000        18.250000      18.799999     5.000000  2003.000000\n",
       "25%         9.000000        35.500000     401.450012    40.000000  3469.000000\n",
       "50%        29.000000        70.350000    1397.475098    61.000000  4527.000000\n",
       "75%        55.000000        89.850000    3794.737549    75.000000  5380.500000\n",
       "max        72.000000       118.750000    8684.799805   100.000000  6500.000000"
      ]
     },
     "execution_count": 8,
     "metadata": {},
     "output_type": "execute_result"
    }
   ],
   "source": [
    "churn.describe()"
   ]
  },
  {
   "cell_type": "code",
   "execution_count": 9,
   "id": "08f7431b",
   "metadata": {
    "execution": {
     "iopub.execute_input": "2022-04-11T13:00:48.776792Z",
     "iopub.status.busy": "2022-04-11T13:00:48.775610Z",
     "iopub.status.idle": "2022-04-11T13:00:48.826117Z",
     "shell.execute_reply": "2022-04-11T13:00:48.825486Z",
     "shell.execute_reply.started": "2022-04-11T11:08:52.281033Z"
    },
    "papermill": {
     "duration": 0.102631,
     "end_time": "2022-04-11T13:00:48.826282",
     "exception": false,
     "start_time": "2022-04-11T13:00:48.723651",
     "status": "completed"
    },
    "tags": []
   },
   "outputs": [
    {
     "data": {
      "text/html": [
       "<div>\n",
       "<style scoped>\n",
       "    .dataframe tbody tr th:only-of-type {\n",
       "        vertical-align: middle;\n",
       "    }\n",
       "\n",
       "    .dataframe tbody tr th {\n",
       "        vertical-align: top;\n",
       "    }\n",
       "\n",
       "    .dataframe thead th {\n",
       "        text-align: right;\n",
       "    }\n",
       "</style>\n",
       "<table border=\"1\" class=\"dataframe\">\n",
       "  <thead>\n",
       "    <tr style=\"text-align: right;\">\n",
       "      <th></th>\n",
       "      <th>City</th>\n",
       "      <th>Zip Code</th>\n",
       "      <th>Gender</th>\n",
       "      <th>Senior Citizen</th>\n",
       "      <th>Partner</th>\n",
       "      <th>Dependents</th>\n",
       "      <th>Phone Service</th>\n",
       "      <th>Multiple Lines</th>\n",
       "      <th>Internet Service</th>\n",
       "      <th>Online Security</th>\n",
       "      <th>Online Backup</th>\n",
       "      <th>Device Protection</th>\n",
       "      <th>Tech Support</th>\n",
       "      <th>Streaming TV</th>\n",
       "      <th>Streaming Movies</th>\n",
       "      <th>Contract</th>\n",
       "      <th>Paperless Billing</th>\n",
       "      <th>Payment Method</th>\n",
       "      <th>Churn Label</th>\n",
       "      <th>Churn Value</th>\n",
       "    </tr>\n",
       "  </thead>\n",
       "  <tbody>\n",
       "    <tr>\n",
       "      <th>count</th>\n",
       "      <td>7043</td>\n",
       "      <td>7043</td>\n",
       "      <td>7043</td>\n",
       "      <td>7043</td>\n",
       "      <td>7043</td>\n",
       "      <td>7043</td>\n",
       "      <td>7043</td>\n",
       "      <td>7043</td>\n",
       "      <td>7043</td>\n",
       "      <td>7043</td>\n",
       "      <td>7043</td>\n",
       "      <td>7043</td>\n",
       "      <td>7043</td>\n",
       "      <td>7043</td>\n",
       "      <td>7043</td>\n",
       "      <td>7043</td>\n",
       "      <td>7043</td>\n",
       "      <td>7043</td>\n",
       "      <td>7043</td>\n",
       "      <td>7043</td>\n",
       "    </tr>\n",
       "    <tr>\n",
       "      <th>unique</th>\n",
       "      <td>1129</td>\n",
       "      <td>1652</td>\n",
       "      <td>2</td>\n",
       "      <td>2</td>\n",
       "      <td>2</td>\n",
       "      <td>2</td>\n",
       "      <td>2</td>\n",
       "      <td>3</td>\n",
       "      <td>3</td>\n",
       "      <td>3</td>\n",
       "      <td>3</td>\n",
       "      <td>3</td>\n",
       "      <td>3</td>\n",
       "      <td>3</td>\n",
       "      <td>3</td>\n",
       "      <td>3</td>\n",
       "      <td>2</td>\n",
       "      <td>4</td>\n",
       "      <td>2</td>\n",
       "      <td>2</td>\n",
       "    </tr>\n",
       "    <tr>\n",
       "      <th>top</th>\n",
       "      <td>Los Angeles</td>\n",
       "      <td>90001</td>\n",
       "      <td>Male</td>\n",
       "      <td>No</td>\n",
       "      <td>No</td>\n",
       "      <td>No</td>\n",
       "      <td>Yes</td>\n",
       "      <td>No</td>\n",
       "      <td>Fiber optic</td>\n",
       "      <td>No</td>\n",
       "      <td>No</td>\n",
       "      <td>No</td>\n",
       "      <td>No</td>\n",
       "      <td>No</td>\n",
       "      <td>No</td>\n",
       "      <td>Month-to-month</td>\n",
       "      <td>Yes</td>\n",
       "      <td>Electronic check</td>\n",
       "      <td>No</td>\n",
       "      <td>0</td>\n",
       "    </tr>\n",
       "    <tr>\n",
       "      <th>freq</th>\n",
       "      <td>305</td>\n",
       "      <td>5</td>\n",
       "      <td>3555</td>\n",
       "      <td>5901</td>\n",
       "      <td>3641</td>\n",
       "      <td>5416</td>\n",
       "      <td>6361</td>\n",
       "      <td>3390</td>\n",
       "      <td>3096</td>\n",
       "      <td>3498</td>\n",
       "      <td>3088</td>\n",
       "      <td>3095</td>\n",
       "      <td>3473</td>\n",
       "      <td>2810</td>\n",
       "      <td>2785</td>\n",
       "      <td>3875</td>\n",
       "      <td>4171</td>\n",
       "      <td>2365</td>\n",
       "      <td>5174</td>\n",
       "      <td>5174</td>\n",
       "    </tr>\n",
       "  </tbody>\n",
       "</table>\n",
       "</div>"
      ],
      "text/plain": [
       "               City  Zip Code Gender Senior Citizen Partner Dependents  \\\n",
       "count          7043      7043   7043           7043    7043       7043   \n",
       "unique         1129      1652      2              2       2          2   \n",
       "top     Los Angeles     90001   Male             No      No         No   \n",
       "freq            305         5   3555           5901    3641       5416   \n",
       "\n",
       "       Phone Service Multiple Lines Internet Service Online Security  \\\n",
       "count           7043           7043             7043            7043   \n",
       "unique             2              3                3               3   \n",
       "top              Yes             No      Fiber optic              No   \n",
       "freq            6361           3390             3096            3498   \n",
       "\n",
       "       Online Backup Device Protection Tech Support Streaming TV  \\\n",
       "count           7043              7043         7043         7043   \n",
       "unique             3                 3            3            3   \n",
       "top               No                No           No           No   \n",
       "freq            3088              3095         3473         2810   \n",
       "\n",
       "       Streaming Movies        Contract Paperless Billing    Payment Method  \\\n",
       "count              7043            7043              7043              7043   \n",
       "unique                3               3                 2                 4   \n",
       "top                  No  Month-to-month               Yes  Electronic check   \n",
       "freq               2785            3875              4171              2365   \n",
       "\n",
       "       Churn Label  Churn Value  \n",
       "count         7043         7043  \n",
       "unique           2            2  \n",
       "top             No            0  \n",
       "freq          5174         5174  "
      ]
     },
     "execution_count": 9,
     "metadata": {},
     "output_type": "execute_result"
    }
   ],
   "source": [
    "churn.describe(include='category')"
   ]
  },
  {
   "cell_type": "markdown",
   "id": "4c23a03a",
   "metadata": {
    "papermill": {
     "duration": 0.049827,
     "end_time": "2022-04-11T13:00:48.926448",
     "exception": false,
     "start_time": "2022-04-11T13:00:48.876621",
     "status": "completed"
    },
    "tags": []
   },
   "source": [
    "# Q3: What is the percentage of females and senior citizens in this data set? Please create appropriate plots and explain the plots."
   ]
  },
  {
   "cell_type": "code",
   "execution_count": 10,
   "id": "cf604653",
   "metadata": {
    "execution": {
     "iopub.execute_input": "2022-04-11T13:00:49.036560Z",
     "iopub.status.busy": "2022-04-11T13:00:49.035924Z",
     "iopub.status.idle": "2022-04-11T13:00:49.100676Z",
     "shell.execute_reply": "2022-04-11T13:00:49.101086Z",
     "shell.execute_reply.started": "2022-04-11T11:08:52.341065Z"
    },
    "papermill": {
     "duration": 0.124196,
     "end_time": "2022-04-11T13:00:49.101250",
     "exception": false,
     "start_time": "2022-04-11T13:00:48.977054",
     "status": "completed"
    },
    "tags": []
   },
   "outputs": [
    {
     "data": {
      "text/html": [
       "<style type=\"text/css\">\n",
       "#T_4cc8c_ td:hover {\n",
       "  background-color: #ffffb3;\n",
       "}\n",
       "#T_4cc8c_ .index_name {\n",
       "  font-style: italic;\n",
       "  color: darkgrey;\n",
       "  font-weight: normal;\n",
       "}\n",
       "#T_4cc8c_ th:not(.index_name) {\n",
       "  background-color: #000066;\n",
       "  color: white;\n",
       "}\n",
       "</style>\n",
       "<table id=\"T_4cc8c_\">\n",
       "  <thead>\n",
       "    <tr>\n",
       "      <th class=\"blank level0\" >&nbsp;</th>\n",
       "      <th class=\"col_heading level0 col0\" >No</th>\n",
       "      <th class=\"col_heading level0 col1\" >Yes</th>\n",
       "    </tr>\n",
       "    <tr>\n",
       "      <th class=\"index_name level0\" >Gender</th>\n",
       "      <th class=\"blank col0\" >&nbsp;</th>\n",
       "      <th class=\"blank col1\" >&nbsp;</th>\n",
       "    </tr>\n",
       "  </thead>\n",
       "  <tbody>\n",
       "    <tr>\n",
       "      <th id=\"T_4cc8c_level0_row0\" class=\"row_heading level0 row0\" >Female</th>\n",
       "      <td id=\"T_4cc8c_row0_col0\" class=\"data row0 col0\" >2920</td>\n",
       "      <td id=\"T_4cc8c_row0_col1\" class=\"data row0 col1\" >568</td>\n",
       "    </tr>\n",
       "    <tr>\n",
       "      <th id=\"T_4cc8c_level0_row1\" class=\"row_heading level0 row1\" >Male</th>\n",
       "      <td id=\"T_4cc8c_row1_col0\" class=\"data row1 col0\" >2981</td>\n",
       "      <td id=\"T_4cc8c_row1_col1\" class=\"data row1 col1\" >574</td>\n",
       "    </tr>\n",
       "  </tbody>\n",
       "</table>\n"
      ],
      "text/plain": [
       "<pandas.io.formats.style.Styler at 0x7f529a3e83d0>"
      ]
     },
     "execution_count": 10,
     "metadata": {},
     "output_type": "execute_result"
    }
   ],
   "source": [
    "female_senior=churn.groupby('Gender')['Senior Citizen'].value_counts().unstack()\n",
    "cell_hover = {  # for row hover use <tr> instead of <td>\n",
    "    'selector': 'td:hover',\n",
    "    'props': [('background-color', '#ffffb3')]\n",
    "}\n",
    "index_names = {\n",
    "    'selector': '.index_name',\n",
    "    'props': 'font-style: italic; color: darkgrey; font-weight:normal;'\n",
    "}\n",
    "headers = {\n",
    "    'selector': 'th:not(.index_name)',\n",
    "    'props': 'background-color: #000066; color: white;'\n",
    "}\n",
    "female_senior.style.set_table_styles([cell_hover, index_names, headers])"
   ]
  },
  {
   "cell_type": "code",
   "execution_count": 11,
   "id": "6f3561af",
   "metadata": {
    "execution": {
     "iopub.execute_input": "2022-04-11T13:00:49.209532Z",
     "iopub.status.busy": "2022-04-11T13:00:49.208726Z",
     "iopub.status.idle": "2022-04-11T13:00:49.223239Z",
     "shell.execute_reply": "2022-04-11T13:00:49.222527Z",
     "shell.execute_reply.started": "2022-04-11T11:08:52.430308Z"
    },
    "papermill": {
     "duration": 0.07162,
     "end_time": "2022-04-11T13:00:49.223409",
     "exception": false,
     "start_time": "2022-04-11T13:00:49.151789",
     "status": "completed"
    },
    "tags": []
   },
   "outputs": [],
   "source": [
    "churn.Gender.value_counts()\n",
    "g_i=churn.Gender.value_counts().index\n",
    "g_v=churn.Gender.value_counts().values\n",
    "churn['Senior Citizen'].value_counts()\n",
    "s_i=churn['Senior Citizen'].value_counts().index\n",
    "s_v=churn['Senior Citizen'].value_counts().values\n",
    "churn[churn['Gender']=='Female']['Senior Citizen'].value_counts()\n",
    "f_s_i=churn[churn['Gender']=='Female']['Senior Citizen'].value_counts().index\n",
    "f_s_v=churn[churn['Gender']=='Female']['Senior Citizen'].value_counts().values"
   ]
  },
  {
   "cell_type": "code",
   "execution_count": 12,
   "id": "917373a1",
   "metadata": {
    "execution": {
     "iopub.execute_input": "2022-04-11T13:00:49.338467Z",
     "iopub.status.busy": "2022-04-11T13:00:49.337827Z",
     "iopub.status.idle": "2022-04-11T13:00:49.730762Z",
     "shell.execute_reply": "2022-04-11T13:00:49.730181Z",
     "shell.execute_reply.started": "2022-04-11T11:08:52.454264Z"
    },
    "papermill": {
     "duration": 0.453642,
     "end_time": "2022-04-11T13:00:49.730893",
     "exception": false,
     "start_time": "2022-04-11T13:00:49.277251",
     "status": "completed"
    },
    "tags": []
   },
   "outputs": [
    {
     "data": {
      "image/png": "[encoded data removed]",
      "text/plain": [
       "<Figure size 1152x576 with 3 Axes>"
      ]
     },
     "metadata": {},
     "output_type": "display_data"
    }
   ],
   "source": [
    "cols = ['c', 'b', 'r', 'k']\n",
    "fig, axs = plt.subplots(1, 3, figsize=(16, 8))\n",
    "axs[0].pie(s_v, labels=s_i, colors = cols, startangle = 90, shadow = True, autopct='%1.0f%%', explode = (0.1, 0))\n",
    "axs[1].pie(g_v, labels=g_i, colors = cols, startangle = 90, shadow = True, autopct='%1.0f%%', explode = (0.1, 0))\n",
    "axs[2].pie(f_s_v, labels=f_s_i, colors = cols, startangle = 90, shadow = True, autopct='%1.0f%%', explode = (0.1, 0))\n",
    "fig.suptitle('Churn Score Payment Wise')\n",
    "axs[0].title.set_text('Proportion of Senior Citizen')\n",
    "axs[1].title.set_text('Proportion of Gender')\n",
    "axs[2].title.set_text('Proportion of Female in Senior Citizen')\n",
    "plt.tight_layout()\n",
    "plt.show()"
   ]
  },
  {
   "cell_type": "markdown",
   "id": "ea05fb6d",
   "metadata": {
    "papermill": {
     "duration": 0.054572,
     "end_time": "2022-04-11T13:00:49.838238",
     "exception": false,
     "start_time": "2022-04-11T13:00:49.783666",
     "status": "completed"
    },
    "tags": []
   },
   "source": [
    "# Q4:  Please create an appropriate plot to examine the distribution of the tenure month column and explain the distribution. Based on distribution, perform appropriate statistical measures. Please also explain if the variable is symmetric or skewed. Please calculate it. Explain everything as asked."
   ]
  },
  {
   "cell_type": "code",
   "execution_count": 13,
   "id": "1d4d0fd7",
   "metadata": {
    "execution": {
     "iopub.execute_input": "2022-04-11T13:00:49.954099Z",
     "iopub.status.busy": "2022-04-11T13:00:49.951662Z",
     "iopub.status.idle": "2022-04-11T13:00:51.590255Z",
     "shell.execute_reply": "2022-04-11T13:00:51.589632Z",
     "shell.execute_reply.started": "2022-04-11T12:55:37.740838Z"
    },
    "papermill": {
     "duration": 1.698192,
     "end_time": "2022-04-11T13:00:51.590393",
     "exception": false,
     "start_time": "2022-04-11T13:00:49.892201",
     "status": "completed"
    },
    "tags": []
   },
   "outputs": [
    {
     "data": {
      "image/png": "[encoded data removed]",
      "text/plain": [
       "<Figure size 716x432 with 6 Axes>"
      ]
     },
     "metadata": {
      "needs_background": "light"
     },
     "output_type": "display_data"
    }
   ],
   "source": [
    "sns.displot(\n",
    "    churn, x=churn['Tenure Months'], hue=churn['Churn Label'],row=churn['Churn Value'],col='Contract',\n",
    "    binwidth=3, height=3,kde=True, facet_kws=dict(margin_titles=True),\n",
    ");"
   ]
  },
  {
   "cell_type": "code",
   "execution_count": 14,
   "id": "478c4d05",
   "metadata": {
    "execution": {
     "iopub.execute_input": "2022-04-11T13:00:51.706100Z",
     "iopub.status.busy": "2022-04-11T13:00:51.705475Z",
     "iopub.status.idle": "2022-04-11T13:00:51.951196Z",
     "shell.execute_reply": "2022-04-11T13:00:51.951777Z",
     "shell.execute_reply.started": "2022-04-11T12:51:57.953760Z"
    },
    "papermill": {
     "duration": 0.307792,
     "end_time": "2022-04-11T13:00:51.951959",
     "exception": false,
     "start_time": "2022-04-11T13:00:51.644167",
     "status": "completed"
    },
    "tags": []
   },
   "outputs": [
    {
     "data": {
      "image/png": "[encoded data removed]",
      "text/plain": [
       "<Figure size 432x288 with 1 Axes>"
      ]
     },
     "metadata": {
      "needs_background": "light"
     },
     "output_type": "display_data"
    }
   ],
   "source": [
    "ax = sns.histplot(x=churn['Tenure Months'],kde=True,color=\"y\",stat='percent',bins=5)"
   ]
  },
  {
   "cell_type": "code",
   "execution_count": 15,
   "id": "70a4479f",
   "metadata": {
    "execution": {
     "iopub.execute_input": "2022-04-11T13:00:52.066405Z",
     "iopub.status.busy": "2022-04-11T13:00:52.065499Z",
     "iopub.status.idle": "2022-04-11T13:00:52.071853Z",
     "shell.execute_reply": "2022-04-11T13:00:52.071288Z",
     "shell.execute_reply.started": "2022-04-11T12:29:29.742032Z"
    },
    "papermill": {
     "duration": 0.064769,
     "end_time": "2022-04-11T13:00:52.071980",
     "exception": false,
     "start_time": "2022-04-11T13:00:52.007211",
     "status": "completed"
    },
    "tags": []
   },
   "outputs": [
    {
     "data": {
      "text/plain": [
       "0.2395397495619829"
      ]
     },
     "execution_count": 15,
     "metadata": {},
     "output_type": "execute_result"
    }
   ],
   "source": [
    "churn['Tenure Months'].skew()"
   ]
  },
  {
   "cell_type": "markdown",
   "id": "e19abaaa",
   "metadata": {
    "papermill": {
     "duration": 0.054013,
     "end_time": "2022-04-11T13:00:52.182051",
     "exception": false,
     "start_time": "2022-04-11T13:00:52.128038",
     "status": "completed"
    },
    "tags": []
   },
   "source": [
    "If the skewness is between -0.5 and 0.5, the data are fairly symmetrical. "
   ]
  },
  {
   "cell_type": "markdown",
   "id": "16028682",
   "metadata": {
    "papermill": {
     "duration": 0.054348,
     "end_time": "2022-04-11T13:00:52.290882",
     "exception": false,
     "start_time": "2022-04-11T13:00:52.236534",
     "status": "completed"
    },
    "tags": []
   },
   "source": [
    "Symmetric and Bimodal"
   ]
  },
  {
   "cell_type": "markdown",
   "id": "1f892290",
   "metadata": {
    "papermill": {
     "duration": 0.054029,
     "end_time": "2022-04-11T13:00:52.399564",
     "exception": false,
     "start_time": "2022-04-11T13:00:52.345535",
     "status": "completed"
    },
    "tags": []
   },
   "source": [
    "['count', 'frequency', 'density', 'probability', 'proportion', 'percent']"
   ]
  },
  {
   "cell_type": "code",
   "execution_count": 16,
   "id": "0971ed50",
   "metadata": {
    "execution": {
     "iopub.execute_input": "2022-04-11T13:00:52.517699Z",
     "iopub.status.busy": "2022-04-11T13:00:52.517097Z",
     "iopub.status.idle": "2022-04-11T13:00:52.798069Z",
     "shell.execute_reply": "2022-04-11T13:00:52.797487Z",
     "shell.execute_reply.started": "2022-04-11T12:27:20.150801Z"
    },
    "papermill": {
     "duration": 0.342388,
     "end_time": "2022-04-11T13:00:52.798207",
     "exception": false,
     "start_time": "2022-04-11T13:00:52.455819",
     "status": "completed"
    },
    "tags": []
   },
   "outputs": [],
   "source": [
    "churn_new=churn.copy(deep=True)\n",
    "x3=churn_new['Tenure Months']\n",
    "x=churn_new['Tenure Months'].values.reshape(-1, 1)\n",
    "x1=churn_new['Tenure Months'].values.reshape(-1, 1)\n",
    "from sklearn.preprocessing import quantile_transform\n",
    "y=quantile_transform(x, n_quantiles=10, random_state=0, copy=True)\n",
    "from sklearn.preprocessing import power_transform\n",
    "box=power_transform(x1, method='yeo-johnson')\n",
    "from scipy import stats\n",
    "x3=x3.replace(0,1)\n",
    "# transform training data & save lambda value\n",
    "fitted_data, fitted_lambda = stats.boxcox(x3)"
   ]
  },
  {
   "cell_type": "code",
   "execution_count": 17,
   "id": "f22fb8e2",
   "metadata": {
    "execution": {
     "iopub.execute_input": "2022-04-11T13:00:52.912790Z",
     "iopub.status.busy": "2022-04-11T13:00:52.911841Z",
     "iopub.status.idle": "2022-04-11T13:00:53.790664Z",
     "shell.execute_reply": "2022-04-11T13:00:53.791171Z",
     "shell.execute_reply.started": "2022-04-11T12:26:21.762099Z"
    },
    "papermill": {
     "duration": 0.938133,
     "end_time": "2022-04-11T13:00:53.791346",
     "exception": false,
     "start_time": "2022-04-11T13:00:52.853213",
     "status": "completed"
    },
    "tags": []
   },
   "outputs": [
    {
     "data": {
      "image/png": "[encoded data removed]",
      "text/plain": [
       "<Figure size 1440x432 with 4 Axes>"
      ]
     },
     "metadata": {
      "needs_background": "light"
     },
     "output_type": "display_data"
    }
   ],
   "source": [
    "f, axes = plt.subplots(1, 4, figsize=(20,6))\n",
    "axes[0].set_xlabel( 'Tenure Months' , size = 12 )\n",
    "axes[1].set_xlabel( 'Tenure Months' , size = 12 )\n",
    "axes[2].set_xlabel( 'Tenure Months' , size = 12 )\n",
    "axes[3].set_xlabel( 'Tenure Months' , size = 12 )\n",
    "sns.histplot(churn['Tenure Months'],kde=True,color=\"y\",stat='percent',bins=5, ax=axes[0]).set_title('Normal Bimodal Distribution')\n",
    "sns.histplot(y,kde=True,color=\"g\",stat='percent',bins=5, ax=axes[1]).set_title('Distribution After Quantile Transformation')\n",
    "sns.histplot(box,kde=True,color=\"y\",stat='percent',bins=5,ax=axes[2]).set_title('Distribution After Power Transformation')\n",
    "sns.histplot(fitted_data,kde=True,color=\"y\",stat='percent',bins=5,ax=axes[3]).set_title('Distribution After BoxCox Transformation')\n",
    "f.suptitle('Appropriate Statistical Measures For Distribution');"
   ]
  },
  {
   "cell_type": "markdown",
   "id": "7b39fee1",
   "metadata": {
    "papermill": {
     "duration": 0.063778,
     "end_time": "2022-04-11T13:00:53.912007",
     "exception": false,
     "start_time": "2022-04-11T13:00:53.848229",
     "status": "completed"
    },
    "tags": []
   },
   "source": []
  },
  {
   "cell_type": "markdown",
   "id": "1b08198e",
   "metadata": {
    "papermill": {
     "duration": 0.057203,
     "end_time": "2022-04-11T13:00:54.026911",
     "exception": false,
     "start_time": "2022-04-11T13:00:53.969708",
     "status": "completed"
    },
    "tags": []
   },
   "source": [
    "# Q5: Please convert all binary columns into 0 and 1 using appropriate programming constructs, not one by one."
   ]
  },
  {
   "cell_type": "code",
   "execution_count": 18,
   "id": "aa1e4dc1",
   "metadata": {
    "execution": {
     "iopub.execute_input": "2022-04-11T13:00:54.151467Z",
     "iopub.status.busy": "2022-04-11T13:00:54.150801Z",
     "iopub.status.idle": "2022-04-11T13:00:54.192661Z",
     "shell.execute_reply": "2022-04-11T13:00:54.191890Z",
     "shell.execute_reply.started": "2022-04-11T12:59:50.656894Z"
    },
    "papermill": {
     "duration": 0.106813,
     "end_time": "2022-04-11T13:00:54.192830",
     "exception": false,
     "start_time": "2022-04-11T13:00:54.086017",
     "status": "completed"
    },
    "tags": []
   },
   "outputs": [
    {
     "data": {
      "text/html": [
       "<div>\n",
       "<style scoped>\n",
       "    .dataframe tbody tr th:only-of-type {\n",
       "        vertical-align: middle;\n",
       "    }\n",
       "\n",
       "    .dataframe tbody tr th {\n",
       "        vertical-align: top;\n",
       "    }\n",
       "\n",
       "    .dataframe thead th {\n",
       "        text-align: right;\n",
       "    }\n",
       "</style>\n",
       "<table border=\"1\" class=\"dataframe\">\n",
       "  <thead>\n",
       "    <tr style=\"text-align: right;\">\n",
       "      <th></th>\n",
       "      <th>CustomerID</th>\n",
       "      <th>City</th>\n",
       "      <th>Zip Code</th>\n",
       "      <th>Tenure Months</th>\n",
       "      <th>Monthly Charges</th>\n",
       "      <th>Total Charges</th>\n",
       "      <th>Churn Value</th>\n",
       "      <th>Churn Score</th>\n",
       "      <th>CLTV</th>\n",
       "      <th>Gender_Male</th>\n",
       "      <th>...</th>\n",
       "      <th>Streaming TV_Yes</th>\n",
       "      <th>Streaming Movies_No internet service</th>\n",
       "      <th>Streaming Movies_Yes</th>\n",
       "      <th>Contract_One year</th>\n",
       "      <th>Contract_Two year</th>\n",
       "      <th>Paperless Billing_Yes</th>\n",
       "      <th>Payment Method_Credit card (automatic)</th>\n",
       "      <th>Payment Method_Electronic check</th>\n",
       "      <th>Payment Method_Mailed check</th>\n",
       "      <th>Churn Label_Yes</th>\n",
       "    </tr>\n",
       "  </thead>\n",
       "  <tbody>\n",
       "    <tr>\n",
       "      <th>0</th>\n",
       "      <td>3668-QPYBK</td>\n",
       "      <td>Los Angeles</td>\n",
       "      <td>90003</td>\n",
       "      <td>2</td>\n",
       "      <td>53.85</td>\n",
       "      <td>108.150002</td>\n",
       "      <td>1</td>\n",
       "      <td>86</td>\n",
       "      <td>3239</td>\n",
       "      <td>1</td>\n",
       "      <td>...</td>\n",
       "      <td>0</td>\n",
       "      <td>0</td>\n",
       "      <td>0</td>\n",
       "      <td>0</td>\n",
       "      <td>0</td>\n",
       "      <td>1</td>\n",
       "      <td>0</td>\n",
       "      <td>0</td>\n",
       "      <td>1</td>\n",
       "      <td>1</td>\n",
       "    </tr>\n",
       "    <tr>\n",
       "      <th>1</th>\n",
       "      <td>9237-HQITU</td>\n",
       "      <td>Los Angeles</td>\n",
       "      <td>90005</td>\n",
       "      <td>2</td>\n",
       "      <td>70.70</td>\n",
       "      <td>151.649994</td>\n",
       "      <td>1</td>\n",
       "      <td>67</td>\n",
       "      <td>2701</td>\n",
       "      <td>0</td>\n",
       "      <td>...</td>\n",
       "      <td>0</td>\n",
       "      <td>0</td>\n",
       "      <td>0</td>\n",
       "      <td>0</td>\n",
       "      <td>0</td>\n",
       "      <td>1</td>\n",
       "      <td>0</td>\n",
       "      <td>1</td>\n",
       "      <td>0</td>\n",
       "      <td>1</td>\n",
       "    </tr>\n",
       "    <tr>\n",
       "      <th>2</th>\n",
       "      <td>9305-CDSKC</td>\n",
       "      <td>Los Angeles</td>\n",
       "      <td>90006</td>\n",
       "      <td>8</td>\n",
       "      <td>99.65</td>\n",
       "      <td>820.500000</td>\n",
       "      <td>1</td>\n",
       "      <td>86</td>\n",
       "      <td>5372</td>\n",
       "      <td>0</td>\n",
       "      <td>...</td>\n",
       "      <td>1</td>\n",
       "      <td>0</td>\n",
       "      <td>1</td>\n",
       "      <td>0</td>\n",
       "      <td>0</td>\n",
       "      <td>1</td>\n",
       "      <td>0</td>\n",
       "      <td>1</td>\n",
       "      <td>0</td>\n",
       "      <td>1</td>\n",
       "    </tr>\n",
       "    <tr>\n",
       "      <th>3</th>\n",
       "      <td>7892-POOKP</td>\n",
       "      <td>Los Angeles</td>\n",
       "      <td>90010</td>\n",
       "      <td>28</td>\n",
       "      <td>104.80</td>\n",
       "      <td>3046.050049</td>\n",
       "      <td>1</td>\n",
       "      <td>84</td>\n",
       "      <td>5003</td>\n",
       "      <td>0</td>\n",
       "      <td>...</td>\n",
       "      <td>1</td>\n",
       "      <td>0</td>\n",
       "      <td>1</td>\n",
       "      <td>0</td>\n",
       "      <td>0</td>\n",
       "      <td>1</td>\n",
       "      <td>0</td>\n",
       "      <td>1</td>\n",
       "      <td>0</td>\n",
       "      <td>1</td>\n",
       "    </tr>\n",
       "    <tr>\n",
       "      <th>4</th>\n",
       "      <td>0280-XJGEX</td>\n",
       "      <td>Los Angeles</td>\n",
       "      <td>90015</td>\n",
       "      <td>49</td>\n",
       "      <td>103.70</td>\n",
       "      <td>5036.299805</td>\n",
       "      <td>1</td>\n",
       "      <td>89</td>\n",
       "      <td>5340</td>\n",
       "      <td>1</td>\n",
       "      <td>...</td>\n",
       "      <td>1</td>\n",
       "      <td>0</td>\n",
       "      <td>1</td>\n",
       "      <td>0</td>\n",
       "      <td>0</td>\n",
       "      <td>1</td>\n",
       "      <td>0</td>\n",
       "      <td>0</td>\n",
       "      <td>0</td>\n",
       "      <td>1</td>\n",
       "    </tr>\n",
       "    <tr>\n",
       "      <th>...</th>\n",
       "      <td>...</td>\n",
       "      <td>...</td>\n",
       "      <td>...</td>\n",
       "      <td>...</td>\n",
       "      <td>...</td>\n",
       "      <td>...</td>\n",
       "      <td>...</td>\n",
       "      <td>...</td>\n",
       "      <td>...</td>\n",
       "      <td>...</td>\n",
       "      <td>...</td>\n",
       "      <td>...</td>\n",
       "      <td>...</td>\n",
       "      <td>...</td>\n",
       "      <td>...</td>\n",
       "      <td>...</td>\n",
       "      <td>...</td>\n",
       "      <td>...</td>\n",
       "      <td>...</td>\n",
       "      <td>...</td>\n",
       "      <td>...</td>\n",
       "    </tr>\n",
       "    <tr>\n",
       "      <th>7038</th>\n",
       "      <td>2569-WGERO</td>\n",
       "      <td>Landers</td>\n",
       "      <td>92285</td>\n",
       "      <td>72</td>\n",
       "      <td>21.15</td>\n",
       "      <td>1419.400024</td>\n",
       "      <td>0</td>\n",
       "      <td>45</td>\n",
       "      <td>5306</td>\n",
       "      <td>0</td>\n",
       "      <td>...</td>\n",
       "      <td>0</td>\n",
       "      <td>1</td>\n",
       "      <td>0</td>\n",
       "      <td>0</td>\n",
       "      <td>1</td>\n",
       "      <td>1</td>\n",
       "      <td>0</td>\n",
       "      <td>0</td>\n",
       "      <td>0</td>\n",
       "      <td>0</td>\n",
       "    </tr>\n",
       "    <tr>\n",
       "      <th>7039</th>\n",
       "      <td>6840-RESVB</td>\n",
       "      <td>Adelanto</td>\n",
       "      <td>92301</td>\n",
       "      <td>24</td>\n",
       "      <td>84.80</td>\n",
       "      <td>1990.500000</td>\n",
       "      <td>0</td>\n",
       "      <td>59</td>\n",
       "      <td>2140</td>\n",
       "      <td>1</td>\n",
       "      <td>...</td>\n",
       "      <td>1</td>\n",
       "      <td>0</td>\n",
       "      <td>1</td>\n",
       "      <td>1</td>\n",
       "      <td>0</td>\n",
       "      <td>1</td>\n",
       "      <td>0</td>\n",
       "      <td>0</td>\n",
       "      <td>1</td>\n",
       "      <td>0</td>\n",
       "    </tr>\n",
       "    <tr>\n",
       "      <th>7040</th>\n",
       "      <td>2234-XADUH</td>\n",
       "      <td>Amboy</td>\n",
       "      <td>92304</td>\n",
       "      <td>72</td>\n",
       "      <td>103.20</td>\n",
       "      <td>7362.899902</td>\n",
       "      <td>0</td>\n",
       "      <td>71</td>\n",
       "      <td>5560</td>\n",
       "      <td>0</td>\n",
       "      <td>...</td>\n",
       "      <td>1</td>\n",
       "      <td>0</td>\n",
       "      <td>1</td>\n",
       "      <td>1</td>\n",
       "      <td>0</td>\n",
       "      <td>1</td>\n",
       "      <td>1</td>\n",
       "      <td>0</td>\n",
       "      <td>0</td>\n",
       "      <td>0</td>\n",
       "    </tr>\n",
       "    <tr>\n",
       "      <th>7041</th>\n",
       "      <td>4801-JZAZL</td>\n",
       "      <td>Angelus Oaks</td>\n",
       "      <td>92305</td>\n",
       "      <td>11</td>\n",
       "      <td>29.60</td>\n",
       "      <td>346.450012</td>\n",
       "      <td>0</td>\n",
       "      <td>59</td>\n",
       "      <td>2793</td>\n",
       "      <td>0</td>\n",
       "      <td>...</td>\n",
       "      <td>0</td>\n",
       "      <td>0</td>\n",
       "      <td>0</td>\n",
       "      <td>0</td>\n",
       "      <td>0</td>\n",
       "      <td>1</td>\n",
       "      <td>0</td>\n",
       "      <td>1</td>\n",
       "      <td>0</td>\n",
       "      <td>0</td>\n",
       "    </tr>\n",
       "    <tr>\n",
       "      <th>7042</th>\n",
       "      <td>3186-AJIEK</td>\n",
       "      <td>Apple Valley</td>\n",
       "      <td>92308</td>\n",
       "      <td>66</td>\n",
       "      <td>105.65</td>\n",
       "      <td>6844.500000</td>\n",
       "      <td>0</td>\n",
       "      <td>38</td>\n",
       "      <td>5097</td>\n",
       "      <td>1</td>\n",
       "      <td>...</td>\n",
       "      <td>1</td>\n",
       "      <td>0</td>\n",
       "      <td>1</td>\n",
       "      <td>0</td>\n",
       "      <td>1</td>\n",
       "      <td>1</td>\n",
       "      <td>0</td>\n",
       "      <td>0</td>\n",
       "      <td>0</td>\n",
       "      <td>0</td>\n",
       "    </tr>\n",
       "  </tbody>\n",
       "</table>\n",
       "<p>7043 rows × 37 columns</p>\n",
       "</div>"
      ],
      "text/plain": [
       "      CustomerID          City Zip Code  Tenure Months  Monthly Charges  \\\n",
       "0     3668-QPYBK   Los Angeles    90003              2            53.85   \n",
       "1     9237-HQITU   Los Angeles    90005              2            70.70   \n",
       "2     9305-CDSKC   Los Angeles    90006              8            99.65   \n",
       "3     7892-POOKP   Los Angeles    90010             28           104.80   \n",
       "4     0280-XJGEX   Los Angeles    90015             49           103.70   \n",
       "...          ...           ...      ...            ...              ...   \n",
       "7038  2569-WGERO       Landers    92285             72            21.15   \n",
       "7039  6840-RESVB      Adelanto    92301             24            84.80   \n",
       "7040  2234-XADUH         Amboy    92304             72           103.20   \n",
       "7041  4801-JZAZL  Angelus Oaks    92305             11            29.60   \n",
       "7042  3186-AJIEK  Apple Valley    92308             66           105.65   \n",
       "\n",
       "      Total Charges Churn Value  Churn Score  CLTV  Gender_Male  ...  \\\n",
       "0        108.150002           1           86  3239            1  ...   \n",
       "1        151.649994           1           67  2701            0  ...   \n",
       "2        820.500000           1           86  5372            0  ...   \n",
       "3       3046.050049           1           84  5003            0  ...   \n",
       "4       5036.299805           1           89  5340            1  ...   \n",
       "...             ...         ...          ...   ...          ...  ...   \n",
       "7038    1419.400024           0           45  5306            0  ...   \n",
       "7039    1990.500000           0           59  2140            1  ...   \n",
       "7040    7362.899902           0           71  5560            0  ...   \n",
       "7041     346.450012           0           59  2793            0  ...   \n",
       "7042    6844.500000           0           38  5097            1  ...   \n",
       "\n",
       "      Streaming TV_Yes  Streaming Movies_No internet service  \\\n",
       "0                    0                                     0   \n",
       "1                    0                                     0   \n",
       "2                    1                                     0   \n",
       "3                    1                                     0   \n",
       "4                    1                                     0   \n",
       "...                ...                                   ...   \n",
       "7038                 0                                     1   \n",
       "7039                 1                                     0   \n",
       "7040                 1                                     0   \n",
       "7041                 0                                     0   \n",
       "7042                 1                                     0   \n",
       "\n",
       "      Streaming Movies_Yes  Contract_One year  Contract_Two year  \\\n",
       "0                        0                  0                  0   \n",
       "1                        0                  0                  0   \n",
       "2                        1                  0                  0   \n",
       "3                        1                  0                  0   \n",
       "4                        1                  0                  0   \n",
       "...                    ...                ...                ...   \n",
       "7038                     0                  0                  1   \n",
       "7039                     1                  1                  0   \n",
       "7040                     1                  1                  0   \n",
       "7041                     0                  0                  0   \n",
       "7042                     1                  0                  1   \n",
       "\n",
       "      Paperless Billing_Yes  Payment Method_Credit card (automatic)  \\\n",
       "0                         1                                       0   \n",
       "1                         1                                       0   \n",
       "2                         1                                       0   \n",
       "3                         1                                       0   \n",
       "4                         1                                       0   \n",
       "...                     ...                                     ...   \n",
       "7038                      1                                       0   \n",
       "7039                      1                                       0   \n",
       "7040                      1                                       1   \n",
       "7041                      1                                       0   \n",
       "7042                      1                                       0   \n",
       "\n",
       "      Payment Method_Electronic check  Payment Method_Mailed check  \\\n",
       "0                                   0                            1   \n",
       "1                                   1                            0   \n",
       "2                                   1                            0   \n",
       "3                                   1                            0   \n",
       "4                                   0                            0   \n",
       "...                               ...                          ...   \n",
       "7038                                0                            0   \n",
       "7039                                0                            1   \n",
       "7040                                0                            0   \n",
       "7041                                1                            0   \n",
       "7042                                0                            0   \n",
       "\n",
       "      Churn Label_Yes  \n",
       "0                   1  \n",
       "1                   1  \n",
       "2                   1  \n",
       "3                   1  \n",
       "4                   1  \n",
       "...               ...  \n",
       "7038                0  \n",
       "7039                0  \n",
       "7040                0  \n",
       "7041                0  \n",
       "7042                0  \n",
       "\n",
       "[7043 rows x 37 columns]"
      ]
     },
     "execution_count": 18,
     "metadata": {},
     "output_type": "execute_result"
    }
   ],
   "source": [
    "churn_dummy=churn_new.copy(deep=True)\n",
    "col_obj2=['Gender', 'Senior Citizen','Partner', 'Dependents', 'Phone Service',\n",
    "       'Multiple Lines', 'Internet Service', 'Online Security',\n",
    "       'Online Backup', 'Device Protection', 'Tech Support', 'Streaming TV',\n",
    "       'Streaming Movies', 'Contract', 'Paperless Billing', 'Payment Method',\n",
    "        'Churn Label']\n",
    "pd.get_dummies(churn_dummy,columns=col_obj2,drop_first =True )"
   ]
  },
  {
   "cell_type": "code",
   "execution_count": null,
   "id": "a3443d36",
   "metadata": {
    "papermill": {
     "duration": 0.059595,
     "end_time": "2022-04-11T13:00:54.313377",
     "exception": false,
     "start_time": "2022-04-11T13:00:54.253782",
     "status": "completed"
    },
    "tags": []
   },
   "outputs": [],
   "source": []
  },
  {
   "cell_type": "markdown",
   "id": "40ec5756",
   "metadata": {
    "papermill": {
     "duration": 0.05788,
     "end_time": "2022-04-11T13:00:54.430234",
     "exception": false,
     "start_time": "2022-04-11T13:00:54.372354",
     "status": "completed"
    },
    "tags": []
   },
   "source": [
    "#  Q6: Please examine the distribution of monthly charges between males and females using box plots. Please explain the results also."
   ]
  },
  {
   "cell_type": "code",
   "execution_count": 19,
   "id": "9c78386c",
   "metadata": {
    "execution": {
     "iopub.execute_input": "2022-04-11T13:00:54.557329Z",
     "iopub.status.busy": "2022-04-11T13:00:54.556093Z",
     "iopub.status.idle": "2022-04-11T13:00:54.745895Z",
     "shell.execute_reply": "2022-04-11T13:00:54.746861Z",
     "shell.execute_reply.started": "2022-04-11T11:08:53.343227Z"
    },
    "papermill": {
     "duration": 0.256761,
     "end_time": "2022-04-11T13:00:54.747160",
     "exception": false,
     "start_time": "2022-04-11T13:00:54.490399",
     "status": "completed"
    },
    "tags": []
   },
   "outputs": [
    {
     "data": {
      "image/png": "[encoded data removed]",
      "text/plain": [
       "<Figure size 842.4x288 with 1 Axes>"
      ]
     },
     "metadata": {},
     "output_type": "display_data"
    }
   ],
   "source": [
    "sns.set(rc={'figure.figsize':(11.7,4)})\n",
    "box_plot = sns.boxplot(x=\"Gender\", y='Monthly Charges', data=churn)\n",
    "ax = box_plot.axes\n",
    "lines = ax.get_lines()\n",
    "categories = ax.get_xticks()\n",
    "for cat in categories:\n",
    "    # every 4th line at the interval of 6 is median line\n",
    "    # 0 -> p25 1 -> p75 2 -> lower whisker 3 -> upper whisker 4 -> p50 5 -> upper extreme value\n",
    "    y = round(lines[4+cat*6].get_ydata()[0],1) \n",
    "    ax.text(cat, y, f'{y}', \n",
    "        ha='center', va='center', fontweight='bold', size=10, color='white',bbox=dict(facecolor='#445A64'))\n",
    "box_plot.figure.tight_layout()"
   ]
  },
  {
   "cell_type": "markdown",
   "id": "41c476b8",
   "metadata": {
    "papermill": {
     "duration": 0.059199,
     "end_time": "2022-04-11T13:00:54.868490",
     "exception": false,
     "start_time": "2022-04-11T13:00:54.809291",
     "status": "completed"
    },
    "tags": []
   },
   "source": [
    "Source=(http://stackoverflow.com/a/56879116)"
   ]
  },
  {
   "cell_type": "markdown",
   "id": "b5cf9ad4",
   "metadata": {
    "papermill": {
     "duration": 0.059264,
     "end_time": "2022-04-11T13:00:54.990320",
     "exception": false,
     "start_time": "2022-04-11T13:00:54.931056",
     "status": "completed"
    },
    "tags": []
   },
   "source": [
    "#  Q7: Please find what is the minimum total charges for Los Angeles city. Please find which zip code has the maximum total charges."
   ]
  },
  {
   "cell_type": "code",
   "execution_count": 20,
   "id": "20ed70fb",
   "metadata": {
    "execution": {
     "iopub.execute_input": "2022-04-11T13:00:55.116313Z",
     "iopub.status.busy": "2022-04-11T13:00:55.115551Z",
     "iopub.status.idle": "2022-04-11T13:00:55.117552Z",
     "shell.execute_reply": "2022-04-11T13:00:55.117942Z",
     "shell.execute_reply.started": "2022-04-11T11:08:53.604515Z"
    },
    "papermill": {
     "duration": 0.069053,
     "end_time": "2022-04-11T13:00:55.118165",
     "exception": false,
     "start_time": "2022-04-11T13:00:55.049112",
     "status": "completed"
    },
    "tags": []
   },
   "outputs": [],
   "source": [
    "Los_ang=churn[churn[\"City\"]=='Los Angeles']"
   ]
  },
  {
   "cell_type": "code",
   "execution_count": 21,
   "id": "037897dc",
   "metadata": {
    "execution": {
     "iopub.execute_input": "2022-04-11T13:00:55.251049Z",
     "iopub.status.busy": "2022-04-11T13:00:55.249466Z",
     "iopub.status.idle": "2022-04-11T13:00:55.534549Z",
     "shell.execute_reply": "2022-04-11T13:00:55.535016Z",
     "shell.execute_reply.started": "2022-04-11T11:08:53.613030Z"
    },
    "papermill": {
     "duration": 0.3553,
     "end_time": "2022-04-11T13:00:55.535191",
     "exception": false,
     "start_time": "2022-04-11T13:00:55.179891",
     "status": "completed"
    },
    "tags": []
   },
   "outputs": [
    {
     "data": {
      "image/png": "[encoded data removed]",
      "text/plain": [
       "<Figure size 842.4x288 with 1 Axes>"
      ]
     },
     "metadata": {},
     "output_type": "display_data"
    }
   ],
   "source": [
    "Los_ang['Total Charges'].nsmallest(10).plot(kind='bar',title='Minimum Total Charges for Los Angeles');"
   ]
  },
  {
   "cell_type": "code",
   "execution_count": 22,
   "id": "ae0459d9",
   "metadata": {
    "execution": {
     "iopub.execute_input": "2022-04-11T13:00:55.663227Z",
     "iopub.status.busy": "2022-04-11T13:00:55.660932Z",
     "iopub.status.idle": "2022-04-11T13:00:55.668556Z",
     "shell.execute_reply": "2022-04-11T13:00:55.669058Z",
     "shell.execute_reply.started": "2022-04-11T11:44:04.768348Z"
    },
    "papermill": {
     "duration": 0.073048,
     "end_time": "2022-04-11T13:00:55.669226",
     "exception": false,
     "start_time": "2022-04-11T13:00:55.596178",
     "status": "completed"
    },
    "tags": []
   },
   "outputs": [],
   "source": [
    "over_all_large=churn.groupby('Zip Code').agg({'Total Charges':np.median})[:20]['Total Charges'].nlargest(20)"
   ]
  },
  {
   "cell_type": "code",
   "execution_count": 23,
   "id": "525c8173",
   "metadata": {
    "execution": {
     "iopub.execute_input": "2022-04-11T13:00:55.792934Z",
     "iopub.status.busy": "2022-04-11T13:00:55.792343Z",
     "iopub.status.idle": "2022-04-11T13:00:55.798496Z",
     "shell.execute_reply": "2022-04-11T13:00:55.799027Z",
     "shell.execute_reply.started": "2022-04-11T11:44:10.239717Z"
    },
    "papermill": {
     "duration": 0.069744,
     "end_time": "2022-04-11T13:00:55.799217",
     "exception": false,
     "start_time": "2022-04-11T13:00:55.729473",
     "status": "completed"
    },
    "tags": []
   },
   "outputs": [
    {
     "data": {
      "text/plain": [
       "Zip Code\n",
       "90014    3656.250000\n",
       "90011    3487.949951\n",
       "90008    2104.550049\n",
       "90018    1873.699951\n",
       "90021    1862.900024\n",
       "90004    1840.750000\n",
       "90010    1834.949951\n",
       "90007    1301.099976\n",
       "90019    1261.000000\n",
       "90002    1185.949951\n",
       "90015     958.150024\n",
       "90012     910.450012\n",
       "90006     768.049988\n",
       "90001     742.950012\n",
       "90020     528.349976\n",
       "90005     387.899994\n",
       "90013     326.799988\n",
       "90017     321.700012\n",
       "90003     241.300003\n",
       "90016     174.649994\n",
       "Name: Total Charges, dtype: float32"
      ]
     },
     "execution_count": 23,
     "metadata": {},
     "output_type": "execute_result"
    }
   ],
   "source": [
    "over_all_large"
   ]
  },
  {
   "cell_type": "code",
   "execution_count": 24,
   "id": "85f1f73c",
   "metadata": {
    "execution": {
     "iopub.execute_input": "2022-04-11T13:00:55.922483Z",
     "iopub.status.busy": "2022-04-11T13:00:55.921896Z",
     "iopub.status.idle": "2022-04-11T13:00:55.927036Z",
     "shell.execute_reply": "2022-04-11T13:00:55.927599Z",
     "shell.execute_reply.started": "2022-04-11T11:44:14.164401Z"
    },
    "papermill": {
     "duration": 0.068864,
     "end_time": "2022-04-11T13:00:55.927908",
     "exception": false,
     "start_time": "2022-04-11T13:00:55.859044",
     "status": "completed"
    },
    "tags": []
   },
   "outputs": [
    {
     "data": {
      "text/plain": [
       "CategoricalIndex([90014, 90011, 90008, 90018, 90021, 90004, 90010, 90007,\n",
       "                  90019, 90002, 90015, 90012, 90006, 90001, 90020, 90005,\n",
       "                  90013, 90017, 90003, 90016],\n",
       "                 categories=[90001, 90002, 90003, 90004, 90005, 90006, 90007, 90008, ...], ordered=False, dtype='category', name='Zip Code')"
      ]
     },
     "execution_count": 24,
     "metadata": {},
     "output_type": "execute_result"
    }
   ],
   "source": [
    "over_all_large.index"
   ]
  },
  {
   "cell_type": "code",
   "execution_count": 25,
   "id": "1dd3ac40",
   "metadata": {
    "execution": {
     "iopub.execute_input": "2022-04-11T13:00:56.051183Z",
     "iopub.status.busy": "2022-04-11T13:00:56.050590Z",
     "iopub.status.idle": "2022-04-11T13:00:56.053983Z",
     "shell.execute_reply": "2022-04-11T13:00:56.054544Z",
     "shell.execute_reply.started": "2022-04-11T11:45:54.462856Z"
    },
    "papermill": {
     "duration": 0.066822,
     "end_time": "2022-04-11T13:00:56.054704",
     "exception": false,
     "start_time": "2022-04-11T13:00:55.987882",
     "status": "completed"
    },
    "tags": []
   },
   "outputs": [],
   "source": [
    "name=[90014, 90011, 90008, 90018, 90021, 90004, 90010, 90007,\n",
    "                  90019, 90002, 90015, 90012, 90006, 90001, 90020, 90005,\n",
    "                  90013, 90017, 90003, 90016]"
   ]
  },
  {
   "cell_type": "code",
   "execution_count": 26,
   "id": "c1acff89",
   "metadata": {
    "execution": {
     "iopub.execute_input": "2022-04-11T13:00:56.178738Z",
     "iopub.status.busy": "2022-04-11T13:00:56.178171Z",
     "iopub.status.idle": "2022-04-11T13:00:56.183223Z",
     "shell.execute_reply": "2022-04-11T13:00:56.183648Z",
     "shell.execute_reply.started": "2022-04-11T11:11:21.155014Z"
    },
    "papermill": {
     "duration": 0.068887,
     "end_time": "2022-04-11T13:00:56.183800",
     "exception": false,
     "start_time": "2022-04-11T13:00:56.114913",
     "status": "completed"
    },
    "tags": []
   },
   "outputs": [
    {
     "data": {
      "text/plain": [
       "array([3656.25, 3487.95, 2104.55, 1873.7 , 1862.9 , 1840.75, 1834.95,\n",
       "       1301.1 , 1261.  , 1185.95,  958.15,  910.45,  768.05,  742.95,\n",
       "        528.35,  387.9 ,  326.8 ,  321.7 ,  241.3 ,  174.65],\n",
       "      dtype=float32)"
      ]
     },
     "execution_count": 26,
     "metadata": {},
     "output_type": "execute_result"
    }
   ],
   "source": [
    "over_all_large.values"
   ]
  },
  {
   "cell_type": "code",
   "execution_count": 27,
   "id": "6b720ab9",
   "metadata": {
    "execution": {
     "iopub.execute_input": "2022-04-11T13:00:56.310465Z",
     "iopub.status.busy": "2022-04-11T13:00:56.309745Z",
     "iopub.status.idle": "2022-04-11T13:00:57.551240Z",
     "shell.execute_reply": "2022-04-11T13:00:57.551652Z",
     "shell.execute_reply.started": "2022-04-11T11:48:25.060482Z"
    },
    "papermill": {
     "duration": 1.307325,
     "end_time": "2022-04-11T13:00:57.551896",
     "exception": false,
     "start_time": "2022-04-11T13:00:56.244571",
     "status": "completed"
    },
    "tags": []
   },
   "outputs": [
    {
     "data": {
      "image/png": "[encoded data removed]",
      "text/plain": [
       "<Figure size 1440x1080 with 1 Axes>"
      ]
     },
     "metadata": {},
     "output_type": "display_data"
    }
   ],
   "source": [
    "plt.figure(figsize=(20,15))\n",
    "\n",
    "# plot polar axis\n",
    "ax = plt.subplot(111, polar=True)\n",
    "\n",
    "# remove grid\n",
    "plt.axis('off')\n",
    "\n",
    "# Set the coordinates limits\n",
    "upperLimit = 90\n",
    "lowerLimit = 50\n",
    "\n",
    "# Compute max and min in the dataset\n",
    "max = over_all_large.values\n",
    "\n",
    "# Let's compute heights: they are a conversion of each item value in those new coordinates\n",
    "# In our example, 0 in the dataset will be converted to the lowerLimit (10)\n",
    "# The maximum will be converted to the upperLimit (100)\n",
    "slope = (max - lowerLimit) / max\n",
    "heights = slope * over_all_large + lowerLimit\n",
    "\n",
    "# Compute the width of each bar. In total we have 2*Pi = 360°\n",
    "width = 2*np.pi / len(over_all_large.index)\n",
    "\n",
    "# Compute the angle each bar is centered on:\n",
    "indexes = list(range(1, len(over_all_large.index)+1))\n",
    "angles = [element * width for element in indexes]\n",
    "angles\n",
    "\n",
    "# Draw bars\n",
    "bars = ax.bar(\n",
    "    x=angles, \n",
    "    height=heights, \n",
    "    width=width, \n",
    "    bottom=lowerLimit,\n",
    "    linewidth=2, \n",
    "    edgecolor=\"white\",\n",
    "color=\"#61a4b2\")\n",
    "\n",
    "\n",
    "# little space between the bar and the label\n",
    "labelPadding = 4\n",
    "\n",
    "# Add labels\n",
    "for bar, angle, height, label in zip(bars,angles, heights, name):\n",
    "\n",
    "    # Labels are rotated. Rotation must be specified in degrees :(\n",
    "    rotation = np.rad2deg(angle)\n",
    "\n",
    "    # Flip some labels upside down\n",
    "    alignment = \"\"\n",
    "    if angle >= np.pi/2 and angle < 3*np.pi/2:\n",
    "        alignment = \"right\"\n",
    "        rotation = rotation + 180\n",
    "    else: \n",
    "        alignment = \"left\"\n",
    "\n",
    "    # Finally add the labels\n",
    "    ax.text(\n",
    "        x=angle, \n",
    "        y=lowerLimit + bar.get_height() + labelPadding, \n",
    "        s=label, \n",
    "        ha=alignment, \n",
    "        va='center', \n",
    "        rotation=rotation, \n",
    "        rotation_mode=\"anchor\") "
   ]
  },
  {
   "cell_type": "markdown",
   "id": "5801e9fe",
   "metadata": {
    "papermill": {
     "duration": 0.06459,
     "end_time": "2022-04-11T13:00:57.681128",
     "exception": false,
     "start_time": "2022-04-11T13:00:57.616538",
     "status": "completed"
    },
    "tags": []
   },
   "source": [
    "source=(https://python-graph-gallery.com/circular-barplot-basic)"
   ]
  },
  {
   "cell_type": "code",
   "execution_count": 28,
   "id": "6503ea7c",
   "metadata": {
    "execution": {
     "iopub.execute_input": "2022-04-11T13:00:57.812774Z",
     "iopub.status.busy": "2022-04-11T13:00:57.811789Z",
     "iopub.status.idle": "2022-04-11T13:00:58.227198Z",
     "shell.execute_reply": "2022-04-11T13:00:58.227981Z",
     "shell.execute_reply.started": "2022-04-11T11:15:32.656493Z"
    },
    "papermill": {
     "duration": 0.484296,
     "end_time": "2022-04-11T13:00:58.228229",
     "exception": false,
     "start_time": "2022-04-11T13:00:57.743933",
     "status": "completed"
    },
    "tags": []
   },
   "outputs": [
    {
     "name": "stderr",
     "output_type": "stream",
     "text": [
      "/opt/conda/lib/python3.7/site-packages/seaborn/_decorators.py:43: FutureWarning: Pass the following variable as a keyword arg: x. From version 0.12, the only valid positional argument will be `data`, and passing other arguments without an explicit keyword will result in an error or misinterpretation.\n",
      "  FutureWarning\n"
     ]
    },
    {
     "data": {
      "text/plain": [
       "<AxesSubplot:xlabel='Total Charges', ylabel='count'>"
      ]
     },
     "execution_count": 28,
     "metadata": {},
     "output_type": "execute_result"
    },
    {
     "data": {
      "image/png": "[encoded data removed]",
      "text/plain": [
       "<Figure size 842.4x288 with 1 Axes>"
      ]
     },
     "metadata": {},
     "output_type": "display_data"
    }
   ],
   "source": [
    "sns.countplot(over_all_large)"
   ]
  },
  {
   "cell_type": "code",
   "execution_count": 29,
   "id": "8f3dafca",
   "metadata": {
    "execution": {
     "iopub.execute_input": "2022-04-11T13:00:58.371940Z",
     "iopub.status.busy": "2022-04-11T13:00:58.371016Z",
     "iopub.status.idle": "2022-04-11T13:00:58.385796Z",
     "shell.execute_reply": "2022-04-11T13:00:58.386601Z",
     "shell.execute_reply.started": "2022-04-11T11:08:53.950761Z"
    },
    "papermill": {
     "duration": 0.084762,
     "end_time": "2022-04-11T13:00:58.386814",
     "exception": false,
     "start_time": "2022-04-11T13:00:58.302052",
     "status": "completed"
    },
    "tags": []
   },
   "outputs": [
    {
     "data": {
      "text/plain": [
       "Zip Code\n",
       "95519    8684.799805\n",
       "95461    8672.450195\n",
       "90822    8670.099609\n",
       "92230    8594.400391\n",
       "92614    8564.750000\n",
       "95237    8547.150391\n",
       "92870    8543.250000\n",
       "93428    8529.500000\n",
       "94515    8496.700195\n",
       "92124    8477.700195\n",
       "Name: Total Charges, dtype: float32"
      ]
     },
     "execution_count": 29,
     "metadata": {},
     "output_type": "execute_result"
    }
   ],
   "source": [
    "churn.groupby('Zip Code')['Total Charges'].max().nlargest(10)"
   ]
  },
  {
   "cell_type": "code",
   "execution_count": 30,
   "id": "40de1f1d",
   "metadata": {
    "execution": {
     "iopub.execute_input": "2022-04-11T13:00:58.525288Z",
     "iopub.status.busy": "2022-04-11T13:00:58.524361Z",
     "iopub.status.idle": "2022-04-11T13:00:58.532710Z",
     "shell.execute_reply": "2022-04-11T13:00:58.533284Z",
     "shell.execute_reply.started": "2022-04-11T11:08:53.965768Z"
    },
    "papermill": {
     "duration": 0.079523,
     "end_time": "2022-04-11T13:00:58.533455",
     "exception": false,
     "start_time": "2022-04-11T13:00:58.453932",
     "status": "completed"
    },
    "tags": []
   },
   "outputs": [
    {
     "data": {
      "text/plain": [
       "90001    5\n",
       "91803    5\n",
       "91917    5\n",
       "91916    5\n",
       "91915    5\n",
       "        ..\n",
       "93705    4\n",
       "93704    4\n",
       "93703    4\n",
       "93702    4\n",
       "96161    4\n",
       "Name: Zip Code, Length: 1652, dtype: int64"
      ]
     },
     "execution_count": 30,
     "metadata": {},
     "output_type": "execute_result"
    }
   ],
   "source": [
    "churn['Zip Code'].value_counts()"
   ]
  },
  {
   "cell_type": "code",
   "execution_count": 31,
   "id": "a0541f68",
   "metadata": {
    "execution": {
     "iopub.execute_input": "2022-04-11T13:00:58.668954Z",
     "iopub.status.busy": "2022-04-11T13:00:58.668047Z",
     "iopub.status.idle": "2022-04-11T13:00:58.673515Z",
     "shell.execute_reply": "2022-04-11T13:00:58.674065Z",
     "shell.execute_reply.started": "2022-04-11T11:08:53.980248Z"
    },
    "papermill": {
     "duration": 0.075315,
     "end_time": "2022-04-11T13:00:58.674244",
     "exception": false,
     "start_time": "2022-04-11T13:00:58.598929",
     "status": "completed"
    },
    "tags": []
   },
   "outputs": [
    {
     "data": {
      "text/plain": [
       "Index(['CustomerID', 'City', 'Zip Code', 'Gender', 'Senior Citizen', 'Partner',\n",
       "       'Dependents', 'Tenure Months', 'Phone Service', 'Multiple Lines',\n",
       "       'Internet Service', 'Online Security', 'Online Backup',\n",
       "       'Device Protection', 'Tech Support', 'Streaming TV', 'Streaming Movies',\n",
       "       'Contract', 'Paperless Billing', 'Payment Method', 'Monthly Charges',\n",
       "       'Total Charges', 'Churn Label', 'Churn Value', 'Churn Score', 'CLTV'],\n",
       "      dtype='object')"
      ]
     },
     "execution_count": 31,
     "metadata": {},
     "output_type": "execute_result"
    }
   ],
   "source": [
    "churn.columns"
   ]
  },
  {
   "cell_type": "code",
   "execution_count": null,
   "id": "715ae7b9",
   "metadata": {
    "papermill": {
     "duration": 0.064344,
     "end_time": "2022-04-11T13:00:58.808362",
     "exception": false,
     "start_time": "2022-04-11T13:00:58.744018",
     "status": "completed"
    },
    "tags": []
   },
   "outputs": [],
   "source": []
  },
  {
   "cell_type": "markdown",
   "id": "698605ea",
   "metadata": {
    "papermill": {
     "duration": 0.065845,
     "end_time": "2022-04-11T13:00:58.940393",
     "exception": false,
     "start_time": "2022-04-11T13:00:58.874548",
     "status": "completed"
    },
    "tags": []
   },
   "source": [
    "# Q8: Please find which payment method has the highest churn score and which has the lowest churn score."
   ]
  },
  {
   "cell_type": "code",
   "execution_count": 32,
   "id": "9f4cbf52",
   "metadata": {
    "execution": {
     "iopub.execute_input": "2022-04-11T13:00:59.076408Z",
     "iopub.status.busy": "2022-04-11T13:00:59.075477Z",
     "iopub.status.idle": "2022-04-11T13:00:59.085494Z",
     "shell.execute_reply": "2022-04-11T13:00:59.085975Z",
     "shell.execute_reply.started": "2022-04-11T11:08:53.990468Z"
    },
    "papermill": {
     "duration": 0.080586,
     "end_time": "2022-04-11T13:00:59.086153",
     "exception": false,
     "start_time": "2022-04-11T13:00:59.005567",
     "status": "completed"
    },
    "tags": []
   },
   "outputs": [
    {
     "data": {
      "text/plain": [
       "Payment Method\n",
       "Electronic check             69.0\n",
       "Mailed check                 57.0\n",
       "Bank transfer (automatic)    56.0\n",
       "Credit card (automatic)      56.0\n",
       "Name: Churn Score, dtype: float64"
      ]
     },
     "execution_count": 32,
     "metadata": {},
     "output_type": "execute_result"
    }
   ],
   "source": [
    "churn_sc_pm=churn.groupby('Payment Method').agg({'Churn Score':np.median})['Churn Score'].nlargest(4)\n",
    "churn_sc_pm"
   ]
  },
  {
   "cell_type": "code",
   "execution_count": 33,
   "id": "a849078c",
   "metadata": {
    "execution": {
     "iopub.execute_input": "2022-04-11T13:00:59.220826Z",
     "iopub.status.busy": "2022-04-11T13:00:59.219781Z",
     "iopub.status.idle": "2022-04-11T13:00:59.224165Z",
     "shell.execute_reply": "2022-04-11T13:00:59.224627Z",
     "shell.execute_reply.started": "2022-04-11T11:08:54.009789Z"
    },
    "papermill": {
     "duration": 0.073631,
     "end_time": "2022-04-11T13:00:59.224955",
     "exception": false,
     "start_time": "2022-04-11T13:00:59.151324",
     "status": "completed"
    },
    "tags": []
   },
   "outputs": [],
   "source": [
    "label1=churn_sc_pm.index\n",
    "values=churn_sc_pm.values.flatten()\n",
    "label =['Electronic check', 'Mailed check',\n",
    "                  'Bank transfer (automatic)', 'Credit card (automatic)']"
   ]
  },
  {
   "cell_type": "code",
   "execution_count": 34,
   "id": "ecf31ff5",
   "metadata": {
    "execution": {
     "iopub.execute_input": "2022-04-11T13:00:59.361812Z",
     "iopub.status.busy": "2022-04-11T13:00:59.360776Z",
     "iopub.status.idle": "2022-04-11T13:00:59.706158Z",
     "shell.execute_reply": "2022-04-11T13:00:59.706649Z",
     "shell.execute_reply.started": "2022-04-11T11:08:54.020109Z"
    },
    "papermill": {
     "duration": 0.414921,
     "end_time": "2022-04-11T13:00:59.706815",
     "exception": false,
     "start_time": "2022-04-11T13:00:59.291894",
     "status": "completed"
    },
    "tags": []
   },
   "outputs": [
    {
     "data": {
      "image/png": "[encoded data removed]",
      "text/plain": [
       "<Figure size 1224x576 with 2 Axes>"
      ]
     },
     "metadata": {},
     "output_type": "display_data"
    }
   ],
   "source": [
    "cols = ['c', 'b', 'r', 'k']\n",
    "fig, axs = plt.subplots(1, 2, figsize=(17, 8))\n",
    "axs[0].barh(label, values,color = cols)\n",
    "axs[1].pie(values, labels=label, colors = cols, startangle = 90, shadow = True, autopct='%1.0f%%', explode = (0.1, 0, 0, 0))\n",
    "fig.suptitle('Churn Score Payment Wise')\n",
    "plt.show()"
   ]
  },
  {
   "cell_type": "markdown",
   "id": "da15df64",
   "metadata": {
    "papermill": {
     "duration": 0.067147,
     "end_time": "2022-04-11T13:00:59.840745",
     "exception": false,
     "start_time": "2022-04-11T13:00:59.773598",
     "status": "completed"
    },
    "tags": []
   },
   "source": [
    "# Q9: Please create an appropriate plot to check the count of payment methods and explain it."
   ]
  },
  {
   "cell_type": "code",
   "execution_count": 35,
   "id": "32da7016",
   "metadata": {
    "execution": {
     "iopub.execute_input": "2022-04-11T13:00:59.988858Z",
     "iopub.status.busy": "2022-04-11T13:00:59.987911Z",
     "iopub.status.idle": "2022-04-11T13:01:00.218599Z",
     "shell.execute_reply": "2022-04-11T13:01:00.219215Z",
     "shell.execute_reply.started": "2022-04-11T11:08:54.413656Z"
    },
    "papermill": {
     "duration": 0.310655,
     "end_time": "2022-04-11T13:01:00.219384",
     "exception": false,
     "start_time": "2022-04-11T13:00:59.908729",
     "status": "completed"
    },
    "tags": []
   },
   "outputs": [
    {
     "data": {
      "image/png": "[encoded data removed]",
      "text/plain": [
       "<Figure size 1080x576 with 1 Axes>"
      ]
     },
     "metadata": {},
     "output_type": "display_data"
    }
   ],
   "source": [
    "plt.figure(figsize=(15,8))\n",
    "ax=sns.countplot(x='Payment Method',data=churn,order=['Electronic check', 'Mailed check',\n",
    "                  'Bank transfer (automatic)', 'Credit card (automatic)'])\n",
    "for p in ax.patches:\n",
    "   ax.annotate('{:.1f}'.format(p.get_height()), (p.get_x()+0.25, p.get_height()+0.01))"
   ]
  },
  {
   "cell_type": "code",
   "execution_count": null,
   "id": "cad119ab",
   "metadata": {
    "papermill": {
     "duration": 0.068137,
     "end_time": "2022-04-11T13:01:00.357018",
     "exception": false,
     "start_time": "2022-04-11T13:01:00.288881",
     "status": "completed"
    },
    "tags": []
   },
   "outputs": [],
   "source": []
  },
  {
   "cell_type": "markdown",
   "id": "28cfadfe",
   "metadata": {
    "papermill": {
     "duration": 0.069925,
     "end_time": "2022-04-11T13:01:00.498281",
     "exception": false,
     "start_time": "2022-04-11T13:01:00.428356",
     "status": "completed"
    },
    "tags": []
   },
   "source": [
    "# Q10: Please create an appropriate plot to see the relationship between monthly charges and total charges."
   ]
  },
  {
   "cell_type": "code",
   "execution_count": 36,
   "id": "b1a3df7f",
   "metadata": {
    "execution": {
     "iopub.execute_input": "2022-04-11T13:01:00.639875Z",
     "iopub.status.busy": "2022-04-11T13:01:00.638948Z",
     "iopub.status.idle": "2022-04-11T13:01:01.763372Z",
     "shell.execute_reply": "2022-04-11T13:01:01.762888Z",
     "shell.execute_reply.started": "2022-04-11T11:08:54.678811Z"
    },
    "papermill": {
     "duration": 1.195893,
     "end_time": "2022-04-11T13:01:01.763510",
     "exception": false,
     "start_time": "2022-04-11T13:01:00.567617",
     "status": "completed"
    },
    "tags": []
   },
   "outputs": [
    {
     "data": {
      "text/plain": [
       "<seaborn.axisgrid.JointGrid at 0x7f529a122a10>"
      ]
     },
     "execution_count": 36,
     "metadata": {},
     "output_type": "execute_result"
    },
    {
     "data": {
      "image/png": "[encoded data removed]",
      "text/plain": [
       "<Figure size 432x432 with 3 Axes>"
      ]
     },
     "metadata": {},
     "output_type": "display_data"
    }
   ],
   "source": [
    "sns.set_theme(style=\"darkgrid\")\n",
    "sns.jointplot(data=churn, y=\"Monthly Charges\", x=\"Total Charges\",\n",
    "                  kind=\"reg\",palette=\"Set2\",color='r')"
   ]
  },
  {
   "cell_type": "code",
   "execution_count": null,
   "id": "3f5a33d4",
   "metadata": {
    "execution": {
     "iopub.execute_input": "2022-04-11T11:08:56.060785Z",
     "iopub.status.busy": "2022-04-11T11:08:56.059917Z",
     "iopub.status.idle": "2022-04-11T11:08:56.065013Z",
     "shell.execute_reply": "2022-04-11T11:08:56.064393Z",
     "shell.execute_reply.started": "2022-04-11T11:08:56.060749Z"
    },
    "papermill": {
     "duration": 0.073264,
     "end_time": "2022-04-11T13:01:01.910688",
     "exception": false,
     "start_time": "2022-04-11T13:01:01.837424",
     "status": "completed"
    },
    "tags": []
   },
   "outputs": [],
   "source": []
  },
  {
   "cell_type": "code",
   "execution_count": null,
   "id": "eb9ffb6e",
   "metadata": {
    "execution": {
     "iopub.execute_input": "2022-04-11T11:08:56.066774Z",
     "iopub.status.busy": "2022-04-11T11:08:56.066173Z",
     "iopub.status.idle": "2022-04-11T11:08:56.081488Z",
     "shell.execute_reply": "2022-04-11T11:08:56.080728Z",
     "shell.execute_reply.started": "2022-04-11T11:08:56.066741Z"
    },
    "papermill": {
     "duration": 0.072979,
     "end_time": "2022-04-11T13:01:02.056247",
     "exception": false,
     "start_time": "2022-04-11T13:01:01.983268",
     "status": "completed"
    },
    "tags": []
   },
   "outputs": [],
   "source": []
  },
  {
   "cell_type": "code",
   "execution_count": null,
   "id": "8c725399",
   "metadata": {
    "execution": {
     "iopub.execute_input": "2022-04-11T11:08:56.083848Z",
     "iopub.status.busy": "2022-04-11T11:08:56.082622Z",
     "iopub.status.idle": "2022-04-11T11:08:56.093231Z",
     "shell.execute_reply": "2022-04-11T11:08:56.092417Z",
     "shell.execute_reply.started": "2022-04-11T11:08:56.083796Z"
    },
    "papermill": {
     "duration": 0.072423,
     "end_time": "2022-04-11T13:01:02.199550",
     "exception": false,
     "start_time": "2022-04-11T13:01:02.127127",
     "status": "completed"
    },
    "tags": []
   },
   "outputs": [],
   "source": []
  },
  {
   "cell_type": "code",
   "execution_count": null,
   "id": "26282369",
   "metadata": {
    "execution": {
     "iopub.execute_input": "2022-04-11T11:08:56.095707Z",
     "iopub.status.busy": "2022-04-11T11:08:56.095022Z",
     "iopub.status.idle": "2022-04-11T11:08:56.104933Z",
     "shell.execute_reply": "2022-04-11T11:08:56.104258Z",
     "shell.execute_reply.started": "2022-04-11T11:08:56.095633Z"
    },
    "papermill": {
     "duration": 0.071634,
     "end_time": "2022-04-11T13:01:02.344029",
     "exception": false,
     "start_time": "2022-04-11T13:01:02.272395",
     "status": "completed"
    },
    "tags": []
   },
   "outputs": [],
   "source": []
  },
  {
   "cell_type": "code",
   "execution_count": null,
   "id": "c15766f2",
   "metadata": {
    "execution": {
     "iopub.execute_input": "2022-04-11T11:08:56.107289Z",
     "iopub.status.busy": "2022-04-11T11:08:56.106650Z",
     "iopub.status.idle": "2022-04-11T11:08:56.257403Z",
     "shell.execute_reply": "2022-04-11T11:08:56.256460Z",
     "shell.execute_reply.started": "2022-04-11T11:08:56.107244Z"
    },
    "papermill": {
     "duration": 0.072185,
     "end_time": "2022-04-11T13:01:02.488031",
     "exception": false,
     "start_time": "2022-04-11T13:01:02.415846",
     "status": "completed"
    },
    "tags": []
   },
   "outputs": [],
   "source": []
  },
  {
   "cell_type": "code",
   "execution_count": null,
   "id": "df320bf2",
   "metadata": {
    "execution": {
     "iopub.execute_input": "2022-04-11T11:08:56.266927Z",
     "iopub.status.busy": "2022-04-11T11:08:56.266652Z",
     "iopub.status.idle": "2022-04-11T11:08:56.578352Z",
     "shell.execute_reply": "2022-04-11T11:08:56.577370Z",
     "shell.execute_reply.started": "2022-04-11T11:08:56.266898Z"
    },
    "papermill": {
     "duration": 0.073169,
     "end_time": "2022-04-11T13:01:02.635589",
     "exception": false,
     "start_time": "2022-04-11T13:01:02.562420",
     "status": "completed"
    },
    "tags": []
   },
   "outputs": [],
   "source": []
  },
  {
   "cell_type": "code",
   "execution_count": null,
   "id": "65f49208",
   "metadata": {
    "execution": {
     "iopub.execute_input": "2022-04-11T11:08:56.579833Z",
     "iopub.status.busy": "2022-04-11T11:08:56.579581Z",
     "iopub.status.idle": "2022-04-11T11:08:56.595033Z",
     "shell.execute_reply": "2022-04-11T11:08:56.594309Z",
     "shell.execute_reply.started": "2022-04-11T11:08:56.579805Z"
    },
    "papermill": {
     "duration": 0.070169,
     "end_time": "2022-04-11T13:01:02.785660",
     "exception": false,
     "start_time": "2022-04-11T13:01:02.715491",
     "status": "completed"
    },
    "tags": []
   },
   "outputs": [],
   "source": []
  },
  {
   "cell_type": "code",
   "execution_count": null,
   "id": "be50bbb2",
   "metadata": {
    "execution": {
     "iopub.execute_input": "2022-04-11T11:08:56.597037Z",
     "iopub.status.busy": "2022-04-11T11:08:56.595987Z",
     "iopub.status.idle": "2022-04-11T11:08:56.930366Z",
     "shell.execute_reply": "2022-04-11T11:08:56.929354Z",
     "shell.execute_reply.started": "2022-04-11T11:08:56.596992Z"
    },
    "papermill": {
     "duration": 0.07052,
     "end_time": "2022-04-11T13:01:02.927400",
     "exception": false,
     "start_time": "2022-04-11T13:01:02.856880",
     "status": "completed"
    },
    "tags": []
   },
   "outputs": [],
   "source": []
  },
  {
   "cell_type": "code",
   "execution_count": null,
   "id": "2c9c1394",
   "metadata": {
    "execution": {
     "iopub.execute_input": "2022-04-11T11:08:56.932513Z",
     "iopub.status.busy": "2022-04-11T11:08:56.932186Z",
     "iopub.status.idle": "2022-04-11T11:08:57.222131Z",
     "shell.execute_reply": "2022-04-11T11:08:57.221237Z",
     "shell.execute_reply.started": "2022-04-11T11:08:56.932471Z"
    },
    "papermill": {
     "duration": 0.072023,
     "end_time": "2022-04-11T13:01:03.071146",
     "exception": false,
     "start_time": "2022-04-11T13:01:02.999123",
     "status": "completed"
    },
    "tags": []
   },
   "outputs": [],
   "source": []
  },
  {
   "cell_type": "code",
   "execution_count": 37,
   "id": "247ea359",
   "metadata": {
    "execution": {
     "iopub.execute_input": "2022-04-11T13:01:03.223648Z",
     "iopub.status.busy": "2022-04-11T13:01:03.223052Z",
     "iopub.status.idle": "2022-04-11T13:01:03.227738Z",
     "shell.execute_reply": "2022-04-11T13:01:03.228212Z",
     "shell.execute_reply.started": "2022-04-11T11:08:57.241899Z"
    },
    "papermill": {
     "duration": 0.083449,
     "end_time": "2022-04-11T13:01:03.228380",
     "exception": false,
     "start_time": "2022-04-11T13:01:03.144931",
     "status": "completed"
    },
    "tags": []
   },
   "outputs": [],
   "source": [
    "city_r=(churn_new['City'].value_counts()/len(churn_new))*100"
   ]
  },
  {
   "cell_type": "code",
   "execution_count": 38,
   "id": "f87b9695",
   "metadata": {
    "execution": {
     "iopub.execute_input": "2022-04-11T13:01:03.377230Z",
     "iopub.status.busy": "2022-04-11T13:01:03.376629Z",
     "iopub.status.idle": "2022-04-11T13:01:03.381622Z",
     "shell.execute_reply": "2022-04-11T13:01:03.382077Z",
     "shell.execute_reply.started": "2022-04-11T11:08:57.254375Z"
    },
    "papermill": {
     "duration": 0.081268,
     "end_time": "2022-04-11T13:01:03.382252",
     "exception": false,
     "start_time": "2022-04-11T13:01:03.300984",
     "status": "completed"
    },
    "tags": []
   },
   "outputs": [
    {
     "data": {
      "text/plain": [
       "158"
      ]
     },
     "execution_count": 38,
     "metadata": {},
     "output_type": "execute_result"
    }
   ],
   "source": [
    "(city_r>0.09).sum()"
   ]
  }
 ],
 "metadata": {
  "kernelspec": {
   "display_name": "Python 3",
   "language": "python",
   "name": "python3"
  },
  "language_info": {
   "codemirror_mode": {
    "name": "ipython",
    "version": 3
   },
   "file_extension": ".py",
   "mimetype": "text/x-python",
   "name": "python",
   "nbconvert_exporter": "python",
   "pygments_lexer": "ipython3",
   "version": "3.7.12"
  },
  "papermill": {
   "default_parameters": {},
   "duration": 27.907285,
   "end_time": "2022-04-11T13:01:04.164323",
   "environment_variables": {},
   "exception": null,
   "input_path": "__notebook__.ipynb",
   "output_path": "__notebook__.ipynb",
   "parameters": {},
   "start_time": "2022-04-11T13:00:36.257038",
   "version": "2.3.3"
  }
 },
 "nbformat": 4,
 "nbformat_minor": 5
}
