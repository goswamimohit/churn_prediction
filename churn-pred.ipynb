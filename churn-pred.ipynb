{
 "cells": [
  {
   "cell_type": "markdown",
   "id": "f0a47840",
   "metadata": {
    "papermill": {
     "duration": 0.034847,
     "end_time": "2022-04-12T19:08:40.429769",
     "exception": false,
     "start_time": "2022-04-12T19:08:40.394922",
     "status": "completed"
    },
    "tags": []
   },
   "source": []
  },
  {
   "cell_type": "markdown",
   "id": "ee499743",
   "metadata": {
    "papermill": {
     "duration": 0.048069,
     "end_time": "2022-04-12T19:08:40.518146",
     "exception": false,
     "start_time": "2022-04-12T19:08:40.470077",
     "status": "completed"
    },
    "tags": []
   },
   "source": [
    "# Introduction\n",
    "\n",
    "\"Telecom\" means companies that are in the business of communication. The telecom business is one of the most competitive businesses at present. Earlier, their business was limited to phone conversations. As technology grows year-on-year, from 1G to 5G or hologram, along with leading to an increase in business activity, now it's not about connectivity but speed and stability.\n",
    "\n",
    "More companies start coming into this business, which leads to an increase in competition between companies. Now they have started going beyond their traditional services and have started offering services that include entertainment also.\n",
    "\n",
    "So, they can attract more customers towards themselves. It leads to an increase in the churn rate of customers. Companies have to come up with a better business strategy to overcome this competition. Now it's not only about gaining new customers, but retaining old ones as well.\n",
    "\n",
    "In this data science can play a major role. The dataset we are using for this project belongs to a company based in California and is provided by IBM. It contains information on nearly 7000 customers. It had data regarding their old customers. Furthermore, it contains information about their customers, i.e.,\n",
    "\n",
    "    Demographic information about customers includes gender and marital status.\n",
    "    Payment information includes the number of months you've been with the company, paperless billing, payment method, monthly charges, and total charges.\n",
    "    Services Customer usage behavior, such as streaming TV, streaming movies\n",
    "    Services : phone service, multiples, internet service, online security, online backup, device protection, and tech support.\n",
    "    Customer churn — churn score, status, reason behind churn, etc.\n",
    "    \n",
    "The aim of this project is to come up with a data-driven solution that will not only allow us to reduce churn rates but also lead to increased customer satisfaction and overall revenue.\n"
   ]
  },
  {
   "cell_type": "markdown",
   "id": "cac987b4",
   "metadata": {
    "papermill": {
     "duration": 0.032877,
     "end_time": "2022-04-12T19:08:40.589153",
     "exception": false,
     "start_time": "2022-04-12T19:08:40.556276",
     "status": "completed"
    },
    "tags": []
   },
   "source": [
    "# Main Schema\n",
    "\n",
    "- Q1: Please read the file and explain data types statistically as well as how python is reading it. Please let us know if any data type is read wrong.\n",
    "\n",
    "- Q2: Please apply appropriate statistical measures using python based on data types.\n",
    "\n",
    "- Q3: What is the percentage of females and senior citizens in this data set? Please create appropriate plots and explain the plots.\n",
    "\n",
    "- Q4:  Please create an appropriate plot to examine the distribution of the tenure month column and explain the distribution. Based on distribution, perform appropriate statistical measures. Please also explain if the variable is symmetric or skewed. Please calculate it. Explain everything as asked.\n",
    "\n",
    "- Q5: Please convert all binary columns into 0 and 1 using appropriate programming constructs, not one by one.\n",
    "\n",
    "- Q6: Please examine the distribution of monthly charges between males and females using box plots. Please explain the results also. \n",
    "\n",
    "- Q7: Please find what is the minimum total charges for Los Angeles city. Please find which zip code has the maximum total charges.\n",
    "\n",
    "- Q8: Please find which payment method has the highest churn score and which has the lowest churn score.\n",
    "\n",
    "- Q9: Please create an appropriate plot to check the count of payment methods and explain it.\n",
    "\n",
    "- Q10: Please create an appropriate plot to see the relationship between monthly charges and total charges."
   ]
  },
  {
   "cell_type": "markdown",
   "id": "dcef7381",
   "metadata": {
    "papermill": {
     "duration": 0.03275,
     "end_time": "2022-04-12T19:08:40.654989",
     "exception": false,
     "start_time": "2022-04-12T19:08:40.622239",
     "status": "completed"
    },
    "tags": []
   },
   "source": [
    "# Importing Dependency"
   ]
  },
  {
   "cell_type": "code",
   "execution_count": 1,
   "id": "160c7186",
   "metadata": {
    "_cell_guid": "b1076dfc-b9ad-4769-8c92-a6c4dae69d19",
    "_uuid": "8f2839f25d086af736a60e9eeb907d3b93b6e0e5",
    "execution": {
     "iopub.execute_input": "2022-04-12T19:08:40.726232Z",
     "iopub.status.busy": "2022-04-12T19:08:40.725152Z",
     "iopub.status.idle": "2022-04-12T19:08:41.771524Z",
     "shell.execute_reply": "2022-04-12T19:08:41.770892Z",
     "shell.execute_reply.started": "2022-04-12T19:06:56.120292Z"
    },
    "papermill": {
     "duration": 1.083486,
     "end_time": "2022-04-12T19:08:41.771678",
     "exception": false,
     "start_time": "2022-04-12T19:08:40.688192",
     "status": "completed"
    },
    "tags": []
   },
   "outputs": [
    {
     "name": "stdout",
     "output_type": "stream",
     "text": [
      "/kaggle/input/customer-churn/Telco_customer_churn.xlsx - Telco_Churn.csv\n"
     ]
    }
   ],
   "source": [
    "import numpy as np # linear algebra\n",
    "import pandas as pd # data processing, CSV file I/O (e.g. pd.read_csv)\n",
    "import matplotlib.pyplot as plt\n",
    "import seaborn as sns\n",
    "import os\n",
    "for dirname, _, filenames in os.walk('/kaggle/input'):\n",
    "    for filename in filenames:\n",
    "        print(os.path.join(dirname, filename))"
   ]
  },
  {
   "cell_type": "markdown",
   "id": "24449746",
   "metadata": {
    "papermill": {
     "duration": 0.033971,
     "end_time": "2022-04-12T19:08:41.839535",
     "exception": false,
     "start_time": "2022-04-12T19:08:41.805564",
     "status": "completed"
    },
    "tags": []
   },
   "source": [
    "# Discription :\n",
    "\n",
    "- A fictional telco company that provided home phone and Internet services to 7043 customers in California in Quarter 3 of the fiscal year."
   ]
  },
  {
   "cell_type": "markdown",
   "id": "af39fa36",
   "metadata": {
    "papermill": {
     "duration": 0.033092,
     "end_time": "2022-04-12T19:08:41.906152",
     "exception": false,
     "start_time": "2022-04-12T19:08:41.873060",
     "status": "completed"
    },
    "tags": []
   },
   "source": [
    "| # |Attribute                     |Description                                                                                                                                                                                                   |\n",
    "|---|:----------------------------:|--------------------------------------------------------------------------------------------------------------------------------------------------------------------|\n",
    "|1  |         CUSTOMERID:          |A unique ID that identifies each customer.                                                                                                                                                                    |\n",
    "|2  |            COUNT:            |A value used in reporting/dashboarding to sum up the number of customers in a filtered set.                                                                                                                   |\n",
    "|3  |           COUNTRY:           |The country of the customer’s primary residence.                                                                                                                                                              |\n",
    "|4  |            STATE:            |The state of the customer’s primary residence.                                                                                                                                                                |\n",
    "|5  |            CITY:             |The city of the customer’s primary residence.                                                                                                                                                                 |\n",
    "|6  |          ZIP CODE:           |The zip code of the customer’s primary residence.                                                                                                                                                             |\n",
    "|7  |          LAT LONG:           |The combined latitude and longitude of the customer’s primary residence.                                                                                                                                      |\n",
    "|8  |          LATITUDE:           |The latitude of the customer’s primary residence.                                                                                                                                                             |\n",
    "|9  |          LONGITUDE:          |The longitude of the customer’s primary residence.                                                                                                                                                            |\n",
    "|10 |           GENDER:            |The customer’s gender: Male, Female                                                                                                                                                                           |\n",
    "|11 |       SENIOR CITIZEN:        |Indicates if the customer is 65 or older: Yes, No                                                                                                                                                             |\n",
    "|12 |           PARTNER:           |Indicate if the customer has a partner: Yes, No                                                                                                                                                               |\n",
    "|13 |         DEPENDENTS:          |Indicates if the customer lives with any dependents: Yes, No. Dependents could be children, parents, grandparents, etc.                                                                                       |\n",
    "|14 |        TENURE MONTHS:        |Indicates the total amount of months that the customer has been with the company by the end of the quarter specified above.                                                                                   |\n",
    "|15 |        PHONE SERVICE:        |Indicates if the customer subscribes to home phone service with the company: Yes, No                                                                                                                          |\n",
    "|16 |       MULTIPLE LINES:        |Indicates if the customer subscribes to multiple telephone lines with the company: Yes, No                                                                                                                    |\n",
    "|17 |      INTERNET SERVICE:       |Indicates if the customer subscribes to Internet service with the company: No, DSL, Fiber Optic, Cable.                                                                                                       |\n",
    "|18 |       ONLINE SECURITY:       |Indicates if the customer subscribes to an additional online security service provided by the company: Yes, No                                                                                                |\n",
    "|19 |        ONLINE BACKUP:        |Indicates if the customer subscribes to an additional online backup service provided by the company: Yes, No                                                                                                  |\n",
    "|20 |      DEVICE PROTECTION:      |Indicates if the customer subscribes to an additional device protection plan for their Internet equipment provided by the company: Yes, No                                                                    |\n",
    "|21 |        TECH SUPPORT:         |Indicates if the customer subscribes to an additional technical support plan from the company with reduced wait times: Yes, No                                                                                |\n",
    "|22 |        STREAMING TV:         |Indicates if the customer uses their Internet service to stream television programing from a third party provider: Yes, No. The company does not charge an additional fee for this service.                   |\n",
    "|23 |      STREAMING MOVIES:       |Indicates if the customer uses their Internet service to stream movies from a third party provider: Yes, No. The company does not charge an additional fee for this service.                                  |\n",
    "|24 |          CONTRACT:           |Indicates the customer’s current contract type: Month-to-Month, One Year, Two Year.                                                                                                                           |\n",
    "|25 |      PAPERLESS BILLING:      |Indicates if the customer has chosen paperless billing: Yes, No                                                                                                                                               |\n",
    "|26 |       PAYMENT METHOD:        |Indicates how the customer pays their bill: Bank Withdrawal, Credit Card, Mailed Check                                                                                                                        |\n",
    "|27 |       MONTHLY CHARGE:        |Indicates the customer’s current total monthly charge for all their services from the company.                                                                                                                |\n",
    "|28 |        TOTAL CHARGES:        |Indicates the customer’s total charges, calculated to the end of the quarter specified above.                                                                                                                 |\n",
    "|29 |         CHURN LABEL:         |Yes = the customer left the company this quarter. No = the customer remained with the company. Directly related to Churn Value.                                                                               |\n",
    "|30 |         CHURN VALUE:         |1 = the customer left the company this quarter. 0 = the customer remained with the company. Directly related to Churn Label.                                                                                  |\n",
    "|31 |         CHURN SCORE:         |A value from 0-100 that is calculated using the predictive tool IBM SPSS Modeler. The model incorporates multiple factors known to cause churn. The higher the score, the more likely the customer will churn.|\n",
    "|32 |CLTV: CUSTOMER LIFETIME VALUE.|A predicted CLTV is calculated using corporate formulas and existing data. The higher the value, the more valuable the customer. High value customers should be monitored for churn.                          |\n",
    "|33 |        CHURN REASON:         |A customer’s specific reason for leaving the company. Directly related to Churn Category.                                                                                                                     |\n"
   ]
  },
  {
   "cell_type": "markdown",
   "id": "c27591b0",
   "metadata": {
    "papermill": {
     "duration": 0.033754,
     "end_time": "2022-04-12T19:08:41.973766",
     "exception": false,
     "start_time": "2022-04-12T19:08:41.940012",
     "status": "completed"
    },
    "tags": []
   },
   "source": [
    "# Q1: Please read the file and explain data types statistically as well as how python is reading it. Please let us know if any data type is read wrong."
   ]
  },
  {
   "cell_type": "code",
   "execution_count": 2,
   "id": "3151be16",
   "metadata": {
    "execution": {
     "iopub.execute_input": "2022-04-12T19:08:42.045636Z",
     "iopub.status.busy": "2022-04-12T19:08:42.045017Z",
     "iopub.status.idle": "2022-04-12T19:08:42.126119Z",
     "shell.execute_reply": "2022-04-12T19:08:42.126915Z",
     "shell.execute_reply.started": "2022-04-12T19:06:57.214582Z"
    },
    "papermill": {
     "duration": 0.11985,
     "end_time": "2022-04-12T19:08:42.127154",
     "exception": false,
     "start_time": "2022-04-12T19:08:42.007304",
     "status": "completed"
    },
    "tags": []
   },
   "outputs": [],
   "source": [
    "filepath='/kaggle/input/customer-churn/Telco_customer_churn.xlsx - Telco_Churn.csv' # filepath\n",
    "churn=pd.read_csv(filepath)"
   ]
  },
  {
   "cell_type": "code",
   "execution_count": 3,
   "id": "34ae68eb",
   "metadata": {
    "execution": {
     "iopub.execute_input": "2022-04-12T19:08:42.221120Z",
     "iopub.status.busy": "2022-04-12T19:08:42.220515Z",
     "iopub.status.idle": "2022-04-12T19:08:42.252643Z",
     "shell.execute_reply": "2022-04-12T19:08:42.253101Z",
     "shell.execute_reply.started": "2022-04-12T19:06:57.307509Z"
    },
    "papermill": {
     "duration": 0.077877,
     "end_time": "2022-04-12T19:08:42.253268",
     "exception": false,
     "start_time": "2022-04-12T19:08:42.175391",
     "status": "completed"
    },
    "tags": []
   },
   "outputs": [
    {
     "name": "stdout",
     "output_type": "stream",
     "text": [
      "<class 'pandas.core.frame.DataFrame'>\n",
      "RangeIndex: 7043 entries, 0 to 7042\n",
      "Data columns (total 33 columns):\n",
      " #   Column             Non-Null Count  Dtype  \n",
      "---  ------             --------------  -----  \n",
      " 0   CustomerID         7043 non-null   object \n",
      " 1   Count              7043 non-null   int64  \n",
      " 2   Country            7043 non-null   object \n",
      " 3   State              7043 non-null   object \n",
      " 4   City               7043 non-null   object \n",
      " 5   Zip Code           7043 non-null   int64  \n",
      " 6   Lat Long           7043 non-null   object \n",
      " 7   Latitude           7043 non-null   float64\n",
      " 8   Longitude          7043 non-null   float64\n",
      " 9   Gender             7043 non-null   object \n",
      " 10  Senior Citizen     7043 non-null   object \n",
      " 11  Partner            7043 non-null   object \n",
      " 12  Dependents         7043 non-null   object \n",
      " 13  Tenure Months      7043 non-null   int64  \n",
      " 14  Phone Service      7043 non-null   object \n",
      " 15  Multiple Lines     7043 non-null   object \n",
      " 16  Internet Service   7043 non-null   object \n",
      " 17  Online Security    7043 non-null   object \n",
      " 18  Online Backup      7043 non-null   object \n",
      " 19  Device Protection  7043 non-null   object \n",
      " 20  Tech Support       7043 non-null   object \n",
      " 21  Streaming TV       7043 non-null   object \n",
      " 22  Streaming Movies   7043 non-null   object \n",
      " 23  Contract           7043 non-null   object \n",
      " 24  Paperless Billing  7043 non-null   object \n",
      " 25  Payment Method     7043 non-null   object \n",
      " 26  Monthly Charges    7043 non-null   float64\n",
      " 27  Total Charges      7043 non-null   object \n",
      " 28  Churn Label        7043 non-null   object \n",
      " 29  Churn Value        7043 non-null   int64  \n",
      " 30  Churn Score        7043 non-null   int64  \n",
      " 31  CLTV               7043 non-null   int64  \n",
      " 32  Churn Reason       1869 non-null   object \n",
      "dtypes: float64(3), int64(6), object(24)\n",
      "memory usage: 1.8+ MB\n"
     ]
    }
   ],
   "source": [
    "churn.info()"
   ]
  },
  {
   "cell_type": "code",
   "execution_count": 4,
   "id": "58c93052",
   "metadata": {
    "execution": {
     "iopub.execute_input": "2022-04-12T19:08:42.324304Z",
     "iopub.status.busy": "2022-04-12T19:08:42.323698Z",
     "iopub.status.idle": "2022-04-12T19:08:42.331914Z",
     "shell.execute_reply": "2022-04-12T19:08:42.332373Z",
     "shell.execute_reply.started": "2022-04-12T19:06:57.357705Z"
    },
    "papermill": {
     "duration": 0.045368,
     "end_time": "2022-04-12T19:08:42.332581",
     "exception": false,
     "start_time": "2022-04-12T19:08:42.287213",
     "status": "completed"
    },
    "tags": []
   },
   "outputs": [],
   "source": [
    "remove=['Count','Lat Long','Country','State','Churn Reason','Latitude', 'Longitude']   \n",
    "#droping list of column not requires for given set of analysis\n",
    "churn.drop(columns=remove,inplace=True)\n",
    "churn_test=churn.copy(deep=True)"
   ]
  },
  {
   "cell_type": "code",
   "execution_count": null,
   "id": "204724a8",
   "metadata": {
    "papermill": {
     "duration": 0.033521,
     "end_time": "2022-04-12T19:08:42.399863",
     "exception": false,
     "start_time": "2022-04-12T19:08:42.366342",
     "status": "completed"
    },
    "tags": []
   },
   "outputs": [],
   "source": []
  },
  {
   "cell_type": "code",
   "execution_count": 5,
   "id": "90e271dd",
   "metadata": {
    "execution": {
     "iopub.execute_input": "2022-04-12T19:08:42.472614Z",
     "iopub.status.busy": "2022-04-12T19:08:42.471963Z",
     "iopub.status.idle": "2022-04-12T19:08:42.488959Z",
     "shell.execute_reply": "2022-04-12T19:08:42.489398Z",
     "shell.execute_reply.started": "2022-04-12T19:06:57.371552Z"
    },
    "papermill": {
     "duration": 0.055735,
     "end_time": "2022-04-12T19:08:42.489581",
     "exception": false,
     "start_time": "2022-04-12T19:08:42.433846",
     "status": "completed"
    },
    "tags": []
   },
   "outputs": [
    {
     "data": {
      "text/html": [
       "<div>\n",
       "<style scoped>\n",
       "    .dataframe tbody tr th:only-of-type {\n",
       "        vertical-align: middle;\n",
       "    }\n",
       "\n",
       "    .dataframe tbody tr th {\n",
       "        vertical-align: top;\n",
       "    }\n",
       "\n",
       "    .dataframe thead th {\n",
       "        text-align: right;\n",
       "    }\n",
       "</style>\n",
       "<table border=\"1\" class=\"dataframe\">\n",
       "  <thead>\n",
       "    <tr style=\"text-align: right;\">\n",
       "      <th></th>\n",
       "      <th>0</th>\n",
       "      <th>1</th>\n",
       "      <th>2</th>\n",
       "      <th>3</th>\n",
       "      <th>4</th>\n",
       "    </tr>\n",
       "  </thead>\n",
       "  <tbody>\n",
       "    <tr>\n",
       "      <th>CustomerID</th>\n",
       "      <td>3668-QPYBK</td>\n",
       "      <td>9237-HQITU</td>\n",
       "      <td>9305-CDSKC</td>\n",
       "      <td>7892-POOKP</td>\n",
       "      <td>0280-XJGEX</td>\n",
       "    </tr>\n",
       "    <tr>\n",
       "      <th>City</th>\n",
       "      <td>Los Angeles</td>\n",
       "      <td>Los Angeles</td>\n",
       "      <td>Los Angeles</td>\n",
       "      <td>Los Angeles</td>\n",
       "      <td>Los Angeles</td>\n",
       "    </tr>\n",
       "    <tr>\n",
       "      <th>Zip Code</th>\n",
       "      <td>90003</td>\n",
       "      <td>90005</td>\n",
       "      <td>90006</td>\n",
       "      <td>90010</td>\n",
       "      <td>90015</td>\n",
       "    </tr>\n",
       "    <tr>\n",
       "      <th>Gender</th>\n",
       "      <td>Male</td>\n",
       "      <td>Female</td>\n",
       "      <td>Female</td>\n",
       "      <td>Female</td>\n",
       "      <td>Male</td>\n",
       "    </tr>\n",
       "    <tr>\n",
       "      <th>Senior Citizen</th>\n",
       "      <td>No</td>\n",
       "      <td>No</td>\n",
       "      <td>No</td>\n",
       "      <td>No</td>\n",
       "      <td>No</td>\n",
       "    </tr>\n",
       "    <tr>\n",
       "      <th>Partner</th>\n",
       "      <td>No</td>\n",
       "      <td>No</td>\n",
       "      <td>No</td>\n",
       "      <td>Yes</td>\n",
       "      <td>No</td>\n",
       "    </tr>\n",
       "    <tr>\n",
       "      <th>Dependents</th>\n",
       "      <td>No</td>\n",
       "      <td>Yes</td>\n",
       "      <td>Yes</td>\n",
       "      <td>Yes</td>\n",
       "      <td>Yes</td>\n",
       "    </tr>\n",
       "    <tr>\n",
       "      <th>Tenure Months</th>\n",
       "      <td>2</td>\n",
       "      <td>2</td>\n",
       "      <td>8</td>\n",
       "      <td>28</td>\n",
       "      <td>49</td>\n",
       "    </tr>\n",
       "    <tr>\n",
       "      <th>Phone Service</th>\n",
       "      <td>Yes</td>\n",
       "      <td>Yes</td>\n",
       "      <td>Yes</td>\n",
       "      <td>Yes</td>\n",
       "      <td>Yes</td>\n",
       "    </tr>\n",
       "    <tr>\n",
       "      <th>Multiple Lines</th>\n",
       "      <td>No</td>\n",
       "      <td>No</td>\n",
       "      <td>Yes</td>\n",
       "      <td>Yes</td>\n",
       "      <td>Yes</td>\n",
       "    </tr>\n",
       "    <tr>\n",
       "      <th>Internet Service</th>\n",
       "      <td>DSL</td>\n",
       "      <td>Fiber optic</td>\n",
       "      <td>Fiber optic</td>\n",
       "      <td>Fiber optic</td>\n",
       "      <td>Fiber optic</td>\n",
       "    </tr>\n",
       "    <tr>\n",
       "      <th>Online Security</th>\n",
       "      <td>Yes</td>\n",
       "      <td>No</td>\n",
       "      <td>No</td>\n",
       "      <td>No</td>\n",
       "      <td>No</td>\n",
       "    </tr>\n",
       "    <tr>\n",
       "      <th>Online Backup</th>\n",
       "      <td>Yes</td>\n",
       "      <td>No</td>\n",
       "      <td>No</td>\n",
       "      <td>No</td>\n",
       "      <td>Yes</td>\n",
       "    </tr>\n",
       "    <tr>\n",
       "      <th>Device Protection</th>\n",
       "      <td>No</td>\n",
       "      <td>No</td>\n",
       "      <td>Yes</td>\n",
       "      <td>Yes</td>\n",
       "      <td>Yes</td>\n",
       "    </tr>\n",
       "    <tr>\n",
       "      <th>Tech Support</th>\n",
       "      <td>No</td>\n",
       "      <td>No</td>\n",
       "      <td>No</td>\n",
       "      <td>Yes</td>\n",
       "      <td>No</td>\n",
       "    </tr>\n",
       "    <tr>\n",
       "      <th>Streaming TV</th>\n",
       "      <td>No</td>\n",
       "      <td>No</td>\n",
       "      <td>Yes</td>\n",
       "      <td>Yes</td>\n",
       "      <td>Yes</td>\n",
       "    </tr>\n",
       "    <tr>\n",
       "      <th>Streaming Movies</th>\n",
       "      <td>No</td>\n",
       "      <td>No</td>\n",
       "      <td>Yes</td>\n",
       "      <td>Yes</td>\n",
       "      <td>Yes</td>\n",
       "    </tr>\n",
       "    <tr>\n",
       "      <th>Contract</th>\n",
       "      <td>Month-to-month</td>\n",
       "      <td>Month-to-month</td>\n",
       "      <td>Month-to-month</td>\n",
       "      <td>Month-to-month</td>\n",
       "      <td>Month-to-month</td>\n",
       "    </tr>\n",
       "    <tr>\n",
       "      <th>Paperless Billing</th>\n",
       "      <td>Yes</td>\n",
       "      <td>Yes</td>\n",
       "      <td>Yes</td>\n",
       "      <td>Yes</td>\n",
       "      <td>Yes</td>\n",
       "    </tr>\n",
       "    <tr>\n",
       "      <th>Payment Method</th>\n",
       "      <td>Mailed check</td>\n",
       "      <td>Electronic check</td>\n",
       "      <td>Electronic check</td>\n",
       "      <td>Electronic check</td>\n",
       "      <td>Bank transfer (automatic)</td>\n",
       "    </tr>\n",
       "    <tr>\n",
       "      <th>Monthly Charges</th>\n",
       "      <td>53.85</td>\n",
       "      <td>70.7</td>\n",
       "      <td>99.65</td>\n",
       "      <td>104.8</td>\n",
       "      <td>103.7</td>\n",
       "    </tr>\n",
       "    <tr>\n",
       "      <th>Total Charges</th>\n",
       "      <td>108.15</td>\n",
       "      <td>151.65</td>\n",
       "      <td>820.5</td>\n",
       "      <td>3046.05</td>\n",
       "      <td>5036.3</td>\n",
       "    </tr>\n",
       "    <tr>\n",
       "      <th>Churn Label</th>\n",
       "      <td>Yes</td>\n",
       "      <td>Yes</td>\n",
       "      <td>Yes</td>\n",
       "      <td>Yes</td>\n",
       "      <td>Yes</td>\n",
       "    </tr>\n",
       "    <tr>\n",
       "      <th>Churn Value</th>\n",
       "      <td>1</td>\n",
       "      <td>1</td>\n",
       "      <td>1</td>\n",
       "      <td>1</td>\n",
       "      <td>1</td>\n",
       "    </tr>\n",
       "    <tr>\n",
       "      <th>Churn Score</th>\n",
       "      <td>86</td>\n",
       "      <td>67</td>\n",
       "      <td>86</td>\n",
       "      <td>84</td>\n",
       "      <td>89</td>\n",
       "    </tr>\n",
       "    <tr>\n",
       "      <th>CLTV</th>\n",
       "      <td>3239</td>\n",
       "      <td>2701</td>\n",
       "      <td>5372</td>\n",
       "      <td>5003</td>\n",
       "      <td>5340</td>\n",
       "    </tr>\n",
       "  </tbody>\n",
       "</table>\n",
       "</div>"
      ],
      "text/plain": [
       "                                0                 1                 2  \\\n",
       "CustomerID             3668-QPYBK        9237-HQITU        9305-CDSKC   \n",
       "City                  Los Angeles       Los Angeles       Los Angeles   \n",
       "Zip Code                    90003             90005             90006   \n",
       "Gender                       Male            Female            Female   \n",
       "Senior Citizen                 No                No                No   \n",
       "Partner                        No                No                No   \n",
       "Dependents                     No               Yes               Yes   \n",
       "Tenure Months                   2                 2                 8   \n",
       "Phone Service                 Yes               Yes               Yes   \n",
       "Multiple Lines                 No                No               Yes   \n",
       "Internet Service              DSL       Fiber optic       Fiber optic   \n",
       "Online Security               Yes                No                No   \n",
       "Online Backup                 Yes                No                No   \n",
       "Device Protection              No                No               Yes   \n",
       "Tech Support                   No                No                No   \n",
       "Streaming TV                   No                No               Yes   \n",
       "Streaming Movies               No                No               Yes   \n",
       "Contract           Month-to-month    Month-to-month    Month-to-month   \n",
       "Paperless Billing             Yes               Yes               Yes   \n",
       "Payment Method       Mailed check  Electronic check  Electronic check   \n",
       "Monthly Charges             53.85              70.7             99.65   \n",
       "Total Charges              108.15            151.65             820.5   \n",
       "Churn Label                   Yes               Yes               Yes   \n",
       "Churn Value                     1                 1                 1   \n",
       "Churn Score                    86                67                86   \n",
       "CLTV                         3239              2701              5372   \n",
       "\n",
       "                                  3                          4  \n",
       "CustomerID               7892-POOKP                 0280-XJGEX  \n",
       "City                    Los Angeles                Los Angeles  \n",
       "Zip Code                      90010                      90015  \n",
       "Gender                       Female                       Male  \n",
       "Senior Citizen                   No                         No  \n",
       "Partner                         Yes                         No  \n",
       "Dependents                      Yes                        Yes  \n",
       "Tenure Months                    28                         49  \n",
       "Phone Service                   Yes                        Yes  \n",
       "Multiple Lines                  Yes                        Yes  \n",
       "Internet Service        Fiber optic                Fiber optic  \n",
       "Online Security                  No                         No  \n",
       "Online Backup                    No                        Yes  \n",
       "Device Protection               Yes                        Yes  \n",
       "Tech Support                    Yes                         No  \n",
       "Streaming TV                    Yes                        Yes  \n",
       "Streaming Movies                Yes                        Yes  \n",
       "Contract             Month-to-month             Month-to-month  \n",
       "Paperless Billing               Yes                        Yes  \n",
       "Payment Method     Electronic check  Bank transfer (automatic)  \n",
       "Monthly Charges               104.8                      103.7  \n",
       "Total Charges               3046.05                     5036.3  \n",
       "Churn Label                     Yes                        Yes  \n",
       "Churn Value                       1                          1  \n",
       "Churn Score                      84                         89  \n",
       "CLTV                           5003                       5340  "
      ]
     },
     "execution_count": 5,
     "metadata": {},
     "output_type": "execute_result"
    }
   ],
   "source": [
    "churn.head().T"
   ]
  },
  {
   "cell_type": "code",
   "execution_count": 6,
   "id": "740f14db",
   "metadata": {
    "execution": {
     "iopub.execute_input": "2022-04-12T19:08:42.563880Z",
     "iopub.status.busy": "2022-04-12T19:08:42.563269Z",
     "iopub.status.idle": "2022-04-12T19:08:42.601316Z",
     "shell.execute_reply": "2022-04-12T19:08:42.600824Z",
     "shell.execute_reply.started": "2022-04-12T19:06:57.484548Z"
    },
    "papermill": {
     "duration": 0.076239,
     "end_time": "2022-04-12T19:08:42.601493",
     "exception": false,
     "start_time": "2022-04-12T19:08:42.525254",
     "status": "completed"
    },
    "tags": []
   },
   "outputs": [],
   "source": [
    "col_obj=['Gender', 'Senior Citizen','Partner', 'Dependents', 'Phone Service',\n",
    "       'Multiple Lines', 'Internet Service', 'Online Security',\n",
    "       'Online Backup', 'Device Protection', 'Tech Support', 'Streaming TV',\n",
    "       'Streaming Movies', 'Contract', 'Paperless Billing', 'Payment Method',\n",
    "        'Churn Label', 'Churn Value','Zip Code','City']\n",
    "\n",
    "for col in col_obj:\n",
    "    churn[col] = churn[col].astype('category')"
   ]
  },
  {
   "cell_type": "markdown",
   "id": "a6681196",
   "metadata": {
    "papermill": {
     "duration": 0.034191,
     "end_time": "2022-04-12T19:08:42.670546",
     "exception": false,
     "start_time": "2022-04-12T19:08:42.636355",
     "status": "completed"
    },
    "tags": []
   },
   "source": [
    "> changing category from object to category type"
   ]
  },
  {
   "cell_type": "code",
   "execution_count": 7,
   "id": "f3a06f08",
   "metadata": {
    "execution": {
     "iopub.execute_input": "2022-04-12T19:08:42.742598Z",
     "iopub.status.busy": "2022-04-12T19:08:42.741974Z",
     "iopub.status.idle": "2022-04-12T19:08:42.748722Z",
     "shell.execute_reply": "2022-04-12T19:08:42.749242Z",
     "shell.execute_reply.started": "2022-04-12T19:06:57.721198Z"
    },
    "papermill": {
     "duration": 0.044397,
     "end_time": "2022-04-12T19:08:42.749435",
     "exception": false,
     "start_time": "2022-04-12T19:08:42.705038",
     "status": "completed"
    },
    "tags": []
   },
   "outputs": [],
   "source": [
    "churn['Total Charges']=pd.to_numeric(churn['Total Charges'], downcast=\"float\",errors='coerce')"
   ]
  },
  {
   "cell_type": "markdown",
   "id": "320fe09b",
   "metadata": {
    "papermill": {
     "duration": 0.034203,
     "end_time": "2022-04-12T19:08:42.818013",
     "exception": false,
     "start_time": "2022-04-12T19:08:42.783810",
     "status": "completed"
    },
    "tags": []
   },
   "source": [
    "> Python reading 'Total Charges' as object type but its numeric type.\n",
    "> Reason = blank space present in some rows in this columns  "
   ]
  },
  {
   "cell_type": "markdown",
   "id": "db0e0040",
   "metadata": {
    "papermill": {
     "duration": 0.034153,
     "end_time": "2022-04-12T19:08:42.886672",
     "exception": false,
     "start_time": "2022-04-12T19:08:42.852519",
     "status": "completed"
    },
    "tags": []
   },
   "source": [
    "# Q2: Please apply appropriate statistical measures using python based on data types."
   ]
  },
  {
   "cell_type": "code",
   "execution_count": 8,
   "id": "fd5d72bd",
   "metadata": {
    "execution": {
     "iopub.execute_input": "2022-04-12T19:08:42.958457Z",
     "iopub.status.busy": "2022-04-12T19:08:42.957886Z",
     "iopub.status.idle": "2022-04-12T19:08:42.987300Z",
     "shell.execute_reply": "2022-04-12T19:08:42.987825Z",
     "shell.execute_reply.started": "2022-04-12T19:06:58.036755Z"
    },
    "papermill": {
     "duration": 0.066757,
     "end_time": "2022-04-12T19:08:42.987992",
     "exception": false,
     "start_time": "2022-04-12T19:08:42.921235",
     "status": "completed"
    },
    "tags": []
   },
   "outputs": [
    {
     "data": {
      "text/html": [
       "<div>\n",
       "<style scoped>\n",
       "    .dataframe tbody tr th:only-of-type {\n",
       "        vertical-align: middle;\n",
       "    }\n",
       "\n",
       "    .dataframe tbody tr th {\n",
       "        vertical-align: top;\n",
       "    }\n",
       "\n",
       "    .dataframe thead th {\n",
       "        text-align: right;\n",
       "    }\n",
       "</style>\n",
       "<table border=\"1\" class=\"dataframe\">\n",
       "  <thead>\n",
       "    <tr style=\"text-align: right;\">\n",
       "      <th></th>\n",
       "      <th>Tenure Months</th>\n",
       "      <th>Monthly Charges</th>\n",
       "      <th>Total Charges</th>\n",
       "      <th>Churn Score</th>\n",
       "      <th>CLTV</th>\n",
       "    </tr>\n",
       "  </thead>\n",
       "  <tbody>\n",
       "    <tr>\n",
       "      <th>count</th>\n",
       "      <td>7043.000000</td>\n",
       "      <td>7043.000000</td>\n",
       "      <td>7032.000000</td>\n",
       "      <td>7043.000000</td>\n",
       "      <td>7043.000000</td>\n",
       "    </tr>\n",
       "    <tr>\n",
       "      <th>mean</th>\n",
       "      <td>32.371149</td>\n",
       "      <td>64.761692</td>\n",
       "      <td>2283.299561</td>\n",
       "      <td>58.699418</td>\n",
       "      <td>4400.295755</td>\n",
       "    </tr>\n",
       "    <tr>\n",
       "      <th>std</th>\n",
       "      <td>24.559481</td>\n",
       "      <td>30.090047</td>\n",
       "      <td>2266.770264</td>\n",
       "      <td>21.525131</td>\n",
       "      <td>1183.057152</td>\n",
       "    </tr>\n",
       "    <tr>\n",
       "      <th>min</th>\n",
       "      <td>0.000000</td>\n",
       "      <td>18.250000</td>\n",
       "      <td>18.799999</td>\n",
       "      <td>5.000000</td>\n",
       "      <td>2003.000000</td>\n",
       "    </tr>\n",
       "    <tr>\n",
       "      <th>25%</th>\n",
       "      <td>9.000000</td>\n",
       "      <td>35.500000</td>\n",
       "      <td>401.450012</td>\n",
       "      <td>40.000000</td>\n",
       "      <td>3469.000000</td>\n",
       "    </tr>\n",
       "    <tr>\n",
       "      <th>50%</th>\n",
       "      <td>29.000000</td>\n",
       "      <td>70.350000</td>\n",
       "      <td>1397.475098</td>\n",
       "      <td>61.000000</td>\n",
       "      <td>4527.000000</td>\n",
       "    </tr>\n",
       "    <tr>\n",
       "      <th>75%</th>\n",
       "      <td>55.000000</td>\n",
       "      <td>89.850000</td>\n",
       "      <td>3794.737549</td>\n",
       "      <td>75.000000</td>\n",
       "      <td>5380.500000</td>\n",
       "    </tr>\n",
       "    <tr>\n",
       "      <th>max</th>\n",
       "      <td>72.000000</td>\n",
       "      <td>118.750000</td>\n",
       "      <td>8684.799805</td>\n",
       "      <td>100.000000</td>\n",
       "      <td>6500.000000</td>\n",
       "    </tr>\n",
       "  </tbody>\n",
       "</table>\n",
       "</div>"
      ],
      "text/plain": [
       "       Tenure Months  Monthly Charges  Total Charges  Churn Score         CLTV\n",
       "count    7043.000000      7043.000000    7032.000000  7043.000000  7043.000000\n",
       "mean       32.371149        64.761692    2283.299561    58.699418  4400.295755\n",
       "std        24.559481        30.090047    2266.770264    21.525131  1183.057152\n",
       "min         0.000000        18.250000      18.799999     5.000000  2003.000000\n",
       "25%         9.000000        35.500000     401.450012    40.000000  3469.000000\n",
       "50%        29.000000        70.350000    1397.475098    61.000000  4527.000000\n",
       "75%        55.000000        89.850000    3794.737549    75.000000  5380.500000\n",
       "max        72.000000       118.750000    8684.799805   100.000000  6500.000000"
      ]
     },
     "execution_count": 8,
     "metadata": {},
     "output_type": "execute_result"
    }
   ],
   "source": [
    "churn.describe()"
   ]
  },
  {
   "cell_type": "code",
   "execution_count": 9,
   "id": "60947353",
   "metadata": {
    "execution": {
     "iopub.execute_input": "2022-04-12T19:08:43.061829Z",
     "iopub.status.busy": "2022-04-12T19:08:43.061250Z",
     "iopub.status.idle": "2022-04-12T19:08:43.111941Z",
     "shell.execute_reply": "2022-04-12T19:08:43.111353Z",
     "shell.execute_reply.started": "2022-04-12T19:06:58.264648Z"
    },
    "papermill": {
     "duration": 0.088438,
     "end_time": "2022-04-12T19:08:43.112078",
     "exception": false,
     "start_time": "2022-04-12T19:08:43.023640",
     "status": "completed"
    },
    "tags": []
   },
   "outputs": [
    {
     "data": {
      "text/html": [
       "<div>\n",
       "<style scoped>\n",
       "    .dataframe tbody tr th:only-of-type {\n",
       "        vertical-align: middle;\n",
       "    }\n",
       "\n",
       "    .dataframe tbody tr th {\n",
       "        vertical-align: top;\n",
       "    }\n",
       "\n",
       "    .dataframe thead th {\n",
       "        text-align: right;\n",
       "    }\n",
       "</style>\n",
       "<table border=\"1\" class=\"dataframe\">\n",
       "  <thead>\n",
       "    <tr style=\"text-align: right;\">\n",
       "      <th></th>\n",
       "      <th>City</th>\n",
       "      <th>Zip Code</th>\n",
       "      <th>Gender</th>\n",
       "      <th>Senior Citizen</th>\n",
       "      <th>Partner</th>\n",
       "      <th>Dependents</th>\n",
       "      <th>Phone Service</th>\n",
       "      <th>Multiple Lines</th>\n",
       "      <th>Internet Service</th>\n",
       "      <th>Online Security</th>\n",
       "      <th>Online Backup</th>\n",
       "      <th>Device Protection</th>\n",
       "      <th>Tech Support</th>\n",
       "      <th>Streaming TV</th>\n",
       "      <th>Streaming Movies</th>\n",
       "      <th>Contract</th>\n",
       "      <th>Paperless Billing</th>\n",
       "      <th>Payment Method</th>\n",
       "      <th>Churn Label</th>\n",
       "      <th>Churn Value</th>\n",
       "    </tr>\n",
       "  </thead>\n",
       "  <tbody>\n",
       "    <tr>\n",
       "      <th>count</th>\n",
       "      <td>7043</td>\n",
       "      <td>7043</td>\n",
       "      <td>7043</td>\n",
       "      <td>7043</td>\n",
       "      <td>7043</td>\n",
       "      <td>7043</td>\n",
       "      <td>7043</td>\n",
       "      <td>7043</td>\n",
       "      <td>7043</td>\n",
       "      <td>7043</td>\n",
       "      <td>7043</td>\n",
       "      <td>7043</td>\n",
       "      <td>7043</td>\n",
       "      <td>7043</td>\n",
       "      <td>7043</td>\n",
       "      <td>7043</td>\n",
       "      <td>7043</td>\n",
       "      <td>7043</td>\n",
       "      <td>7043</td>\n",
       "      <td>7043</td>\n",
       "    </tr>\n",
       "    <tr>\n",
       "      <th>unique</th>\n",
       "      <td>1129</td>\n",
       "      <td>1652</td>\n",
       "      <td>2</td>\n",
       "      <td>2</td>\n",
       "      <td>2</td>\n",
       "      <td>2</td>\n",
       "      <td>2</td>\n",
       "      <td>3</td>\n",
       "      <td>3</td>\n",
       "      <td>3</td>\n",
       "      <td>3</td>\n",
       "      <td>3</td>\n",
       "      <td>3</td>\n",
       "      <td>3</td>\n",
       "      <td>3</td>\n",
       "      <td>3</td>\n",
       "      <td>2</td>\n",
       "      <td>4</td>\n",
       "      <td>2</td>\n",
       "      <td>2</td>\n",
       "    </tr>\n",
       "    <tr>\n",
       "      <th>top</th>\n",
       "      <td>Los Angeles</td>\n",
       "      <td>90001</td>\n",
       "      <td>Male</td>\n",
       "      <td>No</td>\n",
       "      <td>No</td>\n",
       "      <td>No</td>\n",
       "      <td>Yes</td>\n",
       "      <td>No</td>\n",
       "      <td>Fiber optic</td>\n",
       "      <td>No</td>\n",
       "      <td>No</td>\n",
       "      <td>No</td>\n",
       "      <td>No</td>\n",
       "      <td>No</td>\n",
       "      <td>No</td>\n",
       "      <td>Month-to-month</td>\n",
       "      <td>Yes</td>\n",
       "      <td>Electronic check</td>\n",
       "      <td>No</td>\n",
       "      <td>0</td>\n",
       "    </tr>\n",
       "    <tr>\n",
       "      <th>freq</th>\n",
       "      <td>305</td>\n",
       "      <td>5</td>\n",
       "      <td>3555</td>\n",
       "      <td>5901</td>\n",
       "      <td>3641</td>\n",
       "      <td>5416</td>\n",
       "      <td>6361</td>\n",
       "      <td>3390</td>\n",
       "      <td>3096</td>\n",
       "      <td>3498</td>\n",
       "      <td>3088</td>\n",
       "      <td>3095</td>\n",
       "      <td>3473</td>\n",
       "      <td>2810</td>\n",
       "      <td>2785</td>\n",
       "      <td>3875</td>\n",
       "      <td>4171</td>\n",
       "      <td>2365</td>\n",
       "      <td>5174</td>\n",
       "      <td>5174</td>\n",
       "    </tr>\n",
       "  </tbody>\n",
       "</table>\n",
       "</div>"
      ],
      "text/plain": [
       "               City  Zip Code Gender Senior Citizen Partner Dependents  \\\n",
       "count          7043      7043   7043           7043    7043       7043   \n",
       "unique         1129      1652      2              2       2          2   \n",
       "top     Los Angeles     90001   Male             No      No         No   \n",
       "freq            305         5   3555           5901    3641       5416   \n",
       "\n",
       "       Phone Service Multiple Lines Internet Service Online Security  \\\n",
       "count           7043           7043             7043            7043   \n",
       "unique             2              3                3               3   \n",
       "top              Yes             No      Fiber optic              No   \n",
       "freq            6361           3390             3096            3498   \n",
       "\n",
       "       Online Backup Device Protection Tech Support Streaming TV  \\\n",
       "count           7043              7043         7043         7043   \n",
       "unique             3                 3            3            3   \n",
       "top               No                No           No           No   \n",
       "freq            3088              3095         3473         2810   \n",
       "\n",
       "       Streaming Movies        Contract Paperless Billing    Payment Method  \\\n",
       "count              7043            7043              7043              7043   \n",
       "unique                3               3                 2                 4   \n",
       "top                  No  Month-to-month               Yes  Electronic check   \n",
       "freq               2785            3875              4171              2365   \n",
       "\n",
       "       Churn Label  Churn Value  \n",
       "count         7043         7043  \n",
       "unique           2            2  \n",
       "top             No            0  \n",
       "freq          5174         5174  "
      ]
     },
     "execution_count": 9,
     "metadata": {},
     "output_type": "execute_result"
    }
   ],
   "source": [
    "churn.describe(include='category')"
   ]
  },
  {
   "cell_type": "markdown",
   "id": "ee701e64",
   "metadata": {
    "papermill": {
     "duration": 0.035625,
     "end_time": "2022-04-12T19:08:43.183288",
     "exception": false,
     "start_time": "2022-04-12T19:08:43.147663",
     "status": "completed"
    },
    "tags": []
   },
   "source": [
    "# Q3: What is the percentage of females and senior citizens in this data set? Please create appropriate plots and explain the plots."
   ]
  },
  {
   "cell_type": "code",
   "execution_count": 10,
   "id": "490ee280",
   "metadata": {
    "execution": {
     "iopub.execute_input": "2022-04-12T19:08:43.258195Z",
     "iopub.status.busy": "2022-04-12T19:08:43.257583Z",
     "iopub.status.idle": "2022-04-12T19:08:43.326674Z",
     "shell.execute_reply": "2022-04-12T19:08:43.327092Z",
     "shell.execute_reply.started": "2022-04-12T19:06:58.504958Z"
    },
    "papermill": {
     "duration": 0.107713,
     "end_time": "2022-04-12T19:08:43.327267",
     "exception": false,
     "start_time": "2022-04-12T19:08:43.219554",
     "status": "completed"
    },
    "tags": []
   },
   "outputs": [
    {
     "data": {
      "text/html": [
       "<style type=\"text/css\">\n",
       "#T_cd9a1_ td:hover {\n",
       "  background-color: #ffffb3;\n",
       "}\n",
       "#T_cd9a1_ .index_name {\n",
       "  font-style: italic;\n",
       "  color: darkgrey;\n",
       "  font-weight: normal;\n",
       "}\n",
       "#T_cd9a1_ th:not(.index_name) {\n",
       "  background-color: #000066;\n",
       "  color: white;\n",
       "}\n",
       "</style>\n",
       "<table id=\"T_cd9a1_\">\n",
       "  <thead>\n",
       "    <tr>\n",
       "      <th class=\"blank level0\" >&nbsp;</th>\n",
       "      <th class=\"col_heading level0 col0\" >No</th>\n",
       "      <th class=\"col_heading level0 col1\" >Yes</th>\n",
       "    </tr>\n",
       "    <tr>\n",
       "      <th class=\"index_name level0\" >Gender</th>\n",
       "      <th class=\"blank col0\" >&nbsp;</th>\n",
       "      <th class=\"blank col1\" >&nbsp;</th>\n",
       "    </tr>\n",
       "  </thead>\n",
       "  <tbody>\n",
       "    <tr>\n",
       "      <th id=\"T_cd9a1_level0_row0\" class=\"row_heading level0 row0\" >Female</th>\n",
       "      <td id=\"T_cd9a1_row0_col0\" class=\"data row0 col0\" >2920</td>\n",
       "      <td id=\"T_cd9a1_row0_col1\" class=\"data row0 col1\" >568</td>\n",
       "    </tr>\n",
       "    <tr>\n",
       "      <th id=\"T_cd9a1_level0_row1\" class=\"row_heading level0 row1\" >Male</th>\n",
       "      <td id=\"T_cd9a1_row1_col0\" class=\"data row1 col0\" >2981</td>\n",
       "      <td id=\"T_cd9a1_row1_col1\" class=\"data row1 col1\" >574</td>\n",
       "    </tr>\n",
       "  </tbody>\n",
       "</table>\n"
      ],
      "text/plain": [
       "<pandas.io.formats.style.Styler at 0x7f7fbb76ded0>"
      ]
     },
     "execution_count": 10,
     "metadata": {},
     "output_type": "execute_result"
    }
   ],
   "source": [
    "female_senior=churn.groupby('Gender')['Senior Citizen'].value_counts().unstack()\n",
    "cell_hover = {  # for row hover use <tr> instead of <td>\n",
    "    'selector': 'td:hover',\n",
    "    'props': [('background-color', '#ffffb3')]\n",
    "}\n",
    "index_names = {\n",
    "    'selector': '.index_name',\n",
    "    'props': 'font-style: italic; color: darkgrey; font-weight:normal;'\n",
    "}\n",
    "headers = {\n",
    "    'selector': 'th:not(.index_name)',\n",
    "    'props': 'background-color: #000066; color: white;'\n",
    "}\n",
    "female_senior.style.set_table_styles([cell_hover, index_names, headers])"
   ]
  },
  {
   "cell_type": "code",
   "execution_count": 11,
   "id": "a1d834fc",
   "metadata": {
    "execution": {
     "iopub.execute_input": "2022-04-12T19:08:43.402632Z",
     "iopub.status.busy": "2022-04-12T19:08:43.401724Z",
     "iopub.status.idle": "2022-04-12T19:08:43.419337Z",
     "shell.execute_reply": "2022-04-12T19:08:43.419780Z",
     "shell.execute_reply.started": "2022-04-12T19:06:58.734778Z"
    },
    "papermill": {
     "duration": 0.056677,
     "end_time": "2022-04-12T19:08:43.419962",
     "exception": false,
     "start_time": "2022-04-12T19:08:43.363285",
     "status": "completed"
    },
    "tags": []
   },
   "outputs": [],
   "source": [
    "churn.Gender.value_counts()\n",
    "g_i=churn.Gender.value_counts().index\n",
    "g_v=churn.Gender.value_counts().values\n",
    "churn['Senior Citizen'].value_counts()\n",
    "s_i=churn['Senior Citizen'].value_counts().index\n",
    "s_v=churn['Senior Citizen'].value_counts().values\n",
    "churn[churn['Gender']=='Female']['Senior Citizen'].value_counts()\n",
    "f_s_i=churn[churn['Gender']=='Female']['Senior Citizen'].value_counts().index\n",
    "f_s_v=churn[churn['Gender']=='Female']['Senior Citizen'].value_counts().values"
   ]
  },
  {
   "cell_type": "code",
   "execution_count": 12,
   "id": "3507fefe",
   "metadata": {
    "execution": {
     "iopub.execute_input": "2022-04-12T19:08:43.495634Z",
     "iopub.status.busy": "2022-04-12T19:08:43.494764Z",
     "iopub.status.idle": "2022-04-12T19:08:43.989200Z",
     "shell.execute_reply": "2022-04-12T19:08:43.989673Z",
     "shell.execute_reply.started": "2022-04-12T19:06:58.963906Z"
    },
    "papermill": {
     "duration": 0.533781,
     "end_time": "2022-04-12T19:08:43.989851",
     "exception": false,
     "start_time": "2022-04-12T19:08:43.456070",
     "status": "completed"
    },
    "tags": []
   },
   "outputs": [
    {
     "data": {
      "image/png": "[encoded data removed]",
      "text/plain": [
       "<Figure size 1152x576 with 3 Axes>"
      ]
     },
     "metadata": {},
     "output_type": "display_data"
    }
   ],
   "source": [
    "cols = ['c', 'b', 'r', 'k']\n",
    "fig, axs = plt.subplots(1, 3, figsize=(16, 8))\n",
    "axs[0].pie(s_v, labels=s_i, colors = cols, startangle = 90, shadow = True, autopct='%1.0f%%', explode = (0.1, 0))\n",
    "axs[1].pie(g_v, labels=g_i, colors = cols, startangle = 90, shadow = True, autopct='%1.0f%%', explode = (0.1, 0))\n",
    "axs[2].pie(f_s_v, labels=f_s_i, colors = cols, startangle = 90, shadow = True, autopct='%1.0f%%', explode = (0.1, 0))\n",
    "fig.suptitle('Percentage of Females and Senior Citizens ')\n",
    "axs[0].title.set_text('Proportion of Senior Citizen')\n",
    "axs[1].title.set_text('Proportion of Gender')\n",
    "axs[2].title.set_text('Proportion of Female in Senior Citizen')\n",
    "plt.tight_layout()\n",
    "plt.show()"
   ]
  },
  {
   "cell_type": "markdown",
   "id": "0034d839",
   "metadata": {
    "papermill": {
     "duration": 0.038096,
     "end_time": "2022-04-12T19:08:44.067608",
     "exception": false,
     "start_time": "2022-04-12T19:08:44.029512",
     "status": "completed"
    },
    "tags": []
   },
   "source": [
    "> Precentage :\n",
    "> \n",
    "> Seniors Citezen is 16% of total data.\n",
    "> \n",
    "> Female is 50% of total data."
   ]
  },
  {
   "cell_type": "markdown",
   "id": "4067e7f7",
   "metadata": {
    "papermill": {
     "duration": 0.037183,
     "end_time": "2022-04-12T19:08:44.142619",
     "exception": false,
     "start_time": "2022-04-12T19:08:44.105436",
     "status": "completed"
    },
    "tags": []
   },
   "source": [
    "# Q4:  Please create an appropriate plot to examine the distribution of the tenure month column and explain the distribution. Based on distribution, perform appropriate statistical measures. Please also explain if the variable is symmetric or skewed. Please calculate it. Explain everything as asked."
   ]
  },
  {
   "cell_type": "code",
   "execution_count": 13,
   "id": "351aec79",
   "metadata": {
    "execution": {
     "iopub.execute_input": "2022-04-12T19:08:44.221014Z",
     "iopub.status.busy": "2022-04-12T19:08:44.220398Z",
     "iopub.status.idle": "2022-04-12T19:08:44.474449Z",
     "shell.execute_reply": "2022-04-12T19:08:44.473853Z",
     "shell.execute_reply.started": "2022-04-12T19:06:59.474024Z"
    },
    "papermill": {
     "duration": 0.294109,
     "end_time": "2022-04-12T19:08:44.474583",
     "exception": false,
     "start_time": "2022-04-12T19:08:44.180474",
     "status": "completed"
    },
    "tags": []
   },
   "outputs": [
    {
     "data": {
      "image/png": "[encoded data removed]",
      "text/plain": [
       "<Figure size 432x288 with 1 Axes>"
      ]
     },
     "metadata": {
      "needs_background": "light"
     },
     "output_type": "display_data"
    }
   ],
   "source": [
    "ax = sns.histplot(x=churn['Tenure Months'],kde=True,color=\"y\",stat='percent',bins=5)"
   ]
  },
  {
   "cell_type": "markdown",
   "id": "87e7a806",
   "metadata": {
    "papermill": {
     "duration": 0.03858,
     "end_time": "2022-04-12T19:08:44.552799",
     "exception": false,
     "start_time": "2022-04-12T19:08:44.514219",
     "status": "completed"
    },
    "tags": []
   },
   "source": [
    "> Their is bimodal distribution in tenure feature."
   ]
  },
  {
   "cell_type": "code",
   "execution_count": 14,
   "id": "77576144",
   "metadata": {
    "execution": {
     "iopub.execute_input": "2022-04-12T19:08:44.635440Z",
     "iopub.status.busy": "2022-04-12T19:08:44.634856Z",
     "iopub.status.idle": "2022-04-12T19:08:44.638214Z",
     "shell.execute_reply": "2022-04-12T19:08:44.638749Z",
     "shell.execute_reply.started": "2022-04-12T19:06:59.758538Z"
    },
    "papermill": {
     "duration": 0.047463,
     "end_time": "2022-04-12T19:08:44.638924",
     "exception": false,
     "start_time": "2022-04-12T19:08:44.591461",
     "status": "completed"
    },
    "tags": []
   },
   "outputs": [
    {
     "data": {
      "text/plain": [
       "0.2395397495619829"
      ]
     },
     "execution_count": 14,
     "metadata": {},
     "output_type": "execute_result"
    }
   ],
   "source": [
    "churn['Tenure Months'].skew()"
   ]
  },
  {
   "cell_type": "markdown",
   "id": "0abdae7c",
   "metadata": {
    "papermill": {
     "duration": 0.038711,
     "end_time": "2022-04-12T19:08:44.716834",
     "exception": false,
     "start_time": "2022-04-12T19:08:44.678123",
     "status": "completed"
    },
    "tags": []
   },
   "source": [
    "> Fairly symmetrical : -If the skewness is between -0.5 and 0.5, the data are fairly symmetrical."
   ]
  },
  {
   "cell_type": "code",
   "execution_count": 15,
   "id": "79e796c8",
   "metadata": {
    "execution": {
     "iopub.execute_input": "2022-04-12T19:08:44.797658Z",
     "iopub.status.busy": "2022-04-12T19:08:44.797027Z",
     "iopub.status.idle": "2022-04-12T19:08:46.425694Z",
     "shell.execute_reply": "2022-04-12T19:08:46.425109Z",
     "shell.execute_reply.started": "2022-04-12T19:06:59.816554Z"
    },
    "papermill": {
     "duration": 1.670315,
     "end_time": "2022-04-12T19:08:46.425828",
     "exception": false,
     "start_time": "2022-04-12T19:08:44.755513",
     "status": "completed"
    },
    "tags": []
   },
   "outputs": [
    {
     "data": {
      "image/png": "[encoded data removed]",
      "text/plain": [
       "<Figure size 716x432 with 6 Axes>"
      ]
     },
     "metadata": {
      "needs_background": "light"
     },
     "output_type": "display_data"
    }
   ],
   "source": [
    "sns.displot(\n",
    "    churn, x=churn['Tenure Months'], hue=churn['Churn Label'],row=churn['Churn Value'],col='Contract',\n",
    "    binwidth=3, height=3,kde=True, facet_kws=dict(margin_titles=True),\n",
    ");"
   ]
  },
  {
   "cell_type": "markdown",
   "id": "adf64b5b",
   "metadata": {
    "papermill": {
     "duration": 0.040376,
     "end_time": "2022-04-12T19:08:46.506520",
     "exception": false,
     "start_time": "2022-04-12T19:08:46.466144",
     "status": "completed"
    },
    "tags": []
   },
   "source": [
    "> - reason behind bimodal distribution so bining can not be solution for it."
   ]
  },
  {
   "cell_type": "code",
   "execution_count": 16,
   "id": "52c53dc2",
   "metadata": {
    "execution": {
     "iopub.execute_input": "2022-04-12T19:08:46.593399Z",
     "iopub.status.busy": "2022-04-12T19:08:46.592800Z",
     "iopub.status.idle": "2022-04-12T19:08:46.863366Z",
     "shell.execute_reply": "2022-04-12T19:08:46.862740Z",
     "shell.execute_reply.started": "2022-04-12T19:07:01.749078Z"
    },
    "papermill": {
     "duration": 0.316873,
     "end_time": "2022-04-12T19:08:46.863520",
     "exception": false,
     "start_time": "2022-04-12T19:08:46.546647",
     "status": "completed"
    },
    "tags": []
   },
   "outputs": [],
   "source": [
    "churn_new=churn.copy(deep=True)\n",
    "x3=churn_new['Tenure Months']\n",
    "x=churn_new['Tenure Months'].values.reshape(-1, 1)\n",
    "x1=churn_new['Tenure Months'].values.reshape(-1, 1)\n",
    "from sklearn.preprocessing import quantile_transform\n",
    "y=quantile_transform(x, n_quantiles=10, random_state=0, copy=True)\n",
    "from sklearn.preprocessing import power_transform\n",
    "box=power_transform(x1, method='yeo-johnson')\n",
    "from scipy import stats\n",
    "x3=x3.replace(0,1)\n",
    "# transform training data & save lambda value\n",
    "fitted_data, fitted_lambda = stats.boxcox(x3)"
   ]
  },
  {
   "cell_type": "code",
   "execution_count": 17,
   "id": "6eac340d",
   "metadata": {
    "execution": {
     "iopub.execute_input": "2022-04-12T19:08:46.952018Z",
     "iopub.status.busy": "2022-04-12T19:08:46.951430Z",
     "iopub.status.idle": "2022-04-12T19:08:47.792728Z",
     "shell.execute_reply": "2022-04-12T19:08:47.793166Z",
     "shell.execute_reply.started": "2022-04-12T19:07:02.058700Z"
    },
    "papermill": {
     "duration": 0.889784,
     "end_time": "2022-04-12T19:08:47.793328",
     "exception": false,
     "start_time": "2022-04-12T19:08:46.903544",
     "status": "completed"
    },
    "tags": []
   },
   "outputs": [
    {
     "data": {
      "image/png": "[encoded data removed]",
      "text/plain": [
       "<Figure size 1440x432 with 4 Axes>"
      ]
     },
     "metadata": {
      "needs_background": "light"
     },
     "output_type": "display_data"
    }
   ],
   "source": [
    "f, axes = plt.subplots(1, 4, figsize=(20,6))\n",
    "axes[0].set_xlabel( 'Tenure Months' , size = 12 )\n",
    "axes[1].set_xlabel( 'Tenure Months' , size = 12 )\n",
    "axes[2].set_xlabel( 'Tenure Months' , size = 12 )\n",
    "axes[3].set_xlabel( 'Tenure Months' , size = 12 )\n",
    "sns.histplot(churn['Tenure Months'],kde=True,color=\"y\",stat='percent',bins=5, ax=axes[0]).set_title('Normal Bimodal Distribution')\n",
    "sns.histplot(y,kde=True,color=\"g\",stat='percent',bins=5, ax=axes[1]).set_title('Distribution After Quantile Transformation')\n",
    "sns.histplot(box,kde=True,color=\"y\",stat='percent',bins=5,ax=axes[2]).set_title('Distribution After Power Transformation')\n",
    "sns.histplot(fitted_data,kde=True,color=\"y\",stat='percent',bins=5,ax=axes[3]).set_title('Distribution After BoxCox Transformation')\n",
    "f.suptitle('Appropriate Statistical Measures For Distribution');"
   ]
  },
  {
   "cell_type": "markdown",
   "id": "f59c5562",
   "metadata": {
    "papermill": {
     "duration": 0.04301,
     "end_time": "2022-04-12T19:08:47.878009",
     "exception": false,
     "start_time": "2022-04-12T19:08:47.834999",
     "status": "completed"
    },
    "tags": []
   },
   "source": [
    "> we can achieve normal distribution by quantile transformation."
   ]
  },
  {
   "cell_type": "markdown",
   "id": "db87074b",
   "metadata": {
    "papermill": {
     "duration": 0.04129,
     "end_time": "2022-04-12T19:08:47.961148",
     "exception": false,
     "start_time": "2022-04-12T19:08:47.919858",
     "status": "completed"
    },
    "tags": []
   },
   "source": [
    "# Q5: Please convert all binary columns into 0 and 1 using appropriate programming constructs, not one by one."
   ]
  },
  {
   "cell_type": "code",
   "execution_count": 18,
   "id": "78a4bebc",
   "metadata": {
    "execution": {
     "iopub.execute_input": "2022-04-12T19:08:48.051724Z",
     "iopub.status.busy": "2022-04-12T19:08:48.051068Z",
     "iopub.status.idle": "2022-04-12T19:08:48.088473Z",
     "shell.execute_reply": "2022-04-12T19:08:48.088955Z",
     "shell.execute_reply.started": "2022-04-12T19:07:03.059404Z"
    },
    "papermill": {
     "duration": 0.086142,
     "end_time": "2022-04-12T19:08:48.089111",
     "exception": false,
     "start_time": "2022-04-12T19:08:48.002969",
     "status": "completed"
    },
    "tags": []
   },
   "outputs": [
    {
     "data": {
      "text/html": [
       "<div>\n",
       "<style scoped>\n",
       "    .dataframe tbody tr th:only-of-type {\n",
       "        vertical-align: middle;\n",
       "    }\n",
       "\n",
       "    .dataframe tbody tr th {\n",
       "        vertical-align: top;\n",
       "    }\n",
       "\n",
       "    .dataframe thead th {\n",
       "        text-align: right;\n",
       "    }\n",
       "</style>\n",
       "<table border=\"1\" class=\"dataframe\">\n",
       "  <thead>\n",
       "    <tr style=\"text-align: right;\">\n",
       "      <th></th>\n",
       "      <th>CustomerID</th>\n",
       "      <th>City</th>\n",
       "      <th>Zip Code</th>\n",
       "      <th>Tenure Months</th>\n",
       "      <th>Monthly Charges</th>\n",
       "      <th>Total Charges</th>\n",
       "      <th>Churn Value</th>\n",
       "      <th>Churn Score</th>\n",
       "      <th>CLTV</th>\n",
       "      <th>Gender_Male</th>\n",
       "      <th>...</th>\n",
       "      <th>Streaming TV_Yes</th>\n",
       "      <th>Streaming Movies_No internet service</th>\n",
       "      <th>Streaming Movies_Yes</th>\n",
       "      <th>Contract_One year</th>\n",
       "      <th>Contract_Two year</th>\n",
       "      <th>Paperless Billing_Yes</th>\n",
       "      <th>Payment Method_Credit card (automatic)</th>\n",
       "      <th>Payment Method_Electronic check</th>\n",
       "      <th>Payment Method_Mailed check</th>\n",
       "      <th>Churn Label_Yes</th>\n",
       "    </tr>\n",
       "  </thead>\n",
       "  <tbody>\n",
       "    <tr>\n",
       "      <th>0</th>\n",
       "      <td>3668-QPYBK</td>\n",
       "      <td>Los Angeles</td>\n",
       "      <td>90003</td>\n",
       "      <td>2</td>\n",
       "      <td>53.85</td>\n",
       "      <td>108.150002</td>\n",
       "      <td>1</td>\n",
       "      <td>86</td>\n",
       "      <td>3239</td>\n",
       "      <td>1</td>\n",
       "      <td>...</td>\n",
       "      <td>0</td>\n",
       "      <td>0</td>\n",
       "      <td>0</td>\n",
       "      <td>0</td>\n",
       "      <td>0</td>\n",
       "      <td>1</td>\n",
       "      <td>0</td>\n",
       "      <td>0</td>\n",
       "      <td>1</td>\n",
       "      <td>1</td>\n",
       "    </tr>\n",
       "    <tr>\n",
       "      <th>1</th>\n",
       "      <td>9237-HQITU</td>\n",
       "      <td>Los Angeles</td>\n",
       "      <td>90005</td>\n",
       "      <td>2</td>\n",
       "      <td>70.70</td>\n",
       "      <td>151.649994</td>\n",
       "      <td>1</td>\n",
       "      <td>67</td>\n",
       "      <td>2701</td>\n",
       "      <td>0</td>\n",
       "      <td>...</td>\n",
       "      <td>0</td>\n",
       "      <td>0</td>\n",
       "      <td>0</td>\n",
       "      <td>0</td>\n",
       "      <td>0</td>\n",
       "      <td>1</td>\n",
       "      <td>0</td>\n",
       "      <td>1</td>\n",
       "      <td>0</td>\n",
       "      <td>1</td>\n",
       "    </tr>\n",
       "    <tr>\n",
       "      <th>2</th>\n",
       "      <td>9305-CDSKC</td>\n",
       "      <td>Los Angeles</td>\n",
       "      <td>90006</td>\n",
       "      <td>8</td>\n",
       "      <td>99.65</td>\n",
       "      <td>820.500000</td>\n",
       "      <td>1</td>\n",
       "      <td>86</td>\n",
       "      <td>5372</td>\n",
       "      <td>0</td>\n",
       "      <td>...</td>\n",
       "      <td>1</td>\n",
       "      <td>0</td>\n",
       "      <td>1</td>\n",
       "      <td>0</td>\n",
       "      <td>0</td>\n",
       "      <td>1</td>\n",
       "      <td>0</td>\n",
       "      <td>1</td>\n",
       "      <td>0</td>\n",
       "      <td>1</td>\n",
       "    </tr>\n",
       "    <tr>\n",
       "      <th>3</th>\n",
       "      <td>7892-POOKP</td>\n",
       "      <td>Los Angeles</td>\n",
       "      <td>90010</td>\n",
       "      <td>28</td>\n",
       "      <td>104.80</td>\n",
       "      <td>3046.050049</td>\n",
       "      <td>1</td>\n",
       "      <td>84</td>\n",
       "      <td>5003</td>\n",
       "      <td>0</td>\n",
       "      <td>...</td>\n",
       "      <td>1</td>\n",
       "      <td>0</td>\n",
       "      <td>1</td>\n",
       "      <td>0</td>\n",
       "      <td>0</td>\n",
       "      <td>1</td>\n",
       "      <td>0</td>\n",
       "      <td>1</td>\n",
       "      <td>0</td>\n",
       "      <td>1</td>\n",
       "    </tr>\n",
       "    <tr>\n",
       "      <th>4</th>\n",
       "      <td>0280-XJGEX</td>\n",
       "      <td>Los Angeles</td>\n",
       "      <td>90015</td>\n",
       "      <td>49</td>\n",
       "      <td>103.70</td>\n",
       "      <td>5036.299805</td>\n",
       "      <td>1</td>\n",
       "      <td>89</td>\n",
       "      <td>5340</td>\n",
       "      <td>1</td>\n",
       "      <td>...</td>\n",
       "      <td>1</td>\n",
       "      <td>0</td>\n",
       "      <td>1</td>\n",
       "      <td>0</td>\n",
       "      <td>0</td>\n",
       "      <td>1</td>\n",
       "      <td>0</td>\n",
       "      <td>0</td>\n",
       "      <td>0</td>\n",
       "      <td>1</td>\n",
       "    </tr>\n",
       "    <tr>\n",
       "      <th>...</th>\n",
       "      <td>...</td>\n",
       "      <td>...</td>\n",
       "      <td>...</td>\n",
       "      <td>...</td>\n",
       "      <td>...</td>\n",
       "      <td>...</td>\n",
       "      <td>...</td>\n",
       "      <td>...</td>\n",
       "      <td>...</td>\n",
       "      <td>...</td>\n",
       "      <td>...</td>\n",
       "      <td>...</td>\n",
       "      <td>...</td>\n",
       "      <td>...</td>\n",
       "      <td>...</td>\n",
       "      <td>...</td>\n",
       "      <td>...</td>\n",
       "      <td>...</td>\n",
       "      <td>...</td>\n",
       "      <td>...</td>\n",
       "      <td>...</td>\n",
       "    </tr>\n",
       "    <tr>\n",
       "      <th>7038</th>\n",
       "      <td>2569-WGERO</td>\n",
       "      <td>Landers</td>\n",
       "      <td>92285</td>\n",
       "      <td>72</td>\n",
       "      <td>21.15</td>\n",
       "      <td>1419.400024</td>\n",
       "      <td>0</td>\n",
       "      <td>45</td>\n",
       "      <td>5306</td>\n",
       "      <td>0</td>\n",
       "      <td>...</td>\n",
       "      <td>0</td>\n",
       "      <td>1</td>\n",
       "      <td>0</td>\n",
       "      <td>0</td>\n",
       "      <td>1</td>\n",
       "      <td>1</td>\n",
       "      <td>0</td>\n",
       "      <td>0</td>\n",
       "      <td>0</td>\n",
       "      <td>0</td>\n",
       "    </tr>\n",
       "    <tr>\n",
       "      <th>7039</th>\n",
       "      <td>6840-RESVB</td>\n",
       "      <td>Adelanto</td>\n",
       "      <td>92301</td>\n",
       "      <td>24</td>\n",
       "      <td>84.80</td>\n",
       "      <td>1990.500000</td>\n",
       "      <td>0</td>\n",
       "      <td>59</td>\n",
       "      <td>2140</td>\n",
       "      <td>1</td>\n",
       "      <td>...</td>\n",
       "      <td>1</td>\n",
       "      <td>0</td>\n",
       "      <td>1</td>\n",
       "      <td>1</td>\n",
       "      <td>0</td>\n",
       "      <td>1</td>\n",
       "      <td>0</td>\n",
       "      <td>0</td>\n",
       "      <td>1</td>\n",
       "      <td>0</td>\n",
       "    </tr>\n",
       "    <tr>\n",
       "      <th>7040</th>\n",
       "      <td>2234-XADUH</td>\n",
       "      <td>Amboy</td>\n",
       "      <td>92304</td>\n",
       "      <td>72</td>\n",
       "      <td>103.20</td>\n",
       "      <td>7362.899902</td>\n",
       "      <td>0</td>\n",
       "      <td>71</td>\n",
       "      <td>5560</td>\n",
       "      <td>0</td>\n",
       "      <td>...</td>\n",
       "      <td>1</td>\n",
       "      <td>0</td>\n",
       "      <td>1</td>\n",
       "      <td>1</td>\n",
       "      <td>0</td>\n",
       "      <td>1</td>\n",
       "      <td>1</td>\n",
       "      <td>0</td>\n",
       "      <td>0</td>\n",
       "      <td>0</td>\n",
       "    </tr>\n",
       "    <tr>\n",
       "      <th>7041</th>\n",
       "      <td>4801-JZAZL</td>\n",
       "      <td>Angelus Oaks</td>\n",
       "      <td>92305</td>\n",
       "      <td>11</td>\n",
       "      <td>29.60</td>\n",
       "      <td>346.450012</td>\n",
       "      <td>0</td>\n",
       "      <td>59</td>\n",
       "      <td>2793</td>\n",
       "      <td>0</td>\n",
       "      <td>...</td>\n",
       "      <td>0</td>\n",
       "      <td>0</td>\n",
       "      <td>0</td>\n",
       "      <td>0</td>\n",
       "      <td>0</td>\n",
       "      <td>1</td>\n",
       "      <td>0</td>\n",
       "      <td>1</td>\n",
       "      <td>0</td>\n",
       "      <td>0</td>\n",
       "    </tr>\n",
       "    <tr>\n",
       "      <th>7042</th>\n",
       "      <td>3186-AJIEK</td>\n",
       "      <td>Apple Valley</td>\n",
       "      <td>92308</td>\n",
       "      <td>66</td>\n",
       "      <td>105.65</td>\n",
       "      <td>6844.500000</td>\n",
       "      <td>0</td>\n",
       "      <td>38</td>\n",
       "      <td>5097</td>\n",
       "      <td>1</td>\n",
       "      <td>...</td>\n",
       "      <td>1</td>\n",
       "      <td>0</td>\n",
       "      <td>1</td>\n",
       "      <td>0</td>\n",
       "      <td>1</td>\n",
       "      <td>1</td>\n",
       "      <td>0</td>\n",
       "      <td>0</td>\n",
       "      <td>0</td>\n",
       "      <td>0</td>\n",
       "    </tr>\n",
       "  </tbody>\n",
       "</table>\n",
       "<p>7043 rows × 37 columns</p>\n",
       "</div>"
      ],
      "text/plain": [
       "      CustomerID          City Zip Code  Tenure Months  Monthly Charges  \\\n",
       "0     3668-QPYBK   Los Angeles    90003              2            53.85   \n",
       "1     9237-HQITU   Los Angeles    90005              2            70.70   \n",
       "2     9305-CDSKC   Los Angeles    90006              8            99.65   \n",
       "3     7892-POOKP   Los Angeles    90010             28           104.80   \n",
       "4     0280-XJGEX   Los Angeles    90015             49           103.70   \n",
       "...          ...           ...      ...            ...              ...   \n",
       "7038  2569-WGERO       Landers    92285             72            21.15   \n",
       "7039  6840-RESVB      Adelanto    92301             24            84.80   \n",
       "7040  2234-XADUH         Amboy    92304             72           103.20   \n",
       "7041  4801-JZAZL  Angelus Oaks    92305             11            29.60   \n",
       "7042  3186-AJIEK  Apple Valley    92308             66           105.65   \n",
       "\n",
       "      Total Charges Churn Value  Churn Score  CLTV  Gender_Male  ...  \\\n",
       "0        108.150002           1           86  3239            1  ...   \n",
       "1        151.649994           1           67  2701            0  ...   \n",
       "2        820.500000           1           86  5372            0  ...   \n",
       "3       3046.050049           1           84  5003            0  ...   \n",
       "4       5036.299805           1           89  5340            1  ...   \n",
       "...             ...         ...          ...   ...          ...  ...   \n",
       "7038    1419.400024           0           45  5306            0  ...   \n",
       "7039    1990.500000           0           59  2140            1  ...   \n",
       "7040    7362.899902           0           71  5560            0  ...   \n",
       "7041     346.450012           0           59  2793            0  ...   \n",
       "7042    6844.500000           0           38  5097            1  ...   \n",
       "\n",
       "      Streaming TV_Yes  Streaming Movies_No internet service  \\\n",
       "0                    0                                     0   \n",
       "1                    0                                     0   \n",
       "2                    1                                     0   \n",
       "3                    1                                     0   \n",
       "4                    1                                     0   \n",
       "...                ...                                   ...   \n",
       "7038                 0                                     1   \n",
       "7039                 1                                     0   \n",
       "7040                 1                                     0   \n",
       "7041                 0                                     0   \n",
       "7042                 1                                     0   \n",
       "\n",
       "      Streaming Movies_Yes  Contract_One year  Contract_Two year  \\\n",
       "0                        0                  0                  0   \n",
       "1                        0                  0                  0   \n",
       "2                        1                  0                  0   \n",
       "3                        1                  0                  0   \n",
       "4                        1                  0                  0   \n",
       "...                    ...                ...                ...   \n",
       "7038                     0                  0                  1   \n",
       "7039                     1                  1                  0   \n",
       "7040                     1                  1                  0   \n",
       "7041                     0                  0                  0   \n",
       "7042                     1                  0                  1   \n",
       "\n",
       "      Paperless Billing_Yes  Payment Method_Credit card (automatic)  \\\n",
       "0                         1                                       0   \n",
       "1                         1                                       0   \n",
       "2                         1                                       0   \n",
       "3                         1                                       0   \n",
       "4                         1                                       0   \n",
       "...                     ...                                     ...   \n",
       "7038                      1                                       0   \n",
       "7039                      1                                       0   \n",
       "7040                      1                                       1   \n",
       "7041                      1                                       0   \n",
       "7042                      1                                       0   \n",
       "\n",
       "      Payment Method_Electronic check  Payment Method_Mailed check  \\\n",
       "0                                   0                            1   \n",
       "1                                   1                            0   \n",
       "2                                   1                            0   \n",
       "3                                   1                            0   \n",
       "4                                   0                            0   \n",
       "...                               ...                          ...   \n",
       "7038                                0                            0   \n",
       "7039                                0                            1   \n",
       "7040                                0                            0   \n",
       "7041                                1                            0   \n",
       "7042                                0                            0   \n",
       "\n",
       "      Churn Label_Yes  \n",
       "0                   1  \n",
       "1                   1  \n",
       "2                   1  \n",
       "3                   1  \n",
       "4                   1  \n",
       "...               ...  \n",
       "7038                0  \n",
       "7039                0  \n",
       "7040                0  \n",
       "7041                0  \n",
       "7042                0  \n",
       "\n",
       "[7043 rows x 37 columns]"
      ]
     },
     "execution_count": 18,
     "metadata": {},
     "output_type": "execute_result"
    }
   ],
   "source": [
    "churn_dummy=churn_new.copy(deep=True)\n",
    "col_obj2=['Gender', 'Senior Citizen','Partner', 'Dependents', 'Phone Service',\n",
    "       'Multiple Lines', 'Internet Service', 'Online Security',\n",
    "       'Online Backup', 'Device Protection', 'Tech Support', 'Streaming TV',\n",
    "       'Streaming Movies', 'Contract', 'Paperless Billing', 'Payment Method',\n",
    "        'Churn Label']\n",
    "pd.get_dummies(churn_dummy,columns=col_obj2,drop_first =True )"
   ]
  },
  {
   "cell_type": "markdown",
   "id": "66efc60c",
   "metadata": {
    "papermill": {
     "duration": 0.042573,
     "end_time": "2022-04-12T19:08:48.174394",
     "exception": false,
     "start_time": "2022-04-12T19:08:48.131821",
     "status": "completed"
    },
    "tags": []
   },
   "source": [
    "#  Q6: Please examine the distribution of monthly charges between males and females using box plots. Please explain the results also."
   ]
  },
  {
   "cell_type": "code",
   "execution_count": 19,
   "id": "e32d759f",
   "metadata": {
    "execution": {
     "iopub.execute_input": "2022-04-12T19:08:48.262551Z",
     "iopub.status.busy": "2022-04-12T19:08:48.261973Z",
     "iopub.status.idle": "2022-04-12T19:08:48.523556Z",
     "shell.execute_reply": "2022-04-12T19:08:48.524147Z",
     "shell.execute_reply.started": "2022-04-12T19:07:03.110148Z"
    },
    "papermill": {
     "duration": 0.307256,
     "end_time": "2022-04-12T19:08:48.524318",
     "exception": false,
     "start_time": "2022-04-12T19:08:48.217062",
     "status": "completed"
    },
    "tags": []
   },
   "outputs": [
    {
     "data": {
      "image/png": "[encoded data removed]",
      "text/plain": [
       "<Figure size 842.4x288 with 1 Axes>"
      ]
     },
     "metadata": {},
     "output_type": "display_data"
    }
   ],
   "source": [
    "sns.set(rc={'figure.figsize':(11.7,4)})\n",
    "box_plot = sns.boxplot(x=\"Gender\", y='Monthly Charges', data=churn)\n",
    "box_plot.set(title='Distribution of Monthly Charges Between Males and Females')\n",
    "ax = box_plot.axes\n",
    "lines = ax.get_lines()\n",
    "categories = ax.get_xticks()\n",
    "for cat in categories:\n",
    "    # every 4th line at the interval of 6 is median line\n",
    "    # 0 -> p25 1 -> p75 2 -> lower whisker 3 -> upper whisker 4 -> p50 5 -> upper extreme value\n",
    "    y = round(lines[4+cat*6].get_ydata()[0],1) \n",
    "    ax.text(cat, y, f'{y}', \n",
    "        ha='center', va='center', fontweight='bold', size=10, color='white',bbox=dict(facecolor='#445A64'))\n",
    "box_plot.figure.tight_layout()"
   ]
  },
  {
   "cell_type": "markdown",
   "id": "5b9fa7fc",
   "metadata": {
    "papermill": {
     "duration": 0.043867,
     "end_time": "2022-04-12T19:08:48.612140",
     "exception": false,
     "start_time": "2022-04-12T19:08:48.568273",
     "status": "completed"
    },
    "tags": []
   },
   "source": [
    "Source=(http://stackoverflow.com/a/56879116)"
   ]
  },
  {
   "cell_type": "markdown",
   "id": "0dae2b1a",
   "metadata": {
    "papermill": {
     "duration": 0.043507,
     "end_time": "2022-04-12T19:08:48.699699",
     "exception": false,
     "start_time": "2022-04-12T19:08:48.656192",
     "status": "completed"
    },
    "tags": []
   },
   "source": [
    "> There is nearlly equall distribution of monthly charges between males and females."
   ]
  },
  {
   "cell_type": "markdown",
   "id": "00322fae",
   "metadata": {
    "papermill": {
     "duration": 0.043323,
     "end_time": "2022-04-12T19:08:48.786926",
     "exception": false,
     "start_time": "2022-04-12T19:08:48.743603",
     "status": "completed"
    },
    "tags": []
   },
   "source": [
    "#  Q7: Please find what is the minimum total charges for Los Angeles city. Please find which zip code has the maximum total charges."
   ]
  },
  {
   "cell_type": "code",
   "execution_count": 20,
   "id": "da04da30",
   "metadata": {
    "execution": {
     "iopub.execute_input": "2022-04-12T19:08:48.878277Z",
     "iopub.status.busy": "2022-04-12T19:08:48.877641Z",
     "iopub.status.idle": "2022-04-12T19:08:48.883715Z",
     "shell.execute_reply": "2022-04-12T19:08:48.884195Z",
     "shell.execute_reply.started": "2022-04-12T19:07:03.411977Z"
    },
    "papermill": {
     "duration": 0.053576,
     "end_time": "2022-04-12T19:08:48.884356",
     "exception": false,
     "start_time": "2022-04-12T19:08:48.830780",
     "status": "completed"
    },
    "tags": []
   },
   "outputs": [],
   "source": [
    "Los_ang=churn[churn[\"City\"]=='Los Angeles']\n",
    "LA_min=Los_ang['Total Charges'].nsmallest(10).reset_index(drop=True)"
   ]
  },
  {
   "cell_type": "code",
   "execution_count": 21,
   "id": "951d41bb",
   "metadata": {
    "execution": {
     "iopub.execute_input": "2022-04-12T19:08:48.976029Z",
     "iopub.status.busy": "2022-04-12T19:08:48.975372Z",
     "iopub.status.idle": "2022-04-12T19:08:49.201956Z",
     "shell.execute_reply": "2022-04-12T19:08:49.202350Z",
     "shell.execute_reply.started": "2022-04-12T19:07:03.422851Z"
    },
    "papermill": {
     "duration": 0.274586,
     "end_time": "2022-04-12T19:08:49.202534",
     "exception": false,
     "start_time": "2022-04-12T19:08:48.927948",
     "status": "completed"
    },
    "tags": []
   },
   "outputs": [
    {
     "data": {
      "image/png": "[encoded data removed]",
      "text/plain": [
       "<Figure size 842.4x288 with 1 Axes>"
      ]
     },
     "metadata": {},
     "output_type": "display_data"
    }
   ],
   "source": [
    "ax=LA_min.plot(kind='bar')\n",
    "ax.bar_label(ax.containers[0])\n",
    "ax.set(title='Minimum Total Charges for Los Angeles city')\n",
    "ax.axis('off');"
   ]
  },
  {
   "cell_type": "markdown",
   "id": "a7ab52cc",
   "metadata": {
    "papermill": {
     "duration": 0.044218,
     "end_time": "2022-04-12T19:08:49.291371",
     "exception": false,
     "start_time": "2022-04-12T19:08:49.247153",
     "status": "completed"
    },
    "tags": []
   },
   "source": [
    "> Minimum Total Charges for Los Angeles city - 18.8"
   ]
  },
  {
   "cell_type": "code",
   "execution_count": 22,
   "id": "21563e28",
   "metadata": {
    "execution": {
     "iopub.execute_input": "2022-04-12T19:08:49.386149Z",
     "iopub.status.busy": "2022-04-12T19:08:49.385526Z",
     "iopub.status.idle": "2022-04-12T19:08:49.695705Z",
     "shell.execute_reply": "2022-04-12T19:08:49.695163Z",
     "shell.execute_reply.started": "2022-04-12T19:07:03.687779Z"
    },
    "papermill": {
     "duration": 0.360077,
     "end_time": "2022-04-12T19:08:49.695860",
     "exception": false,
     "start_time": "2022-04-12T19:08:49.335783",
     "status": "completed"
    },
    "tags": []
   },
   "outputs": [
    {
     "data": {
      "image/png": "[encoded data removed]",
      "text/plain": [
       "<Figure size 842.4x288 with 1 Axes>"
      ]
     },
     "metadata": {},
     "output_type": "display_data"
    }
   ],
   "source": [
    "ax=churn.groupby('Zip Code')['Total Charges'].max().nlargest(10).plot(kind='barh',color='r',title='Zip Code wise Minimum Total Charges')\n",
    "ax.bar_label(ax.containers[0]);"
   ]
  },
  {
   "cell_type": "markdown",
   "id": "9dfeb889",
   "metadata": {
    "papermill": {
     "duration": 0.046798,
     "end_time": "2022-04-12T19:08:49.788773",
     "exception": false,
     "start_time": "2022-04-12T19:08:49.741975",
     "status": "completed"
    },
    "tags": []
   },
   "source": [
    "> Zip Code wise Minimum Total Charges - '**95519**'"
   ]
  },
  {
   "cell_type": "markdown",
   "id": "d296d8e0",
   "metadata": {
    "papermill": {
     "duration": 0.046001,
     "end_time": "2022-04-12T19:08:49.881820",
     "exception": false,
     "start_time": "2022-04-12T19:08:49.835819",
     "status": "completed"
    },
    "tags": []
   },
   "source": [
    "# Q8: Please find which payment method has the highest churn score and which has the lowest churn score."
   ]
  },
  {
   "cell_type": "code",
   "execution_count": 23,
   "id": "56d93415",
   "metadata": {
    "execution": {
     "iopub.execute_input": "2022-04-12T19:08:49.978177Z",
     "iopub.status.busy": "2022-04-12T19:08:49.977567Z",
     "iopub.status.idle": "2022-04-12T19:08:49.988874Z",
     "shell.execute_reply": "2022-04-12T19:08:49.988230Z",
     "shell.execute_reply.started": "2022-04-12T19:07:04.041590Z"
    },
    "papermill": {
     "duration": 0.061387,
     "end_time": "2022-04-12T19:08:49.989028",
     "exception": false,
     "start_time": "2022-04-12T19:08:49.927641",
     "status": "completed"
    },
    "tags": []
   },
   "outputs": [
    {
     "data": {
      "text/plain": [
       "Payment Method\n",
       "Electronic check             69.0\n",
       "Mailed check                 57.0\n",
       "Bank transfer (automatic)    56.0\n",
       "Credit card (automatic)      56.0\n",
       "Name: Churn Score, dtype: float64"
      ]
     },
     "execution_count": 23,
     "metadata": {},
     "output_type": "execute_result"
    }
   ],
   "source": [
    "churn_sc_pm=churn.groupby('Payment Method').agg({'Churn Score':np.median})['Churn Score'].nlargest(4)\n",
    "churn_sc_pm"
   ]
  },
  {
   "cell_type": "code",
   "execution_count": 24,
   "id": "a31ddbf5",
   "metadata": {
    "execution": {
     "iopub.execute_input": "2022-04-12T19:08:50.086291Z",
     "iopub.status.busy": "2022-04-12T19:08:50.085580Z",
     "iopub.status.idle": "2022-04-12T19:08:50.087722Z",
     "shell.execute_reply": "2022-04-12T19:08:50.088117Z",
     "shell.execute_reply.started": "2022-04-12T19:07:04.058336Z"
    },
    "papermill": {
     "duration": 0.053258,
     "end_time": "2022-04-12T19:08:50.088281",
     "exception": false,
     "start_time": "2022-04-12T19:08:50.035023",
     "status": "completed"
    },
    "tags": []
   },
   "outputs": [],
   "source": [
    "label1=churn_sc_pm.index\n",
    "values=churn_sc_pm.values.flatten()\n",
    "label =['Electronic check', 'Mailed check',\n",
    "                  'Bank transfer (automatic)', 'Credit card (automatic)']"
   ]
  },
  {
   "cell_type": "code",
   "execution_count": 25,
   "id": "384999c3",
   "metadata": {
    "execution": {
     "iopub.execute_input": "2022-04-12T19:08:50.191753Z",
     "iopub.status.busy": "2022-04-12T19:08:50.191126Z",
     "iopub.status.idle": "2022-04-12T19:08:50.551501Z",
     "shell.execute_reply": "2022-04-12T19:08:50.552027Z",
     "shell.execute_reply.started": "2022-04-12T19:07:04.064838Z"
    },
    "papermill": {
     "duration": 0.410394,
     "end_time": "2022-04-12T19:08:50.552200",
     "exception": false,
     "start_time": "2022-04-12T19:08:50.141806",
     "status": "completed"
    },
    "tags": []
   },
   "outputs": [
    {
     "data": {
      "image/png": "[encoded data removed]",
      "text/plain": [
       "<Figure size 1224x576 with 2 Axes>"
      ]
     },
     "metadata": {},
     "output_type": "display_data"
    }
   ],
   "source": [
    "cols = ['c', 'b', 'r', 'k']\n",
    "fig, axs = plt.subplots(1, 2, figsize=(17, 8))\n",
    "axs[0].barh(label, values,color = cols)\n",
    "axs[0].set_ylabel( \"Payment Method\" , size = 12 )\n",
    "# Set label for y-axis\n",
    "axs[0].set_xlabel( \"Count\" , size = 12 )\n",
    "plt.style.use('dark_background')\n",
    "axs[1].pie(values, labels=label, colors = cols, startangle = 90, shadow = True, autopct='%1.0f%%', explode = (0.1, 0, 0, 0))\n",
    "fig.suptitle('Churn Score Payment Wise',).set_size(20)\n",
    "axs[0].grid(False)\n",
    "axs[0].bar_label(axs[0].containers[0])\n",
    "plt.show()"
   ]
  },
  {
   "cell_type": "markdown",
   "id": "39fae75e",
   "metadata": {
    "papermill": {
     "duration": 0.051396,
     "end_time": "2022-04-12T19:08:50.655724",
     "exception": false,
     "start_time": "2022-04-12T19:08:50.604328",
     "status": "completed"
    },
    "tags": []
   },
   "source": [
    "> Payment method has\n",
    "> - highest churn score : Electronic Check\n",
    "> - lowest churn score : Credit Card"
   ]
  },
  {
   "cell_type": "markdown",
   "id": "e666aeff",
   "metadata": {
    "papermill": {
     "duration": 0.050785,
     "end_time": "2022-04-12T19:08:50.757567",
     "exception": false,
     "start_time": "2022-04-12T19:08:50.706782",
     "status": "completed"
    },
    "tags": []
   },
   "source": [
    "# Q9: Please create an appropriate plot to check the count of payment methods and explain it."
   ]
  },
  {
   "cell_type": "code",
   "execution_count": 26,
   "id": "d87e66f1",
   "metadata": {
    "execution": {
     "iopub.execute_input": "2022-04-12T19:08:50.866786Z",
     "iopub.status.busy": "2022-04-12T19:08:50.866086Z",
     "iopub.status.idle": "2022-04-12T19:08:51.100818Z",
     "shell.execute_reply": "2022-04-12T19:08:51.101257Z",
     "shell.execute_reply.started": "2022-04-12T19:07:04.487768Z"
    },
    "papermill": {
     "duration": 0.29031,
     "end_time": "2022-04-12T19:08:51.101463",
     "exception": false,
     "start_time": "2022-04-12T19:08:50.811153",
     "status": "completed"
    },
    "tags": []
   },
   "outputs": [
    {
     "data": {
      "image/png": "[encoded data removed]",
      "text/plain": [
       "<Figure size 1080x576 with 1 Axes>"
      ]
     },
     "metadata": {},
     "output_type": "display_data"
    }
   ],
   "source": [
    "plt.figure(figsize=(15,8))\n",
    "ax=sns.countplot(x='Payment Method',data=churn,order=['Electronic check', 'Mailed check',\n",
    "                  'Bank transfer (automatic)', 'Credit card (automatic)'])\n",
    "plt.style.use('dark_background')\n",
    "ax.bar_label(ax.containers[0]);"
   ]
  },
  {
   "cell_type": "markdown",
   "id": "7b7e285b",
   "metadata": {
    "papermill": {
     "duration": 0.055856,
     "end_time": "2022-04-12T19:08:51.210723",
     "exception": false,
     "start_time": "2022-04-12T19:08:51.154867",
     "status": "completed"
    },
    "tags": []
   },
   "source": [
    "> Count of payment methods - Electronic check is higher"
   ]
  },
  {
   "cell_type": "markdown",
   "id": "57c30f82",
   "metadata": {
    "papermill": {
     "duration": 0.052118,
     "end_time": "2022-04-12T19:08:51.318382",
     "exception": false,
     "start_time": "2022-04-12T19:08:51.266264",
     "status": "completed"
    },
    "tags": []
   },
   "source": [
    "# Q10: Please create an appropriate plot to see the relationship between monthly charges and total charges."
   ]
  },
  {
   "cell_type": "code",
   "execution_count": 27,
   "id": "8ae5269f",
   "metadata": {
    "execution": {
     "iopub.execute_input": "2022-04-12T19:08:51.427286Z",
     "iopub.status.busy": "2022-04-12T19:08:51.426546Z",
     "iopub.status.idle": "2022-04-12T19:08:52.511580Z",
     "shell.execute_reply": "2022-04-12T19:08:52.512048Z",
     "shell.execute_reply.started": "2022-04-12T19:07:04.753181Z"
    },
    "papermill": {
     "duration": 1.140643,
     "end_time": "2022-04-12T19:08:52.512213",
     "exception": false,
     "start_time": "2022-04-12T19:08:51.371570",
     "status": "completed"
    },
    "tags": []
   },
   "outputs": [
    {
     "data": {
      "text/plain": [
       "<Figure size 576x288 with 0 Axes>"
      ]
     },
     "metadata": {},
     "output_type": "display_data"
    },
    {
     "data": {
      "image/png": "[encoded data removed]",
      "text/plain": [
       "<Figure size 432x432 with 3 Axes>"
      ]
     },
     "metadata": {},
     "output_type": "display_data"
    }
   ],
   "source": [
    "sns.set_theme(style=\"darkgrid\")\n",
    "plt.figure(figsize = ( 8 , 4 ))\n",
    "sns.jointplot(data=churn, y=\"Monthly Charges\", x=\"Total Charges\",\n",
    "                  kind=\"reg\",palette=\"Set2\",color='r')\n",
    "# Set label for x-axis\n",
    "plt.xlabel( \"Total Charges\" , size = 12 )\n",
    "# Set label for y-axis\n",
    "plt.ylabel( \"Monthly Charges\" , size = 12 )\n",
    "# Set title for figure\n",
    "plt.title( 'Relationship Between Monthly Charges and Total Charges' , size =20,loc='center', pad=1, y=1.3, )\n",
    "# Display figure\n",
    "plt.style.use('dark_background')\n",
    "plt.show();"
   ]
  },
  {
   "cell_type": "markdown",
   "id": "401b74f0",
   "metadata": {
    "papermill": {
     "duration": 0.057983,
     "end_time": "2022-04-12T19:08:52.627101",
     "exception": false,
     "start_time": "2022-04-12T19:08:52.569118",
     "status": "completed"
    },
    "tags": []
   },
   "source": [
    "> Their is direct relation between them"
   ]
  }
 ],
 "metadata": {
  "kernelspec": {
   "display_name": "Python 3",
   "language": "python",
   "name": "python3"
  },
  "language_info": {
   "codemirror_mode": {
    "name": "ipython",
    "version": 3
   },
   "file_extension": ".py",
   "mimetype": "text/x-python",
   "name": "python",
   "nbconvert_exporter": "python",
   "pygments_lexer": "ipython3",
   "version": "3.7.12"
  },
  "papermill": {
   "default_parameters": {},
   "duration": 21.480085,
   "end_time": "2022-04-12T19:08:53.494344",
   "environment_variables": {},
   "exception": null,
   "input_path": "__notebook__.ipynb",
   "output_path": "__notebook__.ipynb",
   "parameters": {},
   "start_time": "2022-04-12T19:08:32.014259",
   "version": "2.3.3"
  }
 },
 "nbformat": 4,
 "nbformat_minor": 5
}
