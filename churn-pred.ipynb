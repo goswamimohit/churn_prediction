{
 "cells": [
  {
   "cell_type": "code",
   "execution_count": 1,
   "id": "3be3b202",
   "metadata": {
    "_cell_guid": "b1076dfc-b9ad-4769-8c92-a6c4dae69d19",
    "_uuid": "8f2839f25d086af736a60e9eeb907d3b93b6e0e5",
    "execution": {
     "iopub.execute_input": "2022-04-08T15:46:21.288699Z",
     "iopub.status.busy": "2022-04-08T15:46:21.288100Z",
     "iopub.status.idle": "2022-04-08T15:46:21.299591Z",
     "shell.execute_reply": "2022-04-08T15:46:21.298452Z",
     "shell.execute_reply.started": "2022-04-08T15:18:33.786517Z"
    },
    "papermill": {
     "duration": 0.060605,
     "end_time": "2022-04-08T15:46:21.299879",
     "exception": false,
     "start_time": "2022-04-08T15:46:21.239274",
     "status": "completed"
    },
    "tags": []
   },
   "outputs": [
    {
     "name": "stdout",
     "output_type": "stream",
     "text": [
      "/kaggle/input/customer-churn/Telco_customer_churn.xlsx - Telco_Churn.csv\n"
     ]
    }
   ],
   "source": [
    "# This Python 3 environment comes with many helpful analytics libraries installed\n",
    "# It is defined by the kaggle/python Docker image: https://github.com/kaggle/docker-python\n",
    "# For example, here's several helpful packages to load\n",
    "\n",
    "import numpy as np # linear algebra\n",
    "import pandas as pd # data processing, CSV file I/O (e.g. pd.read_csv)\n",
    "\n",
    "# Input data files are available in the read-only \"../input/\" directory\n",
    "# For example, running this (by clicking run or pressing Shift+Enter) will list all files under the input directory\n",
    "\n",
    "import os\n",
    "for dirname, _, filenames in os.walk('/kaggle/input'):\n",
    "    for filename in filenames:\n",
    "        print(os.path.join(dirname, filename))\n",
    "\n",
    "# You can write up to 20GB to the current directory (/kaggle/working/) that gets preserved as output when you create a version using \"Save & Run All\" \n",
    "# You can also write temporary files to /kaggle/temp/, but they won't be saved outside of the current session"
   ]
  },
  {
   "cell_type": "code",
   "execution_count": 2,
   "id": "84e44228",
   "metadata": {
    "execution": {
     "iopub.execute_input": "2022-04-08T15:46:21.386906Z",
     "iopub.status.busy": "2022-04-08T15:46:21.386217Z",
     "iopub.status.idle": "2022-04-08T15:46:22.463531Z",
     "shell.execute_reply": "2022-04-08T15:46:22.462869Z",
     "shell.execute_reply.started": "2022-04-08T15:18:28.798184Z"
    },
    "papermill": {
     "duration": 1.123034,
     "end_time": "2022-04-08T15:46:22.463674",
     "exception": false,
     "start_time": "2022-04-08T15:46:21.340640",
     "status": "completed"
    },
    "tags": []
   },
   "outputs": [],
   "source": [
    "import matplotlib.pyplot as plt\n",
    "import seaborn as sns"
   ]
  },
  {
   "cell_type": "code",
   "execution_count": 3,
   "id": "3caa17d9",
   "metadata": {
    "execution": {
     "iopub.execute_input": "2022-04-08T15:46:22.551414Z",
     "iopub.status.busy": "2022-04-08T15:46:22.550736Z",
     "iopub.status.idle": "2022-04-08T15:46:22.624201Z",
     "shell.execute_reply": "2022-04-08T15:46:22.623465Z",
     "shell.execute_reply.started": "2022-04-08T15:18:37.930155Z"
    },
    "papermill": {
     "duration": 0.120468,
     "end_time": "2022-04-08T15:46:22.624359",
     "exception": false,
     "start_time": "2022-04-08T15:46:22.503891",
     "status": "completed"
    },
    "tags": []
   },
   "outputs": [],
   "source": [
    "filepath='/kaggle/input/customer-churn/Telco_customer_churn.xlsx - Telco_Churn.csv'\n",
    "churn=pd.read_csv(filepath)"
   ]
  },
  {
   "cell_type": "code",
   "execution_count": 4,
   "id": "78f2bc2d",
   "metadata": {
    "execution": {
     "iopub.execute_input": "2022-04-08T15:46:22.711372Z",
     "iopub.status.busy": "2022-04-08T15:46:22.710747Z",
     "iopub.status.idle": "2022-04-08T15:46:22.726954Z",
     "shell.execute_reply": "2022-04-08T15:46:22.726400Z",
     "shell.execute_reply.started": "2022-04-08T15:18:40.293860Z"
    },
    "papermill": {
     "duration": 0.061267,
     "end_time": "2022-04-08T15:46:22.727094",
     "exception": false,
     "start_time": "2022-04-08T15:46:22.665827",
     "status": "completed"
    },
    "tags": []
   },
   "outputs": [],
   "source": [
    "remove=['Count','Lat Long','Country','State','Churn Reason','Latitude', 'Longitude']   \n",
    "churn.drop(columns=remove,inplace=True)"
   ]
  },
  {
   "cell_type": "code",
   "execution_count": 5,
   "id": "9b0815ab",
   "metadata": {
    "execution": {
     "iopub.execute_input": "2022-04-08T15:46:22.813963Z",
     "iopub.status.busy": "2022-04-08T15:46:22.813331Z",
     "iopub.status.idle": "2022-04-08T15:46:22.815738Z",
     "shell.execute_reply": "2022-04-08T15:46:22.816270Z",
     "shell.execute_reply.started": "2022-04-08T12:07:10.301886Z"
    },
    "papermill": {
     "duration": 0.048931,
     "end_time": "2022-04-08T15:46:22.816434",
     "exception": false,
     "start_time": "2022-04-08T15:46:22.767503",
     "status": "completed"
    },
    "tags": []
   },
   "outputs": [],
   "source": [
    "churn_test=churn.copy(deep=True)"
   ]
  },
  {
   "cell_type": "code",
   "execution_count": 6,
   "id": "a7d8959e",
   "metadata": {
    "execution": {
     "iopub.execute_input": "2022-04-08T15:46:22.908560Z",
     "iopub.status.busy": "2022-04-08T15:46:22.907936Z",
     "iopub.status.idle": "2022-04-08T15:46:22.922244Z",
     "shell.execute_reply": "2022-04-08T15:46:22.922689Z",
     "shell.execute_reply.started": "2022-04-08T12:07:20.685104Z"
    },
    "papermill": {
     "duration": 0.063381,
     "end_time": "2022-04-08T15:46:22.922877",
     "exception": false,
     "start_time": "2022-04-08T15:46:22.859496",
     "status": "completed"
    },
    "tags": []
   },
   "outputs": [
    {
     "data": {
      "text/html": [
       "<div>\n",
       "<style scoped>\n",
       "    .dataframe tbody tr th:only-of-type {\n",
       "        vertical-align: middle;\n",
       "    }\n",
       "\n",
       "    .dataframe tbody tr th {\n",
       "        vertical-align: top;\n",
       "    }\n",
       "\n",
       "    .dataframe thead th {\n",
       "        text-align: right;\n",
       "    }\n",
       "</style>\n",
       "<table border=\"1\" class=\"dataframe\">\n",
       "  <thead>\n",
       "    <tr style=\"text-align: right;\">\n",
       "      <th></th>\n",
       "      <th>0</th>\n",
       "      <th>1</th>\n",
       "      <th>2</th>\n",
       "      <th>3</th>\n",
       "      <th>4</th>\n",
       "    </tr>\n",
       "  </thead>\n",
       "  <tbody>\n",
       "    <tr>\n",
       "      <th>CustomerID</th>\n",
       "      <td>3668-QPYBK</td>\n",
       "      <td>9237-HQITU</td>\n",
       "      <td>9305-CDSKC</td>\n",
       "      <td>7892-POOKP</td>\n",
       "      <td>0280-XJGEX</td>\n",
       "    </tr>\n",
       "    <tr>\n",
       "      <th>City</th>\n",
       "      <td>Los Angeles</td>\n",
       "      <td>Los Angeles</td>\n",
       "      <td>Los Angeles</td>\n",
       "      <td>Los Angeles</td>\n",
       "      <td>Los Angeles</td>\n",
       "    </tr>\n",
       "    <tr>\n",
       "      <th>Zip Code</th>\n",
       "      <td>90003</td>\n",
       "      <td>90005</td>\n",
       "      <td>90006</td>\n",
       "      <td>90010</td>\n",
       "      <td>90015</td>\n",
       "    </tr>\n",
       "    <tr>\n",
       "      <th>Gender</th>\n",
       "      <td>Male</td>\n",
       "      <td>Female</td>\n",
       "      <td>Female</td>\n",
       "      <td>Female</td>\n",
       "      <td>Male</td>\n",
       "    </tr>\n",
       "    <tr>\n",
       "      <th>Senior Citizen</th>\n",
       "      <td>No</td>\n",
       "      <td>No</td>\n",
       "      <td>No</td>\n",
       "      <td>No</td>\n",
       "      <td>No</td>\n",
       "    </tr>\n",
       "    <tr>\n",
       "      <th>Partner</th>\n",
       "      <td>No</td>\n",
       "      <td>No</td>\n",
       "      <td>No</td>\n",
       "      <td>Yes</td>\n",
       "      <td>No</td>\n",
       "    </tr>\n",
       "    <tr>\n",
       "      <th>Dependents</th>\n",
       "      <td>No</td>\n",
       "      <td>Yes</td>\n",
       "      <td>Yes</td>\n",
       "      <td>Yes</td>\n",
       "      <td>Yes</td>\n",
       "    </tr>\n",
       "    <tr>\n",
       "      <th>Tenure Months</th>\n",
       "      <td>2</td>\n",
       "      <td>2</td>\n",
       "      <td>8</td>\n",
       "      <td>28</td>\n",
       "      <td>49</td>\n",
       "    </tr>\n",
       "    <tr>\n",
       "      <th>Phone Service</th>\n",
       "      <td>Yes</td>\n",
       "      <td>Yes</td>\n",
       "      <td>Yes</td>\n",
       "      <td>Yes</td>\n",
       "      <td>Yes</td>\n",
       "    </tr>\n",
       "    <tr>\n",
       "      <th>Multiple Lines</th>\n",
       "      <td>No</td>\n",
       "      <td>No</td>\n",
       "      <td>Yes</td>\n",
       "      <td>Yes</td>\n",
       "      <td>Yes</td>\n",
       "    </tr>\n",
       "    <tr>\n",
       "      <th>Internet Service</th>\n",
       "      <td>DSL</td>\n",
       "      <td>Fiber optic</td>\n",
       "      <td>Fiber optic</td>\n",
       "      <td>Fiber optic</td>\n",
       "      <td>Fiber optic</td>\n",
       "    </tr>\n",
       "    <tr>\n",
       "      <th>Online Security</th>\n",
       "      <td>Yes</td>\n",
       "      <td>No</td>\n",
       "      <td>No</td>\n",
       "      <td>No</td>\n",
       "      <td>No</td>\n",
       "    </tr>\n",
       "    <tr>\n",
       "      <th>Online Backup</th>\n",
       "      <td>Yes</td>\n",
       "      <td>No</td>\n",
       "      <td>No</td>\n",
       "      <td>No</td>\n",
       "      <td>Yes</td>\n",
       "    </tr>\n",
       "    <tr>\n",
       "      <th>Device Protection</th>\n",
       "      <td>No</td>\n",
       "      <td>No</td>\n",
       "      <td>Yes</td>\n",
       "      <td>Yes</td>\n",
       "      <td>Yes</td>\n",
       "    </tr>\n",
       "    <tr>\n",
       "      <th>Tech Support</th>\n",
       "      <td>No</td>\n",
       "      <td>No</td>\n",
       "      <td>No</td>\n",
       "      <td>Yes</td>\n",
       "      <td>No</td>\n",
       "    </tr>\n",
       "    <tr>\n",
       "      <th>Streaming TV</th>\n",
       "      <td>No</td>\n",
       "      <td>No</td>\n",
       "      <td>Yes</td>\n",
       "      <td>Yes</td>\n",
       "      <td>Yes</td>\n",
       "    </tr>\n",
       "    <tr>\n",
       "      <th>Streaming Movies</th>\n",
       "      <td>No</td>\n",
       "      <td>No</td>\n",
       "      <td>Yes</td>\n",
       "      <td>Yes</td>\n",
       "      <td>Yes</td>\n",
       "    </tr>\n",
       "    <tr>\n",
       "      <th>Contract</th>\n",
       "      <td>Month-to-month</td>\n",
       "      <td>Month-to-month</td>\n",
       "      <td>Month-to-month</td>\n",
       "      <td>Month-to-month</td>\n",
       "      <td>Month-to-month</td>\n",
       "    </tr>\n",
       "    <tr>\n",
       "      <th>Paperless Billing</th>\n",
       "      <td>Yes</td>\n",
       "      <td>Yes</td>\n",
       "      <td>Yes</td>\n",
       "      <td>Yes</td>\n",
       "      <td>Yes</td>\n",
       "    </tr>\n",
       "    <tr>\n",
       "      <th>Payment Method</th>\n",
       "      <td>Mailed check</td>\n",
       "      <td>Electronic check</td>\n",
       "      <td>Electronic check</td>\n",
       "      <td>Electronic check</td>\n",
       "      <td>Bank transfer (automatic)</td>\n",
       "    </tr>\n",
       "    <tr>\n",
       "      <th>Monthly Charges</th>\n",
       "      <td>53.85</td>\n",
       "      <td>70.7</td>\n",
       "      <td>99.65</td>\n",
       "      <td>104.8</td>\n",
       "      <td>103.7</td>\n",
       "    </tr>\n",
       "    <tr>\n",
       "      <th>Total Charges</th>\n",
       "      <td>108.15</td>\n",
       "      <td>151.65</td>\n",
       "      <td>820.5</td>\n",
       "      <td>3046.05</td>\n",
       "      <td>5036.3</td>\n",
       "    </tr>\n",
       "    <tr>\n",
       "      <th>Churn Label</th>\n",
       "      <td>Yes</td>\n",
       "      <td>Yes</td>\n",
       "      <td>Yes</td>\n",
       "      <td>Yes</td>\n",
       "      <td>Yes</td>\n",
       "    </tr>\n",
       "    <tr>\n",
       "      <th>Churn Value</th>\n",
       "      <td>1</td>\n",
       "      <td>1</td>\n",
       "      <td>1</td>\n",
       "      <td>1</td>\n",
       "      <td>1</td>\n",
       "    </tr>\n",
       "    <tr>\n",
       "      <th>Churn Score</th>\n",
       "      <td>86</td>\n",
       "      <td>67</td>\n",
       "      <td>86</td>\n",
       "      <td>84</td>\n",
       "      <td>89</td>\n",
       "    </tr>\n",
       "    <tr>\n",
       "      <th>CLTV</th>\n",
       "      <td>3239</td>\n",
       "      <td>2701</td>\n",
       "      <td>5372</td>\n",
       "      <td>5003</td>\n",
       "      <td>5340</td>\n",
       "    </tr>\n",
       "  </tbody>\n",
       "</table>\n",
       "</div>"
      ],
      "text/plain": [
       "                                0                 1                 2  \\\n",
       "CustomerID             3668-QPYBK        9237-HQITU        9305-CDSKC   \n",
       "City                  Los Angeles       Los Angeles       Los Angeles   \n",
       "Zip Code                    90003             90005             90006   \n",
       "Gender                       Male            Female            Female   \n",
       "Senior Citizen                 No                No                No   \n",
       "Partner                        No                No                No   \n",
       "Dependents                     No               Yes               Yes   \n",
       "Tenure Months                   2                 2                 8   \n",
       "Phone Service                 Yes               Yes               Yes   \n",
       "Multiple Lines                 No                No               Yes   \n",
       "Internet Service              DSL       Fiber optic       Fiber optic   \n",
       "Online Security               Yes                No                No   \n",
       "Online Backup                 Yes                No                No   \n",
       "Device Protection              No                No               Yes   \n",
       "Tech Support                   No                No                No   \n",
       "Streaming TV                   No                No               Yes   \n",
       "Streaming Movies               No                No               Yes   \n",
       "Contract           Month-to-month    Month-to-month    Month-to-month   \n",
       "Paperless Billing             Yes               Yes               Yes   \n",
       "Payment Method       Mailed check  Electronic check  Electronic check   \n",
       "Monthly Charges             53.85              70.7             99.65   \n",
       "Total Charges              108.15            151.65             820.5   \n",
       "Churn Label                   Yes               Yes               Yes   \n",
       "Churn Value                     1                 1                 1   \n",
       "Churn Score                    86                67                86   \n",
       "CLTV                         3239              2701              5372   \n",
       "\n",
       "                                  3                          4  \n",
       "CustomerID               7892-POOKP                 0280-XJGEX  \n",
       "City                    Los Angeles                Los Angeles  \n",
       "Zip Code                      90010                      90015  \n",
       "Gender                       Female                       Male  \n",
       "Senior Citizen                   No                         No  \n",
       "Partner                         Yes                         No  \n",
       "Dependents                      Yes                        Yes  \n",
       "Tenure Months                    28                         49  \n",
       "Phone Service                   Yes                        Yes  \n",
       "Multiple Lines                  Yes                        Yes  \n",
       "Internet Service        Fiber optic                Fiber optic  \n",
       "Online Security                  No                         No  \n",
       "Online Backup                    No                        Yes  \n",
       "Device Protection               Yes                        Yes  \n",
       "Tech Support                    Yes                         No  \n",
       "Streaming TV                    Yes                        Yes  \n",
       "Streaming Movies                Yes                        Yes  \n",
       "Contract             Month-to-month             Month-to-month  \n",
       "Paperless Billing               Yes                        Yes  \n",
       "Payment Method     Electronic check  Bank transfer (automatic)  \n",
       "Monthly Charges               104.8                      103.7  \n",
       "Total Charges               3046.05                     5036.3  \n",
       "Churn Label                     Yes                        Yes  \n",
       "Churn Value                       1                          1  \n",
       "Churn Score                      84                         89  \n",
       "CLTV                           5003                       5340  "
      ]
     },
     "execution_count": 6,
     "metadata": {},
     "output_type": "execute_result"
    }
   ],
   "source": [
    "churn.head().T"
   ]
  },
  {
   "cell_type": "code",
   "execution_count": 7,
   "id": "eef0280f",
   "metadata": {
    "execution": {
     "iopub.execute_input": "2022-04-08T15:46:23.012487Z",
     "iopub.status.busy": "2022-04-08T15:46:23.011749Z",
     "iopub.status.idle": "2022-04-08T15:46:23.051162Z",
     "shell.execute_reply": "2022-04-08T15:46:23.050626Z",
     "shell.execute_reply.started": "2022-04-08T12:08:05.007754Z"
    },
    "papermill": {
     "duration": 0.087707,
     "end_time": "2022-04-08T15:46:23.051307",
     "exception": false,
     "start_time": "2022-04-08T15:46:22.963600",
     "status": "completed"
    },
    "tags": []
   },
   "outputs": [],
   "source": [
    "col_obj=['Gender', 'Senior Citizen','Partner', 'Dependents', 'Phone Service',\n",
    "       'Multiple Lines', 'Internet Service', 'Online Security',\n",
    "       'Online Backup', 'Device Protection', 'Tech Support', 'Streaming TV',\n",
    "       'Streaming Movies', 'Contract', 'Paperless Billing', 'Payment Method',\n",
    "        'Churn Label', 'Churn Value','Zip Code','City']\n",
    "\n",
    "for col in col_obj:\n",
    "    churn[col] = churn[col].astype('category')"
   ]
  },
  {
   "cell_type": "code",
   "execution_count": 8,
   "id": "36259842",
   "metadata": {
    "execution": {
     "iopub.execute_input": "2022-04-08T15:46:23.143026Z",
     "iopub.status.busy": "2022-04-08T15:46:23.142383Z",
     "iopub.status.idle": "2022-04-08T15:46:23.145045Z",
     "shell.execute_reply": "2022-04-08T15:46:23.144520Z",
     "shell.execute_reply.started": "2022-04-08T12:08:17.750149Z"
    },
    "papermill": {
     "duration": 0.052274,
     "end_time": "2022-04-08T15:46:23.145200",
     "exception": false,
     "start_time": "2022-04-08T15:46:23.092926",
     "status": "completed"
    },
    "tags": []
   },
   "outputs": [],
   "source": [
    "churn['Total Charges']=pd.to_numeric(churn['Total Charges'], downcast=\"float\",errors='coerce')"
   ]
  },
  {
   "cell_type": "markdown",
   "id": "57369c41",
   "metadata": {
    "papermill": {
     "duration": 0.040493,
     "end_time": "2022-04-08T15:46:23.225670",
     "exception": false,
     "start_time": "2022-04-08T15:46:23.185177",
     "status": "completed"
    },
    "tags": []
   },
   "source": [
    "# Q1: Please read the file and explain data types statistically as well as how python is reading it. Please let us know if any data type is read wrong."
   ]
  },
  {
   "cell_type": "code",
   "execution_count": null,
   "id": "969fdcfd",
   "metadata": {
    "papermill": {
     "duration": 0.042203,
     "end_time": "2022-04-08T15:46:23.308266",
     "exception": false,
     "start_time": "2022-04-08T15:46:23.266063",
     "status": "completed"
    },
    "tags": []
   },
   "outputs": [],
   "source": []
  },
  {
   "cell_type": "code",
   "execution_count": null,
   "id": "dd92c30e",
   "metadata": {
    "papermill": {
     "duration": 0.039748,
     "end_time": "2022-04-08T15:46:23.387587",
     "exception": false,
     "start_time": "2022-04-08T15:46:23.347839",
     "status": "completed"
    },
    "tags": []
   },
   "outputs": [],
   "source": []
  },
  {
   "cell_type": "markdown",
   "id": "13893fc1",
   "metadata": {
    "papermill": {
     "duration": 0.039633,
     "end_time": "2022-04-08T15:46:23.467001",
     "exception": false,
     "start_time": "2022-04-08T15:46:23.427368",
     "status": "completed"
    },
    "tags": []
   },
   "source": [
    "# Q2: Please apply appropriate statistical measures using python based on data types."
   ]
  },
  {
   "cell_type": "code",
   "execution_count": 9,
   "id": "55cecf67",
   "metadata": {
    "execution": {
     "iopub.execute_input": "2022-04-08T15:46:23.553067Z",
     "iopub.status.busy": "2022-04-08T15:46:23.552414Z",
     "iopub.status.idle": "2022-04-08T15:46:23.581470Z",
     "shell.execute_reply": "2022-04-08T15:46:23.580986Z",
     "shell.execute_reply.started": "2022-04-08T14:45:27.247720Z"
    },
    "papermill": {
     "duration": 0.07574,
     "end_time": "2022-04-08T15:46:23.581609",
     "exception": false,
     "start_time": "2022-04-08T15:46:23.505869",
     "status": "completed"
    },
    "tags": []
   },
   "outputs": [
    {
     "data": {
      "text/html": [
       "<div>\n",
       "<style scoped>\n",
       "    .dataframe tbody tr th:only-of-type {\n",
       "        vertical-align: middle;\n",
       "    }\n",
       "\n",
       "    .dataframe tbody tr th {\n",
       "        vertical-align: top;\n",
       "    }\n",
       "\n",
       "    .dataframe thead th {\n",
       "        text-align: right;\n",
       "    }\n",
       "</style>\n",
       "<table border=\"1\" class=\"dataframe\">\n",
       "  <thead>\n",
       "    <tr style=\"text-align: right;\">\n",
       "      <th></th>\n",
       "      <th>Tenure Months</th>\n",
       "      <th>Monthly Charges</th>\n",
       "      <th>Total Charges</th>\n",
       "      <th>Churn Score</th>\n",
       "      <th>CLTV</th>\n",
       "    </tr>\n",
       "  </thead>\n",
       "  <tbody>\n",
       "    <tr>\n",
       "      <th>count</th>\n",
       "      <td>7043.000000</td>\n",
       "      <td>7043.000000</td>\n",
       "      <td>7032.000000</td>\n",
       "      <td>7043.000000</td>\n",
       "      <td>7043.000000</td>\n",
       "    </tr>\n",
       "    <tr>\n",
       "      <th>mean</th>\n",
       "      <td>32.371149</td>\n",
       "      <td>64.761692</td>\n",
       "      <td>2283.299561</td>\n",
       "      <td>58.699418</td>\n",
       "      <td>4400.295755</td>\n",
       "    </tr>\n",
       "    <tr>\n",
       "      <th>std</th>\n",
       "      <td>24.559481</td>\n",
       "      <td>30.090047</td>\n",
       "      <td>2266.770264</td>\n",
       "      <td>21.525131</td>\n",
       "      <td>1183.057152</td>\n",
       "    </tr>\n",
       "    <tr>\n",
       "      <th>min</th>\n",
       "      <td>0.000000</td>\n",
       "      <td>18.250000</td>\n",
       "      <td>18.799999</td>\n",
       "      <td>5.000000</td>\n",
       "      <td>2003.000000</td>\n",
       "    </tr>\n",
       "    <tr>\n",
       "      <th>25%</th>\n",
       "      <td>9.000000</td>\n",
       "      <td>35.500000</td>\n",
       "      <td>401.450012</td>\n",
       "      <td>40.000000</td>\n",
       "      <td>3469.000000</td>\n",
       "    </tr>\n",
       "    <tr>\n",
       "      <th>50%</th>\n",
       "      <td>29.000000</td>\n",
       "      <td>70.350000</td>\n",
       "      <td>1397.475098</td>\n",
       "      <td>61.000000</td>\n",
       "      <td>4527.000000</td>\n",
       "    </tr>\n",
       "    <tr>\n",
       "      <th>75%</th>\n",
       "      <td>55.000000</td>\n",
       "      <td>89.850000</td>\n",
       "      <td>3794.737549</td>\n",
       "      <td>75.000000</td>\n",
       "      <td>5380.500000</td>\n",
       "    </tr>\n",
       "    <tr>\n",
       "      <th>max</th>\n",
       "      <td>72.000000</td>\n",
       "      <td>118.750000</td>\n",
       "      <td>8684.799805</td>\n",
       "      <td>100.000000</td>\n",
       "      <td>6500.000000</td>\n",
       "    </tr>\n",
       "  </tbody>\n",
       "</table>\n",
       "</div>"
      ],
      "text/plain": [
       "       Tenure Months  Monthly Charges  Total Charges  Churn Score         CLTV\n",
       "count    7043.000000      7043.000000    7032.000000  7043.000000  7043.000000\n",
       "mean       32.371149        64.761692    2283.299561    58.699418  4400.295755\n",
       "std        24.559481        30.090047    2266.770264    21.525131  1183.057152\n",
       "min         0.000000        18.250000      18.799999     5.000000  2003.000000\n",
       "25%         9.000000        35.500000     401.450012    40.000000  3469.000000\n",
       "50%        29.000000        70.350000    1397.475098    61.000000  4527.000000\n",
       "75%        55.000000        89.850000    3794.737549    75.000000  5380.500000\n",
       "max        72.000000       118.750000    8684.799805   100.000000  6500.000000"
      ]
     },
     "execution_count": 9,
     "metadata": {},
     "output_type": "execute_result"
    }
   ],
   "source": [
    "churn.describe()"
   ]
  },
  {
   "cell_type": "code",
   "execution_count": 10,
   "id": "604a63c8",
   "metadata": {
    "execution": {
     "iopub.execute_input": "2022-04-08T15:46:23.669252Z",
     "iopub.status.busy": "2022-04-08T15:46:23.668503Z",
     "iopub.status.idle": "2022-04-08T15:46:23.718034Z",
     "shell.execute_reply": "2022-04-08T15:46:23.718532Z",
     "shell.execute_reply.started": "2022-04-08T14:45:54.104742Z"
    },
    "papermill": {
     "duration": 0.096213,
     "end_time": "2022-04-08T15:46:23.718730",
     "exception": false,
     "start_time": "2022-04-08T15:46:23.622517",
     "status": "completed"
    },
    "tags": []
   },
   "outputs": [
    {
     "data": {
      "text/html": [
       "<div>\n",
       "<style scoped>\n",
       "    .dataframe tbody tr th:only-of-type {\n",
       "        vertical-align: middle;\n",
       "    }\n",
       "\n",
       "    .dataframe tbody tr th {\n",
       "        vertical-align: top;\n",
       "    }\n",
       "\n",
       "    .dataframe thead th {\n",
       "        text-align: right;\n",
       "    }\n",
       "</style>\n",
       "<table border=\"1\" class=\"dataframe\">\n",
       "  <thead>\n",
       "    <tr style=\"text-align: right;\">\n",
       "      <th></th>\n",
       "      <th>City</th>\n",
       "      <th>Zip Code</th>\n",
       "      <th>Gender</th>\n",
       "      <th>Senior Citizen</th>\n",
       "      <th>Partner</th>\n",
       "      <th>Dependents</th>\n",
       "      <th>Phone Service</th>\n",
       "      <th>Multiple Lines</th>\n",
       "      <th>Internet Service</th>\n",
       "      <th>Online Security</th>\n",
       "      <th>Online Backup</th>\n",
       "      <th>Device Protection</th>\n",
       "      <th>Tech Support</th>\n",
       "      <th>Streaming TV</th>\n",
       "      <th>Streaming Movies</th>\n",
       "      <th>Contract</th>\n",
       "      <th>Paperless Billing</th>\n",
       "      <th>Payment Method</th>\n",
       "      <th>Churn Label</th>\n",
       "      <th>Churn Value</th>\n",
       "    </tr>\n",
       "  </thead>\n",
       "  <tbody>\n",
       "    <tr>\n",
       "      <th>count</th>\n",
       "      <td>7043</td>\n",
       "      <td>7043</td>\n",
       "      <td>7043</td>\n",
       "      <td>7043</td>\n",
       "      <td>7043</td>\n",
       "      <td>7043</td>\n",
       "      <td>7043</td>\n",
       "      <td>7043</td>\n",
       "      <td>7043</td>\n",
       "      <td>7043</td>\n",
       "      <td>7043</td>\n",
       "      <td>7043</td>\n",
       "      <td>7043</td>\n",
       "      <td>7043</td>\n",
       "      <td>7043</td>\n",
       "      <td>7043</td>\n",
       "      <td>7043</td>\n",
       "      <td>7043</td>\n",
       "      <td>7043</td>\n",
       "      <td>7043</td>\n",
       "    </tr>\n",
       "    <tr>\n",
       "      <th>unique</th>\n",
       "      <td>1129</td>\n",
       "      <td>1652</td>\n",
       "      <td>2</td>\n",
       "      <td>2</td>\n",
       "      <td>2</td>\n",
       "      <td>2</td>\n",
       "      <td>2</td>\n",
       "      <td>3</td>\n",
       "      <td>3</td>\n",
       "      <td>3</td>\n",
       "      <td>3</td>\n",
       "      <td>3</td>\n",
       "      <td>3</td>\n",
       "      <td>3</td>\n",
       "      <td>3</td>\n",
       "      <td>3</td>\n",
       "      <td>2</td>\n",
       "      <td>4</td>\n",
       "      <td>2</td>\n",
       "      <td>2</td>\n",
       "    </tr>\n",
       "    <tr>\n",
       "      <th>top</th>\n",
       "      <td>Los Angeles</td>\n",
       "      <td>90001</td>\n",
       "      <td>Male</td>\n",
       "      <td>No</td>\n",
       "      <td>No</td>\n",
       "      <td>No</td>\n",
       "      <td>Yes</td>\n",
       "      <td>No</td>\n",
       "      <td>Fiber optic</td>\n",
       "      <td>No</td>\n",
       "      <td>No</td>\n",
       "      <td>No</td>\n",
       "      <td>No</td>\n",
       "      <td>No</td>\n",
       "      <td>No</td>\n",
       "      <td>Month-to-month</td>\n",
       "      <td>Yes</td>\n",
       "      <td>Electronic check</td>\n",
       "      <td>No</td>\n",
       "      <td>0</td>\n",
       "    </tr>\n",
       "    <tr>\n",
       "      <th>freq</th>\n",
       "      <td>305</td>\n",
       "      <td>5</td>\n",
       "      <td>3555</td>\n",
       "      <td>5901</td>\n",
       "      <td>3641</td>\n",
       "      <td>5416</td>\n",
       "      <td>6361</td>\n",
       "      <td>3390</td>\n",
       "      <td>3096</td>\n",
       "      <td>3498</td>\n",
       "      <td>3088</td>\n",
       "      <td>3095</td>\n",
       "      <td>3473</td>\n",
       "      <td>2810</td>\n",
       "      <td>2785</td>\n",
       "      <td>3875</td>\n",
       "      <td>4171</td>\n",
       "      <td>2365</td>\n",
       "      <td>5174</td>\n",
       "      <td>5174</td>\n",
       "    </tr>\n",
       "  </tbody>\n",
       "</table>\n",
       "</div>"
      ],
      "text/plain": [
       "               City  Zip Code Gender Senior Citizen Partner Dependents  \\\n",
       "count          7043      7043   7043           7043    7043       7043   \n",
       "unique         1129      1652      2              2       2          2   \n",
       "top     Los Angeles     90001   Male             No      No         No   \n",
       "freq            305         5   3555           5901    3641       5416   \n",
       "\n",
       "       Phone Service Multiple Lines Internet Service Online Security  \\\n",
       "count           7043           7043             7043            7043   \n",
       "unique             2              3                3               3   \n",
       "top              Yes             No      Fiber optic              No   \n",
       "freq            6361           3390             3096            3498   \n",
       "\n",
       "       Online Backup Device Protection Tech Support Streaming TV  \\\n",
       "count           7043              7043         7043         7043   \n",
       "unique             3                 3            3            3   \n",
       "top               No                No           No           No   \n",
       "freq            3088              3095         3473         2810   \n",
       "\n",
       "       Streaming Movies        Contract Paperless Billing    Payment Method  \\\n",
       "count              7043            7043              7043              7043   \n",
       "unique                3               3                 2                 4   \n",
       "top                  No  Month-to-month               Yes  Electronic check   \n",
       "freq               2785            3875              4171              2365   \n",
       "\n",
       "       Churn Label  Churn Value  \n",
       "count         7043         7043  \n",
       "unique           2            2  \n",
       "top             No            0  \n",
       "freq          5174         5174  "
      ]
     },
     "execution_count": 10,
     "metadata": {},
     "output_type": "execute_result"
    }
   ],
   "source": [
    "churn.describe(include='category')"
   ]
  },
  {
   "cell_type": "markdown",
   "id": "ae3b29dd",
   "metadata": {
    "papermill": {
     "duration": 0.040687,
     "end_time": "2022-04-08T15:46:23.800620",
     "exception": false,
     "start_time": "2022-04-08T15:46:23.759933",
     "status": "completed"
    },
    "tags": []
   },
   "source": [
    "# Q3: What is the percentage of females and senior citizens in this data set? Please create appropriate plots and explain the plots."
   ]
  },
  {
   "cell_type": "code",
   "execution_count": 11,
   "id": "d727a749",
   "metadata": {
    "execution": {
     "iopub.execute_input": "2022-04-08T15:46:23.891840Z",
     "iopub.status.busy": "2022-04-08T15:46:23.891018Z",
     "iopub.status.idle": "2022-04-08T15:46:23.966847Z",
     "shell.execute_reply": "2022-04-08T15:46:23.966348Z",
     "shell.execute_reply.started": "2022-04-08T14:44:28.787613Z"
    },
    "papermill": {
     "duration": 0.122751,
     "end_time": "2022-04-08T15:46:23.967007",
     "exception": false,
     "start_time": "2022-04-08T15:46:23.844256",
     "status": "completed"
    },
    "tags": []
   },
   "outputs": [
    {
     "data": {
      "text/html": [
       "<style type=\"text/css\">\n",
       "#T_68370_ td:hover {\n",
       "  background-color: #ffffb3;\n",
       "}\n",
       "#T_68370_ .index_name {\n",
       "  font-style: italic;\n",
       "  color: darkgrey;\n",
       "  font-weight: normal;\n",
       "}\n",
       "#T_68370_ th:not(.index_name) {\n",
       "  background-color: #000066;\n",
       "  color: white;\n",
       "}\n",
       "</style>\n",
       "<table id=\"T_68370_\">\n",
       "  <thead>\n",
       "    <tr>\n",
       "      <th class=\"blank level0\" >&nbsp;</th>\n",
       "      <th class=\"col_heading level0 col0\" >No</th>\n",
       "      <th class=\"col_heading level0 col1\" >Yes</th>\n",
       "    </tr>\n",
       "    <tr>\n",
       "      <th class=\"index_name level0\" >Gender</th>\n",
       "      <th class=\"blank col0\" >&nbsp;</th>\n",
       "      <th class=\"blank col1\" >&nbsp;</th>\n",
       "    </tr>\n",
       "  </thead>\n",
       "  <tbody>\n",
       "    <tr>\n",
       "      <th id=\"T_68370_level0_row0\" class=\"row_heading level0 row0\" >Female</th>\n",
       "      <td id=\"T_68370_row0_col0\" class=\"data row0 col0\" >2920</td>\n",
       "      <td id=\"T_68370_row0_col1\" class=\"data row0 col1\" >568</td>\n",
       "    </tr>\n",
       "    <tr>\n",
       "      <th id=\"T_68370_level0_row1\" class=\"row_heading level0 row1\" >Male</th>\n",
       "      <td id=\"T_68370_row1_col0\" class=\"data row1 col0\" >2981</td>\n",
       "      <td id=\"T_68370_row1_col1\" class=\"data row1 col1\" >574</td>\n",
       "    </tr>\n",
       "  </tbody>\n",
       "</table>\n"
      ],
      "text/plain": [
       "<pandas.io.formats.style.Styler at 0x7f062c3d9950>"
      ]
     },
     "execution_count": 11,
     "metadata": {},
     "output_type": "execute_result"
    }
   ],
   "source": [
    "female_senior=churn.groupby('Gender')['Senior Citizen'].value_counts().unstack()\n",
    "cell_hover = {  # for row hover use <tr> instead of <td>\n",
    "    'selector': 'td:hover',\n",
    "    'props': [('background-color', '#ffffb3')]\n",
    "}\n",
    "index_names = {\n",
    "    'selector': '.index_name',\n",
    "    'props': 'font-style: italic; color: darkgrey; font-weight:normal;'\n",
    "}\n",
    "headers = {\n",
    "    'selector': 'th:not(.index_name)',\n",
    "    'props': 'background-color: #000066; color: white;'\n",
    "}\n",
    "female_senior.style.set_table_styles([cell_hover, index_names, headers])"
   ]
  },
  {
   "cell_type": "code",
   "execution_count": 12,
   "id": "9e6c52e5",
   "metadata": {
    "execution": {
     "iopub.execute_input": "2022-04-08T15:46:24.058071Z",
     "iopub.status.busy": "2022-04-08T15:46:24.057376Z",
     "iopub.status.idle": "2022-04-08T15:46:24.074988Z",
     "shell.execute_reply": "2022-04-08T15:46:24.075464Z",
     "shell.execute_reply.started": "2022-04-08T14:32:48.339752Z"
    },
    "papermill": {
     "duration": 0.065558,
     "end_time": "2022-04-08T15:46:24.075635",
     "exception": false,
     "start_time": "2022-04-08T15:46:24.010077",
     "status": "completed"
    },
    "tags": []
   },
   "outputs": [],
   "source": [
    "churn.Gender.value_counts()\n",
    "g_i=churn.Gender.value_counts().index\n",
    "g_v=churn.Gender.value_counts().values\n",
    "churn['Senior Citizen'].value_counts()\n",
    "s_i=churn['Senior Citizen'].value_counts().index\n",
    "s_v=churn['Senior Citizen'].value_counts().values\n",
    "churn[churn['Gender']=='Female']['Senior Citizen'].value_counts()\n",
    "f_s_i=churn[churn['Gender']=='Female']['Senior Citizen'].value_counts().index\n",
    "f_s_v=churn[churn['Gender']=='Female']['Senior Citizen'].value_counts().values"
   ]
  },
  {
   "cell_type": "code",
   "execution_count": 13,
   "id": "4a1cd972",
   "metadata": {
    "execution": {
     "iopub.execute_input": "2022-04-08T15:46:24.163967Z",
     "iopub.status.busy": "2022-04-08T15:46:24.163259Z",
     "iopub.status.idle": "2022-04-08T15:46:24.689240Z",
     "shell.execute_reply": "2022-04-08T15:46:24.689675Z",
     "shell.execute_reply.started": "2022-04-08T14:41:32.494817Z"
    },
    "papermill": {
     "duration": 0.572242,
     "end_time": "2022-04-08T15:46:24.689866",
     "exception": false,
     "start_time": "2022-04-08T15:46:24.117624",
     "status": "completed"
    },
    "tags": []
   },
   "outputs": [
    {
     "data": {
      "image/png": "[encoded data removed]",
      "text/plain": [
       "<Figure size 1152x576 with 3 Axes>"
      ]
     },
     "metadata": {},
     "output_type": "display_data"
    }
   ],
   "source": [
    "cols = ['c', 'b', 'r', 'k']\n",
    "fig, axs = plt.subplots(1, 3, figsize=(16, 8))\n",
    "axs[0].pie(s_v, labels=s_i, colors = cols, startangle = 90, shadow = True, autopct='%1.0f%%', explode = (0.1, 0))\n",
    "axs[1].pie(g_v, labels=g_i, colors = cols, startangle = 90, shadow = True, autopct='%1.0f%%', explode = (0.1, 0))\n",
    "axs[2].pie(f_s_v, labels=f_s_i, colors = cols, startangle = 90, shadow = True, autopct='%1.0f%%', explode = (0.1, 0))\n",
    "fig.suptitle('Churn Score Payment Wise')\n",
    "axs[0].title.set_text('Proportion of Senior Citizen')\n",
    "axs[1].title.set_text('Proportion of Gender')\n",
    "axs[2].title.set_text('Proportion of Female in Senior Citizen')\n",
    "plt.tight_layout()\n",
    "plt.show()"
   ]
  },
  {
   "cell_type": "markdown",
   "id": "013d98f3",
   "metadata": {
    "papermill": {
     "duration": 0.043337,
     "end_time": "2022-04-08T15:46:24.775579",
     "exception": false,
     "start_time": "2022-04-08T15:46:24.732242",
     "status": "completed"
    },
    "tags": []
   },
   "source": [
    "# Q4:  Please create an appropriate plot to examine the distribution of the tenure month column and explain the distribution. Based on distribution, perform appropriate statistical measures. Please also explain if the variable is symmetric or skewed. Please calculate it. Explain everything as asked."
   ]
  },
  {
   "cell_type": "code",
   "execution_count": 14,
   "id": "2314457d",
   "metadata": {
    "execution": {
     "iopub.execute_input": "2022-04-08T15:46:24.886895Z",
     "iopub.status.busy": "2022-04-08T15:46:24.873008Z",
     "iopub.status.idle": "2022-04-08T15:46:25.138031Z",
     "shell.execute_reply": "2022-04-08T15:46:25.137274Z",
     "shell.execute_reply.started": "2022-04-08T13:39:20.666263Z"
    },
    "papermill": {
     "duration": 0.319013,
     "end_time": "2022-04-08T15:46:25.138173",
     "exception": false,
     "start_time": "2022-04-08T15:46:24.819160",
     "status": "completed"
    },
    "tags": []
   },
   "outputs": [
    {
     "data": {
      "image/png": "[encoded data removed]",
      "text/plain": [
       "<Figure size 432x288 with 1 Axes>"
      ]
     },
     "metadata": {
      "needs_background": "light"
     },
     "output_type": "display_data"
    }
   ],
   "source": [
    "ax = sns.histplot(churn['Tenure Months'],kde=True,color=\"y\",stat='percent',bins=5)"
   ]
  },
  {
   "cell_type": "markdown",
   "id": "f0fa299a",
   "metadata": {
    "papermill": {
     "duration": 0.043132,
     "end_time": "2022-04-08T15:46:25.225981",
     "exception": false,
     "start_time": "2022-04-08T15:46:25.182849",
     "status": "completed"
    },
    "tags": []
   },
   "source": [
    "['count', 'frequency', 'density', 'probability', 'proportion', 'percent']"
   ]
  },
  {
   "cell_type": "code",
   "execution_count": null,
   "id": "59bc25dd",
   "metadata": {
    "papermill": {
     "duration": 0.043945,
     "end_time": "2022-04-08T15:46:25.313644",
     "exception": false,
     "start_time": "2022-04-08T15:46:25.269699",
     "status": "completed"
    },
    "tags": []
   },
   "outputs": [],
   "source": []
  },
  {
   "cell_type": "markdown",
   "id": "31dc92b2",
   "metadata": {
    "papermill": {
     "duration": 0.044881,
     "end_time": "2022-04-08T15:46:25.404404",
     "exception": false,
     "start_time": "2022-04-08T15:46:25.359523",
     "status": "completed"
    },
    "tags": []
   },
   "source": [
    "# Q5: Please convert all binary columns into 0 and 1 using appropriate programming constructs, not one by one."
   ]
  },
  {
   "cell_type": "code",
   "execution_count": null,
   "id": "1bd64cef",
   "metadata": {
    "papermill": {
     "duration": 0.045144,
     "end_time": "2022-04-08T15:46:25.494130",
     "exception": false,
     "start_time": "2022-04-08T15:46:25.448986",
     "status": "completed"
    },
    "tags": []
   },
   "outputs": [],
   "source": []
  },
  {
   "cell_type": "code",
   "execution_count": null,
   "id": "d668951c",
   "metadata": {
    "papermill": {
     "duration": 0.045069,
     "end_time": "2022-04-08T15:46:25.583221",
     "exception": false,
     "start_time": "2022-04-08T15:46:25.538152",
     "status": "completed"
    },
    "tags": []
   },
   "outputs": [],
   "source": []
  },
  {
   "cell_type": "markdown",
   "id": "8e95fbec",
   "metadata": {
    "papermill": {
     "duration": 0.04476,
     "end_time": "2022-04-08T15:46:25.673094",
     "exception": false,
     "start_time": "2022-04-08T15:46:25.628334",
     "status": "completed"
    },
    "tags": []
   },
   "source": [
    "#  Q6: Please examine the distribution of monthly charges between males and females using box plots. Please explain the results also."
   ]
  },
  {
   "cell_type": "code",
   "execution_count": 15,
   "id": "5c72a43c",
   "metadata": {
    "execution": {
     "iopub.execute_input": "2022-04-08T15:46:25.770078Z",
     "iopub.status.busy": "2022-04-08T15:46:25.769399Z",
     "iopub.status.idle": "2022-04-08T15:46:26.036337Z",
     "shell.execute_reply": "2022-04-08T15:46:26.036816Z",
     "shell.execute_reply.started": "2022-04-08T13:22:53.610341Z"
    },
    "papermill": {
     "duration": 0.319704,
     "end_time": "2022-04-08T15:46:26.036994",
     "exception": false,
     "start_time": "2022-04-08T15:46:25.717290",
     "status": "completed"
    },
    "tags": []
   },
   "outputs": [
    {
     "data": {
      "image/png": "[encoded data removed]",
      "text/plain": [
       "<Figure size 842.4x288 with 1 Axes>"
      ]
     },
     "metadata": {},
     "output_type": "display_data"
    }
   ],
   "source": [
    "sns.set(rc={'figure.figsize':(11.7,4)})\n",
    "box_plot = sns.boxplot(x=\"Gender\", y='Monthly Charges', data=churn)\n",
    "ax = box_plot.axes\n",
    "lines = ax.get_lines()\n",
    "categories = ax.get_xticks()\n",
    "for cat in categories:\n",
    "    # every 4th line at the interval of 6 is median line\n",
    "    # 0 -> p25 1 -> p75 2 -> lower whisker 3 -> upper whisker 4 -> p50 5 -> upper extreme value\n",
    "    y = round(lines[4+cat*6].get_ydata()[0],1) \n",
    "    ax.text(cat, y, f'{y}', \n",
    "        ha='center', va='center', fontweight='bold', size=10, color='white',bbox=dict(facecolor='#445A64'))\n",
    "box_plot.figure.tight_layout()"
   ]
  },
  {
   "cell_type": "markdown",
   "id": "4e082e6b",
   "metadata": {
    "papermill": {
     "duration": 0.044794,
     "end_time": "2022-04-08T15:46:26.125789",
     "exception": false,
     "start_time": "2022-04-08T15:46:26.080995",
     "status": "completed"
    },
    "tags": []
   },
   "source": [
    "Source=(http://stackoverflow.com/a/56879116)"
   ]
  },
  {
   "cell_type": "markdown",
   "id": "22685f57",
   "metadata": {
    "papermill": {
     "duration": 0.043955,
     "end_time": "2022-04-08T15:46:26.214820",
     "exception": false,
     "start_time": "2022-04-08T15:46:26.170865",
     "status": "completed"
    },
    "tags": []
   },
   "source": [
    "#  Q7: Please find what is the minimum total charges for Los Angeles city. Please find which zip code has the maximum total charges."
   ]
  },
  {
   "cell_type": "code",
   "execution_count": 16,
   "id": "72b523dc",
   "metadata": {
    "execution": {
     "iopub.execute_input": "2022-04-08T15:46:26.309038Z",
     "iopub.status.busy": "2022-04-08T15:46:26.308410Z",
     "iopub.status.idle": "2022-04-08T15:46:26.313804Z",
     "shell.execute_reply": "2022-04-08T15:46:26.314226Z",
     "shell.execute_reply.started": "2022-04-08T12:58:48.026881Z"
    },
    "papermill": {
     "duration": 0.054014,
     "end_time": "2022-04-08T15:46:26.314415",
     "exception": false,
     "start_time": "2022-04-08T15:46:26.260401",
     "status": "completed"
    },
    "tags": []
   },
   "outputs": [],
   "source": [
    "Los_ang=churn[churn[\"City\"]=='Los Angeles']"
   ]
  },
  {
   "cell_type": "code",
   "execution_count": 17,
   "id": "a76d54d3",
   "metadata": {
    "execution": {
     "iopub.execute_input": "2022-04-08T15:46:26.409437Z",
     "iopub.status.busy": "2022-04-08T15:46:26.408844Z",
     "iopub.status.idle": "2022-04-08T15:46:26.702154Z",
     "shell.execute_reply": "2022-04-08T15:46:26.701538Z",
     "shell.execute_reply.started": "2022-04-08T13:01:49.921946Z"
    },
    "papermill": {
     "duration": 0.34269,
     "end_time": "2022-04-08T15:46:26.702290",
     "exception": false,
     "start_time": "2022-04-08T15:46:26.359600",
     "status": "completed"
    },
    "tags": []
   },
   "outputs": [
    {
     "data": {
      "image/png": "[encoded data removed]",
      "text/plain": [
       "<Figure size 842.4x288 with 1 Axes>"
      ]
     },
     "metadata": {},
     "output_type": "display_data"
    }
   ],
   "source": [
    "Los_ang['Total Charges'].nsmallest(10).plot(kind='bar',title='Minimum Total Charges for Los Angeles');"
   ]
  },
  {
   "cell_type": "code",
   "execution_count": 18,
   "id": "c41c8ad1",
   "metadata": {
    "execution": {
     "iopub.execute_input": "2022-04-08T15:46:26.804960Z",
     "iopub.status.busy": "2022-04-08T15:46:26.803962Z",
     "iopub.status.idle": "2022-04-08T15:46:26.812772Z",
     "shell.execute_reply": "2022-04-08T15:46:26.813305Z",
     "shell.execute_reply.started": "2022-04-08T13:10:26.019753Z"
    },
    "papermill": {
     "duration": 0.064695,
     "end_time": "2022-04-08T15:46:26.813467",
     "exception": false,
     "start_time": "2022-04-08T15:46:26.748772",
     "status": "completed"
    },
    "tags": []
   },
   "outputs": [
    {
     "data": {
      "text/plain": [
       "Zip Code\n",
       "90014    3656.250000\n",
       "90011    3487.949951\n",
       "90008    2104.550049\n",
       "90018    1873.699951\n",
       "90021    1862.900024\n",
       "90004    1840.750000\n",
       "90010    1834.949951\n",
       "90007    1301.099976\n",
       "90019    1261.000000\n",
       "90002    1185.949951\n",
       "Name: Total Charges, dtype: float32"
      ]
     },
     "execution_count": 18,
     "metadata": {},
     "output_type": "execute_result"
    }
   ],
   "source": [
    "churn.groupby('Zip Code').agg({'Total Charges':np.median})[:20]['Total Charges'].nlargest(10)"
   ]
  },
  {
   "cell_type": "code",
   "execution_count": 19,
   "id": "46cfe1de",
   "metadata": {
    "execution": {
     "iopub.execute_input": "2022-04-08T15:46:26.914613Z",
     "iopub.status.busy": "2022-04-08T15:46:26.913981Z",
     "iopub.status.idle": "2022-04-08T15:46:26.922578Z",
     "shell.execute_reply": "2022-04-08T15:46:26.922000Z",
     "shell.execute_reply.started": "2022-04-08T13:09:40.655156Z"
    },
    "papermill": {
     "duration": 0.062255,
     "end_time": "2022-04-08T15:46:26.922708",
     "exception": false,
     "start_time": "2022-04-08T15:46:26.860453",
     "status": "completed"
    },
    "tags": []
   },
   "outputs": [
    {
     "data": {
      "text/plain": [
       "Zip Code\n",
       "95519    8684.799805\n",
       "95461    8672.450195\n",
       "90822    8670.099609\n",
       "92230    8594.400391\n",
       "92614    8564.750000\n",
       "95237    8547.150391\n",
       "92870    8543.250000\n",
       "93428    8529.500000\n",
       "94515    8496.700195\n",
       "92124    8477.700195\n",
       "Name: Total Charges, dtype: float32"
      ]
     },
     "execution_count": 19,
     "metadata": {},
     "output_type": "execute_result"
    }
   ],
   "source": [
    "churn.groupby('Zip Code')['Total Charges'].max().nlargest(10)"
   ]
  },
  {
   "cell_type": "code",
   "execution_count": 20,
   "id": "726b0995",
   "metadata": {
    "execution": {
     "iopub.execute_input": "2022-04-08T15:46:27.019101Z",
     "iopub.status.busy": "2022-04-08T15:46:27.018398Z",
     "iopub.status.idle": "2022-04-08T15:46:27.026901Z",
     "shell.execute_reply": "2022-04-08T15:46:27.026265Z",
     "shell.execute_reply.started": "2022-04-08T13:05:52.478446Z"
    },
    "papermill": {
     "duration": 0.058341,
     "end_time": "2022-04-08T15:46:27.027046",
     "exception": false,
     "start_time": "2022-04-08T15:46:26.968705",
     "status": "completed"
    },
    "tags": []
   },
   "outputs": [
    {
     "data": {
      "text/plain": [
       "90001    5\n",
       "91803    5\n",
       "91917    5\n",
       "91916    5\n",
       "91915    5\n",
       "        ..\n",
       "93705    4\n",
       "93704    4\n",
       "93703    4\n",
       "93702    4\n",
       "96161    4\n",
       "Name: Zip Code, Length: 1652, dtype: int64"
      ]
     },
     "execution_count": 20,
     "metadata": {},
     "output_type": "execute_result"
    }
   ],
   "source": [
    "churn['Zip Code'].value_counts()"
   ]
  },
  {
   "cell_type": "code",
   "execution_count": 21,
   "id": "63eb7c84",
   "metadata": {
    "execution": {
     "iopub.execute_input": "2022-04-08T15:46:27.128125Z",
     "iopub.status.busy": "2022-04-08T15:46:27.127332Z",
     "iopub.status.idle": "2022-04-08T15:46:27.130386Z",
     "shell.execute_reply": "2022-04-08T15:46:27.130827Z",
     "shell.execute_reply.started": "2022-04-08T12:56:24.079054Z"
    },
    "papermill": {
     "duration": 0.05594,
     "end_time": "2022-04-08T15:46:27.130991",
     "exception": false,
     "start_time": "2022-04-08T15:46:27.075051",
     "status": "completed"
    },
    "tags": []
   },
   "outputs": [
    {
     "data": {
      "text/plain": [
       "Index(['CustomerID', 'City', 'Zip Code', 'Gender', 'Senior Citizen', 'Partner',\n",
       "       'Dependents', 'Tenure Months', 'Phone Service', 'Multiple Lines',\n",
       "       'Internet Service', 'Online Security', 'Online Backup',\n",
       "       'Device Protection', 'Tech Support', 'Streaming TV', 'Streaming Movies',\n",
       "       'Contract', 'Paperless Billing', 'Payment Method', 'Monthly Charges',\n",
       "       'Total Charges', 'Churn Label', 'Churn Value', 'Churn Score', 'CLTV'],\n",
       "      dtype='object')"
      ]
     },
     "execution_count": 21,
     "metadata": {},
     "output_type": "execute_result"
    }
   ],
   "source": [
    "churn.columns"
   ]
  },
  {
   "cell_type": "code",
   "execution_count": null,
   "id": "dd8a2337",
   "metadata": {
    "papermill": {
     "duration": 0.046106,
     "end_time": "2022-04-08T15:46:27.223552",
     "exception": false,
     "start_time": "2022-04-08T15:46:27.177446",
     "status": "completed"
    },
    "tags": []
   },
   "outputs": [],
   "source": []
  },
  {
   "cell_type": "markdown",
   "id": "353e0f84",
   "metadata": {
    "papermill": {
     "duration": 0.048081,
     "end_time": "2022-04-08T15:46:27.318950",
     "exception": false,
     "start_time": "2022-04-08T15:46:27.270869",
     "status": "completed"
    },
    "tags": []
   },
   "source": [
    "# Q8: Please find which payment method has the highest churn score and which has the lowest churn score."
   ]
  },
  {
   "cell_type": "code",
   "execution_count": 22,
   "id": "be29416c",
   "metadata": {
    "execution": {
     "iopub.execute_input": "2022-04-08T15:46:27.415224Z",
     "iopub.status.busy": "2022-04-08T15:46:27.414278Z",
     "iopub.status.idle": "2022-04-08T15:46:27.425309Z",
     "shell.execute_reply": "2022-04-08T15:46:27.425752Z",
     "shell.execute_reply.started": "2022-04-08T12:55:24.883260Z"
    },
    "papermill": {
     "duration": 0.060825,
     "end_time": "2022-04-08T15:46:27.425941",
     "exception": false,
     "start_time": "2022-04-08T15:46:27.365116",
     "status": "completed"
    },
    "tags": []
   },
   "outputs": [
    {
     "data": {
      "text/plain": [
       "Payment Method\n",
       "Electronic check             69.0\n",
       "Mailed check                 57.0\n",
       "Bank transfer (automatic)    56.0\n",
       "Credit card (automatic)      56.0\n",
       "Name: Churn Score, dtype: float64"
      ]
     },
     "execution_count": 22,
     "metadata": {},
     "output_type": "execute_result"
    }
   ],
   "source": [
    "churn_sc_pm=churn.groupby('Payment Method').agg({'Churn Score':np.median})['Churn Score'].nlargest(4)\n",
    "churn_sc_pm"
   ]
  },
  {
   "cell_type": "code",
   "execution_count": 23,
   "id": "ad6005ec",
   "metadata": {
    "execution": {
     "iopub.execute_input": "2022-04-08T15:46:27.525511Z",
     "iopub.status.busy": "2022-04-08T15:46:27.524601Z",
     "iopub.status.idle": "2022-04-08T15:46:27.527394Z",
     "shell.execute_reply": "2022-04-08T15:46:27.526811Z",
     "shell.execute_reply.started": "2022-04-08T12:54:20.000842Z"
    },
    "papermill": {
     "duration": 0.053775,
     "end_time": "2022-04-08T15:46:27.527524",
     "exception": false,
     "start_time": "2022-04-08T15:46:27.473749",
     "status": "completed"
    },
    "tags": []
   },
   "outputs": [],
   "source": [
    "label1=churn_sc_pm.index\n",
    "values=churn_sc_pm.values.flatten()\n",
    "label =['Electronic check', 'Mailed check',\n",
    "                  'Bank transfer (automatic)', 'Credit card (automatic)']"
   ]
  },
  {
   "cell_type": "code",
   "execution_count": 24,
   "id": "10c846d2",
   "metadata": {
    "execution": {
     "iopub.execute_input": "2022-04-08T15:46:27.660455Z",
     "iopub.status.busy": "2022-04-08T15:46:27.634748Z",
     "iopub.status.idle": "2022-04-08T15:46:28.016251Z",
     "shell.execute_reply": "2022-04-08T15:46:28.016762Z",
     "shell.execute_reply.started": "2022-04-08T12:54:37.115052Z"
    },
    "papermill": {
     "duration": 0.440963,
     "end_time": "2022-04-08T15:46:28.016949",
     "exception": false,
     "start_time": "2022-04-08T15:46:27.575986",
     "status": "completed"
    },
    "tags": []
   },
   "outputs": [
    {
     "data": {
      "image/png": "[encoded data removed]",
      "text/plain": [
       "<Figure size 1224x576 with 2 Axes>"
      ]
     },
     "metadata": {},
     "output_type": "display_data"
    }
   ],
   "source": [
    "cols = ['c', 'b', 'r', 'k']\n",
    "fig, axs = plt.subplots(1, 2, figsize=(17, 8))\n",
    "axs[0].barh(label, values,color = cols)\n",
    "axs[1].pie(values, labels=label, colors = cols, startangle = 90, shadow = True, autopct='%1.0f%%', explode = (0.1, 0, 0, 0))\n",
    "fig.suptitle('Churn Score Payment Wise')\n",
    "plt.show()"
   ]
  },
  {
   "cell_type": "markdown",
   "id": "6804582a",
   "metadata": {
    "papermill": {
     "duration": 0.048639,
     "end_time": "2022-04-08T15:46:28.114686",
     "exception": false,
     "start_time": "2022-04-08T15:46:28.066047",
     "status": "completed"
    },
    "tags": []
   },
   "source": [
    "# Q9: Please create an appropriate plot to check the count of payment methods and explain it."
   ]
  },
  {
   "cell_type": "code",
   "execution_count": 25,
   "id": "5fad75d7",
   "metadata": {
    "execution": {
     "iopub.execute_input": "2022-04-08T15:46:28.220767Z",
     "iopub.status.busy": "2022-04-08T15:46:28.220133Z",
     "iopub.status.idle": "2022-04-08T15:46:28.460734Z",
     "shell.execute_reply": "2022-04-08T15:46:28.460229Z",
     "shell.execute_reply.started": "2022-04-08T12:14:13.986437Z"
    },
    "papermill": {
     "duration": 0.295732,
     "end_time": "2022-04-08T15:46:28.460880",
     "exception": false,
     "start_time": "2022-04-08T15:46:28.165148",
     "status": "completed"
    },
    "tags": []
   },
   "outputs": [
    {
     "data": {
      "image/png": "[encoded data removed]",
      "text/plain": [
       "<Figure size 1080x576 with 1 Axes>"
      ]
     },
     "metadata": {},
     "output_type": "display_data"
    }
   ],
   "source": [
    "plt.figure(figsize=(15,8))\n",
    "ax=sns.countplot(x='Payment Method',data=churn,order=['Electronic check', 'Mailed check',\n",
    "                  'Bank transfer (automatic)', 'Credit card (automatic)'])\n",
    "for p in ax.patches:\n",
    "   ax.annotate('{:.1f}'.format(p.get_height()), (p.get_x()+0.25, p.get_height()+0.01))"
   ]
  },
  {
   "cell_type": "code",
   "execution_count": null,
   "id": "c492d35b",
   "metadata": {
    "papermill": {
     "duration": 0.050554,
     "end_time": "2022-04-08T15:46:28.563213",
     "exception": false,
     "start_time": "2022-04-08T15:46:28.512659",
     "status": "completed"
    },
    "tags": []
   },
   "outputs": [],
   "source": []
  },
  {
   "cell_type": "markdown",
   "id": "88517a5f",
   "metadata": {
    "papermill": {
     "duration": 0.050941,
     "end_time": "2022-04-08T15:46:28.665239",
     "exception": false,
     "start_time": "2022-04-08T15:46:28.614298",
     "status": "completed"
    },
    "tags": []
   },
   "source": [
    "# Q10: Please create an appropriate plot to see the relationship between monthly charges and total charges."
   ]
  },
  {
   "cell_type": "code",
   "execution_count": 26,
   "id": "3dba9fc1",
   "metadata": {
    "execution": {
     "iopub.execute_input": "2022-04-08T15:46:28.777068Z",
     "iopub.status.busy": "2022-04-08T15:46:28.776380Z",
     "iopub.status.idle": "2022-04-08T15:46:30.073514Z",
     "shell.execute_reply": "2022-04-08T15:46:30.073994Z",
     "shell.execute_reply.started": "2022-04-08T12:13:51.358266Z"
    },
    "papermill": {
     "duration": 1.356473,
     "end_time": "2022-04-08T15:46:30.074163",
     "exception": false,
     "start_time": "2022-04-08T15:46:28.717690",
     "status": "completed"
    },
    "tags": []
   },
   "outputs": [
    {
     "data": {
      "text/plain": [
       "<seaborn.axisgrid.JointGrid at 0x7f062be11a90>"
      ]
     },
     "execution_count": 26,
     "metadata": {},
     "output_type": "execute_result"
    },
    {
     "data": {
      "image/png": "[encoded data removed]",
      "text/plain": [
       "<Figure size 432x432 with 3 Axes>"
      ]
     },
     "metadata": {},
     "output_type": "display_data"
    }
   ],
   "source": [
    "sns.set_theme(style=\"darkgrid\")\n",
    "sns.jointplot(data=churn, y=\"Monthly Charges\", x=\"Total Charges\",\n",
    "                  kind=\"reg\",palette=\"Set2\",color='r')"
   ]
  },
  {
   "cell_type": "code",
   "execution_count": 27,
   "id": "6c753e46",
   "metadata": {
    "execution": {
     "iopub.execute_input": "2022-04-08T15:46:30.184667Z",
     "iopub.status.busy": "2022-04-08T15:46:30.183647Z",
     "iopub.status.idle": "2022-04-08T15:46:30.187582Z",
     "shell.execute_reply": "2022-04-08T15:46:30.188072Z",
     "shell.execute_reply.started": "2022-04-08T15:39:48.376926Z"
    },
    "papermill": {
     "duration": 0.061832,
     "end_time": "2022-04-08T15:46:30.188254",
     "exception": false,
     "start_time": "2022-04-08T15:46:30.126422",
     "status": "completed"
    },
    "tags": []
   },
   "outputs": [],
   "source": [
    "churn_new=churn.copy(deep=True)"
   ]
  },
  {
   "cell_type": "code",
   "execution_count": 28,
   "id": "9e73dfcb",
   "metadata": {
    "execution": {
     "iopub.execute_input": "2022-04-08T15:46:30.299506Z",
     "iopub.status.busy": "2022-04-08T15:46:30.298858Z",
     "iopub.status.idle": "2022-04-08T15:46:30.302829Z",
     "shell.execute_reply": "2022-04-08T15:46:30.303291Z",
     "shell.execute_reply.started": "2022-04-08T15:28:20.633286Z"
    },
    "papermill": {
     "duration": 0.061389,
     "end_time": "2022-04-08T15:46:30.303467",
     "exception": false,
     "start_time": "2022-04-08T15:46:30.242078",
     "status": "completed"
    },
    "tags": []
   },
   "outputs": [],
   "source": [
    "x3=churn_new['Tenure Months']"
   ]
  },
  {
   "cell_type": "code",
   "execution_count": 29,
   "id": "62eaaca8",
   "metadata": {
    "execution": {
     "iopub.execute_input": "2022-04-08T15:46:30.415883Z",
     "iopub.status.busy": "2022-04-08T15:46:30.415218Z",
     "iopub.status.idle": "2022-04-08T15:46:30.418828Z",
     "shell.execute_reply": "2022-04-08T15:46:30.419284Z",
     "shell.execute_reply.started": "2022-04-08T15:25:13.882213Z"
    },
    "papermill": {
     "duration": 0.061122,
     "end_time": "2022-04-08T15:46:30.419458",
     "exception": false,
     "start_time": "2022-04-08T15:46:30.358336",
     "status": "completed"
    },
    "tags": []
   },
   "outputs": [],
   "source": [
    "x=churn_new['Tenure Months'].values.reshape(-1, 1)"
   ]
  },
  {
   "cell_type": "code",
   "execution_count": 30,
   "id": "4b9cc338",
   "metadata": {
    "execution": {
     "iopub.execute_input": "2022-04-08T15:46:30.531799Z",
     "iopub.status.busy": "2022-04-08T15:46:30.531144Z",
     "iopub.status.idle": "2022-04-08T15:46:30.534850Z",
     "shell.execute_reply": "2022-04-08T15:46:30.535325Z",
     "shell.execute_reply.started": "2022-04-08T15:26:16.048133Z"
    },
    "papermill": {
     "duration": 0.061205,
     "end_time": "2022-04-08T15:46:30.535504",
     "exception": false,
     "start_time": "2022-04-08T15:46:30.474299",
     "status": "completed"
    },
    "tags": []
   },
   "outputs": [],
   "source": [
    "x1=churn_new['Tenure Months'].values.reshape(-1, 1)"
   ]
  },
  {
   "cell_type": "code",
   "execution_count": 31,
   "id": "3fa780b1",
   "metadata": {
    "execution": {
     "iopub.execute_input": "2022-04-08T15:46:30.647577Z",
     "iopub.status.busy": "2022-04-08T15:46:30.646936Z",
     "iopub.status.idle": "2022-04-08T15:46:30.826612Z",
     "shell.execute_reply": "2022-04-08T15:46:30.825497Z",
     "shell.execute_reply.started": "2022-04-08T15:20:53.830631Z"
    },
    "papermill": {
     "duration": 0.236901,
     "end_time": "2022-04-08T15:46:30.826801",
     "exception": false,
     "start_time": "2022-04-08T15:46:30.589900",
     "status": "completed"
    },
    "tags": []
   },
   "outputs": [],
   "source": [
    "from sklearn.preprocessing import quantile_transform\n",
    "y=quantile_transform(x, n_quantiles=10, random_state=0, copy=True)"
   ]
  },
  {
   "cell_type": "code",
   "execution_count": 32,
   "id": "21b3547a",
   "metadata": {
    "execution": {
     "iopub.execute_input": "2022-04-08T15:46:30.937838Z",
     "iopub.status.busy": "2022-04-08T15:46:30.937170Z",
     "iopub.status.idle": "2022-04-08T15:46:30.939528Z",
     "shell.execute_reply": "2022-04-08T15:46:30.939977Z",
     "shell.execute_reply.started": "2022-04-08T15:21:40.720755Z"
    },
    "papermill": {
     "duration": 0.06068,
     "end_time": "2022-04-08T15:46:30.940142",
     "exception": false,
     "start_time": "2022-04-08T15:46:30.879462",
     "status": "completed"
    },
    "tags": []
   },
   "outputs": [
    {
     "data": {
      "text/plain": [
       "(7043, 1)"
      ]
     },
     "execution_count": 32,
     "metadata": {},
     "output_type": "execute_result"
    }
   ],
   "source": [
    "y.shape"
   ]
  },
  {
   "cell_type": "code",
   "execution_count": 33,
   "id": "caa2defb",
   "metadata": {
    "execution": {
     "iopub.execute_input": "2022-04-08T15:46:31.052942Z",
     "iopub.status.busy": "2022-04-08T15:46:31.052252Z",
     "iopub.status.idle": "2022-04-08T15:46:31.390734Z",
     "shell.execute_reply": "2022-04-08T15:46:31.391194Z",
     "shell.execute_reply.started": "2022-04-08T15:20:59.669109Z"
    },
    "papermill": {
     "duration": 0.397558,
     "end_time": "2022-04-08T15:46:31.391367",
     "exception": false,
     "start_time": "2022-04-08T15:46:30.993809",
     "status": "completed"
    },
    "tags": []
   },
   "outputs": [
    {
     "data": {
      "image/png": "[encoded data removed]",
      "text/plain": [
       "<Figure size 842.4x288 with 1 Axes>"
      ]
     },
     "metadata": {},
     "output_type": "display_data"
    }
   ],
   "source": [
    "ax1 = sns.histplot(y,kde=True,color=\"y\",stat='percent',bins=5)"
   ]
  },
  {
   "cell_type": "code",
   "execution_count": 34,
   "id": "d6648d05",
   "metadata": {
    "execution": {
     "iopub.execute_input": "2022-04-08T15:46:31.512861Z",
     "iopub.status.busy": "2022-04-08T15:46:31.512202Z",
     "iopub.status.idle": "2022-04-08T15:46:31.524602Z",
     "shell.execute_reply": "2022-04-08T15:46:31.525106Z",
     "shell.execute_reply.started": "2022-04-08T15:26:41.905467Z"
    },
    "papermill": {
     "duration": 0.076364,
     "end_time": "2022-04-08T15:46:31.525270",
     "exception": false,
     "start_time": "2022-04-08T15:46:31.448906",
     "status": "completed"
    },
    "tags": []
   },
   "outputs": [],
   "source": [
    "from sklearn.preprocessing import power_transform\n",
    "box=power_transform(x1, method='yeo-johnson')"
   ]
  },
  {
   "cell_type": "code",
   "execution_count": 35,
   "id": "39d958ad",
   "metadata": {
    "execution": {
     "iopub.execute_input": "2022-04-08T15:46:31.640247Z",
     "iopub.status.busy": "2022-04-08T15:46:31.639516Z",
     "iopub.status.idle": "2022-04-08T15:46:31.990431Z",
     "shell.execute_reply": "2022-04-08T15:46:31.989923Z",
     "shell.execute_reply.started": "2022-04-08T15:27:00.031085Z"
    },
    "papermill": {
     "duration": 0.409133,
     "end_time": "2022-04-08T15:46:31.990565",
     "exception": false,
     "start_time": "2022-04-08T15:46:31.581432",
     "status": "completed"
    },
    "tags": []
   },
   "outputs": [
    {
     "data": {
      "image/png": "[encoded data removed]",
      "text/plain": [
       "<Figure size 842.4x288 with 1 Axes>"
      ]
     },
     "metadata": {},
     "output_type": "display_data"
    }
   ],
   "source": [
    "ax = sns.histplot(box,kde=True,color=\"y\",stat='percent',bins=5)"
   ]
  },
  {
   "cell_type": "code",
   "execution_count": 36,
   "id": "35ab3f9a",
   "metadata": {
    "execution": {
     "iopub.execute_input": "2022-04-08T15:46:32.114707Z",
     "iopub.status.busy": "2022-04-08T15:46:32.113650Z",
     "iopub.status.idle": "2022-04-08T15:46:32.428558Z",
     "shell.execute_reply": "2022-04-08T15:46:32.429059Z",
     "shell.execute_reply.started": "2022-04-08T15:33:57.796755Z"
    },
    "papermill": {
     "duration": 0.380967,
     "end_time": "2022-04-08T15:46:32.429227",
     "exception": false,
     "start_time": "2022-04-08T15:46:32.048260",
     "status": "completed"
    },
    "tags": []
   },
   "outputs": [
    {
     "data": {
      "image/png": "[encoded data removed]",
      "text/plain": [
       "<Figure size 842.4x288 with 1 Axes>"
      ]
     },
     "metadata": {},
     "output_type": "display_data"
    }
   ],
   "source": [
    "from scipy import stats\n",
    "\n",
    "x3=x3.replace(0,1)\n",
    "# transform training data & save lambda value\n",
    "fitted_data, fitted_lambda = stats.boxcox(x3)\n",
    "ax = sns.histplot(fitted_data,kde=True,color=\"y\",stat='percent',bins=5)"
   ]
  },
  {
   "cell_type": "code",
   "execution_count": 37,
   "id": "9518a539",
   "metadata": {
    "execution": {
     "iopub.execute_input": "2022-04-08T15:46:32.546451Z",
     "iopub.status.busy": "2022-04-08T15:46:32.545700Z",
     "iopub.status.idle": "2022-04-08T15:46:32.548702Z",
     "shell.execute_reply": "2022-04-08T15:46:32.549193Z",
     "shell.execute_reply.started": "2022-04-08T15:31:14.973753Z"
    },
    "papermill": {
     "duration": 0.063406,
     "end_time": "2022-04-08T15:46:32.549365",
     "exception": false,
     "start_time": "2022-04-08T15:46:32.485959",
     "status": "completed"
    },
    "tags": []
   },
   "outputs": [
    {
     "data": {
      "text/plain": [
       "(7043,)"
      ]
     },
     "execution_count": 37,
     "metadata": {},
     "output_type": "execute_result"
    }
   ],
   "source": [
    "x3.shape"
   ]
  },
  {
   "cell_type": "code",
   "execution_count": 38,
   "id": "de67d499",
   "metadata": {
    "execution": {
     "iopub.execute_input": "2022-04-08T15:46:32.666144Z",
     "iopub.status.busy": "2022-04-08T15:46:32.665486Z",
     "iopub.status.idle": "2022-04-08T15:46:32.670410Z",
     "shell.execute_reply": "2022-04-08T15:46:32.669612Z",
     "shell.execute_reply.started": "2022-04-08T15:40:53.045217Z"
    },
    "papermill": {
     "duration": 0.064674,
     "end_time": "2022-04-08T15:46:32.670561",
     "exception": false,
     "start_time": "2022-04-08T15:46:32.605887",
     "status": "completed"
    },
    "tags": []
   },
   "outputs": [],
   "source": [
    "col_obj2=['Gender', 'Senior Citizen','Partner', 'Dependents', 'Phone Service',\n",
    "       'Multiple Lines', 'Internet Service', 'Online Security',\n",
    "       'Online Backup', 'Device Protection', 'Tech Support', 'Streaming TV',\n",
    "       'Streaming Movies', 'Contract', 'Paperless Billing', 'Payment Method',\n",
    "        'Churn Label']"
   ]
  },
  {
   "cell_type": "code",
   "execution_count": 39,
   "id": "493a74b4",
   "metadata": {
    "execution": {
     "iopub.execute_input": "2022-04-08T15:46:32.790874Z",
     "iopub.status.busy": "2022-04-08T15:46:32.789910Z",
     "iopub.status.idle": "2022-04-08T15:46:32.795859Z",
     "shell.execute_reply": "2022-04-08T15:46:32.795276Z",
     "shell.execute_reply.started": "2022-04-08T15:43:38.210466Z"
    },
    "papermill": {
     "duration": 0.068329,
     "end_time": "2022-04-08T15:46:32.796019",
     "exception": false,
     "start_time": "2022-04-08T15:46:32.727690",
     "status": "completed"
    },
    "tags": []
   },
   "outputs": [],
   "source": [
    "city_r=(churn_new['City'].value_counts()/len(churn_new))*100"
   ]
  },
  {
   "cell_type": "code",
   "execution_count": 40,
   "id": "0a873125",
   "metadata": {
    "execution": {
     "iopub.execute_input": "2022-04-08T15:46:32.920302Z",
     "iopub.status.busy": "2022-04-08T15:46:32.919410Z",
     "iopub.status.idle": "2022-04-08T15:46:32.923007Z",
     "shell.execute_reply": "2022-04-08T15:46:32.923578Z",
     "shell.execute_reply.started": "2022-04-08T15:44:41.732455Z"
    },
    "papermill": {
     "duration": 0.071888,
     "end_time": "2022-04-08T15:46:32.923816",
     "exception": false,
     "start_time": "2022-04-08T15:46:32.851928",
     "status": "completed"
    },
    "tags": []
   },
   "outputs": [
    {
     "data": {
      "text/plain": [
       "158"
      ]
     },
     "execution_count": 40,
     "metadata": {},
     "output_type": "execute_result"
    }
   ],
   "source": [
    "(city_r>0.09).sum()"
   ]
  },
  {
   "cell_type": "code",
   "execution_count": 41,
   "id": "62e3091c",
   "metadata": {
    "execution": {
     "iopub.execute_input": "2022-04-08T15:46:33.069348Z",
     "iopub.status.busy": "2022-04-08T15:46:33.066208Z",
     "iopub.status.idle": "2022-04-08T15:46:33.108744Z",
     "shell.execute_reply": "2022-04-08T15:46:33.109157Z",
     "shell.execute_reply.started": "2022-04-08T15:41:56.312478Z"
    },
    "papermill": {
     "duration": 0.107045,
     "end_time": "2022-04-08T15:46:33.109325",
     "exception": false,
     "start_time": "2022-04-08T15:46:33.002280",
     "status": "completed"
    },
    "tags": []
   },
   "outputs": [
    {
     "data": {
      "text/html": [
       "<div>\n",
       "<style scoped>\n",
       "    .dataframe tbody tr th:only-of-type {\n",
       "        vertical-align: middle;\n",
       "    }\n",
       "\n",
       "    .dataframe tbody tr th {\n",
       "        vertical-align: top;\n",
       "    }\n",
       "\n",
       "    .dataframe thead th {\n",
       "        text-align: right;\n",
       "    }\n",
       "</style>\n",
       "<table border=\"1\" class=\"dataframe\">\n",
       "  <thead>\n",
       "    <tr style=\"text-align: right;\">\n",
       "      <th></th>\n",
       "      <th>CustomerID</th>\n",
       "      <th>City</th>\n",
       "      <th>Zip Code</th>\n",
       "      <th>Tenure Months</th>\n",
       "      <th>Monthly Charges</th>\n",
       "      <th>Total Charges</th>\n",
       "      <th>Churn Value</th>\n",
       "      <th>Churn Score</th>\n",
       "      <th>CLTV</th>\n",
       "      <th>Gender_Female</th>\n",
       "      <th>...</th>\n",
       "      <th>Contract_One year</th>\n",
       "      <th>Contract_Two year</th>\n",
       "      <th>Paperless Billing_No</th>\n",
       "      <th>Paperless Billing_Yes</th>\n",
       "      <th>Payment Method_Bank transfer (automatic)</th>\n",
       "      <th>Payment Method_Credit card (automatic)</th>\n",
       "      <th>Payment Method_Electronic check</th>\n",
       "      <th>Payment Method_Mailed check</th>\n",
       "      <th>Churn Label_No</th>\n",
       "      <th>Churn Label_Yes</th>\n",
       "    </tr>\n",
       "  </thead>\n",
       "  <tbody>\n",
       "    <tr>\n",
       "      <th>0</th>\n",
       "      <td>3668-QPYBK</td>\n",
       "      <td>Los Angeles</td>\n",
       "      <td>90003</td>\n",
       "      <td>2</td>\n",
       "      <td>53.85</td>\n",
       "      <td>108.150002</td>\n",
       "      <td>1</td>\n",
       "      <td>86</td>\n",
       "      <td>3239</td>\n",
       "      <td>0</td>\n",
       "      <td>...</td>\n",
       "      <td>0</td>\n",
       "      <td>0</td>\n",
       "      <td>0</td>\n",
       "      <td>1</td>\n",
       "      <td>0</td>\n",
       "      <td>0</td>\n",
       "      <td>0</td>\n",
       "      <td>1</td>\n",
       "      <td>0</td>\n",
       "      <td>1</td>\n",
       "    </tr>\n",
       "    <tr>\n",
       "      <th>1</th>\n",
       "      <td>9237-HQITU</td>\n",
       "      <td>Los Angeles</td>\n",
       "      <td>90005</td>\n",
       "      <td>2</td>\n",
       "      <td>70.70</td>\n",
       "      <td>151.649994</td>\n",
       "      <td>1</td>\n",
       "      <td>67</td>\n",
       "      <td>2701</td>\n",
       "      <td>1</td>\n",
       "      <td>...</td>\n",
       "      <td>0</td>\n",
       "      <td>0</td>\n",
       "      <td>0</td>\n",
       "      <td>1</td>\n",
       "      <td>0</td>\n",
       "      <td>0</td>\n",
       "      <td>1</td>\n",
       "      <td>0</td>\n",
       "      <td>0</td>\n",
       "      <td>1</td>\n",
       "    </tr>\n",
       "    <tr>\n",
       "      <th>2</th>\n",
       "      <td>9305-CDSKC</td>\n",
       "      <td>Los Angeles</td>\n",
       "      <td>90006</td>\n",
       "      <td>8</td>\n",
       "      <td>99.65</td>\n",
       "      <td>820.500000</td>\n",
       "      <td>1</td>\n",
       "      <td>86</td>\n",
       "      <td>5372</td>\n",
       "      <td>1</td>\n",
       "      <td>...</td>\n",
       "      <td>0</td>\n",
       "      <td>0</td>\n",
       "      <td>0</td>\n",
       "      <td>1</td>\n",
       "      <td>0</td>\n",
       "      <td>0</td>\n",
       "      <td>1</td>\n",
       "      <td>0</td>\n",
       "      <td>0</td>\n",
       "      <td>1</td>\n",
       "    </tr>\n",
       "    <tr>\n",
       "      <th>3</th>\n",
       "      <td>7892-POOKP</td>\n",
       "      <td>Los Angeles</td>\n",
       "      <td>90010</td>\n",
       "      <td>28</td>\n",
       "      <td>104.80</td>\n",
       "      <td>3046.050049</td>\n",
       "      <td>1</td>\n",
       "      <td>84</td>\n",
       "      <td>5003</td>\n",
       "      <td>1</td>\n",
       "      <td>...</td>\n",
       "      <td>0</td>\n",
       "      <td>0</td>\n",
       "      <td>0</td>\n",
       "      <td>1</td>\n",
       "      <td>0</td>\n",
       "      <td>0</td>\n",
       "      <td>1</td>\n",
       "      <td>0</td>\n",
       "      <td>0</td>\n",
       "      <td>1</td>\n",
       "    </tr>\n",
       "    <tr>\n",
       "      <th>4</th>\n",
       "      <td>0280-XJGEX</td>\n",
       "      <td>Los Angeles</td>\n",
       "      <td>90015</td>\n",
       "      <td>49</td>\n",
       "      <td>103.70</td>\n",
       "      <td>5036.299805</td>\n",
       "      <td>1</td>\n",
       "      <td>89</td>\n",
       "      <td>5340</td>\n",
       "      <td>0</td>\n",
       "      <td>...</td>\n",
       "      <td>0</td>\n",
       "      <td>0</td>\n",
       "      <td>0</td>\n",
       "      <td>1</td>\n",
       "      <td>1</td>\n",
       "      <td>0</td>\n",
       "      <td>0</td>\n",
       "      <td>0</td>\n",
       "      <td>0</td>\n",
       "      <td>1</td>\n",
       "    </tr>\n",
       "    <tr>\n",
       "      <th>...</th>\n",
       "      <td>...</td>\n",
       "      <td>...</td>\n",
       "      <td>...</td>\n",
       "      <td>...</td>\n",
       "      <td>...</td>\n",
       "      <td>...</td>\n",
       "      <td>...</td>\n",
       "      <td>...</td>\n",
       "      <td>...</td>\n",
       "      <td>...</td>\n",
       "      <td>...</td>\n",
       "      <td>...</td>\n",
       "      <td>...</td>\n",
       "      <td>...</td>\n",
       "      <td>...</td>\n",
       "      <td>...</td>\n",
       "      <td>...</td>\n",
       "      <td>...</td>\n",
       "      <td>...</td>\n",
       "      <td>...</td>\n",
       "      <td>...</td>\n",
       "    </tr>\n",
       "    <tr>\n",
       "      <th>7038</th>\n",
       "      <td>2569-WGERO</td>\n",
       "      <td>Landers</td>\n",
       "      <td>92285</td>\n",
       "      <td>72</td>\n",
       "      <td>21.15</td>\n",
       "      <td>1419.400024</td>\n",
       "      <td>0</td>\n",
       "      <td>45</td>\n",
       "      <td>5306</td>\n",
       "      <td>1</td>\n",
       "      <td>...</td>\n",
       "      <td>0</td>\n",
       "      <td>1</td>\n",
       "      <td>0</td>\n",
       "      <td>1</td>\n",
       "      <td>1</td>\n",
       "      <td>0</td>\n",
       "      <td>0</td>\n",
       "      <td>0</td>\n",
       "      <td>1</td>\n",
       "      <td>0</td>\n",
       "    </tr>\n",
       "    <tr>\n",
       "      <th>7039</th>\n",
       "      <td>6840-RESVB</td>\n",
       "      <td>Adelanto</td>\n",
       "      <td>92301</td>\n",
       "      <td>24</td>\n",
       "      <td>84.80</td>\n",
       "      <td>1990.500000</td>\n",
       "      <td>0</td>\n",
       "      <td>59</td>\n",
       "      <td>2140</td>\n",
       "      <td>0</td>\n",
       "      <td>...</td>\n",
       "      <td>1</td>\n",
       "      <td>0</td>\n",
       "      <td>0</td>\n",
       "      <td>1</td>\n",
       "      <td>0</td>\n",
       "      <td>0</td>\n",
       "      <td>0</td>\n",
       "      <td>1</td>\n",
       "      <td>1</td>\n",
       "      <td>0</td>\n",
       "    </tr>\n",
       "    <tr>\n",
       "      <th>7040</th>\n",
       "      <td>2234-XADUH</td>\n",
       "      <td>Amboy</td>\n",
       "      <td>92304</td>\n",
       "      <td>72</td>\n",
       "      <td>103.20</td>\n",
       "      <td>7362.899902</td>\n",
       "      <td>0</td>\n",
       "      <td>71</td>\n",
       "      <td>5560</td>\n",
       "      <td>1</td>\n",
       "      <td>...</td>\n",
       "      <td>1</td>\n",
       "      <td>0</td>\n",
       "      <td>0</td>\n",
       "      <td>1</td>\n",
       "      <td>0</td>\n",
       "      <td>1</td>\n",
       "      <td>0</td>\n",
       "      <td>0</td>\n",
       "      <td>1</td>\n",
       "      <td>0</td>\n",
       "    </tr>\n",
       "    <tr>\n",
       "      <th>7041</th>\n",
       "      <td>4801-JZAZL</td>\n",
       "      <td>Angelus Oaks</td>\n",
       "      <td>92305</td>\n",
       "      <td>11</td>\n",
       "      <td>29.60</td>\n",
       "      <td>346.450012</td>\n",
       "      <td>0</td>\n",
       "      <td>59</td>\n",
       "      <td>2793</td>\n",
       "      <td>1</td>\n",
       "      <td>...</td>\n",
       "      <td>0</td>\n",
       "      <td>0</td>\n",
       "      <td>0</td>\n",
       "      <td>1</td>\n",
       "      <td>0</td>\n",
       "      <td>0</td>\n",
       "      <td>1</td>\n",
       "      <td>0</td>\n",
       "      <td>1</td>\n",
       "      <td>0</td>\n",
       "    </tr>\n",
       "    <tr>\n",
       "      <th>7042</th>\n",
       "      <td>3186-AJIEK</td>\n",
       "      <td>Apple Valley</td>\n",
       "      <td>92308</td>\n",
       "      <td>66</td>\n",
       "      <td>105.65</td>\n",
       "      <td>6844.500000</td>\n",
       "      <td>0</td>\n",
       "      <td>38</td>\n",
       "      <td>5097</td>\n",
       "      <td>0</td>\n",
       "      <td>...</td>\n",
       "      <td>0</td>\n",
       "      <td>1</td>\n",
       "      <td>0</td>\n",
       "      <td>1</td>\n",
       "      <td>1</td>\n",
       "      <td>0</td>\n",
       "      <td>0</td>\n",
       "      <td>0</td>\n",
       "      <td>1</td>\n",
       "      <td>0</td>\n",
       "    </tr>\n",
       "  </tbody>\n",
       "</table>\n",
       "<p>7043 rows × 54 columns</p>\n",
       "</div>"
      ],
      "text/plain": [
       "      CustomerID          City Zip Code  Tenure Months  Monthly Charges  \\\n",
       "0     3668-QPYBK   Los Angeles    90003              2            53.85   \n",
       "1     9237-HQITU   Los Angeles    90005              2            70.70   \n",
       "2     9305-CDSKC   Los Angeles    90006              8            99.65   \n",
       "3     7892-POOKP   Los Angeles    90010             28           104.80   \n",
       "4     0280-XJGEX   Los Angeles    90015             49           103.70   \n",
       "...          ...           ...      ...            ...              ...   \n",
       "7038  2569-WGERO       Landers    92285             72            21.15   \n",
       "7039  6840-RESVB      Adelanto    92301             24            84.80   \n",
       "7040  2234-XADUH         Amboy    92304             72           103.20   \n",
       "7041  4801-JZAZL  Angelus Oaks    92305             11            29.60   \n",
       "7042  3186-AJIEK  Apple Valley    92308             66           105.65   \n",
       "\n",
       "      Total Charges Churn Value  Churn Score  CLTV  Gender_Female  ...  \\\n",
       "0        108.150002           1           86  3239              0  ...   \n",
       "1        151.649994           1           67  2701              1  ...   \n",
       "2        820.500000           1           86  5372              1  ...   \n",
       "3       3046.050049           1           84  5003              1  ...   \n",
       "4       5036.299805           1           89  5340              0  ...   \n",
       "...             ...         ...          ...   ...            ...  ...   \n",
       "7038    1419.400024           0           45  5306              1  ...   \n",
       "7039    1990.500000           0           59  2140              0  ...   \n",
       "7040    7362.899902           0           71  5560              1  ...   \n",
       "7041     346.450012           0           59  2793              1  ...   \n",
       "7042    6844.500000           0           38  5097              0  ...   \n",
       "\n",
       "      Contract_One year  Contract_Two year  Paperless Billing_No  \\\n",
       "0                     0                  0                     0   \n",
       "1                     0                  0                     0   \n",
       "2                     0                  0                     0   \n",
       "3                     0                  0                     0   \n",
       "4                     0                  0                     0   \n",
       "...                 ...                ...                   ...   \n",
       "7038                  0                  1                     0   \n",
       "7039                  1                  0                     0   \n",
       "7040                  1                  0                     0   \n",
       "7041                  0                  0                     0   \n",
       "7042                  0                  1                     0   \n",
       "\n",
       "      Paperless Billing_Yes  Payment Method_Bank transfer (automatic)  \\\n",
       "0                         1                                         0   \n",
       "1                         1                                         0   \n",
       "2                         1                                         0   \n",
       "3                         1                                         0   \n",
       "4                         1                                         1   \n",
       "...                     ...                                       ...   \n",
       "7038                      1                                         1   \n",
       "7039                      1                                         0   \n",
       "7040                      1                                         0   \n",
       "7041                      1                                         0   \n",
       "7042                      1                                         1   \n",
       "\n",
       "      Payment Method_Credit card (automatic)  Payment Method_Electronic check  \\\n",
       "0                                          0                                0   \n",
       "1                                          0                                1   \n",
       "2                                          0                                1   \n",
       "3                                          0                                1   \n",
       "4                                          0                                0   \n",
       "...                                      ...                              ...   \n",
       "7038                                       0                                0   \n",
       "7039                                       0                                0   \n",
       "7040                                       1                                0   \n",
       "7041                                       0                                1   \n",
       "7042                                       0                                0   \n",
       "\n",
       "      Payment Method_Mailed check  Churn Label_No  Churn Label_Yes  \n",
       "0                               1               0                1  \n",
       "1                               0               0                1  \n",
       "2                               0               0                1  \n",
       "3                               0               0                1  \n",
       "4                               0               0                1  \n",
       "...                           ...             ...              ...  \n",
       "7038                            0               1                0  \n",
       "7039                            1               1                0  \n",
       "7040                            0               1                0  \n",
       "7041                            0               1                0  \n",
       "7042                            0               1                0  \n",
       "\n",
       "[7043 rows x 54 columns]"
      ]
     },
     "execution_count": 41,
     "metadata": {},
     "output_type": "execute_result"
    }
   ],
   "source": [
    "pd.get_dummies(churn_new,columns=col_obj2,drop_first =False )"
   ]
  }
 ],
 "metadata": {
  "kernelspec": {
   "display_name": "Python 3",
   "language": "python",
   "name": "python3"
  },
  "language_info": {
   "codemirror_mode": {
    "name": "ipython",
    "version": 3
   },
   "file_extension": ".py",
   "mimetype": "text/x-python",
   "name": "python",
   "nbconvert_exporter": "python",
   "pygments_lexer": "ipython3",
   "version": "3.7.12"
  },
  "papermill": {
   "default_parameters": {},
   "duration": 21.846567,
   "end_time": "2022-04-08T15:46:33.976806",
   "environment_variables": {},
   "exception": null,
   "input_path": "__notebook__.ipynb",
   "output_path": "__notebook__.ipynb",
   "parameters": {},
   "start_time": "2022-04-08T15:46:12.130239",
   "version": "2.3.3"
  }
 },
 "nbformat": 4,
 "nbformat_minor": 5
}
